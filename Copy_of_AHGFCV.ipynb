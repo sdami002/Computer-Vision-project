{
  "cells": [
    {
      "cell_type": "code",
      "execution_count": null,
      "metadata": {
        "colab": {
          "base_uri": "https://localhost:8080/"
        },
        "id": "1uSpiPOCKMUg",
        "outputId": "1417bf15-2b8b-47b9-80e4-4a7f6d19e613"
      },
      "outputs": [
        {
          "output_type": "stream",
          "name": "stdout",
          "text": [
            "Mounted at /content/drive\n"
          ]
        }
      ],
      "source": [
        "from google.colab import drive\n",
        "drive.mount('/content/drive')"
      ]
    },
    {
      "cell_type": "code",
      "execution_count": null,
      "metadata": {
        "id": "T9jyw0OD-p8e"
      },
      "outputs": [],
      "source": [
        "!pip install imageio==2.4.1"
      ]
    },
    {
      "cell_type": "code",
      "execution_count": null,
      "metadata": {
        "id": "aGvfwX6vxOW_"
      },
      "outputs": [],
      "source": [
        "#installing paddleocr\n",
        "!pip install \"paddleocr>=2.0.1\""
      ]
    },
    {
      "cell_type": "code",
      "execution_count": null,
      "metadata": {
        "id": "PMSNnL0drPC9"
      },
      "outputs": [],
      "source": [
        "!pip install paddlepaddle"
      ]
    },
    {
      "cell_type": "code",
      "execution_count": null,
      "metadata": {
        "id": "oaoMTizcxOaA",
        "colab": {
          "base_uri": "https://localhost:8080/"
        },
        "outputId": "d88a5bea-5f17-4aa1-c3af-1213eb630a47"
      },
      "outputs": [
        {
          "output_type": "stream",
          "name": "stderr",
          "text": [
            "/usr/lib/python3.10/distutils/command/build_scripts.py:7: DeprecationWarning: The distutils.sysconfig module is deprecated, use sysconfig instead\n",
            "  from distutils import sysconfig\n"
          ]
        },
        {
          "output_type": "stream",
          "name": "stdout",
          "text": [
            "download https://paddleocr.bj.bcebos.com/PP-OCRv3/english/en_PP-OCRv3_det_infer.tar to /root/.paddleocr/whl/det/en/en_PP-OCRv3_det_infer/en_PP-OCRv3_det_infer.tar\n"
          ]
        },
        {
          "output_type": "stream",
          "name": "stderr",
          "text": [
            "100%|██████████| 4.00M/4.00M [00:19<00:00, 207kiB/s]\n"
          ]
        },
        {
          "output_type": "stream",
          "name": "stdout",
          "text": [
            "download https://paddleocr.bj.bcebos.com/PP-OCRv3/english/en_PP-OCRv3_rec_infer.tar to /root/.paddleocr/whl/rec/en/en_PP-OCRv3_rec_infer/en_PP-OCRv3_rec_infer.tar\n"
          ]
        },
        {
          "output_type": "stream",
          "name": "stderr",
          "text": [
            "100%|██████████| 9.96M/9.96M [00:18<00:00, 539kiB/s] \n"
          ]
        },
        {
          "output_type": "stream",
          "name": "stdout",
          "text": [
            "download https://paddleocr.bj.bcebos.com/dygraph_v2.0/ch/ch_ppocr_mobile_v2.0_cls_infer.tar to /root/.paddleocr/whl/cls/ch_ppocr_mobile_v2.0_cls_infer/ch_ppocr_mobile_v2.0_cls_infer.tar\n"
          ]
        },
        {
          "output_type": "stream",
          "name": "stderr",
          "text": [
            "100%|██████████| 2.19M/2.19M [00:14<00:00, 150kiB/s]"
          ]
        },
        {
          "output_type": "stream",
          "name": "stdout",
          "text": [
            "[2023/05/02 14:12:22] ppocr DEBUG: Namespace(help='==SUPPRESS==', use_gpu=False, use_xpu=False, use_npu=False, ir_optim=True, use_tensorrt=False, min_subgraph_size=15, precision='fp32', gpu_mem=500, image_dir=None, page_num=0, det_algorithm='DB', det_model_dir='/root/.paddleocr/whl/det/en/en_PP-OCRv3_det_infer', det_limit_side_len=960, det_limit_type='max', det_box_type='quad', det_db_thresh=0.3, det_db_box_thresh=0.6, det_db_unclip_ratio=1.5, max_batch_size=10, use_dilation=False, det_db_score_mode='fast', det_east_score_thresh=0.8, det_east_cover_thresh=0.1, det_east_nms_thresh=0.2, det_sast_score_thresh=0.5, det_sast_nms_thresh=0.2, det_pse_thresh=0, det_pse_box_thresh=0.85, det_pse_min_area=16, det_pse_scale=1, scales=[8, 16, 32], alpha=1.0, beta=1.0, fourier_degree=5, rec_algorithm='SVTR_LCNet', rec_model_dir='/root/.paddleocr/whl/rec/en/en_PP-OCRv3_rec_infer', rec_image_inverse=True, rec_image_shape='3, 48, 320', rec_batch_num=6, max_text_length=25, rec_char_dict_path='/usr/local/lib/python3.10/dist-packages/paddleocr/ppocr/utils/en_dict.txt', use_space_char=True, vis_font_path='./doc/fonts/simfang.ttf', drop_score=0.5, e2e_algorithm='PGNet', e2e_model_dir=None, e2e_limit_side_len=768, e2e_limit_type='max', e2e_pgnet_score_thresh=0.5, e2e_char_dict_path='./ppocr/utils/ic15_dict.txt', e2e_pgnet_valid_set='totaltext', e2e_pgnet_mode='fast', use_angle_cls=True, cls_model_dir='/root/.paddleocr/whl/cls/ch_ppocr_mobile_v2.0_cls_infer', cls_image_shape='3, 48, 192', label_list=['0', '180'], cls_batch_num=6, cls_thresh=0.9, enable_mkldnn=False, cpu_threads=10, use_pdserving=False, warmup=False, sr_model_dir=None, sr_image_shape='3, 32, 128', sr_batch_num=1, draw_img_save_dir='./inference_results', save_crop_res=False, crop_res_save_dir='./output', use_mp=False, total_process_num=1, process_id=0, benchmark=False, save_log_path='./log_output/', show_log=True, use_onnx=False, output='./output', table_max_len=488, table_algorithm='TableAttn', table_model_dir=None, merge_no_span_structure=True, table_char_dict_path=None, layout_model_dir=None, layout_dict_path=None, layout_score_threshold=0.5, layout_nms_threshold=0.5, kie_algorithm='LayoutXLM', ser_model_dir=None, re_model_dir=None, use_visual_backbone=True, ser_dict_path='../train_data/XFUND/class_list_xfun.txt', ocr_order_method=None, mode='structure', image_orientation=False, layout=True, table=True, ocr=True, recovery=False, use_pdf2docx_api=False, lang='en', det=True, rec=True, type='ocr', ocr_version='PP-OCRv3', structure_version='PP-StructureV2')\n"
          ]
        },
        {
          "output_type": "stream",
          "name": "stderr",
          "text": [
            "\n"
          ]
        }
      ],
      "source": [
        "from paddleocr import PaddleOCR,draw_ocr\n",
        "# Paddleocr supports Chinese, English, French, German, Korean and Japanese.\n",
        "# You can set the parameter `lang` as `ch`, `en`, `fr`, `german`, `korean`, `japan`\n",
        "# to switch the language model in order.\n",
        "ocr = PaddleOCR(use_angle_cls=True, lang='en') # need to run only once to download and load model into memory"
      ]
    },
    {
      "cell_type": "code",
      "execution_count": null,
      "metadata": {
        "id": "SnHHbfYXKdqo"
      },
      "outputs": [],
      "source": [
        "#path to video\n",
        "path='/content/drive/MyDrive/video.mp4'"
      ]
    },
    {
      "cell_type": "code",
      "execution_count": null,
      "metadata": {
        "id": "JCruh4QcUexK"
      },
      "outputs": [],
      "source": [
        "#mention the time interval to process\n",
        "import cv2\n",
        "cap = cv2.VideoCapture(path)\n",
        "fps = cap.get(cv2.CAP_PROP_FPS)\n",
        "start=int(60*3*fps)\n",
        "end  =int(start+60*25*fps)"
      ]
    },
    {
      "cell_type": "code",
      "execution_count": null,
      "metadata": {
        "id": "vcle0QvCU-MH",
        "colab": {
          "base_uri": "https://localhost:8080/"
        },
        "outputId": "68c82770-0a21-4813-fb8c-5b9384d856d5"
      },
      "outputs": [
        {
          "output_type": "execute_result",
          "data": {
            "text/plain": [
              "(5400, 50400)"
            ]
          },
          "metadata": {},
          "execution_count": 18
        }
      ],
      "source": [
        "start,end"
      ]
    },
    {
      "cell_type": "code",
      "execution_count": null,
      "metadata": {
        "id": "6JFxglq1MMGF",
        "colab": {
          "base_uri": "https://localhost:8080/"
        },
        "outputId": "f0534616-f381-4e7a-899d-a62fccfd1133"
      },
      "outputs": [
        {
          "output_type": "stream",
          "name": "stdout",
          "text": [
            "mkdir: cannot create directory ‘frames’: File exists\n"
          ]
        }
      ],
      "source": [
        "!rm -rf frames/*\n",
        "!mkdir frames"
      ]
    },
    {
      "cell_type": "code",
      "source": [
        "ls\n"
      ],
      "metadata": {
        "id": "uVSc--Gh0NU0",
        "colab": {
          "base_uri": "https://localhost:8080/"
        },
        "outputId": "fd3e6d05-f5af-44de-b6c8-96d3211119f5"
      },
      "execution_count": null,
      "outputs": [
        {
          "output_type": "stream",
          "name": "stdout",
          "text": [
            "\u001b[0m\u001b[01;34mdrive\u001b[0m/  \u001b[01;34mframes\u001b[0m/  \u001b[01;34msample_data\u001b[0m/\n"
          ]
        }
      ]
    },
    {
      "cell_type": "code",
      "execution_count": null,
      "metadata": {
        "id": "KWj48xdnK-S8",
        "colab": {
          "base_uri": "https://localhost:8080/"
        },
        "outputId": "96a59097-b75f-45ed-d317-b12430b8dde9"
      },
      "outputs": [
        {
          "output_type": "stream",
          "name": "stdout",
          "text": [
            "saved frame no. 5400\n",
            "saved frame no. 5460\n",
            "saved frame no. 5520\n",
            "saved frame no. 5580\n",
            "saved frame no. 5640\n",
            "saved frame no. 5700\n",
            "saved frame no. 5760\n",
            "saved frame no. 5820\n",
            "saved frame no. 5880\n",
            "saved frame no. 5940\n",
            "saved frame no. 6000\n",
            "saved frame no. 6060\n",
            "saved frame no. 6120\n",
            "saved frame no. 6180\n",
            "saved frame no. 6240\n",
            "saved frame no. 6300\n",
            "saved frame no. 6360\n",
            "saved frame no. 6420\n",
            "saved frame no. 6480\n",
            "saved frame no. 6540\n",
            "saved frame no. 6600\n",
            "saved frame no. 6660\n",
            "saved frame no. 6720\n",
            "saved frame no. 6780\n",
            "saved frame no. 6840\n",
            "saved frame no. 6900\n",
            "saved frame no. 6960\n",
            "saved frame no. 7020\n",
            "saved frame no. 7080\n",
            "saved frame no. 7140\n",
            "saved frame no. 7200\n",
            "saved frame no. 7260\n",
            "saved frame no. 7320\n",
            "saved frame no. 7380\n",
            "saved frame no. 7440\n",
            "saved frame no. 7500\n",
            "saved frame no. 7560\n",
            "saved frame no. 7620\n",
            "saved frame no. 7680\n",
            "saved frame no. 7740\n",
            "saved frame no. 7800\n",
            "saved frame no. 7860\n",
            "saved frame no. 7920\n",
            "saved frame no. 7980\n",
            "saved frame no. 8040\n",
            "saved frame no. 8100\n",
            "saved frame no. 8160\n",
            "saved frame no. 8220\n",
            "saved frame no. 8280\n",
            "saved frame no. 8340\n",
            "saved frame no. 8400\n",
            "saved frame no. 8460\n",
            "saved frame no. 8520\n",
            "saved frame no. 8580\n",
            "saved frame no. 8640\n",
            "saved frame no. 8700\n",
            "saved frame no. 8760\n",
            "saved frame no. 8820\n",
            "saved frame no. 8880\n",
            "saved frame no. 8940\n",
            "saved frame no. 9000\n",
            "saved frame no. 9060\n",
            "saved frame no. 9120\n",
            "saved frame no. 9180\n",
            "saved frame no. 9240\n",
            "saved frame no. 9300\n",
            "saved frame no. 9360\n",
            "saved frame no. 9420\n",
            "saved frame no. 9480\n",
            "saved frame no. 9540\n",
            "saved frame no. 9600\n",
            "saved frame no. 9660\n",
            "saved frame no. 9720\n",
            "saved frame no. 9780\n",
            "saved frame no. 9840\n",
            "saved frame no. 9900\n",
            "saved frame no. 9960\n",
            "saved frame no. 10020\n",
            "saved frame no. 10080\n",
            "saved frame no. 10140\n",
            "saved frame no. 10200\n",
            "saved frame no. 10260\n",
            "saved frame no. 10320\n",
            "saved frame no. 10380\n",
            "saved frame no. 10440\n",
            "saved frame no. 10500\n",
            "saved frame no. 10560\n",
            "saved frame no. 10620\n",
            "saved frame no. 10680\n",
            "saved frame no. 10740\n",
            "saved frame no. 10800\n",
            "saved frame no. 10860\n",
            "saved frame no. 10920\n",
            "saved frame no. 10980\n",
            "saved frame no. 11040\n",
            "saved frame no. 11100\n",
            "saved frame no. 11160\n",
            "saved frame no. 11220\n",
            "saved frame no. 11280\n",
            "saved frame no. 11340\n",
            "saved frame no. 11400\n",
            "saved frame no. 11460\n",
            "saved frame no. 11520\n",
            "saved frame no. 11580\n",
            "saved frame no. 11640\n",
            "saved frame no. 11700\n",
            "saved frame no. 11760\n",
            "saved frame no. 11820\n",
            "saved frame no. 11880\n",
            "saved frame no. 11940\n",
            "saved frame no. 12000\n",
            "saved frame no. 12060\n",
            "saved frame no. 12120\n",
            "saved frame no. 12180\n",
            "saved frame no. 12240\n",
            "saved frame no. 12300\n",
            "saved frame no. 12360\n",
            "saved frame no. 12420\n",
            "saved frame no. 12480\n",
            "saved frame no. 12540\n",
            "saved frame no. 12600\n",
            "saved frame no. 12660\n",
            "saved frame no. 12720\n",
            "saved frame no. 12780\n",
            "saved frame no. 12840\n",
            "saved frame no. 12900\n",
            "saved frame no. 12960\n",
            "saved frame no. 13020\n",
            "saved frame no. 13080\n",
            "saved frame no. 13140\n",
            "saved frame no. 13200\n",
            "saved frame no. 13260\n",
            "saved frame no. 13320\n",
            "saved frame no. 13380\n",
            "saved frame no. 13440\n",
            "saved frame no. 13500\n",
            "saved frame no. 13560\n",
            "saved frame no. 13620\n",
            "saved frame no. 13680\n",
            "saved frame no. 13740\n",
            "saved frame no. 13800\n",
            "saved frame no. 13860\n",
            "saved frame no. 13920\n",
            "saved frame no. 13980\n",
            "saved frame no. 14040\n",
            "saved frame no. 14100\n",
            "saved frame no. 14160\n",
            "saved frame no. 14220\n",
            "saved frame no. 14280\n",
            "saved frame no. 14340\n",
            "saved frame no. 14400\n",
            "saved frame no. 14460\n",
            "saved frame no. 14520\n",
            "saved frame no. 14580\n",
            "saved frame no. 14640\n",
            "saved frame no. 14700\n",
            "saved frame no. 14760\n",
            "saved frame no. 14820\n",
            "saved frame no. 14880\n",
            "saved frame no. 14940\n",
            "saved frame no. 15000\n",
            "saved frame no. 15060\n",
            "saved frame no. 15120\n",
            "saved frame no. 15180\n",
            "saved frame no. 15240\n",
            "saved frame no. 15300\n",
            "saved frame no. 15360\n",
            "saved frame no. 15420\n",
            "saved frame no. 15480\n",
            "saved frame no. 15540\n",
            "saved frame no. 15600\n",
            "saved frame no. 15660\n",
            "saved frame no. 15720\n",
            "saved frame no. 15780\n",
            "saved frame no. 15840\n",
            "saved frame no. 15900\n",
            "saved frame no. 15960\n",
            "saved frame no. 16020\n",
            "saved frame no. 16080\n",
            "saved frame no. 16140\n",
            "saved frame no. 16200\n",
            "saved frame no. 16260\n",
            "saved frame no. 16320\n",
            "saved frame no. 16380\n",
            "saved frame no. 16440\n",
            "saved frame no. 16500\n",
            "saved frame no. 16560\n",
            "saved frame no. 16620\n",
            "saved frame no. 16680\n",
            "saved frame no. 16740\n",
            "saved frame no. 16800\n",
            "saved frame no. 16860\n",
            "saved frame no. 16920\n",
            "saved frame no. 16980\n",
            "saved frame no. 17040\n",
            "saved frame no. 17100\n",
            "saved frame no. 17160\n",
            "saved frame no. 17220\n",
            "saved frame no. 17280\n",
            "saved frame no. 17340\n",
            "saved frame no. 17400\n",
            "saved frame no. 17460\n",
            "saved frame no. 17520\n",
            "saved frame no. 17580\n",
            "saved frame no. 17640\n",
            "saved frame no. 17700\n",
            "saved frame no. 17760\n",
            "saved frame no. 17820\n",
            "saved frame no. 17880\n",
            "saved frame no. 17940\n",
            "saved frame no. 18000\n",
            "saved frame no. 18060\n",
            "saved frame no. 18120\n",
            "saved frame no. 18180\n",
            "saved frame no. 18240\n",
            "saved frame no. 18300\n",
            "saved frame no. 18360\n",
            "saved frame no. 18420\n",
            "saved frame no. 18480\n",
            "saved frame no. 18540\n",
            "saved frame no. 18600\n",
            "saved frame no. 18660\n",
            "saved frame no. 18720\n",
            "saved frame no. 18780\n",
            "saved frame no. 18840\n",
            "saved frame no. 18900\n",
            "saved frame no. 18960\n",
            "saved frame no. 19020\n",
            "saved frame no. 19080\n",
            "saved frame no. 19140\n",
            "saved frame no. 19200\n",
            "saved frame no. 19260\n",
            "saved frame no. 19320\n",
            "saved frame no. 19380\n",
            "saved frame no. 19440\n",
            "saved frame no. 19500\n",
            "saved frame no. 19560\n",
            "saved frame no. 19620\n",
            "saved frame no. 19680\n",
            "saved frame no. 19740\n",
            "saved frame no. 19800\n",
            "saved frame no. 19860\n",
            "saved frame no. 19920\n",
            "saved frame no. 19980\n",
            "saved frame no. 20040\n",
            "saved frame no. 20100\n",
            "saved frame no. 20160\n",
            "saved frame no. 20220\n",
            "saved frame no. 20280\n",
            "saved frame no. 20340\n",
            "saved frame no. 20400\n",
            "saved frame no. 20460\n",
            "saved frame no. 20520\n",
            "saved frame no. 20580\n",
            "saved frame no. 20640\n",
            "saved frame no. 20700\n",
            "saved frame no. 20760\n",
            "saved frame no. 20820\n",
            "saved frame no. 20880\n",
            "saved frame no. 20940\n",
            "saved frame no. 21000\n",
            "saved frame no. 21060\n",
            "saved frame no. 21120\n",
            "saved frame no. 21180\n",
            "saved frame no. 21240\n",
            "saved frame no. 21300\n",
            "saved frame no. 21360\n",
            "saved frame no. 21420\n",
            "saved frame no. 21480\n",
            "saved frame no. 21540\n",
            "saved frame no. 21600\n",
            "saved frame no. 21660\n",
            "saved frame no. 21720\n",
            "saved frame no. 21780\n",
            "saved frame no. 21840\n",
            "saved frame no. 21900\n",
            "saved frame no. 21960\n",
            "saved frame no. 22020\n",
            "saved frame no. 22080\n",
            "saved frame no. 22140\n",
            "saved frame no. 22200\n",
            "saved frame no. 22260\n",
            "saved frame no. 22320\n",
            "saved frame no. 22380\n",
            "saved frame no. 22440\n",
            "saved frame no. 22500\n",
            "saved frame no. 22560\n",
            "saved frame no. 22620\n",
            "saved frame no. 22680\n",
            "saved frame no. 22740\n",
            "saved frame no. 22800\n",
            "saved frame no. 22860\n",
            "saved frame no. 22920\n",
            "saved frame no. 22980\n",
            "saved frame no. 23040\n",
            "saved frame no. 23100\n",
            "saved frame no. 23160\n",
            "saved frame no. 23220\n",
            "saved frame no. 23280\n",
            "saved frame no. 23340\n",
            "saved frame no. 23400\n",
            "saved frame no. 23460\n",
            "saved frame no. 23520\n",
            "saved frame no. 23580\n",
            "saved frame no. 23640\n",
            "saved frame no. 23700\n",
            "saved frame no. 23760\n",
            "saved frame no. 23820\n",
            "saved frame no. 23880\n",
            "saved frame no. 23940\n",
            "saved frame no. 24000\n",
            "saved frame no. 24060\n",
            "saved frame no. 24120\n",
            "saved frame no. 24180\n",
            "saved frame no. 24240\n",
            "saved frame no. 24300\n",
            "saved frame no. 24360\n",
            "saved frame no. 24420\n",
            "saved frame no. 24480\n",
            "saved frame no. 24540\n",
            "saved frame no. 24600\n",
            "saved frame no. 24660\n",
            "saved frame no. 24720\n",
            "saved frame no. 24780\n",
            "saved frame no. 24840\n",
            "saved frame no. 24900\n",
            "saved frame no. 24960\n",
            "saved frame no. 25020\n",
            "saved frame no. 25080\n",
            "saved frame no. 25140\n",
            "saved frame no. 25200\n",
            "saved frame no. 25260\n",
            "saved frame no. 25320\n",
            "saved frame no. 25380\n",
            "saved frame no. 25440\n",
            "saved frame no. 25500\n",
            "saved frame no. 25560\n",
            "saved frame no. 25620\n",
            "saved frame no. 25680\n",
            "saved frame no. 25740\n",
            "saved frame no. 25800\n",
            "saved frame no. 25860\n",
            "saved frame no. 25920\n",
            "saved frame no. 25980\n",
            "saved frame no. 26040\n",
            "saved frame no. 26100\n",
            "saved frame no. 26160\n",
            "saved frame no. 26220\n",
            "saved frame no. 26280\n",
            "saved frame no. 26340\n",
            "saved frame no. 26400\n",
            "saved frame no. 26460\n",
            "saved frame no. 26520\n",
            "saved frame no. 26580\n",
            "saved frame no. 26640\n",
            "saved frame no. 26700\n",
            "saved frame no. 26760\n",
            "saved frame no. 26820\n",
            "saved frame no. 26880\n",
            "saved frame no. 26940\n",
            "saved frame no. 27000\n",
            "saved frame no. 27060\n",
            "saved frame no. 27120\n",
            "saved frame no. 27180\n",
            "saved frame no. 27240\n",
            "saved frame no. 27300\n",
            "saved frame no. 27360\n",
            "saved frame no. 27420\n",
            "saved frame no. 27480\n",
            "saved frame no. 27540\n",
            "saved frame no. 27600\n",
            "saved frame no. 27660\n",
            "saved frame no. 27720\n",
            "saved frame no. 27780\n",
            "saved frame no. 27840\n",
            "saved frame no. 27900\n",
            "saved frame no. 27960\n",
            "saved frame no. 28020\n",
            "saved frame no. 28080\n",
            "saved frame no. 28140\n",
            "saved frame no. 28200\n",
            "saved frame no. 28260\n",
            "saved frame no. 28320\n",
            "saved frame no. 28380\n",
            "saved frame no. 28440\n",
            "saved frame no. 28500\n",
            "saved frame no. 28560\n",
            "saved frame no. 28620\n",
            "saved frame no. 28680\n",
            "saved frame no. 28740\n",
            "saved frame no. 28800\n",
            "saved frame no. 28860\n",
            "saved frame no. 28920\n",
            "saved frame no. 28980\n",
            "saved frame no. 29040\n",
            "saved frame no. 29100\n",
            "saved frame no. 29160\n",
            "saved frame no. 29220\n",
            "saved frame no. 29280\n",
            "saved frame no. 29340\n",
            "saved frame no. 29400\n",
            "saved frame no. 29460\n",
            "saved frame no. 29520\n",
            "saved frame no. 29580\n",
            "saved frame no. 29640\n",
            "saved frame no. 29700\n",
            "saved frame no. 29760\n",
            "saved frame no. 29820\n",
            "saved frame no. 29880\n",
            "saved frame no. 29940\n",
            "saved frame no. 30000\n",
            "saved frame no. 30060\n",
            "saved frame no. 30120\n",
            "saved frame no. 30180\n",
            "saved frame no. 30240\n",
            "saved frame no. 30300\n",
            "saved frame no. 30360\n",
            "saved frame no. 30420\n",
            "saved frame no. 30480\n",
            "saved frame no. 30540\n",
            "saved frame no. 30600\n",
            "saved frame no. 30660\n",
            "saved frame no. 30720\n",
            "saved frame no. 30780\n",
            "saved frame no. 30840\n",
            "saved frame no. 30900\n",
            "saved frame no. 30960\n",
            "saved frame no. 31020\n",
            "saved frame no. 31080\n",
            "saved frame no. 31140\n",
            "saved frame no. 31200\n",
            "saved frame no. 31260\n",
            "saved frame no. 31320\n",
            "saved frame no. 31380\n",
            "saved frame no. 31440\n",
            "saved frame no. 31500\n",
            "saved frame no. 31560\n",
            "saved frame no. 31620\n",
            "saved frame no. 31680\n",
            "saved frame no. 31740\n",
            "saved frame no. 31800\n",
            "saved frame no. 31860\n",
            "saved frame no. 31920\n",
            "saved frame no. 31980\n",
            "saved frame no. 32040\n",
            "saved frame no. 32100\n",
            "saved frame no. 32160\n",
            "saved frame no. 32220\n",
            "saved frame no. 32280\n",
            "saved frame no. 32340\n",
            "saved frame no. 32400\n",
            "saved frame no. 32460\n",
            "saved frame no. 32520\n",
            "saved frame no. 32580\n",
            "saved frame no. 32640\n",
            "saved frame no. 32700\n",
            "saved frame no. 32760\n",
            "saved frame no. 32820\n",
            "saved frame no. 32880\n",
            "saved frame no. 32940\n",
            "saved frame no. 33000\n",
            "saved frame no. 33060\n",
            "saved frame no. 33120\n",
            "saved frame no. 33180\n",
            "saved frame no. 33240\n",
            "saved frame no. 33300\n",
            "saved frame no. 33360\n",
            "saved frame no. 33420\n",
            "saved frame no. 33480\n",
            "saved frame no. 33540\n",
            "saved frame no. 33600\n",
            "saved frame no. 33660\n",
            "saved frame no. 33720\n",
            "saved frame no. 33780\n",
            "saved frame no. 33840\n",
            "saved frame no. 33900\n",
            "saved frame no. 33960\n",
            "saved frame no. 34020\n",
            "saved frame no. 34080\n",
            "saved frame no. 34140\n",
            "saved frame no. 34200\n",
            "saved frame no. 34260\n",
            "saved frame no. 34320\n",
            "saved frame no. 34380\n",
            "saved frame no. 34440\n",
            "saved frame no. 34500\n",
            "saved frame no. 34560\n",
            "saved frame no. 34620\n",
            "saved frame no. 34680\n",
            "saved frame no. 34740\n",
            "saved frame no. 34800\n",
            "saved frame no. 34860\n",
            "saved frame no. 34920\n",
            "saved frame no. 34980\n",
            "saved frame no. 35040\n",
            "saved frame no. 35100\n",
            "saved frame no. 35160\n",
            "saved frame no. 35220\n",
            "saved frame no. 35280\n",
            "saved frame no. 35340\n",
            "saved frame no. 35400\n",
            "saved frame no. 35460\n",
            "saved frame no. 35520\n",
            "saved frame no. 35580\n",
            "saved frame no. 35640\n",
            "saved frame no. 35700\n",
            "saved frame no. 35760\n",
            "saved frame no. 35820\n",
            "saved frame no. 35880\n",
            "saved frame no. 35940\n",
            "saved frame no. 36000\n",
            "saved frame no. 36060\n",
            "saved frame no. 36120\n",
            "saved frame no. 36180\n",
            "saved frame no. 36240\n",
            "saved frame no. 36300\n",
            "saved frame no. 36360\n",
            "saved frame no. 36420\n",
            "saved frame no. 36480\n",
            "saved frame no. 36540\n",
            "saved frame no. 36600\n",
            "saved frame no. 36660\n",
            "saved frame no. 36720\n",
            "saved frame no. 36780\n",
            "saved frame no. 36840\n",
            "saved frame no. 36900\n",
            "saved frame no. 36960\n",
            "saved frame no. 37020\n",
            "saved frame no. 37080\n",
            "saved frame no. 37140\n",
            "saved frame no. 37200\n",
            "saved frame no. 37260\n",
            "saved frame no. 37320\n",
            "saved frame no. 37380\n",
            "saved frame no. 37440\n",
            "saved frame no. 37500\n",
            "saved frame no. 37560\n",
            "saved frame no. 37620\n",
            "saved frame no. 37680\n",
            "saved frame no. 37740\n",
            "saved frame no. 37800\n",
            "saved frame no. 37860\n",
            "saved frame no. 37920\n",
            "saved frame no. 37980\n",
            "saved frame no. 38040\n",
            "saved frame no. 38100\n",
            "saved frame no. 38160\n",
            "saved frame no. 38220\n",
            "saved frame no. 38280\n",
            "saved frame no. 38340\n",
            "saved frame no. 38400\n",
            "saved frame no. 38460\n",
            "saved frame no. 38520\n",
            "saved frame no. 38580\n",
            "saved frame no. 38640\n",
            "saved frame no. 38700\n",
            "saved frame no. 38760\n",
            "saved frame no. 38820\n",
            "saved frame no. 38880\n",
            "saved frame no. 38940\n",
            "saved frame no. 39000\n",
            "saved frame no. 39060\n",
            "saved frame no. 39120\n",
            "saved frame no. 39180\n",
            "saved frame no. 39240\n",
            "saved frame no. 39300\n",
            "saved frame no. 39360\n",
            "saved frame no. 39420\n",
            "saved frame no. 39480\n",
            "saved frame no. 39540\n",
            "saved frame no. 39600\n",
            "saved frame no. 39660\n",
            "saved frame no. 39720\n",
            "saved frame no. 39780\n",
            "saved frame no. 39840\n",
            "saved frame no. 39900\n",
            "saved frame no. 39960\n",
            "saved frame no. 40020\n",
            "saved frame no. 40080\n",
            "saved frame no. 40140\n",
            "saved frame no. 40200\n",
            "saved frame no. 40260\n",
            "saved frame no. 40320\n",
            "saved frame no. 40380\n",
            "saved frame no. 40440\n",
            "saved frame no. 40500\n",
            "saved frame no. 40560\n",
            "saved frame no. 40620\n",
            "saved frame no. 40680\n",
            "saved frame no. 40740\n",
            "saved frame no. 40800\n",
            "saved frame no. 40860\n",
            "saved frame no. 40920\n",
            "saved frame no. 40980\n",
            "saved frame no. 41040\n",
            "saved frame no. 41100\n",
            "saved frame no. 41160\n",
            "saved frame no. 41220\n",
            "saved frame no. 41280\n",
            "saved frame no. 41340\n",
            "saved frame no. 41400\n",
            "saved frame no. 41460\n",
            "saved frame no. 41520\n",
            "saved frame no. 41580\n",
            "saved frame no. 41640\n",
            "saved frame no. 41700\n",
            "saved frame no. 41760\n",
            "saved frame no. 41820\n",
            "saved frame no. 41880\n",
            "saved frame no. 41940\n",
            "saved frame no. 42000\n",
            "saved frame no. 42060\n",
            "saved frame no. 42120\n",
            "saved frame no. 42180\n",
            "saved frame no. 42240\n",
            "saved frame no. 42300\n",
            "saved frame no. 42360\n",
            "saved frame no. 42420\n",
            "saved frame no. 42480\n",
            "saved frame no. 42540\n",
            "saved frame no. 42600\n",
            "saved frame no. 42660\n",
            "saved frame no. 42720\n",
            "saved frame no. 42780\n",
            "saved frame no. 42840\n",
            "saved frame no. 42900\n",
            "saved frame no. 42960\n",
            "saved frame no. 43020\n",
            "saved frame no. 43080\n",
            "saved frame no. 43140\n",
            "saved frame no. 43200\n",
            "saved frame no. 43260\n",
            "saved frame no. 43320\n",
            "saved frame no. 43380\n",
            "saved frame no. 43440\n",
            "saved frame no. 43500\n",
            "saved frame no. 43560\n",
            "saved frame no. 43620\n",
            "saved frame no. 43680\n",
            "saved frame no. 43740\n",
            "saved frame no. 43800\n",
            "saved frame no. 43860\n",
            "saved frame no. 43920\n",
            "saved frame no. 43980\n",
            "saved frame no. 44040\n",
            "saved frame no. 44100\n",
            "saved frame no. 44160\n",
            "saved frame no. 44220\n",
            "saved frame no. 44280\n",
            "saved frame no. 44340\n",
            "saved frame no. 44400\n",
            "saved frame no. 44460\n",
            "saved frame no. 44520\n",
            "saved frame no. 44580\n",
            "saved frame no. 44640\n",
            "saved frame no. 44700\n",
            "saved frame no. 44760\n",
            "saved frame no. 44820\n",
            "saved frame no. 44880\n",
            "saved frame no. 44940\n",
            "saved frame no. 45000\n",
            "saved frame no. 45060\n",
            "saved frame no. 45120\n",
            "saved frame no. 45180\n",
            "saved frame no. 45240\n",
            "saved frame no. 45300\n",
            "saved frame no. 45360\n",
            "saved frame no. 45420\n",
            "saved frame no. 45480\n",
            "saved frame no. 45540\n",
            "saved frame no. 45600\n",
            "saved frame no. 45660\n",
            "saved frame no. 45720\n",
            "saved frame no. 45780\n",
            "saved frame no. 45840\n",
            "saved frame no. 45900\n",
            "saved frame no. 45960\n",
            "saved frame no. 46020\n",
            "saved frame no. 46080\n",
            "saved frame no. 46140\n",
            "saved frame no. 46200\n",
            "saved frame no. 46260\n",
            "saved frame no. 46320\n",
            "saved frame no. 46380\n",
            "saved frame no. 46440\n",
            "saved frame no. 46500\n",
            "saved frame no. 46560\n",
            "saved frame no. 46620\n",
            "saved frame no. 46680\n",
            "saved frame no. 46740\n",
            "saved frame no. 46800\n",
            "saved frame no. 46860\n",
            "saved frame no. 46920\n",
            "saved frame no. 46980\n",
            "saved frame no. 47040\n",
            "saved frame no. 47100\n",
            "saved frame no. 47160\n",
            "saved frame no. 47220\n",
            "saved frame no. 47280\n",
            "saved frame no. 47340\n",
            "saved frame no. 47400\n",
            "saved frame no. 47460\n",
            "saved frame no. 47520\n",
            "saved frame no. 47580\n",
            "saved frame no. 47640\n",
            "saved frame no. 47700\n",
            "saved frame no. 47760\n",
            "saved frame no. 47820\n",
            "saved frame no. 47880\n",
            "saved frame no. 47940\n",
            "saved frame no. 48000\n",
            "saved frame no. 48060\n",
            "saved frame no. 48120\n",
            "saved frame no. 48180\n",
            "saved frame no. 48240\n",
            "saved frame no. 48300\n",
            "saved frame no. 48360\n",
            "saved frame no. 48420\n",
            "saved frame no. 48480\n",
            "saved frame no. 48540\n",
            "saved frame no. 48600\n",
            "saved frame no. 48660\n",
            "saved frame no. 48720\n",
            "saved frame no. 48780\n",
            "saved frame no. 48840\n",
            "saved frame no. 48900\n",
            "saved frame no. 48960\n",
            "saved frame no. 49020\n",
            "saved frame no. 49080\n",
            "saved frame no. 49140\n",
            "saved frame no. 49200\n",
            "saved frame no. 49260\n",
            "saved frame no. 49320\n",
            "saved frame no. 49380\n",
            "saved frame no. 49440\n",
            "saved frame no. 49500\n",
            "saved frame no. 49560\n",
            "saved frame no. 49620\n",
            "saved frame no. 49680\n",
            "saved frame no. 49740\n",
            "saved frame no. 49800\n",
            "saved frame no. 49860\n",
            "saved frame no. 49920\n",
            "saved frame no. 49980\n",
            "saved frame no. 50040\n",
            "saved frame no. 50100\n",
            "saved frame no. 50160\n",
            "saved frame no. 50220\n",
            "saved frame no. 50280\n",
            "saved frame no. 50340\n",
            "saved frame no. 50400\n"
          ]
        }
      ],
      "source": [
        "#reading video and saving frames to folder for every 2 sec\n",
        "import cv2\n",
        " \n",
        "# Check if camera opened successfully\n",
        "if (cap.isOpened()== False): \n",
        "  print(\"Error opening video stream or file\")\n",
        " \n",
        "cnt=1 \n",
        "\n",
        "# Read until video is completed\n",
        "while(cap.isOpened()):\n",
        "  # Capture frame-by-frame\n",
        "  ret, frame = cap.read()\n",
        "  if ret == True:\n",
        "\n",
        "    if cnt>=start and cnt<=end:\n",
        "\n",
        "      if cnt%60==0:\n",
        "\n",
        "        print(\"saved frame no. \"+str(cnt))\n",
        "\n",
        "        #Display the resulting frame\n",
        "        cv2.imwrite('frames/'+str(cnt)+\".png\",frame)\n",
        "  \n",
        "    # Press Q on keyboard to  exit\n",
        "    if cv2.waitKey(25) & 0xFF == ord('q'):\n",
        "      break\n",
        "\n",
        "    if cnt>end:\n",
        "      break\n",
        " \n",
        "  # Break the loop\n",
        "  else: \n",
        "    break\n",
        "  \n",
        "  cnt=cnt+1\n",
        "\n",
        "# When everything done, release the video capture object\n",
        "cap.release()\n",
        " \n",
        "# Closes all the frames\n",
        "cv2.destroyAllWindows()"
      ]
    },
    {
      "cell_type": "code",
      "execution_count": null,
      "metadata": {
        "id": "U97-wUm4MHrc"
      },
      "outputs": [],
      "source": [
        "import os,re\n",
        "names= os.listdir(\"frames\")\n",
        "names.sort(key=lambda f: int(re.sub('\\D', '', f)))"
      ]
    },
    {
      "cell_type": "code",
      "execution_count": null,
      "metadata": {
        "colab": {
          "base_uri": "https://localhost:8080/"
        },
        "id": "kN21mqvj5PQA",
        "outputId": "31014516-4f16-403a-da7c-455880d40c18"
      },
      "outputs": [
        {
          "output_type": "execute_result",
          "data": {
            "text/plain": [
              "['5400.png', '5460.png', '5520.png', '5580.png', '5640.png']"
            ]
          },
          "metadata": {},
          "execution_count": 9
        }
      ],
      "source": [
        "names[:5]"
      ]
    },
    {
      "cell_type": "code",
      "execution_count": null,
      "metadata": {
        "id": "H3VNlz_ExOc0",
        "colab": {
          "base_uri": "https://localhost:8080/"
        },
        "outputId": "59874dcd-66e8-468f-d92b-7d06f8e440c0"
      },
      "outputs": [
        {
          "output_type": "stream",
          "name": "stderr",
          "text": [
            "\r  0%|          | 0/751 [00:00<?, ?it/s]"
          ]
        },
        {
          "output_type": "stream",
          "name": "stdout",
          "text": [
            "[2023/05/02 14:14:33] ppocr DEBUG: dt_boxes num : 29, elapse : 0.47405505180358887\n",
            "[2023/05/02 14:14:34] ppocr DEBUG: cls num  : 29, elapse : 0.49862146377563477\n",
            "[2023/05/02 14:14:39] ppocr DEBUG: rec_res num  : 29, elapse : 4.864259481430054\n"
          ]
        },
        {
          "output_type": "stream",
          "name": "stderr",
          "text": [
            "\r  0%|          | 1/751 [00:05<1:13:24,  5.87s/it]"
          ]
        },
        {
          "output_type": "stream",
          "name": "stdout",
          "text": [
            "[2023/05/02 14:14:39] ppocr DEBUG: dt_boxes num : 30, elapse : 0.30120038986206055\n",
            "[2023/05/02 14:14:39] ppocr DEBUG: cls num  : 30, elapse : 0.3302617073059082\n",
            "[2023/05/02 14:14:44] ppocr DEBUG: rec_res num  : 30, elapse : 4.1560235023498535\n"
          ]
        },
        {
          "output_type": "stream",
          "name": "stderr",
          "text": [
            "\r  0%|          | 2/751 [00:10<1:05:32,  5.25s/it]"
          ]
        },
        {
          "output_type": "stream",
          "name": "stdout",
          "text": [
            "[2023/05/02 14:14:44] ppocr DEBUG: dt_boxes num : 30, elapse : 0.2747948169708252\n",
            "[2023/05/02 14:14:44] ppocr DEBUG: cls num  : 30, elapse : 0.3243072032928467\n",
            "[2023/05/02 14:14:51] ppocr DEBUG: rec_res num  : 30, elapse : 6.349615097045898\n"
          ]
        },
        {
          "output_type": "stream",
          "name": "stderr",
          "text": [
            "\r  0%|          | 3/751 [00:17<1:15:17,  6.04s/it]"
          ]
        },
        {
          "output_type": "stream",
          "name": "stdout",
          "text": [
            "[2023/05/02 14:14:51] ppocr DEBUG: dt_boxes num : 30, elapse : 0.4111287593841553\n",
            "[2023/05/02 14:14:52] ppocr DEBUG: cls num  : 30, elapse : 0.5235650539398193\n",
            "[2023/05/02 14:14:57] ppocr DEBUG: rec_res num  : 30, elapse : 5.926260948181152\n"
          ]
        },
        {
          "output_type": "stream",
          "name": "stderr",
          "text": [
            "\r  1%|          | 4/751 [00:24<1:19:23,  6.38s/it]"
          ]
        },
        {
          "output_type": "stream",
          "name": "stdout",
          "text": [
            "[2023/05/02 14:14:58] ppocr DEBUG: dt_boxes num : 29, elapse : 0.26725339889526367\n",
            "[2023/05/02 14:14:58] ppocr DEBUG: cls num  : 29, elapse : 0.33513689041137695\n",
            "[2023/05/02 14:15:03] ppocr DEBUG: rec_res num  : 29, elapse : 4.458050966262817\n"
          ]
        },
        {
          "output_type": "stream",
          "name": "stderr",
          "text": [
            "\r  1%|          | 5/751 [00:29<1:13:30,  5.91s/it]"
          ]
        },
        {
          "output_type": "stream",
          "name": "stdout",
          "text": [
            "[2023/05/02 14:15:03] ppocr DEBUG: dt_boxes num : 29, elapse : 0.2838401794433594\n",
            "[2023/05/02 14:15:03] ppocr DEBUG: cls num  : 29, elapse : 0.33751726150512695\n",
            "[2023/05/02 14:15:10] ppocr DEBUG: rec_res num  : 29, elapse : 6.809217929840088\n"
          ]
        },
        {
          "output_type": "stream",
          "name": "stderr",
          "text": [
            "\r  1%|          | 6/751 [00:37<1:19:58,  6.44s/it]"
          ]
        },
        {
          "output_type": "stream",
          "name": "stdout",
          "text": [
            "[2023/05/02 14:15:10] ppocr DEBUG: dt_boxes num : 29, elapse : 0.37015461921691895\n",
            "[2023/05/02 14:15:11] ppocr DEBUG: cls num  : 29, elapse : 0.5077109336853027\n",
            "[2023/05/02 14:15:17] ppocr DEBUG: rec_res num  : 29, elapse : 5.704943895339966\n"
          ]
        },
        {
          "output_type": "stream",
          "name": "stderr",
          "text": [
            "\r  1%|          | 7/751 [00:43<1:20:36,  6.50s/it]"
          ]
        },
        {
          "output_type": "stream",
          "name": "stdout",
          "text": [
            "[2023/05/02 14:15:17] ppocr DEBUG: dt_boxes num : 29, elapse : 0.23345303535461426\n",
            "[2023/05/02 14:15:17] ppocr DEBUG: cls num  : 29, elapse : 0.3376281261444092\n",
            "[2023/05/02 14:15:22] ppocr DEBUG: rec_res num  : 29, elapse : 4.3909080028533936\n"
          ]
        },
        {
          "output_type": "stream",
          "name": "stderr",
          "text": [
            "\r  1%|          | 8/751 [00:48<1:14:32,  6.02s/it]"
          ]
        },
        {
          "output_type": "stream",
          "name": "stdout",
          "text": [
            "[2023/05/02 14:15:22] ppocr DEBUG: dt_boxes num : 0, elapse : 0.30861735343933105\n",
            "[2023/05/02 14:15:22] ppocr DEBUG: cls num  : 0, elapse : 0\n",
            "[2023/05/02 14:15:22] ppocr DEBUG: rec_res num  : 0, elapse : 4.0531158447265625e-06\n"
          ]
        },
        {
          "output_type": "stream",
          "name": "stderr",
          "text": [
            "\r  1%|          | 9/751 [00:49<52:28,  4.24s/it]  "
          ]
        },
        {
          "output_type": "stream",
          "name": "stdout",
          "text": [
            "[2023/05/02 14:15:22] ppocr DEBUG: dt_boxes num : 0, elapse : 0.2984752655029297\n",
            "[2023/05/02 14:15:22] ppocr DEBUG: cls num  : 0, elapse : 0\n",
            "[2023/05/02 14:15:22] ppocr DEBUG: rec_res num  : 0, elapse : 3.337860107421875e-06\n"
          ]
        },
        {
          "output_type": "stream",
          "name": "stderr",
          "text": [
            "\r  1%|▏         | 10/751 [00:49<37:28,  3.03s/it]"
          ]
        },
        {
          "output_type": "stream",
          "name": "stdout",
          "text": [
            "[2023/05/02 14:15:23] ppocr DEBUG: dt_boxes num : 2, elapse : 0.3887324333190918\n",
            "[2023/05/02 14:15:23] ppocr DEBUG: cls num  : 2, elapse : 0.03985285758972168\n",
            "[2023/05/02 14:15:23] ppocr DEBUG: rec_res num  : 2, elapse : 0.302518367767334\n"
          ]
        },
        {
          "output_type": "stream",
          "name": "stderr",
          "text": [
            "\r  1%|▏         | 11/751 [00:50<28:50,  2.34s/it]"
          ]
        },
        {
          "output_type": "stream",
          "name": "stdout",
          "text": [
            "[2023/05/02 14:15:23] ppocr DEBUG: dt_boxes num : 2, elapse : 0.3159210681915283\n",
            "[2023/05/02 14:15:23] ppocr DEBUG: cls num  : 2, elapse : 0.03764820098876953\n",
            "[2023/05/02 14:15:24] ppocr DEBUG: rec_res num  : 2, elapse : 0.27638792991638184\n"
          ]
        },
        {
          "output_type": "stream",
          "name": "stderr",
          "text": [
            "\r  2%|▏         | 12/751 [00:50<22:29,  1.83s/it]"
          ]
        },
        {
          "output_type": "stream",
          "name": "stdout",
          "text": [
            "[2023/05/02 14:15:24] ppocr DEBUG: dt_boxes num : 2, elapse : 0.2939338684082031\n",
            "[2023/05/02 14:15:24] ppocr DEBUG: cls num  : 2, elapse : 0.03482627868652344\n",
            "[2023/05/02 14:15:24] ppocr DEBUG: rec_res num  : 2, elapse : 0.27879929542541504\n"
          ]
        },
        {
          "output_type": "stream",
          "name": "stderr",
          "text": [
            "\r  2%|▏         | 13/751 [00:51<18:01,  1.47s/it]"
          ]
        },
        {
          "output_type": "stream",
          "name": "stdout",
          "text": [
            "[2023/05/02 14:15:25] ppocr DEBUG: dt_boxes num : 2, elapse : 0.33582162857055664\n",
            "[2023/05/02 14:15:25] ppocr DEBUG: cls num  : 2, elapse : 0.026017189025878906\n",
            "[2023/05/02 14:15:25] ppocr DEBUG: rec_res num  : 2, elapse : 0.24210405349731445\n"
          ]
        },
        {
          "output_type": "stream",
          "name": "stderr",
          "text": [
            "\r  2%|▏         | 14/751 [00:52<14:54,  1.21s/it]"
          ]
        },
        {
          "output_type": "stream",
          "name": "stdout",
          "text": [
            "[2023/05/02 14:15:25] ppocr DEBUG: dt_boxes num : 5, elapse : 0.3765861988067627\n",
            "[2023/05/02 14:15:26] ppocr DEBUG: cls num  : 5, elapse : 0.1004018783569336\n",
            "[2023/05/02 14:15:27] ppocr DEBUG: rec_res num  : 5, elapse : 1.0722925662994385\n"
          ]
        },
        {
          "output_type": "stream",
          "name": "stderr",
          "text": [
            "\r  2%|▏         | 15/751 [00:53<16:14,  1.32s/it]"
          ]
        },
        {
          "output_type": "stream",
          "name": "stdout",
          "text": [
            "[2023/05/02 14:15:27] ppocr DEBUG: dt_boxes num : 0, elapse : 0.3481118679046631\n",
            "[2023/05/02 14:15:27] ppocr DEBUG: cls num  : 0, elapse : 0\n",
            "[2023/05/02 14:15:27] ppocr DEBUG: rec_res num  : 0, elapse : 3.5762786865234375e-06\n"
          ]
        },
        {
          "output_type": "stream",
          "name": "stderr",
          "text": [
            "\r  2%|▏         | 16/751 [00:54<12:42,  1.04s/it]"
          ]
        },
        {
          "output_type": "stream",
          "name": "stdout",
          "text": [
            "[2023/05/02 14:15:27] ppocr DEBUG: dt_boxes num : 0, elapse : 0.3645148277282715\n",
            "[2023/05/02 14:15:27] ppocr DEBUG: cls num  : 0, elapse : 0\n",
            "[2023/05/02 14:15:27] ppocr DEBUG: rec_res num  : 0, elapse : 3.0994415283203125e-06\n"
          ]
        },
        {
          "output_type": "stream",
          "name": "stderr",
          "text": [
            "\r  2%|▏         | 17/751 [00:54<10:19,  1.19it/s]"
          ]
        },
        {
          "output_type": "stream",
          "name": "stdout",
          "text": [
            "[2023/05/02 14:15:28] ppocr DEBUG: dt_boxes num : 5, elapse : 0.3507978916168213\n",
            "[2023/05/02 14:15:28] ppocr DEBUG: cls num  : 5, elapse : 0.0928807258605957\n",
            "[2023/05/02 14:15:29] ppocr DEBUG: rec_res num  : 5, elapse : 0.9167354106903076\n"
          ]
        },
        {
          "output_type": "stream",
          "name": "stderr",
          "text": [
            "\r  2%|▏         | 18/751 [00:55<12:19,  1.01s/it]"
          ]
        },
        {
          "output_type": "stream",
          "name": "stdout",
          "text": [
            "[2023/05/02 14:15:29] ppocr DEBUG: dt_boxes num : 4, elapse : 0.3404865264892578\n",
            "[2023/05/02 14:15:29] ppocr DEBUG: cls num  : 4, elapse : 0.07901287078857422\n",
            "[2023/05/02 14:15:30] ppocr DEBUG: rec_res num  : 4, elapse : 0.7447988986968994\n"
          ]
        },
        {
          "output_type": "stream",
          "name": "stderr",
          "text": [
            "\r  3%|▎         | 19/751 [00:57<12:58,  1.06s/it]"
          ]
        },
        {
          "output_type": "stream",
          "name": "stdout",
          "text": [
            "[2023/05/02 14:15:30] ppocr DEBUG: dt_boxes num : 3, elapse : 0.3314816951751709\n",
            "[2023/05/02 14:15:30] ppocr DEBUG: cls num  : 3, elapse : 0.05162310600280762\n",
            "[2023/05/02 14:15:31] ppocr DEBUG: rec_res num  : 3, elapse : 0.47392702102661133\n"
          ]
        },
        {
          "output_type": "stream",
          "name": "stderr",
          "text": [
            "\r  3%|▎         | 20/751 [00:57<12:18,  1.01s/it]"
          ]
        },
        {
          "output_type": "stream",
          "name": "stdout",
          "text": [
            "[2023/05/02 14:15:31] ppocr DEBUG: dt_boxes num : 3, elapse : 0.32140445709228516\n",
            "[2023/05/02 14:15:31] ppocr DEBUG: cls num  : 3, elapse : 0.05388331413269043\n",
            "[2023/05/02 14:15:32] ppocr DEBUG: rec_res num  : 3, elapse : 0.4677896499633789\n"
          ]
        },
        {
          "output_type": "stream",
          "name": "stderr",
          "text": [
            "\r  3%|▎         | 21/751 [00:58<11:45,  1.03it/s]"
          ]
        },
        {
          "output_type": "stream",
          "name": "stdout",
          "text": [
            "[2023/05/02 14:15:32] ppocr DEBUG: dt_boxes num : 3, elapse : 0.30366969108581543\n",
            "[2023/05/02 14:15:32] ppocr DEBUG: cls num  : 3, elapse : 0.055805206298828125\n",
            "[2023/05/02 14:15:33] ppocr DEBUG: rec_res num  : 3, elapse : 0.4654698371887207\n"
          ]
        },
        {
          "output_type": "stream",
          "name": "stderr",
          "text": [
            "\r  3%|▎         | 22/751 [00:59<11:18,  1.07it/s]"
          ]
        },
        {
          "output_type": "stream",
          "name": "stdout",
          "text": [
            "[2023/05/02 14:15:33] ppocr DEBUG: dt_boxes num : 3, elapse : 0.3251934051513672\n",
            "[2023/05/02 14:15:33] ppocr DEBUG: cls num  : 3, elapse : 0.05045485496520996\n",
            "[2023/05/02 14:15:33] ppocr DEBUG: rec_res num  : 3, elapse : 0.46427488327026367\n"
          ]
        },
        {
          "output_type": "stream",
          "name": "stderr",
          "text": [
            "\r  3%|▎         | 23/751 [01:00<11:02,  1.10it/s]"
          ]
        },
        {
          "output_type": "stream",
          "name": "stdout",
          "text": [
            "[2023/05/02 14:15:34] ppocr DEBUG: dt_boxes num : 6, elapse : 0.3071157932281494\n",
            "[2023/05/02 14:15:34] ppocr DEBUG: cls num  : 6, elapse : 0.09983658790588379\n",
            "[2023/05/02 14:15:35] ppocr DEBUG: rec_res num  : 6, elapse : 0.7206885814666748\n"
          ]
        },
        {
          "output_type": "stream",
          "name": "stderr",
          "text": [
            "\r  3%|▎         | 24/751 [01:01<11:53,  1.02it/s]"
          ]
        },
        {
          "output_type": "stream",
          "name": "stdout",
          "text": [
            "[2023/05/02 14:15:35] ppocr DEBUG: dt_boxes num : 1, elapse : 0.21866083145141602\n",
            "[2023/05/02 14:15:35] ppocr DEBUG: cls num  : 1, elapse : 0.015692710876464844\n",
            "[2023/05/02 14:15:35] ppocr DEBUG: rec_res num  : 1, elapse : 0.11257100105285645\n"
          ]
        },
        {
          "output_type": "stream",
          "name": "stderr",
          "text": [
            "\r  3%|▎         | 25/751 [01:01<09:38,  1.26it/s]"
          ]
        },
        {
          "output_type": "stream",
          "name": "stdout",
          "text": [
            "[2023/05/02 14:15:35] ppocr DEBUG: dt_boxes num : 4, elapse : 0.22339081764221191\n",
            "[2023/05/02 14:15:35] ppocr DEBUG: cls num  : 4, elapse : 0.04852437973022461\n",
            "[2023/05/02 14:15:36] ppocr DEBUG: rec_res num  : 4, elapse : 0.41587138175964355\n"
          ]
        },
        {
          "output_type": "stream",
          "name": "stderr",
          "text": [
            "\r  3%|▎         | 26/751 [01:02<09:18,  1.30it/s]"
          ]
        },
        {
          "output_type": "stream",
          "name": "stdout",
          "text": [
            "[2023/05/02 14:15:36] ppocr DEBUG: dt_boxes num : 4, elapse : 0.21735215187072754\n",
            "[2023/05/02 14:15:36] ppocr DEBUG: cls num  : 4, elapse : 0.045806169509887695\n",
            "[2023/05/02 14:15:36] ppocr DEBUG: rec_res num  : 4, elapse : 0.4217057228088379\n"
          ]
        },
        {
          "output_type": "stream",
          "name": "stderr",
          "text": [
            "\r  4%|▎         | 27/751 [01:03<09:03,  1.33it/s]"
          ]
        },
        {
          "output_type": "stream",
          "name": "stdout",
          "text": [
            "[2023/05/02 14:15:37] ppocr DEBUG: dt_boxes num : 7, elapse : 0.23125195503234863\n",
            "[2023/05/02 14:15:37] ppocr DEBUG: cls num  : 7, elapse : 0.08126258850097656\n",
            "[2023/05/02 14:15:38] ppocr DEBUG: rec_res num  : 7, elapse : 0.9054210186004639\n"
          ]
        },
        {
          "output_type": "stream",
          "name": "stderr",
          "text": [
            "\r  4%|▎         | 28/751 [01:04<10:48,  1.11it/s]"
          ]
        },
        {
          "output_type": "stream",
          "name": "stdout",
          "text": [
            "[2023/05/02 14:15:38] ppocr DEBUG: dt_boxes num : 6, elapse : 0.230194091796875\n",
            "[2023/05/02 14:15:38] ppocr DEBUG: cls num  : 6, elapse : 0.0632467269897461\n",
            "[2023/05/02 14:15:39] ppocr DEBUG: rec_res num  : 6, elapse : 0.6417829990386963\n"
          ]
        },
        {
          "output_type": "stream",
          "name": "stderr",
          "text": [
            "\r  4%|▍         | 29/751 [01:05<11:00,  1.09it/s]"
          ]
        },
        {
          "output_type": "stream",
          "name": "stdout",
          "text": [
            "[2023/05/02 14:15:39] ppocr DEBUG: dt_boxes num : 3, elapse : 0.23392868041992188\n",
            "[2023/05/02 14:15:39] ppocr DEBUG: cls num  : 3, elapse : 0.03599715232849121\n",
            "[2023/05/02 14:15:39] ppocr DEBUG: rec_res num  : 3, elapse : 0.33103013038635254\n"
          ]
        },
        {
          "output_type": "stream",
          "name": "stderr",
          "text": [
            "\r  4%|▍         | 30/751 [01:06<09:56,  1.21it/s]"
          ]
        },
        {
          "output_type": "stream",
          "name": "stdout",
          "text": [
            "[2023/05/02 14:15:39] ppocr DEBUG: dt_boxes num : 3, elapse : 0.21788406372070312\n",
            "[2023/05/02 14:15:39] ppocr DEBUG: cls num  : 3, elapse : 0.033922433853149414\n",
            "[2023/05/02 14:15:40] ppocr DEBUG: rec_res num  : 3, elapse : 0.3137185573577881\n"
          ]
        },
        {
          "output_type": "stream",
          "name": "stderr",
          "text": [
            "\r  4%|▍         | 31/751 [01:06<09:03,  1.32it/s]"
          ]
        },
        {
          "output_type": "stream",
          "name": "stdout",
          "text": [
            "[2023/05/02 14:15:40] ppocr DEBUG: dt_boxes num : 3, elapse : 0.21522879600524902\n",
            "[2023/05/02 14:15:40] ppocr DEBUG: cls num  : 3, elapse : 0.033325910568237305\n",
            "[2023/05/02 14:15:40] ppocr DEBUG: rec_res num  : 3, elapse : 0.31279730796813965\n"
          ]
        },
        {
          "output_type": "stream",
          "name": "stderr",
          "text": [
            "\r  4%|▍         | 32/751 [01:07<08:25,  1.42it/s]"
          ]
        },
        {
          "output_type": "stream",
          "name": "stdout",
          "text": [
            "[2023/05/02 14:15:41] ppocr DEBUG: dt_boxes num : 1, elapse : 0.2217261791229248\n",
            "[2023/05/02 14:15:41] ppocr DEBUG: cls num  : 1, elapse : 0.015496969223022461\n",
            "[2023/05/02 14:15:41] ppocr DEBUG: rec_res num  : 1, elapse : 0.10500597953796387\n"
          ]
        },
        {
          "output_type": "stream",
          "name": "stderr",
          "text": [
            "\r  4%|▍         | 33/751 [01:07<07:10,  1.67it/s]"
          ]
        },
        {
          "output_type": "stream",
          "name": "stdout",
          "text": [
            "[2023/05/02 14:15:41] ppocr DEBUG: dt_boxes num : 1, elapse : 0.23227548599243164\n",
            "[2023/05/02 14:15:41] ppocr DEBUG: cls num  : 1, elapse : 0.013707160949707031\n",
            "[2023/05/02 14:15:41] ppocr DEBUG: rec_res num  : 1, elapse : 0.10457587242126465\n"
          ]
        },
        {
          "output_type": "stream",
          "name": "stderr",
          "text": [
            "\r  5%|▍         | 34/751 [01:08<06:20,  1.89it/s]"
          ]
        },
        {
          "output_type": "stream",
          "name": "stdout",
          "text": [
            "[2023/05/02 14:15:41] ppocr DEBUG: dt_boxes num : 0, elapse : 0.2282085418701172\n",
            "[2023/05/02 14:15:41] ppocr DEBUG: cls num  : 0, elapse : 0\n",
            "[2023/05/02 14:15:41] ppocr DEBUG: rec_res num  : 0, elapse : 2.6226043701171875e-06\n"
          ]
        },
        {
          "output_type": "stream",
          "name": "stderr",
          "text": [
            "\r  5%|▍         | 35/751 [01:08<05:19,  2.24it/s]"
          ]
        },
        {
          "output_type": "stream",
          "name": "stdout",
          "text": [
            "[2023/05/02 14:15:42] ppocr DEBUG: dt_boxes num : 0, elapse : 0.2311384677886963\n",
            "[2023/05/02 14:15:42] ppocr DEBUG: cls num  : 0, elapse : 0\n",
            "[2023/05/02 14:15:42] ppocr DEBUG: rec_res num  : 0, elapse : 2.6226043701171875e-06\n"
          ]
        },
        {
          "output_type": "stream",
          "name": "stderr",
          "text": [
            "\r  5%|▍         | 36/751 [01:08<04:37,  2.58it/s]"
          ]
        },
        {
          "output_type": "stream",
          "name": "stdout",
          "text": [
            "[2023/05/02 14:15:42] ppocr DEBUG: dt_boxes num : 3, elapse : 0.21758341789245605\n",
            "[2023/05/02 14:15:42] ppocr DEBUG: cls num  : 3, elapse : 0.03130817413330078\n",
            "[2023/05/02 14:15:42] ppocr DEBUG: rec_res num  : 3, elapse : 0.3157963752746582\n"
          ]
        },
        {
          "output_type": "stream",
          "name": "stderr",
          "text": [
            "\r  5%|▍         | 37/751 [01:09<05:18,  2.24it/s]"
          ]
        },
        {
          "output_type": "stream",
          "name": "stdout",
          "text": [
            "[2023/05/02 14:15:42] ppocr DEBUG: dt_boxes num : 3, elapse : 0.21330475807189941\n",
            "[2023/05/02 14:15:42] ppocr DEBUG: cls num  : 3, elapse : 0.03502798080444336\n",
            "[2023/05/02 14:15:43] ppocr DEBUG: rec_res num  : 3, elapse : 0.3220500946044922\n"
          ]
        },
        {
          "output_type": "stream",
          "name": "stderr",
          "text": [
            "\r  5%|▌         | 38/751 [01:09<05:47,  2.05it/s]"
          ]
        },
        {
          "output_type": "stream",
          "name": "stdout",
          "text": [
            "[2023/05/02 14:15:43] ppocr DEBUG: dt_boxes num : 2, elapse : 0.22267699241638184\n",
            "[2023/05/02 14:15:43] ppocr DEBUG: cls num  : 2, elapse : 0.023987293243408203\n",
            "[2023/05/02 14:15:43] ppocr DEBUG: rec_res num  : 2, elapse : 0.23444271087646484\n"
          ]
        },
        {
          "output_type": "stream",
          "name": "stderr",
          "text": [
            "\r  5%|▌         | 39/751 [01:10<05:49,  2.04it/s]"
          ]
        },
        {
          "output_type": "stream",
          "name": "stdout",
          "text": [
            "[2023/05/02 14:15:43] ppocr DEBUG: dt_boxes num : 1, elapse : 0.22366619110107422\n",
            "[2023/05/02 14:15:43] ppocr DEBUG: cls num  : 1, elapse : 0.017429590225219727\n",
            "[2023/05/02 14:15:44] ppocr DEBUG: rec_res num  : 1, elapse : 0.11035299301147461\n"
          ]
        },
        {
          "output_type": "stream",
          "name": "stderr",
          "text": [
            "\r  5%|▌         | 40/751 [01:10<05:23,  2.20it/s]"
          ]
        },
        {
          "output_type": "stream",
          "name": "stdout",
          "text": [
            "[2023/05/02 14:15:44] ppocr DEBUG: dt_boxes num : 2, elapse : 0.22347521781921387\n",
            "[2023/05/02 14:15:44] ppocr DEBUG: cls num  : 2, elapse : 0.02261066436767578\n",
            "[2023/05/02 14:15:44] ppocr DEBUG: rec_res num  : 2, elapse : 0.20804977416992188\n"
          ]
        },
        {
          "output_type": "stream",
          "name": "stderr",
          "text": [
            "\r  5%|▌         | 41/751 [01:11<05:26,  2.17it/s]"
          ]
        },
        {
          "output_type": "stream",
          "name": "stdout",
          "text": [
            "[2023/05/02 14:15:44] ppocr DEBUG: dt_boxes num : 1, elapse : 0.27266407012939453\n",
            "[2023/05/02 14:15:44] ppocr DEBUG: cls num  : 1, elapse : 0.0178375244140625\n",
            "[2023/05/02 14:15:45] ppocr DEBUG: rec_res num  : 1, elapse : 0.16561126708984375\n"
          ]
        },
        {
          "output_type": "stream",
          "name": "stderr",
          "text": [
            "\r  6%|▌         | 42/751 [01:11<05:29,  2.15it/s]"
          ]
        },
        {
          "output_type": "stream",
          "name": "stdout",
          "text": [
            "[2023/05/02 14:15:45] ppocr DEBUG: dt_boxes num : 1, elapse : 0.31938862800598145\n",
            "[2023/05/02 14:15:45] ppocr DEBUG: cls num  : 1, elapse : 0.018784046173095703\n",
            "[2023/05/02 14:15:45] ppocr DEBUG: rec_res num  : 1, elapse : 0.18069982528686523\n"
          ]
        },
        {
          "output_type": "stream",
          "name": "stderr",
          "text": [
            "\r  6%|▌         | 43/751 [01:12<05:44,  2.06it/s]"
          ]
        },
        {
          "output_type": "stream",
          "name": "stdout",
          "text": [
            "[2023/05/02 14:15:45] ppocr DEBUG: dt_boxes num : 1, elapse : 0.32628440856933594\n",
            "[2023/05/02 14:15:45] ppocr DEBUG: cls num  : 1, elapse : 0.019822120666503906\n",
            "[2023/05/02 14:15:46] ppocr DEBUG: rec_res num  : 1, elapse : 0.18132829666137695\n"
          ]
        },
        {
          "output_type": "stream",
          "name": "stderr",
          "text": [
            "\r  6%|▌         | 44/751 [01:12<05:58,  1.97it/s]"
          ]
        },
        {
          "output_type": "stream",
          "name": "stdout",
          "text": [
            "[2023/05/02 14:15:46] ppocr DEBUG: dt_boxes num : 4, elapse : 0.32309818267822266\n",
            "[2023/05/02 14:15:46] ppocr DEBUG: cls num  : 4, elapse : 0.08140110969543457\n",
            "[2023/05/02 14:15:47] ppocr DEBUG: rec_res num  : 4, elapse : 0.7027506828308105\n"
          ]
        },
        {
          "output_type": "stream",
          "name": "stderr",
          "text": [
            "\r  6%|▌         | 45/751 [01:13<08:11,  1.44it/s]"
          ]
        },
        {
          "output_type": "stream",
          "name": "stdout",
          "text": [
            "[2023/05/02 14:15:47] ppocr DEBUG: dt_boxes num : 1, elapse : 0.3356175422668457\n",
            "[2023/05/02 14:15:47] ppocr DEBUG: cls num  : 1, elapse : 0.021129131317138672\n",
            "[2023/05/02 14:15:47] ppocr DEBUG: rec_res num  : 1, elapse : 0.1848306655883789\n"
          ]
        },
        {
          "output_type": "stream",
          "name": "stderr",
          "text": [
            "\r  6%|▌         | 46/751 [01:14<07:43,  1.52it/s]"
          ]
        },
        {
          "output_type": "stream",
          "name": "stdout",
          "text": [
            "[2023/05/02 14:15:48] ppocr DEBUG: dt_boxes num : 1, elapse : 0.3173696994781494\n",
            "[2023/05/02 14:15:48] ppocr DEBUG: cls num  : 1, elapse : 0.021047353744506836\n",
            "[2023/05/02 14:15:48] ppocr DEBUG: rec_res num  : 1, elapse : 0.1911625862121582\n"
          ]
        },
        {
          "output_type": "stream",
          "name": "stderr",
          "text": [
            "\r  6%|▋         | 47/751 [01:14<07:23,  1.59it/s]"
          ]
        },
        {
          "output_type": "stream",
          "name": "stdout",
          "text": [
            "[2023/05/02 14:15:48] ppocr DEBUG: dt_boxes num : 2, elapse : 0.3233449459075928\n",
            "[2023/05/02 14:15:48] ppocr DEBUG: cls num  : 2, elapse : 0.036806583404541016\n",
            "[2023/05/02 14:15:49] ppocr DEBUG: rec_res num  : 2, elapse : 0.3613622188568115\n"
          ]
        },
        {
          "output_type": "stream",
          "name": "stderr",
          "text": [
            "\r  6%|▋         | 48/751 [01:15<07:46,  1.51it/s]"
          ]
        },
        {
          "output_type": "stream",
          "name": "stdout",
          "text": [
            "[2023/05/02 14:15:49] ppocr DEBUG: dt_boxes num : 3, elapse : 0.33571481704711914\n",
            "[2023/05/02 14:15:49] ppocr DEBUG: cls num  : 3, elapse : 0.05071878433227539\n",
            "[2023/05/02 14:15:50] ppocr DEBUG: rec_res num  : 3, elapse : 0.6085937023162842\n"
          ]
        },
        {
          "output_type": "stream",
          "name": "stderr",
          "text": [
            "\r  7%|▋         | 49/751 [01:16<08:59,  1.30it/s]"
          ]
        },
        {
          "output_type": "stream",
          "name": "stdout",
          "text": [
            "[2023/05/02 14:15:50] ppocr DEBUG: dt_boxes num : 11, elapse : 0.3089940547943115\n",
            "[2023/05/02 14:15:50] ppocr DEBUG: cls num  : 11, elapse : 0.17235302925109863\n",
            "[2023/05/02 14:15:52] ppocr DEBUG: rec_res num  : 11, elapse : 1.9276525974273682\n"
          ]
        },
        {
          "output_type": "stream",
          "name": "stderr",
          "text": [
            "\r  7%|▋         | 50/751 [01:19<14:48,  1.27s/it]"
          ]
        },
        {
          "output_type": "stream",
          "name": "stdout",
          "text": [
            "[2023/05/02 14:15:52] ppocr DEBUG: dt_boxes num : 9, elapse : 0.3040494918823242\n",
            "[2023/05/02 14:15:53] ppocr DEBUG: cls num  : 9, elapse : 0.14319467544555664\n",
            "[2023/05/02 14:15:54] ppocr DEBUG: rec_res num  : 9, elapse : 1.0390772819519043\n"
          ]
        },
        {
          "output_type": "stream",
          "name": "stderr",
          "text": [
            "\r  7%|▋         | 51/751 [01:20<15:38,  1.34s/it]"
          ]
        },
        {
          "output_type": "stream",
          "name": "stdout",
          "text": [
            "[2023/05/02 14:15:54] ppocr DEBUG: dt_boxes num : 1, elapse : 0.22484397888183594\n",
            "[2023/05/02 14:15:54] ppocr DEBUG: cls num  : 1, elapse : 0.01437520980834961\n",
            "[2023/05/02 14:15:54] ppocr DEBUG: rec_res num  : 1, elapse : 0.10991787910461426\n"
          ]
        },
        {
          "output_type": "stream",
          "name": "stderr",
          "text": [
            "\r  7%|▋         | 52/751 [01:21<12:12,  1.05s/it]"
          ]
        },
        {
          "output_type": "stream",
          "name": "stdout",
          "text": [
            "[2023/05/02 14:15:54] ppocr DEBUG: dt_boxes num : 1, elapse : 0.21471118927001953\n",
            "[2023/05/02 14:15:54] ppocr DEBUG: cls num  : 1, elapse : 0.013034582138061523\n",
            "[2023/05/02 14:15:54] ppocr DEBUG: rec_res num  : 1, elapse : 0.10197281837463379\n"
          ]
        },
        {
          "output_type": "stream",
          "name": "stderr",
          "text": [
            "\r  7%|▋         | 53/751 [01:21<09:44,  1.19it/s]"
          ]
        },
        {
          "output_type": "stream",
          "name": "stdout",
          "text": [
            "[2023/05/02 14:15:55] ppocr DEBUG: dt_boxes num : 6, elapse : 0.21215176582336426\n",
            "[2023/05/02 14:15:55] ppocr DEBUG: cls num  : 6, elapse : 0.06262540817260742\n",
            "[2023/05/02 14:15:56] ppocr DEBUG: rec_res num  : 6, elapse : 1.0785369873046875\n"
          ]
        },
        {
          "output_type": "stream",
          "name": "stderr",
          "text": [
            "\r  7%|▋         | 54/751 [01:22<11:35,  1.00it/s]"
          ]
        },
        {
          "output_type": "stream",
          "name": "stdout",
          "text": [
            "[2023/05/02 14:15:56] ppocr DEBUG: dt_boxes num : 6, elapse : 0.22901654243469238\n",
            "[2023/05/02 14:15:56] ppocr DEBUG: cls num  : 6, elapse : 0.06436657905578613\n",
            "[2023/05/02 14:15:57] ppocr DEBUG: rec_res num  : 6, elapse : 1.074467420578003\n"
          ]
        },
        {
          "output_type": "stream",
          "name": "stderr",
          "text": [
            "\r  7%|▋         | 55/751 [01:24<12:56,  1.12s/it]"
          ]
        },
        {
          "output_type": "stream",
          "name": "stdout",
          "text": [
            "[2023/05/02 14:15:57] ppocr DEBUG: dt_boxes num : 11, elapse : 0.21725177764892578\n",
            "[2023/05/02 14:15:57] ppocr DEBUG: cls num  : 11, elapse : 0.11468267440795898\n",
            "[2023/05/02 14:15:59] ppocr DEBUG: rec_res num  : 11, elapse : 1.5443496704101562\n"
          ]
        },
        {
          "output_type": "stream",
          "name": "stderr",
          "text": [
            "\r  7%|▋         | 56/751 [01:26<15:37,  1.35s/it]"
          ]
        },
        {
          "output_type": "stream",
          "name": "stdout",
          "text": [
            "[2023/05/02 14:15:59] ppocr DEBUG: dt_boxes num : 1, elapse : 0.21370720863342285\n",
            "[2023/05/02 14:15:59] ppocr DEBUG: cls num  : 1, elapse : 0.014538049697875977\n",
            "[2023/05/02 14:15:59] ppocr DEBUG: rec_res num  : 1, elapse : 0.11491799354553223\n"
          ]
        },
        {
          "output_type": "stream",
          "name": "stderr",
          "text": [
            "\r  8%|▊         | 57/751 [01:26<12:10,  1.05s/it]"
          ]
        },
        {
          "output_type": "stream",
          "name": "stdout",
          "text": [
            "[2023/05/02 14:16:00] ppocr DEBUG: dt_boxes num : 1, elapse : 0.21623492240905762\n",
            "[2023/05/02 14:16:00] ppocr DEBUG: cls num  : 1, elapse : 0.013826608657836914\n",
            "[2023/05/02 14:16:00] ppocr DEBUG: rec_res num  : 1, elapse : 0.1068572998046875\n"
          ]
        },
        {
          "output_type": "stream",
          "name": "stderr",
          "text": [
            "\r  8%|▊         | 58/751 [01:26<09:43,  1.19it/s]"
          ]
        },
        {
          "output_type": "stream",
          "name": "stdout",
          "text": [
            "[2023/05/02 14:16:00] ppocr DEBUG: dt_boxes num : 7, elapse : 0.21795248985290527\n",
            "[2023/05/02 14:16:00] ppocr DEBUG: cls num  : 7, elapse : 0.08004236221313477\n",
            "[2023/05/02 14:16:01] ppocr DEBUG: rec_res num  : 7, elapse : 1.3214266300201416\n"
          ]
        },
        {
          "output_type": "stream",
          "name": "stderr",
          "text": [
            "\r  8%|▊         | 59/751 [01:28<12:28,  1.08s/it]"
          ]
        },
        {
          "output_type": "stream",
          "name": "stdout",
          "text": [
            "[2023/05/02 14:16:02] ppocr DEBUG: dt_boxes num : 7, elapse : 0.2223501205444336\n",
            "[2023/05/02 14:16:02] ppocr DEBUG: cls num  : 7, elapse : 0.07755327224731445\n",
            "[2023/05/02 14:16:03] ppocr DEBUG: rec_res num  : 7, elapse : 1.5168414115905762\n"
          ]
        },
        {
          "output_type": "stream",
          "name": "stderr",
          "text": [
            "\r  8%|▊         | 60/751 [01:30<15:03,  1.31s/it]"
          ]
        },
        {
          "output_type": "stream",
          "name": "stdout",
          "text": [
            "[2023/05/02 14:16:03] ppocr DEBUG: dt_boxes num : 1, elapse : 0.3357663154602051\n",
            "[2023/05/02 14:16:04] ppocr DEBUG: cls num  : 1, elapse : 0.02286815643310547\n",
            "[2023/05/02 14:16:04] ppocr DEBUG: rec_res num  : 1, elapse : 0.18487286567687988\n"
          ]
        },
        {
          "output_type": "stream",
          "name": "stderr",
          "text": [
            "\r  8%|▊         | 61/751 [01:30<12:29,  1.09s/it]"
          ]
        },
        {
          "output_type": "stream",
          "name": "stdout",
          "text": [
            "[2023/05/02 14:16:04] ppocr DEBUG: dt_boxes num : 0, elapse : 0.3195831775665283\n",
            "[2023/05/02 14:16:04] ppocr DEBUG: cls num  : 0, elapse : 0\n",
            "[2023/05/02 14:16:04] ppocr DEBUG: rec_res num  : 0, elapse : 2.1457672119140625e-06\n"
          ]
        },
        {
          "output_type": "stream",
          "name": "stderr",
          "text": [
            "\r  8%|▊         | 62/751 [01:31<09:55,  1.16it/s]"
          ]
        },
        {
          "output_type": "stream",
          "name": "stdout",
          "text": [
            "[2023/05/02 14:16:04] ppocr DEBUG: dt_boxes num : 0, elapse : 0.3247056007385254\n",
            "[2023/05/02 14:16:04] ppocr DEBUG: cls num  : 0, elapse : 0\n",
            "[2023/05/02 14:16:04] ppocr DEBUG: rec_res num  : 0, elapse : 2.6226043701171875e-06\n"
          ]
        },
        {
          "output_type": "stream",
          "name": "stderr",
          "text": [
            "\r  8%|▊         | 63/751 [01:31<08:08,  1.41it/s]"
          ]
        },
        {
          "output_type": "stream",
          "name": "stdout",
          "text": [
            "[2023/05/02 14:16:05] ppocr DEBUG: dt_boxes num : 0, elapse : 0.3205740451812744\n",
            "[2023/05/02 14:16:05] ppocr DEBUG: cls num  : 0, elapse : 0\n",
            "[2023/05/02 14:16:05] ppocr DEBUG: rec_res num  : 0, elapse : 2.6226043701171875e-06\n"
          ]
        },
        {
          "output_type": "stream",
          "name": "stderr",
          "text": [
            "\r  9%|▊         | 64/751 [01:31<06:52,  1.66it/s]"
          ]
        },
        {
          "output_type": "stream",
          "name": "stdout",
          "text": [
            "[2023/05/02 14:16:05] ppocr DEBUG: dt_boxes num : 0, elapse : 0.33178257942199707\n",
            "[2023/05/02 14:16:05] ppocr DEBUG: cls num  : 0, elapse : 0\n",
            "[2023/05/02 14:16:05] ppocr DEBUG: rec_res num  : 0, elapse : 2.384185791015625e-06\n"
          ]
        },
        {
          "output_type": "stream",
          "name": "stderr",
          "text": [
            "\r  9%|▊         | 65/751 [01:32<06:01,  1.90it/s]"
          ]
        },
        {
          "output_type": "stream",
          "name": "stdout",
          "text": [
            "[2023/05/02 14:16:05] ppocr DEBUG: dt_boxes num : 0, elapse : 0.32257556915283203\n",
            "[2023/05/02 14:16:05] ppocr DEBUG: cls num  : 0, elapse : 0\n",
            "[2023/05/02 14:16:05] ppocr DEBUG: rec_res num  : 0, elapse : 2.1457672119140625e-06\n"
          ]
        },
        {
          "output_type": "stream",
          "name": "stderr",
          "text": [
            "\r  9%|▉         | 66/751 [01:32<05:22,  2.12it/s]"
          ]
        },
        {
          "output_type": "stream",
          "name": "stdout",
          "text": [
            "[2023/05/02 14:16:06] ppocr DEBUG: dt_boxes num : 0, elapse : 0.32010602951049805\n",
            "[2023/05/02 14:16:06] ppocr DEBUG: cls num  : 0, elapse : 0\n",
            "[2023/05/02 14:16:06] ppocr DEBUG: rec_res num  : 0, elapse : 2.1457672119140625e-06\n"
          ]
        },
        {
          "output_type": "stream",
          "name": "stderr",
          "text": [
            "\r  9%|▉         | 67/751 [01:32<04:55,  2.32it/s]"
          ]
        },
        {
          "output_type": "stream",
          "name": "stdout",
          "text": [
            "[2023/05/02 14:16:06] ppocr DEBUG: dt_boxes num : 1, elapse : 0.31260180473327637\n",
            "[2023/05/02 14:16:06] ppocr DEBUG: cls num  : 1, elapse : 0.019295692443847656\n",
            "[2023/05/02 14:16:06] ppocr DEBUG: rec_res num  : 1, elapse : 0.17781591415405273\n"
          ]
        },
        {
          "output_type": "stream",
          "name": "stderr",
          "text": [
            "\r  9%|▉         | 68/751 [01:33<05:14,  2.17it/s]"
          ]
        },
        {
          "output_type": "stream",
          "name": "stdout",
          "text": [
            "[2023/05/02 14:16:07] ppocr DEBUG: dt_boxes num : 1, elapse : 0.3267350196838379\n",
            "[2023/05/02 14:16:07] ppocr DEBUG: cls num  : 1, elapse : 0.021570682525634766\n",
            "[2023/05/02 14:16:07] ppocr DEBUG: rec_res num  : 1, elapse : 0.18834233283996582\n"
          ]
        },
        {
          "output_type": "stream",
          "name": "stderr",
          "text": [
            "\r  9%|▉         | 69/751 [01:33<05:34,  2.04it/s]"
          ]
        },
        {
          "output_type": "stream",
          "name": "stdout",
          "text": [
            "[2023/05/02 14:16:07] ppocr DEBUG: dt_boxes num : 5, elapse : 0.381854772567749\n",
            "[2023/05/02 14:16:07] ppocr DEBUG: cls num  : 5, elapse : 0.09366774559020996\n",
            "[2023/05/02 14:16:08] ppocr DEBUG: rec_res num  : 5, elapse : 1.0031578540802002\n"
          ]
        },
        {
          "output_type": "stream",
          "name": "stderr",
          "text": [
            "\r  9%|▉         | 70/751 [01:35<09:00,  1.26it/s]"
          ]
        },
        {
          "output_type": "stream",
          "name": "stdout",
          "text": [
            "[2023/05/02 14:16:09] ppocr DEBUG: dt_boxes num : 4, elapse : 0.42521166801452637\n",
            "[2023/05/02 14:16:09] ppocr DEBUG: cls num  : 4, elapse : 0.09536075592041016\n",
            "[2023/05/02 14:16:10] ppocr DEBUG: rec_res num  : 4, elapse : 0.8235244750976562\n"
          ]
        },
        {
          "output_type": "stream",
          "name": "stderr",
          "text": [
            "\r  9%|▉         | 71/751 [01:36<10:58,  1.03it/s]"
          ]
        },
        {
          "output_type": "stream",
          "name": "stdout",
          "text": [
            "[2023/05/02 14:16:10] ppocr DEBUG: dt_boxes num : 5, elapse : 0.573951005935669\n",
            "[2023/05/02 14:16:11] ppocr DEBUG: cls num  : 5, elapse : 0.19847536087036133\n",
            "[2023/05/02 14:16:12] ppocr DEBUG: rec_res num  : 5, elapse : 1.7116286754608154\n"
          ]
        },
        {
          "output_type": "stream",
          "name": "stderr",
          "text": [
            "\r 10%|▉         | 72/751 [01:39<16:13,  1.43s/it]"
          ]
        },
        {
          "output_type": "stream",
          "name": "stdout",
          "text": [
            "[2023/05/02 14:16:13] ppocr DEBUG: dt_boxes num : 6, elapse : 0.6811943054199219\n",
            "[2023/05/02 14:16:13] ppocr DEBUG: cls num  : 6, elapse : 0.14232158660888672\n",
            "[2023/05/02 14:16:14] ppocr DEBUG: rec_res num  : 6, elapse : 0.8475966453552246\n"
          ]
        },
        {
          "output_type": "stream",
          "name": "stderr",
          "text": [
            "\r 10%|▉         | 73/751 [01:41<17:10,  1.52s/it]"
          ]
        },
        {
          "output_type": "stream",
          "name": "stdout",
          "text": [
            "[2023/05/02 14:16:14] ppocr DEBUG: dt_boxes num : 8, elapse : 0.21793246269226074\n",
            "[2023/05/02 14:16:14] ppocr DEBUG: cls num  : 8, elapse : 0.08533763885498047\n",
            "[2023/05/02 14:16:15] ppocr DEBUG: rec_res num  : 8, elapse : 0.9398720264434814\n"
          ]
        },
        {
          "output_type": "stream",
          "name": "stderr",
          "text": [
            "\r 10%|▉         | 74/751 [01:42<16:17,  1.44s/it]"
          ]
        },
        {
          "output_type": "stream",
          "name": "stdout",
          "text": [
            "[2023/05/02 14:16:15] ppocr DEBUG: dt_boxes num : 4, elapse : 0.21516799926757812\n",
            "[2023/05/02 14:16:16] ppocr DEBUG: cls num  : 4, elapse : 0.04454159736633301\n",
            "[2023/05/02 14:16:16] ppocr DEBUG: rec_res num  : 4, elapse : 0.43610095977783203\n"
          ]
        },
        {
          "output_type": "stream",
          "name": "stderr",
          "text": [
            "\r 10%|▉         | 75/751 [01:43<13:47,  1.22s/it]"
          ]
        },
        {
          "output_type": "stream",
          "name": "stdout",
          "text": [
            "[2023/05/02 14:16:16] ppocr DEBUG: dt_boxes num : 6, elapse : 0.22011375427246094\n",
            "[2023/05/02 14:16:16] ppocr DEBUG: cls num  : 6, elapse : 0.06466531753540039\n",
            "[2023/05/02 14:16:17] ppocr DEBUG: rec_res num  : 6, elapse : 0.7477481365203857\n"
          ]
        },
        {
          "output_type": "stream",
          "name": "stderr",
          "text": [
            "\r 10%|█         | 76/751 [01:44<13:11,  1.17s/it]"
          ]
        },
        {
          "output_type": "stream",
          "name": "stdout",
          "text": [
            "[2023/05/02 14:16:17] ppocr DEBUG: dt_boxes num : 4, elapse : 0.21453237533569336\n",
            "[2023/05/02 14:16:17] ppocr DEBUG: cls num  : 4, elapse : 0.04613947868347168\n",
            "[2023/05/02 14:16:18] ppocr DEBUG: rec_res num  : 4, elapse : 0.4209580421447754\n"
          ]
        },
        {
          "output_type": "stream",
          "name": "stderr",
          "text": [
            "\r 10%|█         | 77/751 [01:44<11:35,  1.03s/it]"
          ]
        },
        {
          "output_type": "stream",
          "name": "stdout",
          "text": [
            "[2023/05/02 14:16:18] ppocr DEBUG: dt_boxes num : 6, elapse : 0.21424412727355957\n",
            "[2023/05/02 14:16:18] ppocr DEBUG: cls num  : 6, elapse : 0.06287050247192383\n",
            "[2023/05/02 14:16:19] ppocr DEBUG: rec_res num  : 6, elapse : 0.6230640411376953\n"
          ]
        },
        {
          "output_type": "stream",
          "name": "stderr",
          "text": [
            "\r 10%|█         | 78/751 [01:45<11:13,  1.00s/it]"
          ]
        },
        {
          "output_type": "stream",
          "name": "stdout",
          "text": [
            "[2023/05/02 14:16:19] ppocr DEBUG: dt_boxes num : 3, elapse : 0.22190427780151367\n",
            "[2023/05/02 14:16:19] ppocr DEBUG: cls num  : 3, elapse : 0.034421443939208984\n",
            "[2023/05/02 14:16:19] ppocr DEBUG: rec_res num  : 3, elapse : 0.3126368522644043\n"
          ]
        },
        {
          "output_type": "stream",
          "name": "stderr",
          "text": [
            "\r 11%|█         | 79/751 [01:46<09:48,  1.14it/s]"
          ]
        },
        {
          "output_type": "stream",
          "name": "stdout",
          "text": [
            "[2023/05/02 14:16:19] ppocr DEBUG: dt_boxes num : 4, elapse : 0.21697068214416504\n",
            "[2023/05/02 14:16:20] ppocr DEBUG: cls num  : 4, elapse : 0.045609235763549805\n",
            "[2023/05/02 14:16:20] ppocr DEBUG: rec_res num  : 4, elapse : 0.441727876663208\n"
          ]
        },
        {
          "output_type": "stream",
          "name": "stderr",
          "text": [
            "\r 11%|█         | 80/751 [01:47<09:17,  1.20it/s]"
          ]
        },
        {
          "output_type": "stream",
          "name": "stdout",
          "text": [
            "[2023/05/02 14:16:20] ppocr DEBUG: dt_boxes num : 7, elapse : 0.22757482528686523\n",
            "[2023/05/02 14:16:20] ppocr DEBUG: cls num  : 7, elapse : 0.07458925247192383\n",
            "[2023/05/02 14:16:21] ppocr DEBUG: rec_res num  : 7, elapse : 0.7984378337860107\n"
          ]
        },
        {
          "output_type": "stream",
          "name": "stderr",
          "text": [
            "\r 11%|█         | 81/751 [01:48<10:15,  1.09it/s]"
          ]
        },
        {
          "output_type": "stream",
          "name": "stdout",
          "text": [
            "[2023/05/02 14:16:21] ppocr DEBUG: dt_boxes num : 5, elapse : 0.21680259704589844\n",
            "[2023/05/02 14:16:21] ppocr DEBUG: cls num  : 5, elapse : 0.05450940132141113\n",
            "[2023/05/02 14:16:22] ppocr DEBUG: rec_res num  : 5, elapse : 0.5242006778717041\n"
          ]
        },
        {
          "output_type": "stream",
          "name": "stderr",
          "text": [
            "\r 11%|█         | 82/751 [01:48<09:55,  1.12it/s]"
          ]
        },
        {
          "output_type": "stream",
          "name": "stdout",
          "text": [
            "[2023/05/02 14:16:22] ppocr DEBUG: dt_boxes num : 4, elapse : 0.2250194549560547\n",
            "[2023/05/02 14:16:22] ppocr DEBUG: cls num  : 4, elapse : 0.04496121406555176\n",
            "[2023/05/02 14:16:23] ppocr DEBUG: rec_res num  : 4, elapse : 0.41631269454956055\n"
          ]
        },
        {
          "output_type": "stream",
          "name": "stderr",
          "text": [
            "\r 11%|█         | 83/751 [01:49<09:16,  1.20it/s]"
          ]
        },
        {
          "output_type": "stream",
          "name": "stdout",
          "text": [
            "[2023/05/02 14:16:23] ppocr DEBUG: dt_boxes num : 7, elapse : 0.22243571281433105\n",
            "[2023/05/02 14:16:23] ppocr DEBUG: cls num  : 7, elapse : 0.08053016662597656\n",
            "[2023/05/02 14:16:24] ppocr DEBUG: rec_res num  : 7, elapse : 1.140249252319336\n"
          ]
        },
        {
          "output_type": "stream",
          "name": "stderr",
          "text": [
            "\r 11%|█         | 84/751 [01:51<11:22,  1.02s/it]"
          ]
        },
        {
          "output_type": "stream",
          "name": "stdout",
          "text": [
            "[2023/05/02 14:16:24] ppocr DEBUG: dt_boxes num : 15, elapse : 0.3307783603668213\n",
            "[2023/05/02 14:16:25] ppocr DEBUG: cls num  : 15, elapse : 0.26794958114624023\n",
            "[2023/05/02 14:16:27] ppocr DEBUG: rec_res num  : 15, elapse : 2.758820056915283\n"
          ]
        },
        {
          "output_type": "stream",
          "name": "stderr",
          "text": [
            "\r 11%|█▏        | 85/751 [01:54<19:12,  1.73s/it]"
          ]
        },
        {
          "output_type": "stream",
          "name": "stdout",
          "text": [
            "[2023/05/02 14:16:28] ppocr DEBUG: dt_boxes num : 3, elapse : 0.31098341941833496\n",
            "[2023/05/02 14:16:28] ppocr DEBUG: cls num  : 3, elapse : 0.061568260192871094\n",
            "[2023/05/02 14:16:28] ppocr DEBUG: rec_res num  : 3, elapse : 0.49109458923339844\n"
          ]
        },
        {
          "output_type": "stream",
          "name": "stderr",
          "text": [
            "\r 11%|█▏        | 86/751 [01:55<16:23,  1.48s/it]"
          ]
        },
        {
          "output_type": "stream",
          "name": "stdout",
          "text": [
            "[2023/05/02 14:16:29] ppocr DEBUG: dt_boxes num : 12, elapse : 0.30667614936828613\n",
            "[2023/05/02 14:16:29] ppocr DEBUG: cls num  : 12, elapse : 0.1889512538909912\n",
            "[2023/05/02 14:16:31] ppocr DEBUG: rec_res num  : 12, elapse : 2.0005409717559814\n"
          ]
        },
        {
          "output_type": "stream",
          "name": "stderr",
          "text": [
            "\r 12%|█▏        | 87/751 [01:57<19:50,  1.79s/it]"
          ]
        },
        {
          "output_type": "stream",
          "name": "stdout",
          "text": [
            "[2023/05/02 14:16:31] ppocr DEBUG: dt_boxes num : 4, elapse : 0.31192755699157715\n",
            "[2023/05/02 14:16:31] ppocr DEBUG: cls num  : 4, elapse : 0.06333446502685547\n",
            "[2023/05/02 14:16:32] ppocr DEBUG: rec_res num  : 4, elapse : 0.565115213394165\n"
          ]
        },
        {
          "output_type": "stream",
          "name": "stderr",
          "text": [
            "\r 12%|█▏        | 88/751 [01:58<17:03,  1.54s/it]"
          ]
        },
        {
          "output_type": "stream",
          "name": "stdout",
          "text": [
            "[2023/05/02 14:16:32] ppocr DEBUG: dt_boxes num : 5, elapse : 0.2196638584136963\n",
            "[2023/05/02 14:16:32] ppocr DEBUG: cls num  : 5, elapse : 0.06241464614868164\n",
            "[2023/05/02 14:16:33] ppocr DEBUG: rec_res num  : 5, elapse : 0.5853652954101562\n"
          ]
        },
        {
          "output_type": "stream",
          "name": "stderr",
          "text": [
            "\r 12%|█▏        | 89/751 [01:59<14:52,  1.35s/it]"
          ]
        },
        {
          "output_type": "stream",
          "name": "stdout",
          "text": [
            "[2023/05/02 14:16:33] ppocr DEBUG: dt_boxes num : 7, elapse : 0.2176976203918457\n",
            "[2023/05/02 14:16:33] ppocr DEBUG: cls num  : 7, elapse : 0.0760490894317627\n",
            "[2023/05/02 14:16:34] ppocr DEBUG: rec_res num  : 7, elapse : 0.728083610534668\n"
          ]
        },
        {
          "output_type": "stream",
          "name": "stderr",
          "text": [
            "\r 12%|█▏        | 90/751 [02:00<13:50,  1.26s/it]"
          ]
        },
        {
          "output_type": "stream",
          "name": "stdout",
          "text": [
            "[2023/05/02 14:16:34] ppocr DEBUG: dt_boxes num : 7, elapse : 0.22383499145507812\n",
            "[2023/05/02 14:16:34] ppocr DEBUG: cls num  : 7, elapse : 0.08053874969482422\n",
            "[2023/05/02 14:16:35] ppocr DEBUG: rec_res num  : 7, elapse : 0.7427821159362793\n"
          ]
        },
        {
          "output_type": "stream",
          "name": "stderr",
          "text": [
            "\r 12%|█▏        | 91/751 [02:01<13:12,  1.20s/it]"
          ]
        },
        {
          "output_type": "stream",
          "name": "stdout",
          "text": [
            "[2023/05/02 14:16:35] ppocr DEBUG: dt_boxes num : 3, elapse : 0.22429943084716797\n",
            "[2023/05/02 14:16:35] ppocr DEBUG: cls num  : 3, elapse : 0.03629016876220703\n",
            "[2023/05/02 14:16:35] ppocr DEBUG: rec_res num  : 3, elapse : 0.31687498092651367\n"
          ]
        },
        {
          "output_type": "stream",
          "name": "stderr",
          "text": [
            "\r 12%|█▏        | 92/751 [02:02<11:11,  1.02s/it]"
          ]
        },
        {
          "output_type": "stream",
          "name": "stdout",
          "text": [
            "[2023/05/02 14:16:36] ppocr DEBUG: dt_boxes num : 4, elapse : 0.219315767288208\n",
            "[2023/05/02 14:16:36] ppocr DEBUG: cls num  : 4, elapse : 0.04389381408691406\n",
            "[2023/05/02 14:16:36] ppocr DEBUG: rec_res num  : 4, elapse : 0.41542625427246094\n"
          ]
        },
        {
          "output_type": "stream",
          "name": "stderr",
          "text": [
            "\r 12%|█▏        | 93/751 [02:03<10:07,  1.08it/s]"
          ]
        },
        {
          "output_type": "stream",
          "name": "stdout",
          "text": [
            "[2023/05/02 14:16:36] ppocr DEBUG: dt_boxes num : 8, elapse : 0.22755932807922363\n",
            "[2023/05/02 14:16:36] ppocr DEBUG: cls num  : 8, elapse : 0.0872797966003418\n",
            "[2023/05/02 14:16:37] ppocr DEBUG: rec_res num  : 8, elapse : 0.8239665031433105\n"
          ]
        },
        {
          "output_type": "stream",
          "name": "stderr",
          "text": [
            "\r 13%|█▎        | 94/751 [02:04<10:53,  1.01it/s]"
          ]
        },
        {
          "output_type": "stream",
          "name": "stdout",
          "text": [
            "[2023/05/02 14:16:38] ppocr DEBUG: dt_boxes num : 7, elapse : 0.22708415985107422\n",
            "[2023/05/02 14:16:38] ppocr DEBUG: cls num  : 7, elapse : 0.0753939151763916\n",
            "[2023/05/02 14:16:38] ppocr DEBUG: rec_res num  : 7, elapse : 0.7232229709625244\n"
          ]
        },
        {
          "output_type": "stream",
          "name": "stderr",
          "text": [
            "\r 13%|█▎        | 95/751 [02:05<11:02,  1.01s/it]"
          ]
        },
        {
          "output_type": "stream",
          "name": "stdout",
          "text": [
            "[2023/05/02 14:16:39] ppocr DEBUG: dt_boxes num : 4, elapse : 0.22795343399047852\n",
            "[2023/05/02 14:16:39] ppocr DEBUG: cls num  : 4, elapse : 0.04641437530517578\n",
            "[2023/05/02 14:16:39] ppocr DEBUG: rec_res num  : 4, elapse : 0.41458559036254883\n"
          ]
        },
        {
          "output_type": "stream",
          "name": "stderr",
          "text": [
            "\r 13%|█▎        | 96/751 [02:06<10:03,  1.09it/s]"
          ]
        },
        {
          "output_type": "stream",
          "name": "stdout",
          "text": [
            "[2023/05/02 14:16:39] ppocr DEBUG: dt_boxes num : 3, elapse : 0.21366190910339355\n",
            "[2023/05/02 14:16:39] ppocr DEBUG: cls num  : 3, elapse : 0.030916690826416016\n",
            "[2023/05/02 14:16:40] ppocr DEBUG: rec_res num  : 3, elapse : 0.3244173526763916\n"
          ]
        },
        {
          "output_type": "stream",
          "name": "stderr",
          "text": [
            "\r 13%|█▎        | 97/751 [02:06<08:57,  1.22it/s]"
          ]
        },
        {
          "output_type": "stream",
          "name": "stdout",
          "text": [
            "[2023/05/02 14:16:40] ppocr DEBUG: dt_boxes num : 3, elapse : 0.21474432945251465\n",
            "[2023/05/02 14:16:40] ppocr DEBUG: cls num  : 3, elapse : 0.0353238582611084\n",
            "[2023/05/02 14:16:40] ppocr DEBUG: rec_res num  : 3, elapse : 0.31221628189086914\n"
          ]
        },
        {
          "output_type": "stream",
          "name": "stderr",
          "text": [
            "\r 13%|█▎        | 98/751 [02:07<08:10,  1.33it/s]"
          ]
        },
        {
          "output_type": "stream",
          "name": "stdout",
          "text": [
            "[2023/05/02 14:16:40] ppocr DEBUG: dt_boxes num : 2, elapse : 0.22489118576049805\n",
            "[2023/05/02 14:16:40] ppocr DEBUG: cls num  : 2, elapse : 0.02303910255432129\n",
            "[2023/05/02 14:16:41] ppocr DEBUG: rec_res num  : 2, elapse : 0.20783329010009766\n"
          ]
        },
        {
          "output_type": "stream",
          "name": "stderr",
          "text": [
            "\r 13%|█▎        | 99/751 [02:07<07:15,  1.50it/s]"
          ]
        },
        {
          "output_type": "stream",
          "name": "stdout",
          "text": [
            "[2023/05/02 14:16:41] ppocr DEBUG: dt_boxes num : 2, elapse : 0.21404814720153809\n",
            "[2023/05/02 14:16:41] ppocr DEBUG: cls num  : 2, elapse : 0.024272918701171875\n",
            "[2023/05/02 14:16:41] ppocr DEBUG: rec_res num  : 2, elapse : 0.20777225494384766\n"
          ]
        },
        {
          "output_type": "stream",
          "name": "stderr",
          "text": [
            "\r 13%|█▎        | 100/751 [02:08<06:35,  1.65it/s]"
          ]
        },
        {
          "output_type": "stream",
          "name": "stdout",
          "text": [
            "[2023/05/02 14:16:41] ppocr DEBUG: dt_boxes num : 6, elapse : 0.21754097938537598\n",
            "[2023/05/02 14:16:41] ppocr DEBUG: cls num  : 6, elapse : 0.07848334312438965\n",
            "[2023/05/02 14:16:43] ppocr DEBUG: rec_res num  : 6, elapse : 1.2683837413787842\n"
          ]
        },
        {
          "output_type": "stream",
          "name": "stderr",
          "text": [
            "\r 13%|█▎        | 101/751 [02:09<09:45,  1.11it/s]"
          ]
        },
        {
          "output_type": "stream",
          "name": "stdout",
          "text": [
            "[2023/05/02 14:16:43] ppocr DEBUG: dt_boxes num : 6, elapse : 0.32613039016723633\n",
            "[2023/05/02 14:16:43] ppocr DEBUG: cls num  : 6, elapse : 0.11272120475769043\n",
            "[2023/05/02 14:16:45] ppocr DEBUG: rec_res num  : 6, elapse : 1.4890718460083008\n"
          ]
        },
        {
          "output_type": "stream",
          "name": "stderr",
          "text": [
            "\r 14%|█▎        | 102/751 [02:11<13:09,  1.22s/it]"
          ]
        },
        {
          "output_type": "stream",
          "name": "stdout",
          "text": [
            "[2023/05/02 14:16:45] ppocr DEBUG: dt_boxes num : 7, elapse : 0.3354337215423584\n",
            "[2023/05/02 14:16:45] ppocr DEBUG: cls num  : 7, elapse : 0.128373384475708\n",
            "[2023/05/02 14:16:47] ppocr DEBUG: rec_res num  : 7, elapse : 1.499119520187378\n"
          ]
        },
        {
          "output_type": "stream",
          "name": "stderr",
          "text": [
            "\r 14%|█▎        | 103/751 [02:13<15:39,  1.45s/it]"
          ]
        },
        {
          "output_type": "stream",
          "name": "stdout",
          "text": [
            "[2023/05/02 14:16:47] ppocr DEBUG: dt_boxes num : 6, elapse : 0.3119196891784668\n",
            "[2023/05/02 14:16:47] ppocr DEBUG: cls num  : 6, elapse : 0.09516119956970215\n",
            "[2023/05/02 14:16:48] ppocr DEBUG: rec_res num  : 6, elapse : 0.9280531406402588\n"
          ]
        },
        {
          "output_type": "stream",
          "name": "stderr",
          "text": [
            "\r 14%|█▍        | 104/751 [02:15<15:22,  1.43s/it]"
          ]
        },
        {
          "output_type": "stream",
          "name": "stdout",
          "text": [
            "[2023/05/02 14:16:48] ppocr DEBUG: dt_boxes num : 12, elapse : 0.31403660774230957\n",
            "[2023/05/02 14:16:49] ppocr DEBUG: cls num  : 12, elapse : 0.19111013412475586\n",
            "[2023/05/02 14:16:50] ppocr DEBUG: rec_res num  : 12, elapse : 1.7939963340759277\n"
          ]
        },
        {
          "output_type": "stream",
          "name": "stderr",
          "text": [
            "\r 14%|█▍        | 105/751 [02:17<18:14,  1.69s/it]"
          ]
        },
        {
          "output_type": "stream",
          "name": "stdout",
          "text": [
            "[2023/05/02 14:16:51] ppocr DEBUG: dt_boxes num : 8, elapse : 0.21724176406860352\n",
            "[2023/05/02 14:16:51] ppocr DEBUG: cls num  : 8, elapse : 0.08639311790466309\n",
            "[2023/05/02 14:16:52] ppocr DEBUG: rec_res num  : 8, elapse : 0.8450131416320801\n"
          ]
        },
        {
          "output_type": "stream",
          "name": "stderr",
          "text": [
            "\r 14%|█▍        | 106/751 [02:18<16:30,  1.54s/it]"
          ]
        },
        {
          "output_type": "stream",
          "name": "stdout",
          "text": [
            "[2023/05/02 14:16:52] ppocr DEBUG: dt_boxes num : 5, elapse : 0.2270050048828125\n",
            "[2023/05/02 14:16:52] ppocr DEBUG: cls num  : 5, elapse : 0.057196617126464844\n",
            "[2023/05/02 14:16:52] ppocr DEBUG: rec_res num  : 5, elapse : 0.567216157913208\n"
          ]
        },
        {
          "output_type": "stream",
          "name": "stderr",
          "text": [
            "\r 14%|█▍        | 107/751 [02:19<14:20,  1.34s/it]"
          ]
        },
        {
          "output_type": "stream",
          "name": "stdout",
          "text": [
            "[2023/05/02 14:16:53] ppocr DEBUG: dt_boxes num : 7, elapse : 0.2182910442352295\n",
            "[2023/05/02 14:16:53] ppocr DEBUG: cls num  : 7, elapse : 0.08126640319824219\n",
            "[2023/05/02 14:16:53] ppocr DEBUG: rec_res num  : 7, elapse : 0.7336957454681396\n"
          ]
        },
        {
          "output_type": "stream",
          "name": "stderr",
          "text": [
            "\r 14%|█▍        | 108/751 [02:20<13:24,  1.25s/it]"
          ]
        },
        {
          "output_type": "stream",
          "name": "stdout",
          "text": [
            "[2023/05/02 14:16:54] ppocr DEBUG: dt_boxes num : 5, elapse : 0.22432160377502441\n",
            "[2023/05/02 14:16:54] ppocr DEBUG: cls num  : 5, elapse : 0.05968809127807617\n",
            "[2023/05/02 14:16:54] ppocr DEBUG: rec_res num  : 5, elapse : 0.5321714878082275\n"
          ]
        },
        {
          "output_type": "stream",
          "name": "stderr",
          "text": [
            "\r 15%|█▍        | 109/751 [02:21<12:03,  1.13s/it]"
          ]
        },
        {
          "output_type": "stream",
          "name": "stdout",
          "text": [
            "[2023/05/02 14:16:55] ppocr DEBUG: dt_boxes num : 4, elapse : 0.22063970565795898\n",
            "[2023/05/02 14:16:55] ppocr DEBUG: cls num  : 4, elapse : 0.044651031494140625\n",
            "[2023/05/02 14:16:55] ppocr DEBUG: rec_res num  : 4, elapse : 0.42554283142089844\n"
          ]
        },
        {
          "output_type": "stream",
          "name": "stderr",
          "text": [
            "\r 15%|█▍        | 110/751 [02:22<10:42,  1.00s/it]"
          ]
        },
        {
          "output_type": "stream",
          "name": "stdout",
          "text": [
            "[2023/05/02 14:16:55] ppocr DEBUG: dt_boxes num : 3, elapse : 0.21406912803649902\n",
            "[2023/05/02 14:16:55] ppocr DEBUG: cls num  : 3, elapse : 0.0354464054107666\n",
            "[2023/05/02 14:16:56] ppocr DEBUG: rec_res num  : 3, elapse : 0.3085978031158447\n"
          ]
        },
        {
          "output_type": "stream",
          "name": "stderr",
          "text": [
            "\r 15%|█▍        | 111/751 [02:22<09:19,  1.14it/s]"
          ]
        },
        {
          "output_type": "stream",
          "name": "stdout",
          "text": [
            "[2023/05/02 14:16:56] ppocr DEBUG: dt_boxes num : 9, elapse : 0.22125458717346191\n",
            "[2023/05/02 14:16:56] ppocr DEBUG: cls num  : 9, elapse : 0.10070109367370605\n",
            "[2023/05/02 14:16:57] ppocr DEBUG: rec_res num  : 9, elapse : 1.1341700553894043\n"
          ]
        },
        {
          "output_type": "stream",
          "name": "stderr",
          "text": [
            "\r 15%|█▍        | 112/751 [02:24<11:13,  1.05s/it]"
          ]
        },
        {
          "output_type": "stream",
          "name": "stdout",
          "text": [
            "[2023/05/02 14:16:57] ppocr DEBUG: dt_boxes num : 9, elapse : 0.21845555305480957\n",
            "[2023/05/02 14:16:57] ppocr DEBUG: cls num  : 9, elapse : 0.09630298614501953\n",
            "[2023/05/02 14:16:58] ppocr DEBUG: rec_res num  : 9, elapse : 1.0278689861297607\n"
          ]
        },
        {
          "output_type": "stream",
          "name": "stderr",
          "text": [
            "\r 15%|█▌        | 113/751 [02:25<12:10,  1.15s/it]"
          ]
        },
        {
          "output_type": "stream",
          "name": "stdout",
          "text": [
            "[2023/05/02 14:16:59] ppocr DEBUG: dt_boxes num : 8, elapse : 0.22215747833251953\n",
            "[2023/05/02 14:16:59] ppocr DEBUG: cls num  : 8, elapse : 0.08380270004272461\n",
            "[2023/05/02 14:17:00] ppocr DEBUG: rec_res num  : 8, elapse : 0.8455483913421631\n"
          ]
        },
        {
          "output_type": "stream",
          "name": "stderr",
          "text": [
            "\r 15%|█▌        | 114/751 [02:26<12:15,  1.15s/it]"
          ]
        },
        {
          "output_type": "stream",
          "name": "stdout",
          "text": [
            "[2023/05/02 14:17:00] ppocr DEBUG: dt_boxes num : 7, elapse : 0.21973490715026855\n",
            "[2023/05/02 14:17:00] ppocr DEBUG: cls num  : 7, elapse : 0.0716707706451416\n",
            "[2023/05/02 14:17:01] ppocr DEBUG: rec_res num  : 7, elapse : 0.9287102222442627\n"
          ]
        },
        {
          "output_type": "stream",
          "name": "stderr",
          "text": [
            "\r 15%|█▌        | 115/751 [02:27<12:32,  1.18s/it]"
          ]
        },
        {
          "output_type": "stream",
          "name": "stdout",
          "text": [
            "[2023/05/02 14:17:01] ppocr DEBUG: dt_boxes num : 6, elapse : 0.34703636169433594\n",
            "[2023/05/02 14:17:01] ppocr DEBUG: cls num  : 6, elapse : 0.11640357971191406\n",
            "[2023/05/02 14:17:02] ppocr DEBUG: rec_res num  : 6, elapse : 1.0939266681671143\n"
          ]
        },
        {
          "output_type": "stream",
          "name": "stderr",
          "text": [
            "\r 15%|█▌        | 116/751 [02:29<13:46,  1.30s/it]"
          ]
        },
        {
          "output_type": "stream",
          "name": "stdout",
          "text": [
            "[2023/05/02 14:17:03] ppocr DEBUG: dt_boxes num : 3, elapse : 0.3387734889984131\n",
            "[2023/05/02 14:17:03] ppocr DEBUG: cls num  : 3, elapse : 0.06094503402709961\n",
            "[2023/05/02 14:17:03] ppocr DEBUG: rec_res num  : 3, elapse : 0.5610885620117188\n"
          ]
        },
        {
          "output_type": "stream",
          "name": "stderr",
          "text": [
            "\r 16%|█▌        | 117/751 [02:30<12:44,  1.21s/it]"
          ]
        },
        {
          "output_type": "stream",
          "name": "stdout",
          "text": [
            "[2023/05/02 14:17:04] ppocr DEBUG: dt_boxes num : 8, elapse : 0.3438150882720947\n",
            "[2023/05/02 14:17:04] ppocr DEBUG: cls num  : 8, elapse : 0.15350699424743652\n",
            "[2023/05/02 14:17:05] ppocr DEBUG: rec_res num  : 8, elapse : 1.4088420867919922\n"
          ]
        },
        {
          "output_type": "stream",
          "name": "stderr",
          "text": [
            "\r 16%|█▌        | 118/751 [02:32<15:02,  1.43s/it]"
          ]
        },
        {
          "output_type": "stream",
          "name": "stdout",
          "text": [
            "[2023/05/02 14:17:06] ppocr DEBUG: dt_boxes num : 7, elapse : 0.321002721786499\n",
            "[2023/05/02 14:17:06] ppocr DEBUG: cls num  : 7, elapse : 0.1136786937713623\n",
            "[2023/05/02 14:17:07] ppocr DEBUG: rec_res num  : 7, elapse : 1.0861177444458008\n"
          ]
        },
        {
          "output_type": "stream",
          "name": "stderr",
          "text": [
            "\r 16%|█▌        | 119/751 [02:33<15:23,  1.46s/it]"
          ]
        },
        {
          "output_type": "stream",
          "name": "stdout",
          "text": [
            "[2023/05/02 14:17:07] ppocr DEBUG: dt_boxes num : 3, elapse : 0.3045165538787842\n",
            "[2023/05/02 14:17:07] ppocr DEBUG: cls num  : 3, elapse : 0.05260920524597168\n",
            "[2023/05/02 14:17:08] ppocr DEBUG: rec_res num  : 3, elapse : 0.47289204597473145\n"
          ]
        },
        {
          "output_type": "stream",
          "name": "stderr",
          "text": [
            "\r 16%|█▌        | 120/751 [02:34<13:27,  1.28s/it]"
          ]
        },
        {
          "output_type": "stream",
          "name": "stdout",
          "text": [
            "[2023/05/02 14:17:08] ppocr DEBUG: dt_boxes num : 3, elapse : 0.30750513076782227\n",
            "[2023/05/02 14:17:08] ppocr DEBUG: cls num  : 3, elapse : 0.05358171463012695\n",
            "[2023/05/02 14:17:09] ppocr DEBUG: rec_res num  : 3, elapse : 0.4698610305786133\n"
          ]
        },
        {
          "output_type": "stream",
          "name": "stderr",
          "text": [
            "\r 16%|█▌        | 121/751 [02:35<12:06,  1.15s/it]"
          ]
        },
        {
          "output_type": "stream",
          "name": "stdout",
          "text": [
            "[2023/05/02 14:17:09] ppocr DEBUG: dt_boxes num : 4, elapse : 0.2764415740966797\n",
            "[2023/05/02 14:17:09] ppocr DEBUG: cls num  : 4, elapse : 0.04926562309265137\n",
            "[2023/05/02 14:17:09] ppocr DEBUG: rec_res num  : 4, elapse : 0.40756773948669434\n"
          ]
        },
        {
          "output_type": "stream",
          "name": "stderr",
          "text": [
            "\r 16%|█▌        | 122/751 [02:36<10:50,  1.03s/it]"
          ]
        },
        {
          "output_type": "stream",
          "name": "stdout",
          "text": [
            "[2023/05/02 14:17:10] ppocr DEBUG: dt_boxes num : 10, elapse : 0.22911310195922852\n",
            "[2023/05/02 14:17:10] ppocr DEBUG: cls num  : 10, elapse : 0.11112594604492188\n",
            "[2023/05/02 14:17:11] ppocr DEBUG: rec_res num  : 10, elapse : 1.0410182476043701\n"
          ]
        },
        {
          "output_type": "stream",
          "name": "stderr",
          "text": [
            "\r 16%|█▋        | 123/751 [02:37<11:58,  1.14s/it]"
          ]
        },
        {
          "output_type": "stream",
          "name": "stdout",
          "text": [
            "[2023/05/02 14:17:11] ppocr DEBUG: dt_boxes num : 11, elapse : 0.21757984161376953\n",
            "[2023/05/02 14:17:11] ppocr DEBUG: cls num  : 11, elapse : 0.11342382431030273\n",
            "[2023/05/02 14:17:12] ppocr DEBUG: rec_res num  : 11, elapse : 1.1625676155090332\n"
          ]
        },
        {
          "output_type": "stream",
          "name": "stderr",
          "text": [
            "\r 17%|█▋        | 124/751 [02:39<13:08,  1.26s/it]"
          ]
        },
        {
          "output_type": "stream",
          "name": "stdout",
          "text": [
            "[2023/05/02 14:17:13] ppocr DEBUG: dt_boxes num : 19, elapse : 0.22395110130310059\n",
            "[2023/05/02 14:17:13] ppocr DEBUG: cls num  : 19, elapse : 0.2125415802001953\n",
            "[2023/05/02 14:17:15] ppocr DEBUG: rec_res num  : 19, elapse : 2.4149742126464844\n"
          ]
        },
        {
          "output_type": "stream",
          "name": "stderr",
          "text": [
            "\r 17%|█▋        | 125/751 [02:42<18:10,  1.74s/it]"
          ]
        },
        {
          "output_type": "stream",
          "name": "stdout",
          "text": [
            "[2023/05/02 14:17:15] ppocr DEBUG: dt_boxes num : 19, elapse : 0.2231922149658203\n",
            "[2023/05/02 14:17:16] ppocr DEBUG: cls num  : 19, elapse : 0.19572186470031738\n",
            "[2023/05/02 14:17:18] ppocr DEBUG: rec_res num  : 19, elapse : 2.4415414333343506\n"
          ]
        },
        {
          "output_type": "stream",
          "name": "stderr",
          "text": [
            "\r 17%|█▋        | 126/751 [02:45<21:43,  2.08s/it]"
          ]
        },
        {
          "output_type": "stream",
          "name": "stdout",
          "text": [
            "[2023/05/02 14:17:18] ppocr DEBUG: dt_boxes num : 6, elapse : 0.21646595001220703\n",
            "[2023/05/02 14:17:18] ppocr DEBUG: cls num  : 6, elapse : 0.07155537605285645\n",
            "[2023/05/02 14:17:19] ppocr DEBUG: rec_res num  : 6, elapse : 0.7086195945739746\n"
          ]
        },
        {
          "output_type": "stream",
          "name": "stderr",
          "text": [
            "\r 17%|█▋        | 127/751 [02:46<18:21,  1.77s/it]"
          ]
        },
        {
          "output_type": "stream",
          "name": "stdout",
          "text": [
            "[2023/05/02 14:17:19] ppocr DEBUG: dt_boxes num : 3, elapse : 0.3197774887084961\n",
            "[2023/05/02 14:17:19] ppocr DEBUG: cls num  : 3, elapse : 0.05634641647338867\n",
            "[2023/05/02 14:17:20] ppocr DEBUG: rec_res num  : 3, elapse : 0.5544242858886719\n"
          ]
        },
        {
          "output_type": "stream",
          "name": "stderr",
          "text": [
            "\r 17%|█▋        | 128/751 [02:47<15:47,  1.52s/it]"
          ]
        },
        {
          "output_type": "stream",
          "name": "stdout",
          "text": [
            "[2023/05/02 14:17:20] ppocr DEBUG: dt_boxes num : 5, elapse : 0.32344794273376465\n",
            "[2023/05/02 14:17:20] ppocr DEBUG: cls num  : 5, elapse : 0.0928950309753418\n",
            "[2023/05/02 14:17:21] ppocr DEBUG: rec_res num  : 5, elapse : 0.9060308933258057\n"
          ]
        },
        {
          "output_type": "stream",
          "name": "stderr",
          "text": [
            "\r 17%|█▋        | 129/751 [02:48<15:13,  1.47s/it]"
          ]
        },
        {
          "output_type": "stream",
          "name": "stdout",
          "text": [
            "[2023/05/02 14:17:22] ppocr DEBUG: dt_boxes num : 4, elapse : 0.33725619316101074\n",
            "[2023/05/02 14:17:22] ppocr DEBUG: cls num  : 4, elapse : 0.0749216079711914\n",
            "[2023/05/02 14:17:23] ppocr DEBUG: rec_res num  : 4, elapse : 0.7565603256225586\n"
          ]
        },
        {
          "output_type": "stream",
          "name": "stderr",
          "text": [
            "\r 17%|█▋        | 130/751 [02:49<14:20,  1.39s/it]"
          ]
        },
        {
          "output_type": "stream",
          "name": "stdout",
          "text": [
            "[2023/05/02 14:17:23] ppocr DEBUG: dt_boxes num : 6, elapse : 0.331942081451416\n",
            "[2023/05/02 14:17:23] ppocr DEBUG: cls num  : 6, elapse : 0.11124014854431152\n",
            "[2023/05/02 14:17:24] ppocr DEBUG: rec_res num  : 6, elapse : 0.999561071395874\n"
          ]
        },
        {
          "output_type": "stream",
          "name": "stderr",
          "text": [
            "\r 17%|█▋        | 131/751 [02:51<14:33,  1.41s/it]"
          ]
        },
        {
          "output_type": "stream",
          "name": "stdout",
          "text": [
            "[2023/05/02 14:17:24] ppocr DEBUG: dt_boxes num : 5, elapse : 0.3102877140045166\n",
            "[2023/05/02 14:17:24] ppocr DEBUG: cls num  : 5, elapse : 0.07985043525695801\n",
            "[2023/05/02 14:17:25] ppocr DEBUG: rec_res num  : 5, elapse : 0.7717866897583008\n"
          ]
        },
        {
          "output_type": "stream",
          "name": "stderr",
          "text": [
            "\r 18%|█▊        | 132/751 [02:52<13:50,  1.34s/it]"
          ]
        },
        {
          "output_type": "stream",
          "name": "stdout",
          "text": [
            "[2023/05/02 14:17:26] ppocr DEBUG: dt_boxes num : 5, elapse : 0.30947136878967285\n",
            "[2023/05/02 14:17:26] ppocr DEBUG: cls num  : 5, elapse : 0.0812826156616211\n",
            "[2023/05/02 14:17:26] ppocr DEBUG: rec_res num  : 5, elapse : 0.7664813995361328\n"
          ]
        },
        {
          "output_type": "stream",
          "name": "stderr",
          "text": [
            "\r 18%|█▊        | 133/751 [02:53<13:18,  1.29s/it]"
          ]
        },
        {
          "output_type": "stream",
          "name": "stdout",
          "text": [
            "[2023/05/02 14:17:27] ppocr DEBUG: dt_boxes num : 6, elapse : 0.30921125411987305\n",
            "[2023/05/02 14:17:27] ppocr DEBUG: cls num  : 6, elapse : 0.09859037399291992\n",
            "[2023/05/02 14:17:28] ppocr DEBUG: rec_res num  : 6, elapse : 0.8187179565429688\n"
          ]
        },
        {
          "output_type": "stream",
          "name": "stderr",
          "text": [
            "\r 18%|█▊        | 134/751 [02:54<13:10,  1.28s/it]"
          ]
        },
        {
          "output_type": "stream",
          "name": "stdout",
          "text": [
            "[2023/05/02 14:17:28] ppocr DEBUG: dt_boxes num : 3, elapse : 0.22634220123291016\n",
            "[2023/05/02 14:17:28] ppocr DEBUG: cls num  : 3, elapse : 0.03880786895751953\n",
            "[2023/05/02 14:17:28] ppocr DEBUG: rec_res num  : 3, elapse : 0.31316542625427246\n"
          ]
        },
        {
          "output_type": "stream",
          "name": "stderr",
          "text": [
            "\r 18%|█▊        | 135/751 [02:55<11:02,  1.08s/it]"
          ]
        },
        {
          "output_type": "stream",
          "name": "stdout",
          "text": [
            "[2023/05/02 14:17:28] ppocr DEBUG: dt_boxes num : 1, elapse : 0.2238621711730957\n",
            "[2023/05/02 14:17:29] ppocr DEBUG: cls num  : 1, elapse : 0.013902425765991211\n",
            "[2023/05/02 14:17:29] ppocr DEBUG: rec_res num  : 1, elapse : 0.11209988594055176\n"
          ]
        },
        {
          "output_type": "stream",
          "name": "stderr",
          "text": [
            "\r 18%|█▊        | 136/751 [02:55<08:51,  1.16it/s]"
          ]
        },
        {
          "output_type": "stream",
          "name": "stdout",
          "text": [
            "[2023/05/02 14:17:29] ppocr DEBUG: dt_boxes num : 1, elapse : 0.21866893768310547\n",
            "[2023/05/02 14:17:29] ppocr DEBUG: cls num  : 1, elapse : 0.014972448348999023\n",
            "[2023/05/02 14:17:29] ppocr DEBUG: rec_res num  : 1, elapse : 0.10540890693664551\n"
          ]
        },
        {
          "output_type": "stream",
          "name": "stderr",
          "text": [
            "\r 18%|█▊        | 137/751 [02:56<07:16,  1.41it/s]"
          ]
        },
        {
          "output_type": "stream",
          "name": "stdout",
          "text": [
            "[2023/05/02 14:17:29] ppocr DEBUG: dt_boxes num : 1, elapse : 0.21821236610412598\n",
            "[2023/05/02 14:17:29] ppocr DEBUG: cls num  : 1, elapse : 0.012100696563720703\n",
            "[2023/05/02 14:17:29] ppocr DEBUG: rec_res num  : 1, elapse : 0.11258292198181152\n"
          ]
        },
        {
          "output_type": "stream",
          "name": "stderr",
          "text": [
            "\r 18%|█▊        | 138/751 [02:56<06:11,  1.65it/s]"
          ]
        },
        {
          "output_type": "stream",
          "name": "stdout",
          "text": [
            "[2023/05/02 14:17:30] ppocr DEBUG: dt_boxes num : 1, elapse : 0.21785426139831543\n",
            "[2023/05/02 14:17:30] ppocr DEBUG: cls num  : 1, elapse : 0.014988422393798828\n",
            "[2023/05/02 14:17:30] ppocr DEBUG: rec_res num  : 1, elapse : 0.10856461524963379\n"
          ]
        },
        {
          "output_type": "stream",
          "name": "stderr",
          "text": [
            "\r 19%|█▊        | 139/751 [02:56<05:25,  1.88it/s]"
          ]
        },
        {
          "output_type": "stream",
          "name": "stdout",
          "text": [
            "[2023/05/02 14:17:30] ppocr DEBUG: dt_boxes num : 2, elapse : 0.2187204360961914\n",
            "[2023/05/02 14:17:30] ppocr DEBUG: cls num  : 2, elapse : 0.025330305099487305\n",
            "[2023/05/02 14:17:30] ppocr DEBUG: rec_res num  : 2, elapse : 0.21511316299438477\n"
          ]
        },
        {
          "output_type": "stream",
          "name": "stderr",
          "text": [
            "\r 19%|█▊        | 140/751 [02:57<05:14,  1.94it/s]"
          ]
        },
        {
          "output_type": "stream",
          "name": "stdout",
          "text": [
            "[2023/05/02 14:17:30] ppocr DEBUG: dt_boxes num : 3, elapse : 0.22506260871887207\n",
            "[2023/05/02 14:17:30] ppocr DEBUG: cls num  : 3, elapse : 0.032765865325927734\n",
            "[2023/05/02 14:17:31] ppocr DEBUG: rec_res num  : 3, elapse : 0.3178272247314453\n"
          ]
        },
        {
          "output_type": "stream",
          "name": "stderr",
          "text": [
            "\r 19%|█▉        | 141/751 [02:57<05:29,  1.85it/s]"
          ]
        },
        {
          "output_type": "stream",
          "name": "stdout",
          "text": [
            "[2023/05/02 14:17:31] ppocr DEBUG: dt_boxes num : 2, elapse : 0.22294282913208008\n",
            "[2023/05/02 14:17:31] ppocr DEBUG: cls num  : 2, elapse : 0.02574753761291504\n",
            "[2023/05/02 14:17:31] ppocr DEBUG: rec_res num  : 2, elapse : 0.20736932754516602\n"
          ]
        },
        {
          "output_type": "stream",
          "name": "stderr",
          "text": [
            "\r 19%|█▉        | 142/751 [02:58<05:17,  1.92it/s]"
          ]
        },
        {
          "output_type": "stream",
          "name": "stdout",
          "text": [
            "[2023/05/02 14:17:31] ppocr DEBUG: dt_boxes num : 4, elapse : 0.2214186191558838\n",
            "[2023/05/02 14:17:32] ppocr DEBUG: cls num  : 4, elapse : 0.04458165168762207\n",
            "[2023/05/02 14:17:32] ppocr DEBUG: rec_res num  : 4, elapse : 0.40824222564697266\n"
          ]
        },
        {
          "output_type": "stream",
          "name": "stderr",
          "text": [
            "\r 19%|█▉        | 143/751 [02:59<05:49,  1.74it/s]"
          ]
        },
        {
          "output_type": "stream",
          "name": "stdout",
          "text": [
            "[2023/05/02 14:17:32] ppocr DEBUG: dt_boxes num : 7, elapse : 0.2215414047241211\n",
            "[2023/05/02 14:17:32] ppocr DEBUG: cls num  : 7, elapse : 0.07614779472351074\n",
            "[2023/05/02 14:17:33] ppocr DEBUG: rec_res num  : 7, elapse : 0.741607666015625\n"
          ]
        },
        {
          "output_type": "stream",
          "name": "stderr",
          "text": [
            "\r 19%|█▉        | 144/751 [03:00<07:16,  1.39it/s]"
          ]
        },
        {
          "output_type": "stream",
          "name": "stdout",
          "text": [
            "[2023/05/02 14:17:33] ppocr DEBUG: dt_boxes num : 2, elapse : 0.21373248100280762\n",
            "[2023/05/02 14:17:33] ppocr DEBUG: cls num  : 2, elapse : 0.02399587631225586\n",
            "[2023/05/02 14:17:33] ppocr DEBUG: rec_res num  : 2, elapse : 0.23149585723876953\n"
          ]
        },
        {
          "output_type": "stream",
          "name": "stderr",
          "text": [
            "\r 19%|█▉        | 145/751 [03:00<06:34,  1.54it/s]"
          ]
        },
        {
          "output_type": "stream",
          "name": "stdout",
          "text": [
            "[2023/05/02 14:17:34] ppocr DEBUG: dt_boxes num : 7, elapse : 0.21849918365478516\n",
            "[2023/05/02 14:17:34] ppocr DEBUG: cls num  : 7, elapse : 0.07677078247070312\n",
            "[2023/05/02 14:17:35] ppocr DEBUG: rec_res num  : 7, elapse : 0.7354469299316406\n"
          ]
        },
        {
          "output_type": "stream",
          "name": "stderr",
          "text": [
            "\r 19%|█▉        | 146/751 [03:01<07:46,  1.30it/s]"
          ]
        },
        {
          "output_type": "stream",
          "name": "stdout",
          "text": [
            "[2023/05/02 14:17:35] ppocr DEBUG: dt_boxes num : 9, elapse : 0.2206416130065918\n",
            "[2023/05/02 14:17:35] ppocr DEBUG: cls num  : 9, elapse : 0.09438443183898926\n",
            "[2023/05/02 14:17:36] ppocr DEBUG: rec_res num  : 9, elapse : 1.1275594234466553\n"
          ]
        },
        {
          "output_type": "stream",
          "name": "stderr",
          "text": [
            "\r 20%|█▉        | 147/751 [03:03<09:51,  1.02it/s]"
          ]
        },
        {
          "output_type": "stream",
          "name": "stdout",
          "text": [
            "[2023/05/02 14:17:36] ppocr DEBUG: dt_boxes num : 11, elapse : 0.22470521926879883\n",
            "[2023/05/02 14:17:36] ppocr DEBUG: cls num  : 11, elapse : 0.11628532409667969\n",
            "[2023/05/02 14:17:38] ppocr DEBUG: rec_res num  : 11, elapse : 1.5568318367004395\n"
          ]
        },
        {
          "output_type": "stream",
          "name": "stderr",
          "text": [
            "\r 20%|█▉        | 148/751 [03:04<12:40,  1.26s/it]"
          ]
        },
        {
          "output_type": "stream",
          "name": "stdout",
          "text": [
            "[2023/05/02 14:17:38] ppocr DEBUG: dt_boxes num : 4, elapse : 0.3310394287109375\n",
            "[2023/05/02 14:17:38] ppocr DEBUG: cls num  : 4, elapse : 0.07245039939880371\n",
            "[2023/05/02 14:17:39] ppocr DEBUG: rec_res num  : 4, elapse : 0.7389957904815674\n"
          ]
        },
        {
          "output_type": "stream",
          "name": "stderr",
          "text": [
            "\r 20%|█▉        | 149/751 [03:06<12:21,  1.23s/it]"
          ]
        },
        {
          "output_type": "stream",
          "name": "stdout",
          "text": [
            "[2023/05/02 14:17:39] ppocr DEBUG: dt_boxes num : 4, elapse : 0.33397746086120605\n",
            "[2023/05/02 14:17:40] ppocr DEBUG: cls num  : 4, elapse : 0.07608962059020996\n",
            "[2023/05/02 14:17:40] ppocr DEBUG: rec_res num  : 4, elapse : 0.7301990985870361\n"
          ]
        },
        {
          "output_type": "stream",
          "name": "stderr",
          "text": [
            "\r 20%|█▉        | 150/751 [03:07<12:09,  1.21s/it]"
          ]
        },
        {
          "output_type": "stream",
          "name": "stdout",
          "text": [
            "[2023/05/02 14:17:41] ppocr DEBUG: dt_boxes num : 5, elapse : 0.35153722763061523\n",
            "[2023/05/02 14:17:41] ppocr DEBUG: cls num  : 5, elapse : 0.10835886001586914\n",
            "[2023/05/02 14:17:42] ppocr DEBUG: rec_res num  : 5, elapse : 0.9026803970336914\n"
          ]
        },
        {
          "output_type": "stream",
          "name": "stderr",
          "text": [
            "\r 20%|██        | 151/751 [03:08<12:38,  1.26s/it]"
          ]
        },
        {
          "output_type": "stream",
          "name": "stdout",
          "text": [
            "[2023/05/02 14:17:42] ppocr DEBUG: dt_boxes num : 2, elapse : 0.33342695236206055\n",
            "[2023/05/02 14:17:42] ppocr DEBUG: cls num  : 2, elapse : 0.042720794677734375\n",
            "[2023/05/02 14:17:42] ppocr DEBUG: rec_res num  : 2, elapse : 0.34553003311157227\n"
          ]
        },
        {
          "output_type": "stream",
          "name": "stderr",
          "text": [
            "\r 20%|██        | 152/751 [03:09<11:04,  1.11s/it]"
          ]
        },
        {
          "output_type": "stream",
          "name": "stdout",
          "text": [
            "[2023/05/02 14:17:43] ppocr DEBUG: dt_boxes num : 4, elapse : 0.3060891628265381\n",
            "[2023/05/02 14:17:43] ppocr DEBUG: cls num  : 4, elapse : 0.06580162048339844\n",
            "[2023/05/02 14:17:43] ppocr DEBUG: rec_res num  : 4, elapse : 0.621384859085083\n"
          ]
        },
        {
          "output_type": "stream",
          "name": "stderr",
          "text": [
            "\r 20%|██        | 153/751 [03:10<10:45,  1.08s/it]"
          ]
        },
        {
          "output_type": "stream",
          "name": "stdout",
          "text": [
            "[2023/05/02 14:17:44] ppocr DEBUG: dt_boxes num : 7, elapse : 0.3119816780090332\n",
            "[2023/05/02 14:17:44] ppocr DEBUG: cls num  : 7, elapse : 0.11294341087341309\n",
            "[2023/05/02 14:17:45] ppocr DEBUG: rec_res num  : 7, elapse : 1.0944576263427734\n"
          ]
        },
        {
          "output_type": "stream",
          "name": "stderr",
          "text": [
            "\r 21%|██        | 154/751 [03:12<12:10,  1.22s/it]"
          ]
        },
        {
          "output_type": "stream",
          "name": "stdout",
          "text": [
            "[2023/05/02 14:17:45] ppocr DEBUG: dt_boxes num : 5, elapse : 0.3098006248474121\n",
            "[2023/05/02 14:17:45] ppocr DEBUG: cls num  : 5, elapse : 0.07946634292602539\n",
            "[2023/05/02 14:17:46] ppocr DEBUG: rec_res num  : 5, elapse : 0.7337353229522705\n"
          ]
        },
        {
          "output_type": "stream",
          "name": "stderr",
          "text": [
            "\r 21%|██        | 155/751 [03:13<11:55,  1.20s/it]"
          ]
        },
        {
          "output_type": "stream",
          "name": "stdout",
          "text": [
            "[2023/05/02 14:17:46] ppocr DEBUG: dt_boxes num : 4, elapse : 0.22583603858947754\n",
            "[2023/05/02 14:17:46] ppocr DEBUG: cls num  : 4, elapse : 0.04674696922302246\n",
            "[2023/05/02 14:17:47] ppocr DEBUG: rec_res num  : 4, elapse : 0.42126989364624023\n"
          ]
        },
        {
          "output_type": "stream",
          "name": "stderr",
          "text": [
            "\r 21%|██        | 156/751 [03:13<10:27,  1.05s/it]"
          ]
        },
        {
          "output_type": "stream",
          "name": "stdout",
          "text": [
            "[2023/05/02 14:17:47] ppocr DEBUG: dt_boxes num : 3, elapse : 0.21592307090759277\n",
            "[2023/05/02 14:17:47] ppocr DEBUG: cls num  : 3, elapse : 0.03380179405212402\n",
            "[2023/05/02 14:17:47] ppocr DEBUG: rec_res num  : 3, elapse : 0.3131849765777588\n"
          ]
        },
        {
          "output_type": "stream",
          "name": "stderr",
          "text": [
            "\r 21%|██        | 157/751 [03:14<09:01,  1.10it/s]"
          ]
        },
        {
          "output_type": "stream",
          "name": "stdout",
          "text": [
            "[2023/05/02 14:17:48] ppocr DEBUG: dt_boxes num : 5, elapse : 0.21837282180786133\n",
            "[2023/05/02 14:17:48] ppocr DEBUG: cls num  : 5, elapse : 0.05956315994262695\n",
            "[2023/05/02 14:17:48] ppocr DEBUG: rec_res num  : 5, elapse : 0.5215673446655273\n"
          ]
        },
        {
          "output_type": "stream",
          "name": "stderr",
          "text": [
            "\r 21%|██        | 158/751 [03:15<08:44,  1.13it/s]"
          ]
        },
        {
          "output_type": "stream",
          "name": "stdout",
          "text": [
            "[2023/05/02 14:17:48] ppocr DEBUG: dt_boxes num : 6, elapse : 0.22474980354309082\n",
            "[2023/05/02 14:17:49] ppocr DEBUG: cls num  : 6, elapse : 0.06632781028747559\n",
            "[2023/05/02 14:17:49] ppocr DEBUG: rec_res num  : 6, elapse : 0.6329104900360107\n"
          ]
        },
        {
          "output_type": "stream",
          "name": "stderr",
          "text": [
            "\r 21%|██        | 159/751 [03:16<08:53,  1.11it/s]"
          ]
        },
        {
          "output_type": "stream",
          "name": "stdout",
          "text": [
            "[2023/05/02 14:17:49] ppocr DEBUG: dt_boxes num : 5, elapse : 0.21562528610229492\n",
            "[2023/05/02 14:17:49] ppocr DEBUG: cls num  : 5, elapse : 0.05465888977050781\n",
            "[2023/05/02 14:17:50] ppocr DEBUG: rec_res num  : 5, elapse : 0.5194787979125977\n"
          ]
        },
        {
          "output_type": "stream",
          "name": "stderr",
          "text": [
            "\r 21%|██▏       | 160/751 [03:17<08:36,  1.14it/s]"
          ]
        },
        {
          "output_type": "stream",
          "name": "stdout",
          "text": [
            "[2023/05/02 14:17:50] ppocr DEBUG: dt_boxes num : 5, elapse : 0.23928570747375488\n",
            "[2023/05/02 14:17:50] ppocr DEBUG: cls num  : 5, elapse : 0.05157351493835449\n",
            "[2023/05/02 14:17:51] ppocr DEBUG: rec_res num  : 5, elapse : 0.5193111896514893\n"
          ]
        },
        {
          "output_type": "stream",
          "name": "stderr",
          "text": [
            "\r 21%|██▏       | 161/751 [03:17<08:28,  1.16it/s]"
          ]
        },
        {
          "output_type": "stream",
          "name": "stdout",
          "text": [
            "[2023/05/02 14:17:51] ppocr DEBUG: dt_boxes num : 1, elapse : 0.21804046630859375\n",
            "[2023/05/02 14:17:51] ppocr DEBUG: cls num  : 1, elapse : 0.015030384063720703\n",
            "[2023/05/02 14:17:51] ppocr DEBUG: rec_res num  : 1, elapse : 0.11584687232971191\n"
          ]
        },
        {
          "output_type": "stream",
          "name": "stderr",
          "text": [
            "\r 22%|██▏       | 162/751 [03:18<07:00,  1.40it/s]"
          ]
        },
        {
          "output_type": "stream",
          "name": "stdout",
          "text": [
            "[2023/05/02 14:17:51] ppocr DEBUG: dt_boxes num : 1, elapse : 0.2198171615600586\n",
            "[2023/05/02 14:17:51] ppocr DEBUG: cls num  : 1, elapse : 0.014963626861572266\n",
            "[2023/05/02 14:17:52] ppocr DEBUG: rec_res num  : 1, elapse : 0.10506749153137207\n"
          ]
        },
        {
          "output_type": "stream",
          "name": "stderr",
          "text": [
            "\r 22%|██▏       | 163/751 [03:18<05:56,  1.65it/s]"
          ]
        },
        {
          "output_type": "stream",
          "name": "stdout",
          "text": [
            "[2023/05/02 14:17:52] ppocr DEBUG: dt_boxes num : 4, elapse : 0.22319388389587402\n",
            "[2023/05/02 14:17:52] ppocr DEBUG: cls num  : 4, elapse : 0.047796010971069336\n",
            "[2023/05/02 14:17:52] ppocr DEBUG: rec_res num  : 4, elapse : 0.4288461208343506\n"
          ]
        },
        {
          "output_type": "stream",
          "name": "stderr",
          "text": [
            "\r 22%|██▏       | 164/751 [03:19<06:16,  1.56it/s]"
          ]
        },
        {
          "output_type": "stream",
          "name": "stdout",
          "text": [
            "[2023/05/02 14:17:52] ppocr DEBUG: dt_boxes num : 1, elapse : 0.21669292449951172\n",
            "[2023/05/02 14:17:52] ppocr DEBUG: cls num  : 1, elapse : 0.016585350036621094\n",
            "[2023/05/02 14:17:53] ppocr DEBUG: rec_res num  : 1, elapse : 0.10926604270935059\n"
          ]
        },
        {
          "output_type": "stream",
          "name": "stderr",
          "text": [
            "\r 22%|██▏       | 165/751 [03:19<05:25,  1.80it/s]"
          ]
        },
        {
          "output_type": "stream",
          "name": "stdout",
          "text": [
            "[2023/05/02 14:17:53] ppocr DEBUG: dt_boxes num : 2, elapse : 0.21927380561828613\n",
            "[2023/05/02 14:17:53] ppocr DEBUG: cls num  : 2, elapse : 0.025890350341796875\n",
            "[2023/05/02 14:17:53] ppocr DEBUG: rec_res num  : 2, elapse : 0.20928215980529785\n"
          ]
        },
        {
          "output_type": "stream",
          "name": "stderr",
          "text": [
            "\r 22%|██▏       | 166/751 [03:20<05:12,  1.87it/s]"
          ]
        },
        {
          "output_type": "stream",
          "name": "stdout",
          "text": [
            "[2023/05/02 14:17:53] ppocr DEBUG: dt_boxes num : 4, elapse : 0.22661256790161133\n",
            "[2023/05/02 14:17:53] ppocr DEBUG: cls num  : 4, elapse : 0.04538249969482422\n",
            "[2023/05/02 14:17:54] ppocr DEBUG: rec_res num  : 4, elapse : 0.41289329528808594\n"
          ]
        },
        {
          "output_type": "stream",
          "name": "stderr",
          "text": [
            "\r 22%|██▏       | 167/751 [03:20<05:41,  1.71it/s]"
          ]
        },
        {
          "output_type": "stream",
          "name": "stdout",
          "text": [
            "[2023/05/02 14:17:54] ppocr DEBUG: dt_boxes num : 3, elapse : 0.21271157264709473\n",
            "[2023/05/02 14:17:54] ppocr DEBUG: cls num  : 3, elapse : 0.03188633918762207\n",
            "[2023/05/02 14:17:54] ppocr DEBUG: rec_res num  : 3, elapse : 0.3242373466491699\n"
          ]
        },
        {
          "output_type": "stream",
          "name": "stderr",
          "text": [
            "\r 22%|██▏       | 168/751 [03:21<05:42,  1.70it/s]"
          ]
        },
        {
          "output_type": "stream",
          "name": "stdout",
          "text": [
            "[2023/05/02 14:17:55] ppocr DEBUG: dt_boxes num : 5, elapse : 0.21643495559692383\n",
            "[2023/05/02 14:17:55] ppocr DEBUG: cls num  : 5, elapse : 0.05545663833618164\n",
            "[2023/05/02 14:17:55] ppocr DEBUG: rec_res num  : 5, elapse : 0.5353188514709473\n"
          ]
        },
        {
          "output_type": "stream",
          "name": "stderr",
          "text": [
            "\r 23%|██▎       | 169/751 [03:22<06:24,  1.51it/s]"
          ]
        },
        {
          "output_type": "stream",
          "name": "stdout",
          "text": [
            "[2023/05/02 14:17:55] ppocr DEBUG: dt_boxes num : 8, elapse : 0.22087717056274414\n",
            "[2023/05/02 14:17:56] ppocr DEBUG: cls num  : 8, elapse : 0.0868532657623291\n",
            "[2023/05/02 14:17:57] ppocr DEBUG: rec_res num  : 8, elapse : 1.030555248260498\n"
          ]
        },
        {
          "output_type": "stream",
          "name": "stderr",
          "text": [
            "\r 23%|██▎       | 170/751 [03:23<08:25,  1.15it/s]"
          ]
        },
        {
          "output_type": "stream",
          "name": "stdout",
          "text": [
            "[2023/05/02 14:17:57] ppocr DEBUG: dt_boxes num : 8, elapse : 0.3299272060394287\n",
            "[2023/05/02 14:17:57] ppocr DEBUG: cls num  : 8, elapse : 0.1477048397064209\n",
            "[2023/05/02 14:17:59] ppocr DEBUG: rec_res num  : 8, elapse : 1.4487757682800293\n"
          ]
        },
        {
          "output_type": "stream",
          "name": "stderr",
          "text": [
            "\r 23%|██▎       | 171/751 [03:25<11:34,  1.20s/it]"
          ]
        },
        {
          "output_type": "stream",
          "name": "stdout",
          "text": [
            "[2023/05/02 14:17:59] ppocr DEBUG: dt_boxes num : 5, elapse : 0.34317588806152344\n",
            "[2023/05/02 14:17:59] ppocr DEBUG: cls num  : 5, elapse : 0.09617185592651367\n",
            "[2023/05/02 14:18:00] ppocr DEBUG: rec_res num  : 5, elapse : 0.9078183174133301\n"
          ]
        },
        {
          "output_type": "stream",
          "name": "stderr",
          "text": [
            "\r 23%|██▎       | 172/751 [03:26<12:03,  1.25s/it]"
          ]
        },
        {
          "output_type": "stream",
          "name": "stdout",
          "text": [
            "[2023/05/02 14:18:00] ppocr DEBUG: dt_boxes num : 3, elapse : 0.32753539085388184\n",
            "[2023/05/02 14:18:00] ppocr DEBUG: cls num  : 3, elapse : 0.056209564208984375\n",
            "[2023/05/02 14:18:01] ppocr DEBUG: rec_res num  : 3, elapse : 0.5362725257873535\n"
          ]
        },
        {
          "output_type": "stream",
          "name": "stderr",
          "text": [
            "\r 23%|██▎       | 173/751 [03:27<11:09,  1.16s/it]"
          ]
        },
        {
          "output_type": "stream",
          "name": "stdout",
          "text": [
            "[2023/05/02 14:18:01] ppocr DEBUG: dt_boxes num : 3, elapse : 0.3054168224334717\n",
            "[2023/05/02 14:18:01] ppocr DEBUG: cls num  : 3, elapse : 0.050232887268066406\n",
            "[2023/05/02 14:18:02] ppocr DEBUG: rec_res num  : 3, elapse : 0.45725488662719727\n"
          ]
        },
        {
          "output_type": "stream",
          "name": "stderr",
          "text": [
            "\r 23%|██▎       | 174/751 [03:28<10:12,  1.06s/it]"
          ]
        },
        {
          "output_type": "stream",
          "name": "stdout",
          "text": [
            "[2023/05/02 14:18:02] ppocr DEBUG: dt_boxes num : 3, elapse : 0.30332493782043457\n",
            "[2023/05/02 14:18:02] ppocr DEBUG: cls num  : 3, elapse : 0.05394101142883301\n",
            "[2023/05/02 14:18:03] ppocr DEBUG: rec_res num  : 3, elapse : 0.47791504859924316\n"
          ]
        },
        {
          "output_type": "stream",
          "name": "stderr",
          "text": [
            "\r 23%|██▎       | 175/751 [03:29<09:36,  1.00s/it]"
          ]
        },
        {
          "output_type": "stream",
          "name": "stdout",
          "text": [
            "[2023/05/02 14:18:03] ppocr DEBUG: dt_boxes num : 3, elapse : 0.30472493171691895\n",
            "[2023/05/02 14:18:03] ppocr DEBUG: cls num  : 3, elapse : 0.04851865768432617\n",
            "[2023/05/02 14:18:03] ppocr DEBUG: rec_res num  : 3, elapse : 0.45535898208618164\n"
          ]
        },
        {
          "output_type": "stream",
          "name": "stderr",
          "text": [
            "\r 23%|██▎       | 176/751 [03:30<09:06,  1.05it/s]"
          ]
        },
        {
          "output_type": "stream",
          "name": "stdout",
          "text": [
            "[2023/05/02 14:18:04] ppocr DEBUG: dt_boxes num : 3, elapse : 0.3138406276702881\n",
            "[2023/05/02 14:18:04] ppocr DEBUG: cls num  : 3, elapse : 0.05119633674621582\n",
            "[2023/05/02 14:18:04] ppocr DEBUG: rec_res num  : 3, elapse : 0.4675455093383789\n"
          ]
        },
        {
          "output_type": "stream",
          "name": "stderr",
          "text": [
            "\r 24%|██▎       | 177/751 [03:31<08:48,  1.09it/s]"
          ]
        },
        {
          "output_type": "stream",
          "name": "stdout",
          "text": [
            "[2023/05/02 14:18:05] ppocr DEBUG: dt_boxes num : 4, elapse : 0.30476856231689453\n",
            "[2023/05/02 14:18:05] ppocr DEBUG: cls num  : 4, elapse : 0.06801176071166992\n",
            "[2023/05/02 14:18:05] ppocr DEBUG: rec_res num  : 4, elapse : 0.46904945373535156\n"
          ]
        },
        {
          "output_type": "stream",
          "name": "stderr",
          "text": [
            "\r 24%|██▎       | 178/751 [03:32<08:38,  1.10it/s]"
          ]
        },
        {
          "output_type": "stream",
          "name": "stdout",
          "text": [
            "[2023/05/02 14:18:05] ppocr DEBUG: dt_boxes num : 4, elapse : 0.21312642097473145\n",
            "[2023/05/02 14:18:05] ppocr DEBUG: cls num  : 4, elapse : 0.04578804969787598\n",
            "[2023/05/02 14:18:06] ppocr DEBUG: rec_res num  : 4, elapse : 0.4204244613647461\n"
          ]
        },
        {
          "output_type": "stream",
          "name": "stderr",
          "text": [
            "\r 24%|██▍       | 179/751 [03:32<08:02,  1.18it/s]"
          ]
        },
        {
          "output_type": "stream",
          "name": "stdout",
          "text": [
            "[2023/05/02 14:18:06] ppocr DEBUG: dt_boxes num : 3, elapse : 0.21424245834350586\n",
            "[2023/05/02 14:18:06] ppocr DEBUG: cls num  : 3, elapse : 0.03982734680175781\n",
            "[2023/05/02 14:18:06] ppocr DEBUG: rec_res num  : 3, elapse : 0.30893802642822266\n"
          ]
        },
        {
          "output_type": "stream",
          "name": "stderr",
          "text": [
            "\r 24%|██▍       | 180/751 [03:33<07:17,  1.31it/s]"
          ]
        },
        {
          "output_type": "stream",
          "name": "stdout",
          "text": [
            "[2023/05/02 14:18:07] ppocr DEBUG: dt_boxes num : 3, elapse : 0.22724318504333496\n",
            "[2023/05/02 14:18:07] ppocr DEBUG: cls num  : 3, elapse : 0.03634333610534668\n",
            "[2023/05/02 14:18:07] ppocr DEBUG: rec_res num  : 3, elapse : 0.3135862350463867\n"
          ]
        },
        {
          "output_type": "stream",
          "name": "stderr",
          "text": [
            "\r 24%|██▍       | 181/751 [03:34<06:47,  1.40it/s]"
          ]
        },
        {
          "output_type": "stream",
          "name": "stdout",
          "text": [
            "[2023/05/02 14:18:07] ppocr DEBUG: dt_boxes num : 3, elapse : 0.22031140327453613\n",
            "[2023/05/02 14:18:07] ppocr DEBUG: cls num  : 3, elapse : 0.03386831283569336\n",
            "[2023/05/02 14:18:08] ppocr DEBUG: rec_res num  : 3, elapse : 0.3059968948364258\n"
          ]
        },
        {
          "output_type": "stream",
          "name": "stderr",
          "text": [
            "\r 24%|██▍       | 182/751 [03:34<06:24,  1.48it/s]"
          ]
        },
        {
          "output_type": "stream",
          "name": "stdout",
          "text": [
            "[2023/05/02 14:18:08] ppocr DEBUG: dt_boxes num : 3, elapse : 0.22436141967773438\n",
            "[2023/05/02 14:18:08] ppocr DEBUG: cls num  : 3, elapse : 0.035671234130859375\n",
            "[2023/05/02 14:18:08] ppocr DEBUG: rec_res num  : 3, elapse : 0.3089113235473633\n"
          ]
        },
        {
          "output_type": "stream",
          "name": "stderr",
          "text": [
            "\r 24%|██▍       | 183/751 [03:35<06:08,  1.54it/s]"
          ]
        },
        {
          "output_type": "stream",
          "name": "stdout",
          "text": [
            "[2023/05/02 14:18:08] ppocr DEBUG: dt_boxes num : 4, elapse : 0.22522687911987305\n",
            "[2023/05/02 14:18:08] ppocr DEBUG: cls num  : 4, elapse : 0.04577755928039551\n",
            "[2023/05/02 14:18:09] ppocr DEBUG: rec_res num  : 4, elapse : 0.429645299911499\n"
          ]
        },
        {
          "output_type": "stream",
          "name": "stderr",
          "text": [
            "\r 25%|██▍       | 184/751 [03:35<06:20,  1.49it/s]"
          ]
        },
        {
          "output_type": "stream",
          "name": "stdout",
          "text": [
            "[2023/05/02 14:18:09] ppocr DEBUG: dt_boxes num : 7, elapse : 0.22563648223876953\n",
            "[2023/05/02 14:18:09] ppocr DEBUG: cls num  : 7, elapse : 0.0802454948425293\n",
            "[2023/05/02 14:18:10] ppocr DEBUG: rec_res num  : 7, elapse : 0.736518383026123\n"
          ]
        },
        {
          "output_type": "stream",
          "name": "stderr",
          "text": [
            "\r 25%|██▍       | 185/751 [03:37<07:26,  1.27it/s]"
          ]
        },
        {
          "output_type": "stream",
          "name": "stdout",
          "text": [
            "[2023/05/02 14:18:10] ppocr DEBUG: dt_boxes num : 7, elapse : 0.22081971168518066\n",
            "[2023/05/02 14:18:10] ppocr DEBUG: cls num  : 7, elapse : 0.07821822166442871\n",
            "[2023/05/02 14:18:12] ppocr DEBUG: rec_res num  : 7, elapse : 1.2907133102416992\n"
          ]
        },
        {
          "output_type": "stream",
          "name": "stderr",
          "text": [
            "\r 25%|██▍       | 186/751 [03:38<09:43,  1.03s/it]"
          ]
        },
        {
          "output_type": "stream",
          "name": "stdout",
          "text": [
            "[2023/05/02 14:18:12] ppocr DEBUG: dt_boxes num : 6, elapse : 0.22336125373840332\n",
            "[2023/05/02 14:18:12] ppocr DEBUG: cls num  : 6, elapse : 0.06579828262329102\n",
            "[2023/05/02 14:18:13] ppocr DEBUG: rec_res num  : 6, elapse : 1.243938684463501\n"
          ]
        },
        {
          "output_type": "stream",
          "name": "stderr",
          "text": [
            "\r 25%|██▍       | 187/751 [03:40<11:10,  1.19s/it]"
          ]
        },
        {
          "output_type": "stream",
          "name": "stdout",
          "text": [
            "[2023/05/02 14:18:13] ppocr DEBUG: dt_boxes num : 3, elapse : 0.21776175498962402\n",
            "[2023/05/02 14:18:13] ppocr DEBUG: cls num  : 3, elapse : 0.036142826080322266\n",
            "[2023/05/02 14:18:14] ppocr DEBUG: rec_res num  : 3, elapse : 0.30898451805114746\n"
          ]
        },
        {
          "output_type": "stream",
          "name": "stderr",
          "text": [
            "\r 25%|██▌       | 188/751 [03:40<09:26,  1.01s/it]"
          ]
        },
        {
          "output_type": "stream",
          "name": "stdout",
          "text": [
            "[2023/05/02 14:18:14] ppocr DEBUG: dt_boxes num : 3, elapse : 0.21991419792175293\n",
            "[2023/05/02 14:18:14] ppocr DEBUG: cls num  : 3, elapse : 0.03306770324707031\n",
            "[2023/05/02 14:18:14] ppocr DEBUG: rec_res num  : 3, elapse : 0.3179640769958496\n"
          ]
        },
        {
          "output_type": "stream",
          "name": "stderr",
          "text": [
            "\r 25%|██▌       | 189/751 [03:41<08:15,  1.13it/s]"
          ]
        },
        {
          "output_type": "stream",
          "name": "stdout",
          "text": [
            "[2023/05/02 14:18:15] ppocr DEBUG: dt_boxes num : 4, elapse : 0.22217893600463867\n",
            "[2023/05/02 14:18:15] ppocr DEBUG: cls num  : 4, elapse : 0.05022931098937988\n",
            "[2023/05/02 14:18:15] ppocr DEBUG: rec_res num  : 4, elapse : 0.5030457973480225\n"
          ]
        },
        {
          "output_type": "stream",
          "name": "stderr",
          "text": [
            "\r 25%|██▌       | 190/751 [03:42<08:00,  1.17it/s]"
          ]
        },
        {
          "output_type": "stream",
          "name": "stdout",
          "text": [
            "[2023/05/02 14:18:15] ppocr DEBUG: dt_boxes num : 8, elapse : 0.3249239921569824\n",
            "[2023/05/02 14:18:16] ppocr DEBUG: cls num  : 8, elapse : 0.1629035472869873\n",
            "[2023/05/02 14:18:17] ppocr DEBUG: rec_res num  : 8, elapse : 1.4441468715667725\n"
          ]
        },
        {
          "output_type": "stream",
          "name": "stderr",
          "text": [
            "\r 25%|██▌       | 191/751 [03:44<11:04,  1.19s/it]"
          ]
        },
        {
          "output_type": "stream",
          "name": "stdout",
          "text": [
            "[2023/05/02 14:18:17] ppocr DEBUG: dt_boxes num : 5, elapse : 0.32169389724731445\n",
            "[2023/05/02 14:18:17] ppocr DEBUG: cls num  : 5, elapse : 0.09227633476257324\n",
            "[2023/05/02 14:18:18] ppocr DEBUG: rec_res num  : 5, elapse : 0.91518235206604\n"
          ]
        },
        {
          "output_type": "stream",
          "name": "stderr",
          "text": [
            "\r 26%|██▌       | 192/751 [03:45<11:30,  1.24s/it]"
          ]
        },
        {
          "output_type": "stream",
          "name": "stdout",
          "text": [
            "[2023/05/02 14:18:19] ppocr DEBUG: dt_boxes num : 8, elapse : 0.32625651359558105\n",
            "[2023/05/02 14:18:19] ppocr DEBUG: cls num  : 8, elapse : 0.1463174819946289\n",
            "[2023/05/02 14:18:20] ppocr DEBUG: rec_res num  : 8, elapse : 1.3405983448028564\n"
          ]
        },
        {
          "output_type": "stream",
          "name": "stderr",
          "text": [
            "\r 26%|██▌       | 193/751 [03:47<13:10,  1.42s/it]"
          ]
        },
        {
          "output_type": "stream",
          "name": "stdout",
          "text": [
            "[2023/05/02 14:18:21] ppocr DEBUG: dt_boxes num : 5, elapse : 0.30930471420288086\n",
            "[2023/05/02 14:18:21] ppocr DEBUG: cls num  : 5, elapse : 0.08136343955993652\n",
            "[2023/05/02 14:18:21] ppocr DEBUG: rec_res num  : 5, elapse : 0.7685339450836182\n"
          ]
        },
        {
          "output_type": "stream",
          "name": "stderr",
          "text": [
            "\r 26%|██▌       | 194/751 [03:48<12:29,  1.35s/it]"
          ]
        },
        {
          "output_type": "stream",
          "name": "stdout",
          "text": [
            "[2023/05/02 14:18:22] ppocr DEBUG: dt_boxes num : 5, elapse : 0.30491042137145996\n",
            "[2023/05/02 14:18:22] ppocr DEBUG: cls num  : 5, elapse : 0.08075809478759766\n",
            "[2023/05/02 14:18:23] ppocr DEBUG: rec_res num  : 5, elapse : 0.7581720352172852\n"
          ]
        },
        {
          "output_type": "stream",
          "name": "stderr",
          "text": [
            "\r 26%|██▌       | 195/751 [03:49<11:59,  1.29s/it]"
          ]
        },
        {
          "output_type": "stream",
          "name": "stdout",
          "text": [
            "[2023/05/02 14:18:23] ppocr DEBUG: dt_boxes num : 7, elapse : 0.31765294075012207\n",
            "[2023/05/02 14:18:23] ppocr DEBUG: cls num  : 7, elapse : 0.11920976638793945\n",
            "[2023/05/02 14:18:24] ppocr DEBUG: rec_res num  : 7, elapse : 0.9089512825012207\n"
          ]
        },
        {
          "output_type": "stream",
          "name": "stderr",
          "text": [
            "\r 26%|██▌       | 196/751 [03:51<12:11,  1.32s/it]"
          ]
        },
        {
          "output_type": "stream",
          "name": "stdout",
          "text": [
            "[2023/05/02 14:18:24] ppocr DEBUG: dt_boxes num : 5, elapse : 0.2158517837524414\n",
            "[2023/05/02 14:18:24] ppocr DEBUG: cls num  : 5, elapse : 0.06918716430664062\n",
            "[2023/05/02 14:18:25] ppocr DEBUG: rec_res num  : 5, elapse : 0.5218231678009033\n"
          ]
        },
        {
          "output_type": "stream",
          "name": "stderr",
          "text": [
            "\r 26%|██▌       | 197/751 [03:51<10:48,  1.17s/it]"
          ]
        },
        {
          "output_type": "stream",
          "name": "stdout",
          "text": [
            "[2023/05/02 14:18:25] ppocr DEBUG: dt_boxes num : 5, elapse : 0.22265839576721191\n",
            "[2023/05/02 14:18:25] ppocr DEBUG: cls num  : 5, elapse : 0.05610847473144531\n",
            "[2023/05/02 14:18:26] ppocr DEBUG: rec_res num  : 5, elapse : 0.5254402160644531\n"
          ]
        },
        {
          "output_type": "stream",
          "name": "stderr",
          "text": [
            "\r 26%|██▋       | 198/751 [03:52<09:50,  1.07s/it]"
          ]
        },
        {
          "output_type": "stream",
          "name": "stdout",
          "text": [
            "[2023/05/02 14:18:26] ppocr DEBUG: dt_boxes num : 14, elapse : 0.21976828575134277\n",
            "[2023/05/02 14:18:26] ppocr DEBUG: cls num  : 14, elapse : 0.14875125885009766\n",
            "[2023/05/02 14:18:28] ppocr DEBUG: rec_res num  : 14, elapse : 1.820220708847046\n"
          ]
        },
        {
          "output_type": "stream",
          "name": "stderr",
          "text": [
            "\r 26%|██▋       | 199/751 [03:54<12:58,  1.41s/it]"
          ]
        },
        {
          "output_type": "stream",
          "name": "stdout",
          "text": [
            "[2023/05/02 14:18:28] ppocr DEBUG: dt_boxes num : 14, elapse : 0.22222471237182617\n",
            "[2023/05/02 14:18:28] ppocr DEBUG: cls num  : 14, elapse : 0.14741086959838867\n",
            "[2023/05/02 14:18:30] ppocr DEBUG: rec_res num  : 14, elapse : 1.9166591167449951\n"
          ]
        },
        {
          "output_type": "stream",
          "name": "stderr",
          "text": [
            "\r 27%|██▋       | 200/751 [03:57<15:25,  1.68s/it]"
          ]
        },
        {
          "output_type": "stream",
          "name": "stdout",
          "text": [
            "[2023/05/02 14:18:30] ppocr DEBUG: dt_boxes num : 14, elapse : 0.22357964515686035\n",
            "[2023/05/02 14:18:31] ppocr DEBUG: cls num  : 14, elapse : 0.15724778175354004\n",
            "[2023/05/02 14:18:32] ppocr DEBUG: rec_res num  : 14, elapse : 1.8021838665008545\n"
          ]
        },
        {
          "output_type": "stream",
          "name": "stderr",
          "text": [
            "\r 27%|██▋       | 201/751 [03:59<16:50,  1.84s/it]"
          ]
        },
        {
          "output_type": "stream",
          "name": "stdout",
          "text": [
            "[2023/05/02 14:18:33] ppocr DEBUG: dt_boxes num : 6, elapse : 0.22857117652893066\n",
            "[2023/05/02 14:18:33] ppocr DEBUG: cls num  : 6, elapse : 0.06714034080505371\n",
            "[2023/05/02 14:18:33] ppocr DEBUG: rec_res num  : 6, elapse : 0.6254446506500244\n"
          ]
        },
        {
          "output_type": "stream",
          "name": "stderr",
          "text": [
            "\r 27%|██▋       | 202/751 [04:00<14:21,  1.57s/it]"
          ]
        },
        {
          "output_type": "stream",
          "name": "stdout",
          "text": [
            "[2023/05/02 14:18:33] ppocr DEBUG: dt_boxes num : 3, elapse : 0.22044777870178223\n",
            "[2023/05/02 14:18:34] ppocr DEBUG: cls num  : 3, elapse : 0.03587818145751953\n",
            "[2023/05/02 14:18:34] ppocr DEBUG: rec_res num  : 3, elapse : 0.4204740524291992\n"
          ]
        },
        {
          "output_type": "stream",
          "name": "stderr",
          "text": [
            "\r 27%|██▋       | 203/751 [04:01<11:57,  1.31s/it]"
          ]
        },
        {
          "output_type": "stream",
          "name": "stdout",
          "text": [
            "[2023/05/02 14:18:34] ppocr DEBUG: dt_boxes num : 6, elapse : 0.32025790214538574\n",
            "[2023/05/02 14:18:34] ppocr DEBUG: cls num  : 6, elapse : 0.10996699333190918\n",
            "[2023/05/02 14:18:38] ppocr DEBUG: rec_res num  : 6, elapse : 3.803858518600464\n"
          ]
        },
        {
          "output_type": "stream",
          "name": "stderr",
          "text": [
            "\r 27%|██▋       | 204/751 [04:05<19:58,  2.19s/it]"
          ]
        },
        {
          "output_type": "stream",
          "name": "stdout",
          "text": [
            "[2023/05/02 14:18:39] ppocr DEBUG: dt_boxes num : 6, elapse : 0.32912111282348633\n",
            "[2023/05/02 14:18:39] ppocr DEBUG: cls num  : 6, elapse : 0.09746479988098145\n",
            "[2023/05/02 14:18:40] ppocr DEBUG: rec_res num  : 6, elapse : 1.5911993980407715\n"
          ]
        },
        {
          "output_type": "stream",
          "name": "stderr",
          "text": [
            "\r 27%|██▋       | 205/751 [04:07<19:32,  2.15s/it]"
          ]
        },
        {
          "output_type": "stream",
          "name": "stdout",
          "text": [
            "[2023/05/02 14:18:41] ppocr DEBUG: dt_boxes num : 3, elapse : 0.30843424797058105\n",
            "[2023/05/02 14:18:41] ppocr DEBUG: cls num  : 3, elapse : 0.04962658882141113\n",
            "[2023/05/02 14:18:41] ppocr DEBUG: rec_res num  : 3, elapse : 0.7665085792541504\n"
          ]
        },
        {
          "output_type": "stream",
          "name": "stderr",
          "text": [
            "\r 27%|██▋       | 206/751 [04:08<16:47,  1.85s/it]"
          ]
        },
        {
          "output_type": "stream",
          "name": "stdout",
          "text": [
            "[2023/05/02 14:18:42] ppocr DEBUG: dt_boxes num : 5, elapse : 0.30875372886657715\n",
            "[2023/05/02 14:18:42] ppocr DEBUG: cls num  : 5, elapse : 0.08058452606201172\n",
            "[2023/05/02 14:18:42] ppocr DEBUG: rec_res num  : 5, elapse : 0.6756844520568848\n"
          ]
        },
        {
          "output_type": "stream",
          "name": "stderr",
          "text": [
            "\r 28%|██▊       | 207/751 [04:09<14:41,  1.62s/it]"
          ]
        },
        {
          "output_type": "stream",
          "name": "stdout",
          "text": [
            "[2023/05/02 14:18:43] ppocr DEBUG: dt_boxes num : 2, elapse : 0.23080110549926758\n",
            "[2023/05/02 14:18:43] ppocr DEBUG: cls num  : 2, elapse : 0.022150754928588867\n",
            "[2023/05/02 14:18:43] ppocr DEBUG: rec_res num  : 2, elapse : 0.224745512008667\n"
          ]
        },
        {
          "output_type": "stream",
          "name": "stderr",
          "text": [
            "\r 28%|██▊       | 208/751 [04:10<11:37,  1.28s/it]"
          ]
        },
        {
          "output_type": "stream",
          "name": "stdout",
          "text": [
            "[2023/05/02 14:18:43] ppocr DEBUG: dt_boxes num : 2, elapse : 0.22722673416137695\n",
            "[2023/05/02 14:18:43] ppocr DEBUG: cls num  : 2, elapse : 0.02605271339416504\n",
            "[2023/05/02 14:18:43] ppocr DEBUG: rec_res num  : 2, elapse : 0.22001171112060547\n"
          ]
        },
        {
          "output_type": "stream",
          "name": "stderr",
          "text": [
            "\r 28%|██▊       | 209/751 [04:10<09:27,  1.05s/it]"
          ]
        },
        {
          "output_type": "stream",
          "name": "stdout",
          "text": [
            "[2023/05/02 14:18:44] ppocr DEBUG: dt_boxes num : 3, elapse : 0.22848200798034668\n",
            "[2023/05/02 14:18:44] ppocr DEBUG: cls num  : 3, elapse : 0.03596186637878418\n",
            "[2023/05/02 14:18:44] ppocr DEBUG: rec_res num  : 3, elapse : 0.31586313247680664\n"
          ]
        },
        {
          "output_type": "stream",
          "name": "stderr",
          "text": [
            "\r 28%|██▊       | 210/751 [04:11<08:13,  1.10it/s]"
          ]
        },
        {
          "output_type": "stream",
          "name": "stdout",
          "text": [
            "[2023/05/02 14:18:44] ppocr DEBUG: dt_boxes num : 1, elapse : 0.21515750885009766\n",
            "[2023/05/02 14:18:44] ppocr DEBUG: cls num  : 1, elapse : 0.014800786972045898\n",
            "[2023/05/02 14:18:44] ppocr DEBUG: rec_res num  : 1, elapse : 0.11651277542114258\n"
          ]
        },
        {
          "output_type": "stream",
          "name": "stderr",
          "text": [
            "\r 28%|██▊       | 211/751 [04:11<06:43,  1.34it/s]"
          ]
        },
        {
          "output_type": "stream",
          "name": "stdout",
          "text": [
            "[2023/05/02 14:18:45] ppocr DEBUG: dt_boxes num : 2, elapse : 0.21944379806518555\n",
            "[2023/05/02 14:18:45] ppocr DEBUG: cls num  : 2, elapse : 0.03356146812438965\n",
            "[2023/05/02 14:18:45] ppocr DEBUG: rec_res num  : 2, elapse : 0.21842217445373535\n"
          ]
        },
        {
          "output_type": "stream",
          "name": "stderr",
          "text": [
            "\r 28%|██▊       | 212/751 [04:12<06:01,  1.49it/s]"
          ]
        },
        {
          "output_type": "stream",
          "name": "stdout",
          "text": [
            "[2023/05/02 14:18:45] ppocr DEBUG: dt_boxes num : 1, elapse : 0.22423863410949707\n",
            "[2023/05/02 14:18:45] ppocr DEBUG: cls num  : 1, elapse : 0.016808748245239258\n",
            "[2023/05/02 14:18:45] ppocr DEBUG: rec_res num  : 1, elapse : 0.11130094528198242\n"
          ]
        },
        {
          "output_type": "stream",
          "name": "stderr",
          "text": [
            "\r 28%|██▊       | 213/751 [04:12<05:12,  1.72it/s]"
          ]
        },
        {
          "output_type": "stream",
          "name": "stdout",
          "text": [
            "[2023/05/02 14:18:46] ppocr DEBUG: dt_boxes num : 3, elapse : 0.22564959526062012\n",
            "[2023/05/02 14:18:46] ppocr DEBUG: cls num  : 3, elapse : 0.033165931701660156\n",
            "[2023/05/02 14:18:46] ppocr DEBUG: rec_res num  : 3, elapse : 0.5574743747711182\n"
          ]
        },
        {
          "output_type": "stream",
          "name": "stderr",
          "text": [
            "\r 28%|██▊       | 214/751 [04:13<05:52,  1.52it/s]"
          ]
        },
        {
          "output_type": "stream",
          "name": "stdout",
          "text": [
            "[2023/05/02 14:18:46] ppocr DEBUG: dt_boxes num : 1, elapse : 0.22048616409301758\n",
            "[2023/05/02 14:18:46] ppocr DEBUG: cls num  : 1, elapse : 0.01549839973449707\n",
            "[2023/05/02 14:18:47] ppocr DEBUG: rec_res num  : 1, elapse : 0.10820198059082031\n"
          ]
        },
        {
          "output_type": "stream",
          "name": "stderr",
          "text": [
            "\r 29%|██▊       | 215/751 [04:13<05:05,  1.76it/s]"
          ]
        },
        {
          "output_type": "stream",
          "name": "stdout",
          "text": [
            "[2023/05/02 14:18:47] ppocr DEBUG: dt_boxes num : 6, elapse : 0.2294750213623047\n",
            "[2023/05/02 14:18:47] ppocr DEBUG: cls num  : 6, elapse : 0.0668025016784668\n",
            "[2023/05/02 14:18:47] ppocr DEBUG: rec_res num  : 6, elapse : 0.6338512897491455\n"
          ]
        },
        {
          "output_type": "stream",
          "name": "stderr",
          "text": [
            "\r 29%|██▉       | 216/751 [04:14<06:06,  1.46it/s]"
          ]
        },
        {
          "output_type": "stream",
          "name": "stdout",
          "text": [
            "[2023/05/02 14:18:48] ppocr DEBUG: dt_boxes num : 8, elapse : 0.22652673721313477\n",
            "[2023/05/02 14:18:48] ppocr DEBUG: cls num  : 8, elapse : 0.08954310417175293\n",
            "[2023/05/02 14:18:49] ppocr DEBUG: rec_res num  : 8, elapse : 0.8450701236724854\n"
          ]
        },
        {
          "output_type": "stream",
          "name": "stderr",
          "text": [
            "\r 29%|██▉       | 217/751 [04:15<07:26,  1.20it/s]"
          ]
        },
        {
          "output_type": "stream",
          "name": "stdout",
          "text": [
            "[2023/05/02 14:18:49] ppocr DEBUG: dt_boxes num : 8, elapse : 0.2247452735900879\n",
            "[2023/05/02 14:18:49] ppocr DEBUG: cls num  : 8, elapse : 0.0865020751953125\n",
            "[2023/05/02 14:18:50] ppocr DEBUG: rec_res num  : 8, elapse : 0.8385751247406006\n"
          ]
        },
        {
          "output_type": "stream",
          "name": "stderr",
          "text": [
            "\r 29%|██▉       | 218/751 [04:16<08:19,  1.07it/s]"
          ]
        },
        {
          "output_type": "stream",
          "name": "stdout",
          "text": [
            "[2023/05/02 14:18:50] ppocr DEBUG: dt_boxes num : 8, elapse : 0.21942639350891113\n",
            "[2023/05/02 14:18:50] ppocr DEBUG: cls num  : 8, elapse : 0.09777164459228516\n",
            "[2023/05/02 14:18:51] ppocr DEBUG: rec_res num  : 8, elapse : 0.8337094783782959\n"
          ]
        },
        {
          "output_type": "stream",
          "name": "stderr",
          "text": [
            "\r 29%|██▉       | 219/751 [04:18<08:56,  1.01s/it]"
          ]
        },
        {
          "output_type": "stream",
          "name": "stdout",
          "text": [
            "[2023/05/02 14:18:51] ppocr DEBUG: dt_boxes num : 6, elapse : 0.23573613166809082\n",
            "[2023/05/02 14:18:51] ppocr DEBUG: cls num  : 6, elapse : 0.06653618812561035\n",
            "[2023/05/02 14:18:52] ppocr DEBUG: rec_res num  : 6, elapse : 0.6290628910064697\n"
          ]
        },
        {
          "output_type": "stream",
          "name": "stderr",
          "text": [
            "\r 29%|██▉       | 220/751 [04:19<08:46,  1.01it/s]"
          ]
        },
        {
          "output_type": "stream",
          "name": "stdout",
          "text": [
            "[2023/05/02 14:18:52] ppocr DEBUG: dt_boxes num : 3, elapse : 0.22318482398986816\n",
            "[2023/05/02 14:18:52] ppocr DEBUG: cls num  : 3, elapse : 0.03562355041503906\n",
            "[2023/05/02 14:18:53] ppocr DEBUG: rec_res num  : 3, elapse : 0.4276885986328125\n"
          ]
        },
        {
          "output_type": "stream",
          "name": "stderr",
          "text": [
            "\r 29%|██▉       | 221/751 [04:19<08:01,  1.10it/s]"
          ]
        },
        {
          "output_type": "stream",
          "name": "stdout",
          "text": [
            "[2023/05/02 14:18:53] ppocr DEBUG: dt_boxes num : 3, elapse : 0.3211660385131836\n",
            "[2023/05/02 14:18:53] ppocr DEBUG: cls num  : 3, elapse : 0.0729532241821289\n",
            "[2023/05/02 14:18:54] ppocr DEBUG: rec_res num  : 3, elapse : 0.5593447685241699\n"
          ]
        },
        {
          "output_type": "stream",
          "name": "stderr",
          "text": [
            "\r 30%|██▉       | 222/751 [04:20<08:11,  1.08it/s]"
          ]
        },
        {
          "output_type": "stream",
          "name": "stdout",
          "text": [
            "[2023/05/02 14:18:54] ppocr DEBUG: dt_boxes num : 5, elapse : 0.3223536014556885\n",
            "[2023/05/02 14:18:54] ppocr DEBUG: cls num  : 5, elapse : 0.09473800659179688\n",
            "[2023/05/02 14:18:55] ppocr DEBUG: rec_res num  : 5, elapse : 0.8962359428405762\n"
          ]
        },
        {
          "output_type": "stream",
          "name": "stderr",
          "text": [
            "\r 30%|██▉       | 223/751 [04:22<09:15,  1.05s/it]"
          ]
        },
        {
          "output_type": "stream",
          "name": "stdout",
          "text": [
            "[2023/05/02 14:18:55] ppocr DEBUG: dt_boxes num : 13, elapse : 0.34377551078796387\n",
            "[2023/05/02 14:18:56] ppocr DEBUG: cls num  : 13, elapse : 0.2621898651123047\n",
            "[2023/05/02 14:18:58] ppocr DEBUG: rec_res num  : 13, elapse : 2.3135170936584473\n"
          ]
        },
        {
          "output_type": "stream",
          "name": "stderr",
          "text": [
            "\r 30%|██▉       | 224/751 [04:25<14:14,  1.62s/it]"
          ]
        },
        {
          "output_type": "stream",
          "name": "stdout",
          "text": [
            "[2023/05/02 14:18:58] ppocr DEBUG: dt_boxes num : 4, elapse : 0.3243980407714844\n",
            "[2023/05/02 14:18:58] ppocr DEBUG: cls num  : 4, elapse : 0.0683293342590332\n",
            "[2023/05/02 14:18:59] ppocr DEBUG: rec_res num  : 4, elapse : 0.6134319305419922\n"
          ]
        },
        {
          "output_type": "stream",
          "name": "stderr",
          "text": [
            "\r 30%|██▉       | 225/751 [04:26<12:39,  1.44s/it]"
          ]
        },
        {
          "output_type": "stream",
          "name": "stdout",
          "text": [
            "[2023/05/02 14:18:59] ppocr DEBUG: dt_boxes num : 5, elapse : 0.31053876876831055\n",
            "[2023/05/02 14:18:59] ppocr DEBUG: cls num  : 5, elapse : 0.07978105545043945\n",
            "[2023/05/02 14:19:00] ppocr DEBUG: rec_res num  : 5, elapse : 0.7604022026062012\n"
          ]
        },
        {
          "output_type": "stream",
          "name": "stderr",
          "text": [
            "\r 30%|███       | 226/751 [04:27<11:55,  1.36s/it]"
          ]
        },
        {
          "output_type": "stream",
          "name": "stdout",
          "text": [
            "[2023/05/02 14:19:00] ppocr DEBUG: dt_boxes num : 5, elapse : 0.30510401725769043\n",
            "[2023/05/02 14:19:01] ppocr DEBUG: cls num  : 5, elapse : 0.09718728065490723\n",
            "[2023/05/02 14:19:01] ppocr DEBUG: rec_res num  : 5, elapse : 0.6101937294006348\n"
          ]
        },
        {
          "output_type": "stream",
          "name": "stderr",
          "text": [
            "\r 30%|███       | 227/751 [04:28<11:03,  1.27s/it]"
          ]
        },
        {
          "output_type": "stream",
          "name": "stdout",
          "text": [
            "[2023/05/02 14:19:01] ppocr DEBUG: dt_boxes num : 7, elapse : 0.2341017723083496\n",
            "[2023/05/02 14:19:02] ppocr DEBUG: cls num  : 7, elapse : 0.07993841171264648\n",
            "[2023/05/02 14:19:02] ppocr DEBUG: rec_res num  : 7, elapse : 0.8237528800964355\n"
          ]
        },
        {
          "output_type": "stream",
          "name": "stderr",
          "text": [
            "\r 30%|███       | 228/751 [04:29<10:46,  1.24s/it]"
          ]
        },
        {
          "output_type": "stream",
          "name": "stdout",
          "text": [
            "[2023/05/02 14:19:03] ppocr DEBUG: dt_boxes num : 6, elapse : 0.2834033966064453\n",
            "[2023/05/02 14:19:03] ppocr DEBUG: cls num  : 6, elapse : 0.07600116729736328\n",
            "[2023/05/02 14:19:03] ppocr DEBUG: rec_res num  : 6, elapse : 0.7242910861968994\n"
          ]
        },
        {
          "output_type": "stream",
          "name": "stderr",
          "text": [
            "\r 30%|███       | 229/751 [04:30<10:25,  1.20s/it]"
          ]
        },
        {
          "output_type": "stream",
          "name": "stdout",
          "text": [
            "[2023/05/02 14:19:04] ppocr DEBUG: dt_boxes num : 5, elapse : 0.27619409561157227\n",
            "[2023/05/02 14:19:04] ppocr DEBUG: cls num  : 5, elapse : 0.06551218032836914\n",
            "[2023/05/02 14:19:04] ppocr DEBUG: rec_res num  : 5, elapse : 0.5750641822814941\n"
          ]
        },
        {
          "output_type": "stream",
          "name": "stderr",
          "text": [
            "\r 31%|███       | 230/751 [04:31<09:45,  1.12s/it]"
          ]
        },
        {
          "output_type": "stream",
          "name": "stdout",
          "text": [
            "[2023/05/02 14:19:05] ppocr DEBUG: dt_boxes num : 1, elapse : 0.30231308937072754\n",
            "[2023/05/02 14:19:05] ppocr DEBUG: cls num  : 1, elapse : 0.022581815719604492\n",
            "[2023/05/02 14:19:05] ppocr DEBUG: rec_res num  : 1, elapse : 0.12636399269104004\n"
          ]
        },
        {
          "output_type": "stream",
          "name": "stderr",
          "text": [
            "\r 31%|███       | 231/751 [04:31<08:02,  1.08it/s]"
          ]
        },
        {
          "output_type": "stream",
          "name": "stdout",
          "text": [
            "[2023/05/02 14:19:05] ppocr DEBUG: dt_boxes num : 1, elapse : 0.27474021911621094\n",
            "[2023/05/02 14:19:05] ppocr DEBUG: cls num  : 1, elapse : 0.018473386764526367\n",
            "[2023/05/02 14:19:05] ppocr DEBUG: rec_res num  : 1, elapse : 0.12476682662963867\n"
          ]
        },
        {
          "output_type": "stream",
          "name": "stderr",
          "text": [
            "\r 31%|███       | 232/751 [04:32<06:45,  1.28it/s]"
          ]
        },
        {
          "output_type": "stream",
          "name": "stdout",
          "text": [
            "[2023/05/02 14:19:06] ppocr DEBUG: dt_boxes num : 1, elapse : 0.28084254264831543\n",
            "[2023/05/02 14:19:06] ppocr DEBUG: cls num  : 1, elapse : 0.016666889190673828\n",
            "[2023/05/02 14:19:06] ppocr DEBUG: rec_res num  : 1, elapse : 0.12998199462890625\n"
          ]
        },
        {
          "output_type": "stream",
          "name": "stderr",
          "text": [
            "\r 31%|███       | 233/751 [04:32<05:53,  1.47it/s]"
          ]
        },
        {
          "output_type": "stream",
          "name": "stdout",
          "text": [
            "[2023/05/02 14:19:06] ppocr DEBUG: dt_boxes num : 1, elapse : 0.3099861145019531\n",
            "[2023/05/02 14:19:06] ppocr DEBUG: cls num  : 1, elapse : 0.017548561096191406\n",
            "[2023/05/02 14:19:06] ppocr DEBUG: rec_res num  : 1, elapse : 0.11930489540100098\n"
          ]
        },
        {
          "output_type": "stream",
          "name": "stderr",
          "text": [
            "\r 31%|███       | 234/751 [04:33<05:19,  1.62it/s]"
          ]
        },
        {
          "output_type": "stream",
          "name": "stdout",
          "text": [
            "[2023/05/02 14:19:07] ppocr DEBUG: dt_boxes num : 1, elapse : 0.2672257423400879\n",
            "[2023/05/02 14:19:07] ppocr DEBUG: cls num  : 1, elapse : 0.01748061180114746\n",
            "[2023/05/02 14:19:07] ppocr DEBUG: rec_res num  : 1, elapse : 0.1296069622039795\n"
          ]
        },
        {
          "output_type": "stream",
          "name": "stderr",
          "text": [
            "\r 31%|███▏      | 235/751 [04:33<04:50,  1.78it/s]"
          ]
        },
        {
          "output_type": "stream",
          "name": "stdout",
          "text": [
            "[2023/05/02 14:19:07] ppocr DEBUG: dt_boxes num : 5, elapse : 0.30750012397766113\n",
            "[2023/05/02 14:19:07] ppocr DEBUG: cls num  : 5, elapse : 0.06302237510681152\n",
            "[2023/05/02 14:19:08] ppocr DEBUG: rec_res num  : 5, elapse : 0.6060969829559326\n"
          ]
        },
        {
          "output_type": "stream",
          "name": "stderr",
          "text": [
            "\r 31%|███▏      | 236/751 [04:34<05:59,  1.43it/s]"
          ]
        },
        {
          "output_type": "stream",
          "name": "stdout",
          "text": [
            "[2023/05/02 14:19:08] ppocr DEBUG: dt_boxes num : 5, elapse : 0.271892786026001\n",
            "[2023/05/02 14:19:08] ppocr DEBUG: cls num  : 5, elapse : 0.07273173332214355\n",
            "[2023/05/02 14:19:09] ppocr DEBUG: rec_res num  : 5, elapse : 0.5901000499725342\n"
          ]
        },
        {
          "output_type": "stream",
          "name": "stderr",
          "text": [
            "\r 32%|███▏      | 237/751 [04:35<06:38,  1.29it/s]"
          ]
        },
        {
          "output_type": "stream",
          "name": "stdout",
          "text": [
            "[2023/05/02 14:19:09] ppocr DEBUG: dt_boxes num : 15, elapse : 0.29195070266723633\n",
            "[2023/05/02 14:19:09] ppocr DEBUG: cls num  : 15, elapse : 0.18148136138916016\n",
            "[2023/05/02 14:19:11] ppocr DEBUG: rec_res num  : 15, elapse : 1.8504078388214111\n"
          ]
        },
        {
          "output_type": "stream",
          "name": "stderr",
          "text": [
            "\r 32%|███▏      | 238/751 [04:38<10:40,  1.25s/it]"
          ]
        },
        {
          "output_type": "stream",
          "name": "stdout",
          "text": [
            "[2023/05/02 14:19:11] ppocr DEBUG: dt_boxes num : 14, elapse : 0.3615899085998535\n",
            "[2023/05/02 14:19:12] ppocr DEBUG: cls num  : 14, elapse : 0.2724151611328125\n",
            "[2023/05/02 14:19:15] ppocr DEBUG: rec_res num  : 14, elapse : 3.0290772914886475\n"
          ]
        },
        {
          "output_type": "stream",
          "name": "stderr",
          "text": [
            "\r 32%|███▏      | 239/751 [04:41<16:56,  1.98s/it]"
          ]
        },
        {
          "output_type": "stream",
          "name": "stdout",
          "text": [
            "[2023/05/02 14:19:15] ppocr DEBUG: dt_boxes num : 3, elapse : 0.3700129985809326\n",
            "[2023/05/02 14:19:15] ppocr DEBUG: cls num  : 3, elapse : 0.0623166561126709\n",
            "[2023/05/02 14:19:16] ppocr DEBUG: rec_res num  : 3, elapse : 0.5853228569030762\n"
          ]
        },
        {
          "output_type": "stream",
          "name": "stderr",
          "text": [
            "\r 32%|███▏      | 240/751 [04:42<14:30,  1.70s/it]"
          ]
        },
        {
          "output_type": "stream",
          "name": "stdout",
          "text": [
            "[2023/05/02 14:19:16] ppocr DEBUG: dt_boxes num : 3, elapse : 0.3587658405303955\n",
            "[2023/05/02 14:19:16] ppocr DEBUG: cls num  : 3, elapse : 0.0637352466583252\n",
            "[2023/05/02 14:19:17] ppocr DEBUG: rec_res num  : 3, elapse : 0.5169613361358643\n"
          ]
        },
        {
          "output_type": "stream",
          "name": "stderr",
          "text": [
            "\r 32%|███▏      | 241/751 [04:43<12:37,  1.48s/it]"
          ]
        },
        {
          "output_type": "stream",
          "name": "stdout",
          "text": [
            "[2023/05/02 14:19:17] ppocr DEBUG: dt_boxes num : 6, elapse : 0.3336780071258545\n",
            "[2023/05/02 14:19:17] ppocr DEBUG: cls num  : 6, elapse : 0.1025838851928711\n",
            "[2023/05/02 14:19:19] ppocr DEBUG: rec_res num  : 6, elapse : 1.8485448360443115\n"
          ]
        },
        {
          "output_type": "stream",
          "name": "stderr",
          "text": [
            "\r 32%|███▏      | 242/751 [04:46<14:44,  1.74s/it]"
          ]
        },
        {
          "output_type": "stream",
          "name": "stdout",
          "text": [
            "[2023/05/02 14:19:19] ppocr DEBUG: dt_boxes num : 6, elapse : 0.3865690231323242\n",
            "[2023/05/02 14:19:20] ppocr DEBUG: cls num  : 6, elapse : 0.11040210723876953\n",
            "[2023/05/02 14:19:21] ppocr DEBUG: rec_res num  : 6, elapse : 0.9761035442352295\n"
          ]
        },
        {
          "output_type": "stream",
          "name": "stderr",
          "text": [
            "\r 32%|███▏      | 243/751 [04:47<14:07,  1.67s/it]"
          ]
        },
        {
          "output_type": "stream",
          "name": "stdout",
          "text": [
            "[2023/05/02 14:19:21] ppocr DEBUG: dt_boxes num : 6, elapse : 0.35285043716430664\n",
            "[2023/05/02 14:19:21] ppocr DEBUG: cls num  : 6, elapse : 0.06897282600402832\n",
            "[2023/05/02 14:19:22] ppocr DEBUG: rec_res num  : 6, elapse : 0.6732468605041504\n"
          ]
        },
        {
          "output_type": "stream",
          "name": "stderr",
          "text": [
            "\r 32%|███▏      | 244/751 [04:48<12:43,  1.51s/it]"
          ]
        },
        {
          "output_type": "stream",
          "name": "stdout",
          "text": [
            "[2023/05/02 14:19:22] ppocr DEBUG: dt_boxes num : 6, elapse : 0.2528038024902344\n",
            "[2023/05/02 14:19:22] ppocr DEBUG: cls num  : 6, elapse : 0.06900405883789062\n",
            "[2023/05/02 14:19:23] ppocr DEBUG: rec_res num  : 6, elapse : 0.656374454498291\n"
          ]
        },
        {
          "output_type": "stream",
          "name": "stderr",
          "text": [
            "\r 33%|███▎      | 245/751 [04:49<11:24,  1.35s/it]"
          ]
        },
        {
          "output_type": "stream",
          "name": "stdout",
          "text": [
            "[2023/05/02 14:19:23] ppocr DEBUG: dt_boxes num : 6, elapse : 0.26174259185791016\n",
            "[2023/05/02 14:19:23] ppocr DEBUG: cls num  : 6, elapse : 0.07021927833557129\n",
            "[2023/05/02 14:19:24] ppocr DEBUG: rec_res num  : 6, elapse : 0.6795897483825684\n"
          ]
        },
        {
          "output_type": "stream",
          "name": "stderr",
          "text": [
            "\r 33%|███▎      | 246/751 [04:50<10:35,  1.26s/it]"
          ]
        },
        {
          "output_type": "stream",
          "name": "stdout",
          "text": [
            "[2023/05/02 14:19:24] ppocr DEBUG: dt_boxes num : 5, elapse : 0.2500276565551758\n",
            "[2023/05/02 14:19:24] ppocr DEBUG: cls num  : 5, elapse : 0.06279540061950684\n",
            "[2023/05/02 14:19:25] ppocr DEBUG: rec_res num  : 5, elapse : 0.5699927806854248\n"
          ]
        },
        {
          "output_type": "stream",
          "name": "stderr",
          "text": [
            "\r 33%|███▎      | 247/751 [04:51<09:41,  1.15s/it]"
          ]
        },
        {
          "output_type": "stream",
          "name": "stdout",
          "text": [
            "[2023/05/02 14:19:25] ppocr DEBUG: dt_boxes num : 4, elapse : 0.24919390678405762\n",
            "[2023/05/02 14:19:25] ppocr DEBUG: cls num  : 4, elapse : 0.04881119728088379\n",
            "[2023/05/02 14:19:25] ppocr DEBUG: rec_res num  : 4, elapse : 0.45783519744873047\n"
          ]
        },
        {
          "output_type": "stream",
          "name": "stderr",
          "text": [
            "\r 33%|███▎      | 248/751 [04:52<08:43,  1.04s/it]"
          ]
        },
        {
          "output_type": "stream",
          "name": "stdout",
          "text": [
            "[2023/05/02 14:19:26] ppocr DEBUG: dt_boxes num : 3, elapse : 0.2649271488189697\n",
            "[2023/05/02 14:19:26] ppocr DEBUG: cls num  : 3, elapse : 0.042676448822021484\n",
            "[2023/05/02 14:19:26] ppocr DEBUG: rec_res num  : 3, elapse : 0.368908166885376\n"
          ]
        },
        {
          "output_type": "stream",
          "name": "stderr",
          "text": [
            "\r 33%|███▎      | 249/751 [04:53<07:51,  1.06it/s]"
          ]
        },
        {
          "output_type": "stream",
          "name": "stdout",
          "text": [
            "[2023/05/02 14:19:26] ppocr DEBUG: dt_boxes num : 6, elapse : 0.2690608501434326\n",
            "[2023/05/02 14:19:26] ppocr DEBUG: cls num  : 6, elapse : 0.08259153366088867\n",
            "[2023/05/02 14:19:27] ppocr DEBUG: rec_res num  : 6, elapse : 0.7462105751037598\n"
          ]
        },
        {
          "output_type": "stream",
          "name": "stderr",
          "text": [
            "\r 33%|███▎      | 250/751 [04:54<08:17,  1.01it/s]"
          ]
        },
        {
          "output_type": "stream",
          "name": "stdout",
          "text": [
            "[2023/05/02 14:19:27] ppocr DEBUG: dt_boxes num : 4, elapse : 0.25980234146118164\n",
            "[2023/05/02 14:19:28] ppocr DEBUG: cls num  : 4, elapse : 0.05104255676269531\n",
            "[2023/05/02 14:19:28] ppocr DEBUG: rec_res num  : 4, elapse : 0.4622321128845215\n"
          ]
        },
        {
          "output_type": "stream",
          "name": "stderr",
          "text": [
            "\r 33%|███▎      | 251/751 [04:55<07:46,  1.07it/s]"
          ]
        },
        {
          "output_type": "stream",
          "name": "stdout",
          "text": [
            "[2023/05/02 14:19:28] ppocr DEBUG: dt_boxes num : 7, elapse : 0.2571394443511963\n",
            "[2023/05/02 14:19:28] ppocr DEBUG: cls num  : 7, elapse : 0.09845089912414551\n",
            "[2023/05/02 14:19:29] ppocr DEBUG: rec_res num  : 7, elapse : 0.783745288848877\n"
          ]
        },
        {
          "output_type": "stream",
          "name": "stderr",
          "text": [
            "\r 34%|███▎      | 252/751 [04:56<08:20,  1.00s/it]"
          ]
        },
        {
          "output_type": "stream",
          "name": "stdout",
          "text": [
            "[2023/05/02 14:19:29] ppocr DEBUG: dt_boxes num : 5, elapse : 0.24720239639282227\n",
            "[2023/05/02 14:19:30] ppocr DEBUG: cls num  : 5, elapse : 0.05982661247253418\n",
            "[2023/05/02 14:19:30] ppocr DEBUG: rec_res num  : 5, elapse : 0.9809646606445312\n"
          ]
        },
        {
          "output_type": "stream",
          "name": "stderr",
          "text": [
            "\r 34%|███▎      | 253/751 [04:57<09:06,  1.10s/it]"
          ]
        },
        {
          "output_type": "stream",
          "name": "stdout",
          "text": [
            "[2023/05/02 14:19:31] ppocr DEBUG: dt_boxes num : 5, elapse : 0.2640995979309082\n",
            "[2023/05/02 14:19:31] ppocr DEBUG: cls num  : 5, elapse : 0.0689084529876709\n",
            "[2023/05/02 14:19:32] ppocr DEBUG: rec_res num  : 5, elapse : 0.8818755149841309\n"
          ]
        },
        {
          "output_type": "stream",
          "name": "stderr",
          "text": [
            "\r 34%|███▍      | 254/751 [04:58<09:25,  1.14s/it]"
          ]
        },
        {
          "output_type": "stream",
          "name": "stdout",
          "text": [
            "[2023/05/02 14:19:32] ppocr DEBUG: dt_boxes num : 4, elapse : 0.38399648666381836\n",
            "[2023/05/02 14:19:32] ppocr DEBUG: cls num  : 4, elapse : 0.08487892150878906\n",
            "[2023/05/02 14:19:33] ppocr DEBUG: rec_res num  : 4, elapse : 0.7840936183929443\n"
          ]
        },
        {
          "output_type": "stream",
          "name": "stderr",
          "text": [
            "\r 34%|███▍      | 255/751 [05:00<09:45,  1.18s/it]"
          ]
        },
        {
          "output_type": "stream",
          "name": "stdout",
          "text": [
            "[2023/05/02 14:19:33] ppocr DEBUG: dt_boxes num : 3, elapse : 0.3548719882965088\n",
            "[2023/05/02 14:19:33] ppocr DEBUG: cls num  : 3, elapse : 0.05049848556518555\n",
            "[2023/05/02 14:19:34] ppocr DEBUG: rec_res num  : 3, elapse : 0.58058762550354\n"
          ]
        },
        {
          "output_type": "stream",
          "name": "stderr",
          "text": [
            "\r 34%|███▍      | 256/751 [05:01<09:18,  1.13s/it]"
          ]
        },
        {
          "output_type": "stream",
          "name": "stdout",
          "text": [
            "[2023/05/02 14:19:34] ppocr DEBUG: dt_boxes num : 3, elapse : 0.3726649284362793\n",
            "[2023/05/02 14:19:34] ppocr DEBUG: cls num  : 3, elapse : 0.06035041809082031\n",
            "[2023/05/02 14:19:35] ppocr DEBUG: rec_res num  : 3, elapse : 0.5777246952056885\n"
          ]
        },
        {
          "output_type": "stream",
          "name": "stderr",
          "text": [
            "\r 34%|███▍      | 257/751 [05:02<09:04,  1.10s/it]"
          ]
        },
        {
          "output_type": "stream",
          "name": "stdout",
          "text": [
            "[2023/05/02 14:19:35] ppocr DEBUG: dt_boxes num : 10, elapse : 0.405322790145874\n",
            "[2023/05/02 14:19:36] ppocr DEBUG: cls num  : 10, elapse : 0.19324898719787598\n",
            "[2023/05/02 14:19:38] ppocr DEBUG: rec_res num  : 10, elapse : 2.2079927921295166\n"
          ]
        },
        {
          "output_type": "stream",
          "name": "stderr",
          "text": [
            "\r 34%|███▍      | 258/751 [05:04<13:20,  1.62s/it]"
          ]
        },
        {
          "output_type": "stream",
          "name": "stdout",
          "text": [
            "[2023/05/02 14:19:38] ppocr DEBUG: dt_boxes num : 4, elapse : 0.36167001724243164\n",
            "[2023/05/02 14:19:38] ppocr DEBUG: cls num  : 4, elapse : 0.0739736557006836\n",
            "[2023/05/02 14:19:39] ppocr DEBUG: rec_res num  : 4, elapse : 0.6498405933380127\n"
          ]
        },
        {
          "output_type": "stream",
          "name": "stderr",
          "text": [
            "\r 34%|███▍      | 259/751 [05:06<12:02,  1.47s/it]"
          ]
        },
        {
          "output_type": "stream",
          "name": "stdout",
          "text": [
            "[2023/05/02 14:19:39] ppocr DEBUG: dt_boxes num : 6, elapse : 0.358659029006958\n",
            "[2023/05/02 14:19:40] ppocr DEBUG: cls num  : 6, elapse : 0.12102365493774414\n",
            "[2023/05/02 14:19:41] ppocr DEBUG: rec_res num  : 6, elapse : 1.0254383087158203\n"
          ]
        },
        {
          "output_type": "stream",
          "name": "stderr",
          "text": [
            "\r 35%|███▍      | 260/751 [05:07<12:13,  1.49s/it]"
          ]
        },
        {
          "output_type": "stream",
          "name": "stdout",
          "text": [
            "[2023/05/02 14:19:41] ppocr DEBUG: dt_boxes num : 4, elapse : 0.3053154945373535\n",
            "[2023/05/02 14:19:41] ppocr DEBUG: cls num  : 4, elapse : 0.0561525821685791\n",
            "[2023/05/02 14:19:41] ppocr DEBUG: rec_res num  : 4, elapse : 0.4659252166748047\n"
          ]
        },
        {
          "output_type": "stream",
          "name": "stderr",
          "text": [
            "\r 35%|███▍      | 261/751 [05:08<10:37,  1.30s/it]"
          ]
        },
        {
          "output_type": "stream",
          "name": "stdout",
          "text": [
            "[2023/05/02 14:19:42] ppocr DEBUG: dt_boxes num : 2, elapse : 0.27155041694641113\n",
            "[2023/05/02 14:19:42] ppocr DEBUG: cls num  : 2, elapse : 0.03438973426818848\n",
            "[2023/05/02 14:19:42] ppocr DEBUG: rec_res num  : 2, elapse : 0.2329857349395752\n"
          ]
        },
        {
          "output_type": "stream",
          "name": "stderr",
          "text": [
            "\r 35%|███▍      | 262/751 [05:09<08:48,  1.08s/it]"
          ]
        },
        {
          "output_type": "stream",
          "name": "stdout",
          "text": [
            "[2023/05/02 14:19:42] ppocr DEBUG: dt_boxes num : 2, elapse : 0.2682619094848633\n",
            "[2023/05/02 14:19:42] ppocr DEBUG: cls num  : 2, elapse : 0.03162956237792969\n",
            "[2023/05/02 14:19:43] ppocr DEBUG: rec_res num  : 2, elapse : 0.24426722526550293\n"
          ]
        },
        {
          "output_type": "stream",
          "name": "stderr",
          "text": [
            "\r 35%|███▌      | 263/751 [05:09<07:31,  1.08it/s]"
          ]
        },
        {
          "output_type": "stream",
          "name": "stdout",
          "text": [
            "[2023/05/02 14:19:43] ppocr DEBUG: dt_boxes num : 8, elapse : 0.2693800926208496\n",
            "[2023/05/02 14:19:43] ppocr DEBUG: cls num  : 8, elapse : 0.11335468292236328\n",
            "[2023/05/02 14:19:44] ppocr DEBUG: rec_res num  : 8, elapse : 0.9899904727935791\n"
          ]
        },
        {
          "output_type": "stream",
          "name": "stderr",
          "text": [
            "\r 35%|███▌      | 264/751 [05:11<08:40,  1.07s/it]"
          ]
        },
        {
          "output_type": "stream",
          "name": "stdout",
          "text": [
            "[2023/05/02 14:19:44] ppocr DEBUG: dt_boxes num : 1, elapse : 0.24531960487365723\n",
            "[2023/05/02 14:19:44] ppocr DEBUG: cls num  : 1, elapse : 0.02143692970275879\n",
            "[2023/05/02 14:19:44] ppocr DEBUG: rec_res num  : 1, elapse : 0.1340324878692627\n"
          ]
        },
        {
          "output_type": "stream",
          "name": "stderr",
          "text": [
            "\r 35%|███▌      | 265/751 [05:11<07:05,  1.14it/s]"
          ]
        },
        {
          "output_type": "stream",
          "name": "stdout",
          "text": [
            "[2023/05/02 14:19:45] ppocr DEBUG: dt_boxes num : 4, elapse : 0.30244898796081543\n",
            "[2023/05/02 14:19:45] ppocr DEBUG: cls num  : 4, elapse : 0.05110955238342285\n",
            "[2023/05/02 14:19:45] ppocr DEBUG: rec_res num  : 4, elapse : 0.47792649269104004\n"
          ]
        },
        {
          "output_type": "stream",
          "name": "stderr",
          "text": [
            "\r 35%|███▌      | 266/751 [05:12<07:01,  1.15it/s]"
          ]
        },
        {
          "output_type": "stream",
          "name": "stdout",
          "text": [
            "[2023/05/02 14:19:45] ppocr DEBUG: dt_boxes num : 5, elapse : 0.26308274269104004\n",
            "[2023/05/02 14:19:46] ppocr DEBUG: cls num  : 5, elapse : 0.0715029239654541\n",
            "[2023/05/02 14:19:46] ppocr DEBUG: rec_res num  : 5, elapse : 0.5560085773468018\n"
          ]
        },
        {
          "output_type": "stream",
          "name": "stderr",
          "text": [
            "\r 36%|███▌      | 267/751 [05:13<07:08,  1.13it/s]"
          ]
        },
        {
          "output_type": "stream",
          "name": "stdout",
          "text": [
            "[2023/05/02 14:19:46] ppocr DEBUG: dt_boxes num : 0, elapse : 0.2433643341064453\n",
            "[2023/05/02 14:19:46] ppocr DEBUG: cls num  : 0, elapse : 0\n",
            "[2023/05/02 14:19:46] ppocr DEBUG: rec_res num  : 0, elapse : 2.86102294921875e-06\n"
          ]
        },
        {
          "output_type": "stream",
          "name": "stderr",
          "text": [
            "\r 36%|███▌      | 268/751 [05:13<05:39,  1.42it/s]"
          ]
        },
        {
          "output_type": "stream",
          "name": "stdout",
          "text": [
            "[2023/05/02 14:19:47] ppocr DEBUG: dt_boxes num : 1, elapse : 0.2839016914367676\n",
            "[2023/05/02 14:19:47] ppocr DEBUG: cls num  : 1, elapse : 0.01679515838623047\n",
            "[2023/05/02 14:19:47] ppocr DEBUG: rec_res num  : 1, elapse : 0.11547636985778809\n"
          ]
        },
        {
          "output_type": "stream",
          "name": "stderr",
          "text": [
            "\r 36%|███▌      | 269/751 [05:13<05:00,  1.61it/s]"
          ]
        },
        {
          "output_type": "stream",
          "name": "stdout",
          "text": [
            "[2023/05/02 14:19:47] ppocr DEBUG: dt_boxes num : 1, elapse : 0.25781702995300293\n",
            "[2023/05/02 14:19:47] ppocr DEBUG: cls num  : 1, elapse : 0.016857624053955078\n",
            "[2023/05/02 14:19:47] ppocr DEBUG: rec_res num  : 1, elapse : 0.11427450180053711\n"
          ]
        },
        {
          "output_type": "stream",
          "name": "stderr",
          "text": [
            "\r 36%|███▌      | 270/751 [05:14<04:28,  1.79it/s]"
          ]
        },
        {
          "output_type": "stream",
          "name": "stdout",
          "text": [
            "[2023/05/02 14:19:48] ppocr DEBUG: dt_boxes num : 1, elapse : 0.26889562606811523\n",
            "[2023/05/02 14:19:48] ppocr DEBUG: cls num  : 1, elapse : 0.017972469329833984\n",
            "[2023/05/02 14:19:48] ppocr DEBUG: rec_res num  : 1, elapse : 0.12994098663330078\n"
          ]
        },
        {
          "output_type": "stream",
          "name": "stderr",
          "text": [
            "\r 36%|███▌      | 271/751 [05:14<04:10,  1.92it/s]"
          ]
        },
        {
          "output_type": "stream",
          "name": "stdout",
          "text": [
            "[2023/05/02 14:19:48] ppocr DEBUG: dt_boxes num : 1, elapse : 0.2635231018066406\n",
            "[2023/05/02 14:19:48] ppocr DEBUG: cls num  : 1, elapse : 0.015374422073364258\n",
            "[2023/05/02 14:19:48] ppocr DEBUG: rec_res num  : 1, elapse : 0.1235661506652832\n"
          ]
        },
        {
          "output_type": "stream",
          "name": "stderr",
          "text": [
            "\r 36%|███▌      | 272/751 [05:15<03:55,  2.03it/s]"
          ]
        },
        {
          "output_type": "stream",
          "name": "stdout",
          "text": [
            "[2023/05/02 14:19:48] ppocr DEBUG: dt_boxes num : 0, elapse : 0.24342060089111328\n",
            "[2023/05/02 14:19:48] ppocr DEBUG: cls num  : 0, elapse : 0\n",
            "[2023/05/02 14:19:48] ppocr DEBUG: rec_res num  : 0, elapse : 3.814697265625e-06\n"
          ]
        },
        {
          "output_type": "stream",
          "name": "stderr",
          "text": [
            "\r 36%|███▋      | 273/751 [05:15<03:23,  2.35it/s]"
          ]
        },
        {
          "output_type": "stream",
          "name": "stdout",
          "text": [
            "[2023/05/02 14:19:49] ppocr DEBUG: dt_boxes num : 3, elapse : 0.2782468795776367\n",
            "[2023/05/02 14:19:49] ppocr DEBUG: cls num  : 3, elapse : 0.05301809310913086\n",
            "[2023/05/02 14:19:49] ppocr DEBUG: rec_res num  : 3, elapse : 0.34352636337280273\n"
          ]
        },
        {
          "output_type": "stream",
          "name": "stderr",
          "text": [
            "\r 36%|███▋      | 274/751 [05:16<04:02,  1.97it/s]"
          ]
        },
        {
          "output_type": "stream",
          "name": "stdout",
          "text": [
            "[2023/05/02 14:19:49] ppocr DEBUG: dt_boxes num : 2, elapse : 0.2610318660736084\n",
            "[2023/05/02 14:19:49] ppocr DEBUG: cls num  : 2, elapse : 0.04394245147705078\n",
            "[2023/05/02 14:19:50] ppocr DEBUG: rec_res num  : 2, elapse : 0.23853826522827148\n"
          ]
        },
        {
          "output_type": "stream",
          "name": "stderr",
          "text": [
            "\r 37%|███▋      | 275/751 [05:16<04:09,  1.91it/s]"
          ]
        },
        {
          "output_type": "stream",
          "name": "stdout",
          "text": [
            "[2023/05/02 14:19:50] ppocr DEBUG: dt_boxes num : 4, elapse : 0.2757859230041504\n",
            "[2023/05/02 14:19:50] ppocr DEBUG: cls num  : 4, elapse : 0.05276989936828613\n",
            "[2023/05/02 14:19:50] ppocr DEBUG: rec_res num  : 4, elapse : 0.45801305770874023\n"
          ]
        },
        {
          "output_type": "stream",
          "name": "stderr",
          "text": [
            "\r 37%|███▋      | 276/751 [05:17<04:49,  1.64it/s]"
          ]
        },
        {
          "output_type": "stream",
          "name": "stdout",
          "text": [
            "[2023/05/02 14:19:51] ppocr DEBUG: dt_boxes num : 4, elapse : 0.2993659973144531\n",
            "[2023/05/02 14:19:51] ppocr DEBUG: cls num  : 4, elapse : 0.07973504066467285\n",
            "[2023/05/02 14:19:52] ppocr DEBUG: rec_res num  : 4, elapse : 0.7395682334899902\n"
          ]
        },
        {
          "output_type": "stream",
          "name": "stderr",
          "text": [
            "\r 37%|███▋      | 277/751 [05:18<06:05,  1.30it/s]"
          ]
        },
        {
          "output_type": "stream",
          "name": "stdout",
          "text": [
            "[2023/05/02 14:19:52] ppocr DEBUG: dt_boxes num : 7, elapse : 0.37135815620422363\n",
            "[2023/05/02 14:19:52] ppocr DEBUG: cls num  : 7, elapse : 0.13570809364318848\n",
            "[2023/05/02 14:19:54] ppocr DEBUG: rec_res num  : 7, elapse : 1.779592514038086\n"
          ]
        },
        {
          "output_type": "stream",
          "name": "stderr",
          "text": [
            "\r 37%|███▋      | 278/751 [05:21<09:45,  1.24s/it]"
          ]
        },
        {
          "output_type": "stream",
          "name": "stdout",
          "text": [
            "[2023/05/02 14:19:54] ppocr DEBUG: dt_boxes num : 3, elapse : 0.38982510566711426\n",
            "[2023/05/02 14:19:54] ppocr DEBUG: cls num  : 3, elapse : 0.05761528015136719\n",
            "[2023/05/02 14:19:55] ppocr DEBUG: rec_res num  : 3, elapse : 0.5817666053771973\n"
          ]
        },
        {
          "output_type": "stream",
          "name": "stderr",
          "text": [
            "\r 37%|███▋      | 279/751 [05:22<09:17,  1.18s/it]"
          ]
        },
        {
          "output_type": "stream",
          "name": "stdout",
          "text": [
            "[2023/05/02 14:19:55] ppocr DEBUG: dt_boxes num : 3, elapse : 0.38856959342956543\n",
            "[2023/05/02 14:19:55] ppocr DEBUG: cls num  : 3, elapse : 0.06068825721740723\n",
            "[2023/05/02 14:19:56] ppocr DEBUG: rec_res num  : 3, elapse : 0.5756087303161621\n"
          ]
        },
        {
          "output_type": "stream",
          "name": "stderr",
          "text": [
            "\r 37%|███▋      | 280/751 [05:23<08:59,  1.14s/it]"
          ]
        },
        {
          "output_type": "stream",
          "name": "stdout",
          "text": [
            "[2023/05/02 14:19:56] ppocr DEBUG: dt_boxes num : 4, elapse : 0.3502476215362549\n",
            "[2023/05/02 14:19:56] ppocr DEBUG: cls num  : 4, elapse : 0.06864380836486816\n",
            "[2023/05/02 14:19:57] ppocr DEBUG: rec_res num  : 4, elapse : 0.6427614688873291\n"
          ]
        },
        {
          "output_type": "stream",
          "name": "stderr",
          "text": [
            "\r 37%|███▋      | 281/751 [05:24<08:50,  1.13s/it]"
          ]
        },
        {
          "output_type": "stream",
          "name": "stdout",
          "text": [
            "[2023/05/02 14:19:57] ppocr DEBUG: dt_boxes num : 8, elapse : 0.3306901454925537\n",
            "[2023/05/02 14:19:58] ppocr DEBUG: cls num  : 8, elapse : 0.1387958526611328\n",
            "[2023/05/02 14:19:59] ppocr DEBUG: rec_res num  : 8, elapse : 1.3917531967163086\n"
          ]
        },
        {
          "output_type": "stream",
          "name": "stderr",
          "text": [
            "\r 38%|███▊      | 282/751 [05:26<10:37,  1.36s/it]"
          ]
        },
        {
          "output_type": "stream",
          "name": "stdout",
          "text": [
            "[2023/05/02 14:19:59] ppocr DEBUG: dt_boxes num : 7, elapse : 0.31501173973083496\n",
            "[2023/05/02 14:19:59] ppocr DEBUG: cls num  : 7, elapse : 0.11850214004516602\n",
            "[2023/05/02 14:20:00] ppocr DEBUG: rec_res num  : 7, elapse : 0.9893889427185059\n"
          ]
        },
        {
          "output_type": "stream",
          "name": "stderr",
          "text": [
            "\r 38%|███▊      | 283/751 [05:27<10:50,  1.39s/it]"
          ]
        },
        {
          "output_type": "stream",
          "name": "stdout",
          "text": [
            "[2023/05/02 14:20:01] ppocr DEBUG: dt_boxes num : 7, elapse : 0.2375657558441162\n",
            "[2023/05/02 14:20:01] ppocr DEBUG: cls num  : 7, elapse : 0.08493161201477051\n",
            "[2023/05/02 14:20:02] ppocr DEBUG: rec_res num  : 7, elapse : 0.9161989688873291\n"
          ]
        },
        {
          "output_type": "stream",
          "name": "stderr",
          "text": [
            "\r 38%|███▊      | 284/751 [05:28<10:31,  1.35s/it]"
          ]
        },
        {
          "output_type": "stream",
          "name": "stdout",
          "text": [
            "[2023/05/02 14:20:02] ppocr DEBUG: dt_boxes num : 8, elapse : 0.22410917282104492\n",
            "[2023/05/02 14:20:02] ppocr DEBUG: cls num  : 8, elapse : 0.08848810195922852\n",
            "[2023/05/02 14:20:03] ppocr DEBUG: rec_res num  : 8, elapse : 1.0043108463287354\n"
          ]
        },
        {
          "output_type": "stream",
          "name": "stderr",
          "text": [
            "\r 38%|███▊      | 285/751 [05:30<10:28,  1.35s/it]"
          ]
        },
        {
          "output_type": "stream",
          "name": "stdout",
          "text": [
            "[2023/05/02 14:20:03] ppocr DEBUG: dt_boxes num : 8, elapse : 0.25980043411254883\n",
            "[2023/05/02 14:20:03] ppocr DEBUG: cls num  : 8, elapse : 0.10104107856750488\n",
            "[2023/05/02 14:20:04] ppocr DEBUG: rec_res num  : 8, elapse : 0.9113526344299316\n"
          ]
        },
        {
          "output_type": "stream",
          "name": "stderr",
          "text": [
            "\r 38%|███▊      | 286/751 [05:31<10:19,  1.33s/it]"
          ]
        },
        {
          "output_type": "stream",
          "name": "stdout",
          "text": [
            "[2023/05/02 14:20:05] ppocr DEBUG: dt_boxes num : 1, elapse : 0.2895538806915283\n",
            "[2023/05/02 14:20:05] ppocr DEBUG: cls num  : 1, elapse : 0.019502639770507812\n",
            "[2023/05/02 14:20:05] ppocr DEBUG: rec_res num  : 1, elapse : 0.1209862232208252\n"
          ]
        },
        {
          "output_type": "stream",
          "name": "stderr",
          "text": [
            "\r 38%|███▊      | 287/751 [05:31<08:15,  1.07s/it]"
          ]
        },
        {
          "output_type": "stream",
          "name": "stdout",
          "text": [
            "[2023/05/02 14:20:05] ppocr DEBUG: dt_boxes num : 3, elapse : 0.27203869819641113\n",
            "[2023/05/02 14:20:05] ppocr DEBUG: cls num  : 3, elapse : 0.04047679901123047\n",
            "[2023/05/02 14:20:06] ppocr DEBUG: rec_res num  : 3, elapse : 0.36351680755615234\n"
          ]
        },
        {
          "output_type": "stream",
          "name": "stderr",
          "text": [
            "\r 38%|███▊      | 288/751 [05:32<07:23,  1.04it/s]"
          ]
        },
        {
          "output_type": "stream",
          "name": "stdout",
          "text": [
            "[2023/05/02 14:20:06] ppocr DEBUG: dt_boxes num : 4, elapse : 0.26258420944213867\n",
            "[2023/05/02 14:20:06] ppocr DEBUG: cls num  : 4, elapse : 0.05866670608520508\n",
            "[2023/05/02 14:20:06] ppocr DEBUG: rec_res num  : 4, elapse : 0.476184606552124\n"
          ]
        },
        {
          "output_type": "stream",
          "name": "stderr",
          "text": [
            "\r 38%|███▊      | 289/751 [05:33<07:04,  1.09it/s]"
          ]
        },
        {
          "output_type": "stream",
          "name": "stdout",
          "text": [
            "[2023/05/02 14:20:07] ppocr DEBUG: dt_boxes num : 4, elapse : 0.2583179473876953\n",
            "[2023/05/02 14:20:07] ppocr DEBUG: cls num  : 4, elapse : 0.0505828857421875\n",
            "[2023/05/02 14:20:07] ppocr DEBUG: rec_res num  : 4, elapse : 0.45381689071655273\n"
          ]
        },
        {
          "output_type": "stream",
          "name": "stderr",
          "text": [
            "\r 39%|███▊      | 290/751 [05:34<06:45,  1.14it/s]"
          ]
        },
        {
          "output_type": "stream",
          "name": "stdout",
          "text": [
            "[2023/05/02 14:20:07] ppocr DEBUG: dt_boxes num : 4, elapse : 0.2837519645690918\n",
            "[2023/05/02 14:20:08] ppocr DEBUG: cls num  : 4, elapse : 0.054671525955200195\n",
            "[2023/05/02 14:20:08] ppocr DEBUG: rec_res num  : 4, elapse : 0.44119811058044434\n"
          ]
        },
        {
          "output_type": "stream",
          "name": "stderr",
          "text": [
            "\r 39%|███▊      | 291/751 [05:35<06:33,  1.17it/s]"
          ]
        },
        {
          "output_type": "stream",
          "name": "stdout",
          "text": [
            "[2023/05/02 14:20:08] ppocr DEBUG: dt_boxes num : 5, elapse : 0.24866175651550293\n",
            "[2023/05/02 14:20:08] ppocr DEBUG: cls num  : 5, elapse : 0.05726194381713867\n",
            "[2023/05/02 14:20:09] ppocr DEBUG: rec_res num  : 5, elapse : 0.5762763023376465\n"
          ]
        },
        {
          "output_type": "stream",
          "name": "stderr",
          "text": [
            "\r 39%|███▉      | 292/751 [05:35<06:41,  1.14it/s]"
          ]
        },
        {
          "output_type": "stream",
          "name": "stdout",
          "text": [
            "[2023/05/02 14:20:09] ppocr DEBUG: dt_boxes num : 3, elapse : 0.27587103843688965\n",
            "[2023/05/02 14:20:09] ppocr DEBUG: cls num  : 3, elapse : 0.04528093338012695\n",
            "[2023/05/02 14:20:10] ppocr DEBUG: rec_res num  : 3, elapse : 0.35083818435668945\n"
          ]
        },
        {
          "output_type": "stream",
          "name": "stderr",
          "text": [
            "\r 39%|███▉      | 293/751 [05:36<06:14,  1.22it/s]"
          ]
        },
        {
          "output_type": "stream",
          "name": "stdout",
          "text": [
            "[2023/05/02 14:20:10] ppocr DEBUG: dt_boxes num : 5, elapse : 0.2473890781402588\n",
            "[2023/05/02 14:20:10] ppocr DEBUG: cls num  : 5, elapse : 0.06402945518493652\n",
            "[2023/05/02 14:20:11] ppocr DEBUG: rec_res num  : 5, elapse : 0.8060853481292725\n"
          ]
        },
        {
          "output_type": "stream",
          "name": "stderr",
          "text": [
            "\r 39%|███▉      | 294/751 [05:37<06:59,  1.09it/s]"
          ]
        },
        {
          "output_type": "stream",
          "name": "stdout",
          "text": [
            "[2023/05/02 14:20:11] ppocr DEBUG: dt_boxes num : 5, elapse : 0.36733055114746094\n",
            "[2023/05/02 14:20:11] ppocr DEBUG: cls num  : 5, elapse : 0.09157347679138184\n",
            "[2023/05/02 14:20:12] ppocr DEBUG: rec_res num  : 5, elapse : 0.9620640277862549\n"
          ]
        },
        {
          "output_type": "stream",
          "name": "stderr",
          "text": [
            "\r 39%|███▉      | 295/751 [05:39<08:10,  1.08s/it]"
          ]
        },
        {
          "output_type": "stream",
          "name": "stdout",
          "text": [
            "[2023/05/02 14:20:13] ppocr DEBUG: dt_boxes num : 3, elapse : 0.39290428161621094\n",
            "[2023/05/02 14:20:13] ppocr DEBUG: cls num  : 3, elapse : 0.061727046966552734\n",
            "[2023/05/02 14:20:13] ppocr DEBUG: rec_res num  : 3, elapse : 0.6144778728485107\n"
          ]
        },
        {
          "output_type": "stream",
          "name": "stderr",
          "text": [
            "\r 39%|███▉      | 296/751 [05:40<08:12,  1.08s/it]"
          ]
        },
        {
          "output_type": "stream",
          "name": "stdout",
          "text": [
            "[2023/05/02 14:20:14] ppocr DEBUG: dt_boxes num : 4, elapse : 0.3950920104980469\n",
            "[2023/05/02 14:20:14] ppocr DEBUG: cls num  : 4, elapse : 0.0846858024597168\n",
            "[2023/05/02 14:20:15] ppocr DEBUG: rec_res num  : 4, elapse : 0.7766778469085693\n"
          ]
        },
        {
          "output_type": "stream",
          "name": "stderr",
          "text": [
            "\r 40%|███▉      | 297/751 [05:41<08:39,  1.14s/it]"
          ]
        },
        {
          "output_type": "stream",
          "name": "stdout",
          "text": [
            "[2023/05/02 14:20:15] ppocr DEBUG: dt_boxes num : 3, elapse : 0.36957311630249023\n",
            "[2023/05/02 14:20:15] ppocr DEBUG: cls num  : 3, elapse : 0.06814932823181152\n",
            "[2023/05/02 14:20:16] ppocr DEBUG: rec_res num  : 3, elapse : 0.5514163970947266\n"
          ]
        },
        {
          "output_type": "stream",
          "name": "stderr",
          "text": [
            "\r 40%|███▉      | 298/751 [05:42<08:22,  1.11s/it]"
          ]
        },
        {
          "output_type": "stream",
          "name": "stdout",
          "text": [
            "[2023/05/02 14:20:16] ppocr DEBUG: dt_boxes num : 2, elapse : 0.3370809555053711\n",
            "[2023/05/02 14:20:16] ppocr DEBUG: cls num  : 2, elapse : 0.03642153739929199\n",
            "[2023/05/02 14:20:16] ppocr DEBUG: rec_res num  : 2, elapse : 0.32053613662719727\n"
          ]
        },
        {
          "output_type": "stream",
          "name": "stderr",
          "text": [
            "\r 40%|███▉      | 299/751 [05:43<07:27,  1.01it/s]"
          ]
        },
        {
          "output_type": "stream",
          "name": "stdout",
          "text": [
            "[2023/05/02 14:20:17] ppocr DEBUG: dt_boxes num : 3, elapse : 0.3407459259033203\n",
            "[2023/05/02 14:20:17] ppocr DEBUG: cls num  : 3, elapse : 0.053884029388427734\n",
            "[2023/05/02 14:20:17] ppocr DEBUG: rec_res num  : 3, elapse : 0.49121570587158203\n"
          ]
        },
        {
          "output_type": "stream",
          "name": "stderr",
          "text": [
            "\r 40%|███▉      | 300/751 [05:44<07:15,  1.04it/s]"
          ]
        },
        {
          "output_type": "stream",
          "name": "stdout",
          "text": [
            "[2023/05/02 14:20:18] ppocr DEBUG: dt_boxes num : 3, elapse : 0.35967350006103516\n",
            "[2023/05/02 14:20:18] ppocr DEBUG: cls num  : 3, elapse : 0.05451011657714844\n",
            "[2023/05/02 14:20:18] ppocr DEBUG: rec_res num  : 3, elapse : 0.48320674896240234\n"
          ]
        },
        {
          "output_type": "stream",
          "name": "stderr",
          "text": [
            "\r 40%|████      | 301/751 [05:45<07:08,  1.05it/s]"
          ]
        },
        {
          "output_type": "stream",
          "name": "stdout",
          "text": [
            "[2023/05/02 14:20:18] ppocr DEBUG: dt_boxes num : 3, elapse : 0.33343052864074707\n",
            "[2023/05/02 14:20:19] ppocr DEBUG: cls num  : 3, elapse : 0.06459236145019531\n",
            "[2023/05/02 14:20:19] ppocr DEBUG: rec_res num  : 3, elapse : 0.48982954025268555\n"
          ]
        },
        {
          "output_type": "stream",
          "name": "stderr",
          "text": [
            "\r 40%|████      | 302/751 [05:46<07:02,  1.06it/s]"
          ]
        },
        {
          "output_type": "stream",
          "name": "stdout",
          "text": [
            "[2023/05/02 14:20:19] ppocr DEBUG: dt_boxes num : 3, elapse : 0.3677036762237549\n",
            "[2023/05/02 14:20:19] ppocr DEBUG: cls num  : 3, elapse : 0.06343269348144531\n",
            "[2023/05/02 14:20:20] ppocr DEBUG: rec_res num  : 3, elapse : 0.49845433235168457\n"
          ]
        },
        {
          "output_type": "stream",
          "name": "stderr",
          "text": [
            "\r 40%|████      | 303/751 [05:47<07:03,  1.06it/s]"
          ]
        },
        {
          "output_type": "stream",
          "name": "stdout",
          "text": [
            "[2023/05/02 14:20:20] ppocr DEBUG: dt_boxes num : 3, elapse : 0.29355430603027344\n",
            "[2023/05/02 14:20:20] ppocr DEBUG: cls num  : 3, elapse : 0.04182600975036621\n",
            "[2023/05/02 14:20:21] ppocr DEBUG: rec_res num  : 3, elapse : 0.35614871978759766\n"
          ]
        },
        {
          "output_type": "stream",
          "name": "stderr",
          "text": [
            "\r 40%|████      | 304/751 [05:47<06:31,  1.14it/s]"
          ]
        },
        {
          "output_type": "stream",
          "name": "stdout",
          "text": [
            "[2023/05/02 14:20:21] ppocr DEBUG: dt_boxes num : 3, elapse : 0.2562129497528076\n",
            "[2023/05/02 14:20:21] ppocr DEBUG: cls num  : 3, elapse : 0.06210660934448242\n",
            "[2023/05/02 14:20:21] ppocr DEBUG: rec_res num  : 3, elapse : 0.35735321044921875\n"
          ]
        },
        {
          "output_type": "stream",
          "name": "stderr",
          "text": [
            "\r 41%|████      | 305/751 [05:48<06:06,  1.22it/s]"
          ]
        },
        {
          "output_type": "stream",
          "name": "stdout",
          "text": [
            "[2023/05/02 14:20:22] ppocr DEBUG: dt_boxes num : 13, elapse : 0.2622067928314209\n",
            "[2023/05/02 14:20:22] ppocr DEBUG: cls num  : 13, elapse : 0.16479730606079102\n",
            "[2023/05/02 14:20:23] ppocr DEBUG: rec_res num  : 13, elapse : 1.5007972717285156\n"
          ]
        },
        {
          "output_type": "stream",
          "name": "stderr",
          "text": [
            "\r 41%|████      | 306/751 [05:50<08:37,  1.16s/it]"
          ]
        },
        {
          "output_type": "stream",
          "name": "stdout",
          "text": [
            "[2023/05/02 14:20:24] ppocr DEBUG: dt_boxes num : 7, elapse : 0.2778747081756592\n",
            "[2023/05/02 14:20:24] ppocr DEBUG: cls num  : 7, elapse : 0.08677983283996582\n",
            "[2023/05/02 14:20:25] ppocr DEBUG: rec_res num  : 7, elapse : 0.8095402717590332\n"
          ]
        },
        {
          "output_type": "stream",
          "name": "stderr",
          "text": [
            "\r 41%|████      | 307/751 [05:51<08:40,  1.17s/it]"
          ]
        },
        {
          "output_type": "stream",
          "name": "stdout",
          "text": [
            "[2023/05/02 14:20:25] ppocr DEBUG: dt_boxes num : 4, elapse : 0.2620227336883545\n",
            "[2023/05/02 14:20:25] ppocr DEBUG: cls num  : 4, elapse : 0.04846358299255371\n",
            "[2023/05/02 14:20:25] ppocr DEBUG: rec_res num  : 4, elapse : 0.453993558883667\n"
          ]
        },
        {
          "output_type": "stream",
          "name": "stderr",
          "text": [
            "\r 41%|████      | 308/751 [05:52<07:48,  1.06s/it]"
          ]
        },
        {
          "output_type": "stream",
          "name": "stdout",
          "text": [
            "[2023/05/02 14:20:26] ppocr DEBUG: dt_boxes num : 3, elapse : 0.2485036849975586\n",
            "[2023/05/02 14:20:26] ppocr DEBUG: cls num  : 3, elapse : 0.04304790496826172\n",
            "[2023/05/02 14:20:26] ppocr DEBUG: rec_res num  : 3, elapse : 0.33452725410461426\n"
          ]
        },
        {
          "output_type": "stream",
          "name": "stderr",
          "text": [
            "\r 41%|████      | 309/751 [05:53<06:52,  1.07it/s]"
          ]
        },
        {
          "output_type": "stream",
          "name": "stdout",
          "text": [
            "[2023/05/02 14:20:26] ppocr DEBUG: dt_boxes num : 7, elapse : 0.26532721519470215\n",
            "[2023/05/02 14:20:26] ppocr DEBUG: cls num  : 7, elapse : 0.0829629898071289\n",
            "[2023/05/02 14:20:27] ppocr DEBUG: rec_res num  : 7, elapse : 0.7801880836486816\n"
          ]
        },
        {
          "output_type": "stream",
          "name": "stderr",
          "text": [
            "\r 41%|████▏     | 310/751 [05:54<07:20,  1.00it/s]"
          ]
        },
        {
          "output_type": "stream",
          "name": "stdout",
          "text": [
            "[2023/05/02 14:20:27] ppocr DEBUG: dt_boxes num : 4, elapse : 0.2734856605529785\n",
            "[2023/05/02 14:20:27] ppocr DEBUG: cls num  : 4, elapse : 0.054302215576171875\n",
            "[2023/05/02 14:20:28] ppocr DEBUG: rec_res num  : 4, elapse : 0.4393606185913086\n"
          ]
        },
        {
          "output_type": "stream",
          "name": "stderr",
          "text": [
            "\r 41%|████▏     | 311/751 [05:54<06:52,  1.07it/s]"
          ]
        },
        {
          "output_type": "stream",
          "name": "stdout",
          "text": [
            "[2023/05/02 14:20:28] ppocr DEBUG: dt_boxes num : 1, elapse : 0.24939417839050293\n",
            "[2023/05/02 14:20:28] ppocr DEBUG: cls num  : 1, elapse : 0.018343448638916016\n",
            "[2023/05/02 14:20:28] ppocr DEBUG: rec_res num  : 1, elapse : 0.12421154975891113\n"
          ]
        },
        {
          "output_type": "stream",
          "name": "stderr",
          "text": [
            "\r 42%|████▏     | 312/751 [05:55<05:41,  1.28it/s]"
          ]
        },
        {
          "output_type": "stream",
          "name": "stdout",
          "text": [
            "[2023/05/02 14:20:29] ppocr DEBUG: dt_boxes num : 1, elapse : 0.244215726852417\n",
            "[2023/05/02 14:20:29] ppocr DEBUG: cls num  : 1, elapse : 0.016338348388671875\n",
            "[2023/05/02 14:20:29] ppocr DEBUG: rec_res num  : 1, elapse : 0.11403441429138184\n"
          ]
        },
        {
          "output_type": "stream",
          "name": "stderr",
          "text": [
            "\r 42%|████▏     | 313/751 [05:55<04:50,  1.51it/s]"
          ]
        },
        {
          "output_type": "stream",
          "name": "stdout",
          "text": [
            "[2023/05/02 14:20:29] ppocr DEBUG: dt_boxes num : 3, elapse : 0.26523518562316895\n",
            "[2023/05/02 14:20:29] ppocr DEBUG: cls num  : 3, elapse : 0.040801048278808594\n",
            "[2023/05/02 14:20:29] ppocr DEBUG: rec_res num  : 3, elapse : 0.3460659980773926\n"
          ]
        },
        {
          "output_type": "stream",
          "name": "stderr",
          "text": [
            "\r 42%|████▏     | 314/751 [05:56<04:50,  1.50it/s]"
          ]
        },
        {
          "output_type": "stream",
          "name": "stdout",
          "text": [
            "[2023/05/02 14:20:30] ppocr DEBUG: dt_boxes num : 1, elapse : 0.2715110778808594\n",
            "[2023/05/02 14:20:30] ppocr DEBUG: cls num  : 1, elapse : 0.016565799713134766\n",
            "[2023/05/02 14:20:30] ppocr DEBUG: rec_res num  : 1, elapse : 0.1104121208190918\n"
          ]
        },
        {
          "output_type": "stream",
          "name": "stderr",
          "text": [
            "\r 42%|████▏     | 315/751 [05:56<04:17,  1.69it/s]"
          ]
        },
        {
          "output_type": "stream",
          "name": "stdout",
          "text": [
            "[2023/05/02 14:20:30] ppocr DEBUG: dt_boxes num : 3, elapse : 0.2524886131286621\n",
            "[2023/05/02 14:20:30] ppocr DEBUG: cls num  : 3, elapse : 0.04429149627685547\n",
            "[2023/05/02 14:20:31] ppocr DEBUG: rec_res num  : 3, elapse : 0.5368056297302246\n"
          ]
        },
        {
          "output_type": "stream",
          "name": "stderr",
          "text": [
            "\r 42%|████▏     | 316/751 [05:57<04:51,  1.49it/s]"
          ]
        },
        {
          "output_type": "stream",
          "name": "stdout",
          "text": [
            "[2023/05/02 14:20:31] ppocr DEBUG: dt_boxes num : 2, elapse : 0.40923476219177246\n",
            "[2023/05/02 14:20:31] ppocr DEBUG: cls num  : 2, elapse : 0.043226003646850586\n",
            "[2023/05/02 14:20:32] ppocr DEBUG: rec_res num  : 2, elapse : 0.4109034538269043\n"
          ]
        },
        {
          "output_type": "stream",
          "name": "stderr",
          "text": [
            "\r 42%|████▏     | 317/751 [05:58<05:20,  1.35it/s]"
          ]
        },
        {
          "output_type": "stream",
          "name": "stdout",
          "text": [
            "[2023/05/02 14:20:32] ppocr DEBUG: dt_boxes num : 3, elapse : 0.35373497009277344\n",
            "[2023/05/02 14:20:32] ppocr DEBUG: cls num  : 3, elapse : 0.07138752937316895\n",
            "[2023/05/02 14:20:33] ppocr DEBUG: rec_res num  : 3, elapse : 0.5623936653137207\n"
          ]
        },
        {
          "output_type": "stream",
          "name": "stderr",
          "text": [
            "\r 42%|████▏     | 318/751 [05:59<05:56,  1.21it/s]"
          ]
        },
        {
          "output_type": "stream",
          "name": "stdout",
          "text": [
            "[2023/05/02 14:20:33] ppocr DEBUG: dt_boxes num : 7, elapse : 0.363879919052124\n",
            "[2023/05/02 14:20:33] ppocr DEBUG: cls num  : 7, elapse : 0.13170766830444336\n",
            "[2023/05/02 14:20:35] ppocr DEBUG: rec_res num  : 7, elapse : 1.4867358207702637\n"
          ]
        },
        {
          "output_type": "stream",
          "name": "stderr",
          "text": [
            "\r 42%|████▏     | 319/751 [06:01<08:29,  1.18s/it]"
          ]
        },
        {
          "output_type": "stream",
          "name": "stdout",
          "text": [
            "[2023/05/02 14:20:35] ppocr DEBUG: dt_boxes num : 7, elapse : 0.37641429901123047\n",
            "[2023/05/02 14:20:35] ppocr DEBUG: cls num  : 7, elapse : 0.13062047958374023\n",
            "[2023/05/02 14:20:37] ppocr DEBUG: rec_res num  : 7, elapse : 1.3702247142791748\n"
          ]
        },
        {
          "output_type": "stream",
          "name": "stderr",
          "text": [
            "\r 43%|████▎     | 320/751 [06:03<10:02,  1.40s/it]"
          ]
        },
        {
          "output_type": "stream",
          "name": "stdout",
          "text": [
            "[2023/05/02 14:20:37] ppocr DEBUG: dt_boxes num : 10, elapse : 0.3367040157318115\n",
            "[2023/05/02 14:20:37] ppocr DEBUG: cls num  : 10, elapse : 0.16539359092712402\n",
            "[2023/05/02 14:20:39] ppocr DEBUG: rec_res num  : 10, elapse : 1.8206939697265625\n"
          ]
        },
        {
          "output_type": "stream",
          "name": "stderr",
          "text": [
            "\r 43%|████▎     | 321/751 [06:05<12:04,  1.69s/it]"
          ]
        },
        {
          "output_type": "stream",
          "name": "stdout",
          "text": [
            "[2023/05/02 14:20:39] ppocr DEBUG: dt_boxes num : 6, elapse : 0.3176896572113037\n",
            "[2023/05/02 14:20:39] ppocr DEBUG: cls num  : 6, elapse : 0.09564781188964844\n",
            "[2023/05/02 14:20:40] ppocr DEBUG: rec_res num  : 6, elapse : 0.7380571365356445\n"
          ]
        },
        {
          "output_type": "stream",
          "name": "stderr",
          "text": [
            "\r 43%|████▎     | 322/751 [06:07<10:58,  1.53s/it]"
          ]
        },
        {
          "output_type": "stream",
          "name": "stdout",
          "text": [
            "[2023/05/02 14:20:40] ppocr DEBUG: dt_boxes num : 3, elapse : 0.22166752815246582\n",
            "[2023/05/02 14:20:40] ppocr DEBUG: cls num  : 3, elapse : 0.04070687294006348\n",
            "[2023/05/02 14:20:41] ppocr DEBUG: rec_res num  : 3, elapse : 0.3150203227996826\n"
          ]
        },
        {
          "output_type": "stream",
          "name": "stderr",
          "text": [
            "\r 43%|████▎     | 323/751 [06:07<08:55,  1.25s/it]"
          ]
        },
        {
          "output_type": "stream",
          "name": "stdout",
          "text": [
            "[2023/05/02 14:20:41] ppocr DEBUG: dt_boxes num : 4, elapse : 0.23237156867980957\n",
            "[2023/05/02 14:20:41] ppocr DEBUG: cls num  : 4, elapse : 0.056561946868896484\n",
            "[2023/05/02 14:20:41] ppocr DEBUG: rec_res num  : 4, elapse : 0.413210391998291\n"
          ]
        },
        {
          "output_type": "stream",
          "name": "stderr",
          "text": [
            "\r 43%|████▎     | 324/751 [06:08<07:47,  1.09s/it]"
          ]
        },
        {
          "output_type": "stream",
          "name": "stdout",
          "text": [
            "[2023/05/02 14:20:42] ppocr DEBUG: dt_boxes num : 7, elapse : 0.22577524185180664\n",
            "[2023/05/02 14:20:42] ppocr DEBUG: cls num  : 7, elapse : 0.07803702354431152\n",
            "[2023/05/02 14:20:42] ppocr DEBUG: rec_res num  : 7, elapse : 0.740290641784668\n"
          ]
        },
        {
          "output_type": "stream",
          "name": "stderr",
          "text": [
            "\r 43%|████▎     | 325/751 [06:09<07:42,  1.09s/it]"
          ]
        },
        {
          "output_type": "stream",
          "name": "stdout",
          "text": [
            "[2023/05/02 14:20:43] ppocr DEBUG: dt_boxes num : 3, elapse : 0.2308495044708252\n",
            "[2023/05/02 14:20:43] ppocr DEBUG: cls num  : 3, elapse : 0.03912830352783203\n",
            "[2023/05/02 14:20:43] ppocr DEBUG: rec_res num  : 3, elapse : 0.32302331924438477\n"
          ]
        },
        {
          "output_type": "stream",
          "name": "stderr",
          "text": [
            "\r 43%|████▎     | 326/751 [06:10<06:40,  1.06it/s]"
          ]
        },
        {
          "output_type": "stream",
          "name": "stdout",
          "text": [
            "[2023/05/02 14:20:43] ppocr DEBUG: dt_boxes num : 5, elapse : 0.22709870338439941\n",
            "[2023/05/02 14:20:43] ppocr DEBUG: cls num  : 5, elapse : 0.05676865577697754\n",
            "[2023/05/02 14:20:44] ppocr DEBUG: rec_res num  : 5, elapse : 0.5268123149871826\n"
          ]
        },
        {
          "output_type": "stream",
          "name": "stderr",
          "text": [
            "\r 44%|████▎     | 327/751 [06:10<06:25,  1.10it/s]"
          ]
        },
        {
          "output_type": "stream",
          "name": "stdout",
          "text": [
            "[2023/05/02 14:20:44] ppocr DEBUG: dt_boxes num : 6, elapse : 0.23035287857055664\n",
            "[2023/05/02 14:20:44] ppocr DEBUG: cls num  : 6, elapse : 0.06516313552856445\n",
            "[2023/05/02 14:20:45] ppocr DEBUG: rec_res num  : 6, elapse : 0.6332440376281738\n"
          ]
        },
        {
          "output_type": "stream",
          "name": "stderr",
          "text": [
            "\r 44%|████▎     | 328/751 [06:11<06:30,  1.08it/s]"
          ]
        },
        {
          "output_type": "stream",
          "name": "stdout",
          "text": [
            "[2023/05/02 14:20:45] ppocr DEBUG: dt_boxes num : 5, elapse : 0.23580074310302734\n",
            "[2023/05/02 14:20:45] ppocr DEBUG: cls num  : 5, elapse : 0.05771613121032715\n",
            "[2023/05/02 14:20:46] ppocr DEBUG: rec_res num  : 5, elapse : 0.5293278694152832\n"
          ]
        },
        {
          "output_type": "stream",
          "name": "stderr",
          "text": [
            "\r 44%|████▍     | 329/751 [06:12<06:19,  1.11it/s]"
          ]
        },
        {
          "output_type": "stream",
          "name": "stdout",
          "text": [
            "[2023/05/02 14:20:46] ppocr DEBUG: dt_boxes num : 7, elapse : 0.2280712127685547\n",
            "[2023/05/02 14:20:46] ppocr DEBUG: cls num  : 7, elapse : 0.07860064506530762\n",
            "[2023/05/02 14:20:47] ppocr DEBUG: rec_res num  : 7, elapse : 0.7326347827911377\n"
          ]
        },
        {
          "output_type": "stream",
          "name": "stderr",
          "text": [
            "\r 44%|████▍     | 330/751 [06:13<06:39,  1.05it/s]"
          ]
        },
        {
          "output_type": "stream",
          "name": "stdout",
          "text": [
            "[2023/05/02 14:20:47] ppocr DEBUG: dt_boxes num : 2, elapse : 0.22378802299499512\n",
            "[2023/05/02 14:20:47] ppocr DEBUG: cls num  : 2, elapse : 0.026685237884521484\n",
            "[2023/05/02 14:20:47] ppocr DEBUG: rec_res num  : 2, elapse : 0.22021889686584473\n"
          ]
        },
        {
          "output_type": "stream",
          "name": "stderr",
          "text": [
            "\r 44%|████▍     | 331/751 [06:14<05:40,  1.23it/s]"
          ]
        },
        {
          "output_type": "stream",
          "name": "stdout",
          "text": [
            "[2023/05/02 14:20:47] ppocr DEBUG: dt_boxes num : 9, elapse : 0.22588872909545898\n",
            "[2023/05/02 14:20:48] ppocr DEBUG: cls num  : 9, elapse : 0.09538674354553223\n",
            "[2023/05/02 14:20:49] ppocr DEBUG: rec_res num  : 9, elapse : 0.9608352184295654\n"
          ]
        },
        {
          "output_type": "stream",
          "name": "stderr",
          "text": [
            "\r 44%|████▍     | 332/751 [06:15<06:41,  1.04it/s]"
          ]
        },
        {
          "output_type": "stream",
          "name": "stdout",
          "text": [
            "[2023/05/02 14:20:49] ppocr DEBUG: dt_boxes num : 9, elapse : 0.23451805114746094\n",
            "[2023/05/02 14:20:49] ppocr DEBUG: cls num  : 9, elapse : 0.09835362434387207\n",
            "[2023/05/02 14:20:50] ppocr DEBUG: rec_res num  : 9, elapse : 1.0334453582763672\n"
          ]
        },
        {
          "output_type": "stream",
          "name": "stderr",
          "text": [
            "\r 44%|████▍     | 333/751 [06:16<07:34,  1.09s/it]"
          ]
        },
        {
          "output_type": "stream",
          "name": "stdout",
          "text": [
            "[2023/05/02 14:20:50] ppocr DEBUG: dt_boxes num : 2, elapse : 0.3261840343475342\n",
            "[2023/05/02 14:20:50] ppocr DEBUG: cls num  : 2, elapse : 0.03871464729309082\n",
            "[2023/05/02 14:20:51] ppocr DEBUG: rec_res num  : 2, elapse : 0.3795783519744873\n"
          ]
        },
        {
          "output_type": "stream",
          "name": "stderr",
          "text": [
            "\r 44%|████▍     | 334/751 [06:17<06:52,  1.01it/s]"
          ]
        },
        {
          "output_type": "stream",
          "name": "stdout",
          "text": [
            "[2023/05/02 14:20:51] ppocr DEBUG: dt_boxes num : 1, elapse : 0.34542179107666016\n",
            "[2023/05/02 14:20:51] ppocr DEBUG: cls num  : 1, elapse : 0.019748687744140625\n",
            "[2023/05/02 14:20:51] ppocr DEBUG: rec_res num  : 1, elapse : 0.17313241958618164\n"
          ]
        },
        {
          "output_type": "stream",
          "name": "stderr",
          "text": [
            "\r 45%|████▍     | 335/751 [06:18<05:58,  1.16it/s]"
          ]
        },
        {
          "output_type": "stream",
          "name": "stdout",
          "text": [
            "[2023/05/02 14:20:52] ppocr DEBUG: dt_boxes num : 2, elapse : 0.3426029682159424\n",
            "[2023/05/02 14:20:52] ppocr DEBUG: cls num  : 2, elapse : 0.036652565002441406\n",
            "[2023/05/02 14:20:52] ppocr DEBUG: rec_res num  : 2, elapse : 0.346569299697876\n"
          ]
        },
        {
          "output_type": "stream",
          "name": "stderr",
          "text": [
            "\r 45%|████▍     | 336/751 [06:19<05:43,  1.21it/s]"
          ]
        },
        {
          "output_type": "stream",
          "name": "stdout",
          "text": [
            "[2023/05/02 14:20:52] ppocr DEBUG: dt_boxes num : 4, elapse : 0.3447866439819336\n",
            "[2023/05/02 14:20:52] ppocr DEBUG: cls num  : 4, elapse : 0.07762598991394043\n",
            "[2023/05/02 14:20:53] ppocr DEBUG: rec_res num  : 4, elapse : 0.7262189388275146\n"
          ]
        },
        {
          "output_type": "stream",
          "name": "stderr",
          "text": [
            "\r 45%|████▍     | 337/751 [06:20<06:25,  1.07it/s]"
          ]
        },
        {
          "output_type": "stream",
          "name": "stdout",
          "text": [
            "[2023/05/02 14:20:54] ppocr DEBUG: dt_boxes num : 4, elapse : 0.34307336807250977\n",
            "[2023/05/02 14:20:54] ppocr DEBUG: cls num  : 4, elapse : 0.0817105770111084\n",
            "[2023/05/02 14:20:54] ppocr DEBUG: rec_res num  : 4, elapse : 0.7238657474517822\n"
          ]
        },
        {
          "output_type": "stream",
          "name": "stderr",
          "text": [
            "\r 45%|████▌     | 338/751 [06:21<06:54,  1.00s/it]"
          ]
        },
        {
          "output_type": "stream",
          "name": "stdout",
          "text": [
            "[2023/05/02 14:20:55] ppocr DEBUG: dt_boxes num : 11, elapse : 0.3453238010406494\n",
            "[2023/05/02 14:20:55] ppocr DEBUG: cls num  : 11, elapse : 0.18092656135559082\n",
            "[2023/05/02 14:20:57] ppocr DEBUG: rec_res num  : 11, elapse : 1.7077734470367432\n"
          ]
        },
        {
          "output_type": "stream",
          "name": "stderr",
          "text": [
            "\r 45%|████▌     | 339/751 [06:23<09:29,  1.38s/it]"
          ]
        },
        {
          "output_type": "stream",
          "name": "stdout",
          "text": [
            "[2023/05/02 14:20:57] ppocr DEBUG: dt_boxes num : 4, elapse : 0.3246016502380371\n",
            "[2023/05/02 14:20:57] ppocr DEBUG: cls num  : 4, elapse : 0.06516456604003906\n",
            "[2023/05/02 14:20:58] ppocr DEBUG: rec_res num  : 4, elapse : 0.6112971305847168\n"
          ]
        },
        {
          "output_type": "stream",
          "name": "stderr",
          "text": [
            "\r 45%|████▌     | 340/751 [06:24<08:44,  1.28s/it]"
          ]
        },
        {
          "output_type": "stream",
          "name": "stdout",
          "text": [
            "[2023/05/02 14:20:58] ppocr DEBUG: dt_boxes num : 4, elapse : 0.3147547245025635\n",
            "[2023/05/02 14:20:58] ppocr DEBUG: cls num  : 4, elapse : 0.06492471694946289\n",
            "[2023/05/02 14:20:59] ppocr DEBUG: rec_res num  : 4, elapse : 0.5607185363769531\n"
          ]
        },
        {
          "output_type": "stream",
          "name": "stderr",
          "text": [
            "\r 45%|████▌     | 341/751 [06:25<08:04,  1.18s/it]"
          ]
        },
        {
          "output_type": "stream",
          "name": "stdout",
          "text": [
            "[2023/05/02 14:20:59] ppocr DEBUG: dt_boxes num : 5, elapse : 0.22588276863098145\n",
            "[2023/05/02 14:20:59] ppocr DEBUG: cls num  : 5, elapse : 0.05866360664367676\n",
            "[2023/05/02 14:20:59] ppocr DEBUG: rec_res num  : 5, elapse : 0.5201270580291748\n"
          ]
        },
        {
          "output_type": "stream",
          "name": "stderr",
          "text": [
            "\r 46%|████▌     | 342/751 [06:26<07:19,  1.07s/it]"
          ]
        },
        {
          "output_type": "stream",
          "name": "stdout",
          "text": [
            "[2023/05/02 14:21:00] ppocr DEBUG: dt_boxes num : 3, elapse : 0.2264261245727539\n",
            "[2023/05/02 14:21:00] ppocr DEBUG: cls num  : 3, elapse : 0.0420374870300293\n",
            "[2023/05/02 14:21:00] ppocr DEBUG: rec_res num  : 3, elapse : 0.30932140350341797\n"
          ]
        },
        {
          "output_type": "stream",
          "name": "stderr",
          "text": [
            "\r 46%|████▌     | 343/751 [06:27<06:19,  1.07it/s]"
          ]
        },
        {
          "output_type": "stream",
          "name": "stdout",
          "text": [
            "[2023/05/02 14:21:00] ppocr DEBUG: dt_boxes num : 4, elapse : 0.22080421447753906\n",
            "[2023/05/02 14:21:00] ppocr DEBUG: cls num  : 4, elapse : 0.04722428321838379\n",
            "[2023/05/02 14:21:01] ppocr DEBUG: rec_res num  : 4, elapse : 0.4360980987548828\n"
          ]
        },
        {
          "output_type": "stream",
          "name": "stderr",
          "text": [
            "\r 46%|████▌     | 344/751 [06:27<05:53,  1.15it/s]"
          ]
        },
        {
          "output_type": "stream",
          "name": "stdout",
          "text": [
            "[2023/05/02 14:21:01] ppocr DEBUG: dt_boxes num : 3, elapse : 0.22322297096252441\n",
            "[2023/05/02 14:21:01] ppocr DEBUG: cls num  : 3, elapse : 0.036261558532714844\n",
            "[2023/05/02 14:21:01] ppocr DEBUG: rec_res num  : 3, elapse : 0.326141357421875\n"
          ]
        },
        {
          "output_type": "stream",
          "name": "stderr",
          "text": [
            "\r 46%|████▌     | 345/751 [06:28<05:20,  1.27it/s]"
          ]
        },
        {
          "output_type": "stream",
          "name": "stdout",
          "text": [
            "[2023/05/02 14:21:02] ppocr DEBUG: dt_boxes num : 4, elapse : 0.22946381568908691\n",
            "[2023/05/02 14:21:02] ppocr DEBUG: cls num  : 4, elapse : 0.05943560600280762\n",
            "[2023/05/02 14:21:02] ppocr DEBUG: rec_res num  : 4, elapse : 0.4272308349609375\n"
          ]
        },
        {
          "output_type": "stream",
          "name": "stderr",
          "text": [
            "\r 46%|████▌     | 346/751 [06:29<05:13,  1.29it/s]"
          ]
        },
        {
          "output_type": "stream",
          "name": "stdout",
          "text": [
            "[2023/05/02 14:21:02] ppocr DEBUG: dt_boxes num : 4, elapse : 0.21982574462890625\n",
            "[2023/05/02 14:21:02] ppocr DEBUG: cls num  : 4, elapse : 0.045494794845581055\n",
            "[2023/05/02 14:21:03] ppocr DEBUG: rec_res num  : 4, elapse : 0.42929577827453613\n"
          ]
        },
        {
          "output_type": "stream",
          "name": "stderr",
          "text": [
            "\r 46%|████▌     | 347/751 [06:29<05:05,  1.32it/s]"
          ]
        },
        {
          "output_type": "stream",
          "name": "stdout",
          "text": [
            "[2023/05/02 14:21:03] ppocr DEBUG: dt_boxes num : 7, elapse : 0.22298812866210938\n",
            "[2023/05/02 14:21:03] ppocr DEBUG: cls num  : 7, elapse : 0.07772183418273926\n",
            "[2023/05/02 14:21:04] ppocr DEBUG: rec_res num  : 7, elapse : 0.727466344833374\n"
          ]
        },
        {
          "output_type": "stream",
          "name": "stderr",
          "text": [
            "\r 46%|████▋     | 348/751 [06:30<05:40,  1.18it/s]"
          ]
        },
        {
          "output_type": "stream",
          "name": "stdout",
          "text": [
            "[2023/05/02 14:21:04] ppocr DEBUG: dt_boxes num : 2, elapse : 0.21616792678833008\n",
            "[2023/05/02 14:21:04] ppocr DEBUG: cls num  : 2, elapse : 0.031322479248046875\n",
            "[2023/05/02 14:21:04] ppocr DEBUG: rec_res num  : 2, elapse : 0.20521831512451172\n"
          ]
        },
        {
          "output_type": "stream",
          "name": "stderr",
          "text": [
            "\r 46%|████▋     | 349/751 [06:31<04:55,  1.36it/s]"
          ]
        },
        {
          "output_type": "stream",
          "name": "stdout",
          "text": [
            "[2023/05/02 14:21:05] ppocr DEBUG: dt_boxes num : 3, elapse : 0.2231152057647705\n",
            "[2023/05/02 14:21:05] ppocr DEBUG: cls num  : 3, elapse : 0.04629015922546387\n",
            "[2023/05/02 14:21:05] ppocr DEBUG: rec_res num  : 3, elapse : 0.3204317092895508\n"
          ]
        },
        {
          "output_type": "stream",
          "name": "stderr",
          "text": [
            "\r 47%|████▋     | 350/751 [06:31<04:39,  1.43it/s]"
          ]
        },
        {
          "output_type": "stream",
          "name": "stdout",
          "text": [
            "[2023/05/02 14:21:05] ppocr DEBUG: dt_boxes num : 3, elapse : 0.22006654739379883\n",
            "[2023/05/02 14:21:05] ppocr DEBUG: cls num  : 3, elapse : 0.043440818786621094\n",
            "[2023/05/02 14:21:06] ppocr DEBUG: rec_res num  : 3, elapse : 0.31240010261535645\n"
          ]
        },
        {
          "output_type": "stream",
          "name": "stderr",
          "text": [
            "\r 47%|████▋     | 351/751 [06:32<04:27,  1.49it/s]"
          ]
        },
        {
          "output_type": "stream",
          "name": "stdout",
          "text": [
            "[2023/05/02 14:21:06] ppocr DEBUG: dt_boxes num : 7, elapse : 0.2218320369720459\n",
            "[2023/05/02 14:21:06] ppocr DEBUG: cls num  : 7, elapse : 0.0801699161529541\n",
            "[2023/05/02 14:21:07] ppocr DEBUG: rec_res num  : 7, elapse : 0.7300090789794922\n"
          ]
        },
        {
          "output_type": "stream",
          "name": "stderr",
          "text": [
            "\r 47%|████▋     | 352/751 [06:33<05:13,  1.27it/s]"
          ]
        },
        {
          "output_type": "stream",
          "name": "stdout",
          "text": [
            "[2023/05/02 14:21:07] ppocr DEBUG: dt_boxes num : 5, elapse : 0.23087096214294434\n",
            "[2023/05/02 14:21:07] ppocr DEBUG: cls num  : 5, elapse : 0.05708909034729004\n",
            "[2023/05/02 14:21:07] ppocr DEBUG: rec_res num  : 5, elapse : 0.5232648849487305\n"
          ]
        },
        {
          "output_type": "stream",
          "name": "stderr",
          "text": [
            "\r 47%|████▋     | 353/751 [06:34<05:18,  1.25it/s]"
          ]
        },
        {
          "output_type": "stream",
          "name": "stdout",
          "text": [
            "[2023/05/02 14:21:08] ppocr DEBUG: dt_boxes num : 6, elapse : 0.22481656074523926\n",
            "[2023/05/02 14:21:08] ppocr DEBUG: cls num  : 6, elapse : 0.07150125503540039\n",
            "[2023/05/02 14:21:08] ppocr DEBUG: rec_res num  : 6, elapse : 0.6294803619384766\n"
          ]
        },
        {
          "output_type": "stream",
          "name": "stderr",
          "text": [
            "\r 47%|████▋     | 354/751 [06:35<05:34,  1.19it/s]"
          ]
        },
        {
          "output_type": "stream",
          "name": "stdout",
          "text": [
            "[2023/05/02 14:21:09] ppocr DEBUG: dt_boxes num : 2, elapse : 0.2789161205291748\n",
            "[2023/05/02 14:21:09] ppocr DEBUG: cls num  : 2, elapse : 0.03344559669494629\n",
            "[2023/05/02 14:21:09] ppocr DEBUG: rec_res num  : 2, elapse : 0.36246538162231445\n"
          ]
        },
        {
          "output_type": "stream",
          "name": "stderr",
          "text": [
            "\r 47%|████▋     | 355/751 [06:36<05:16,  1.25it/s]"
          ]
        },
        {
          "output_type": "stream",
          "name": "stdout",
          "text": [
            "[2023/05/02 14:21:09] ppocr DEBUG: dt_boxes num : 4, elapse : 0.32360291481018066\n",
            "[2023/05/02 14:21:09] ppocr DEBUG: cls num  : 4, elapse : 0.0800015926361084\n",
            "[2023/05/02 14:21:10] ppocr DEBUG: rec_res num  : 4, elapse : 0.7376582622528076\n"
          ]
        },
        {
          "output_type": "stream",
          "name": "stderr",
          "text": [
            "\r 47%|████▋     | 356/751 [06:37<05:59,  1.10it/s]"
          ]
        },
        {
          "output_type": "stream",
          "name": "stdout",
          "text": [
            "[2023/05/02 14:21:11] ppocr DEBUG: dt_boxes num : 4, elapse : 0.3277125358581543\n",
            "[2023/05/02 14:21:11] ppocr DEBUG: cls num  : 4, elapse : 0.07190728187561035\n",
            "[2023/05/02 14:21:11] ppocr DEBUG: rec_res num  : 4, elapse : 0.7297959327697754\n"
          ]
        },
        {
          "output_type": "stream",
          "name": "stderr",
          "text": [
            "\r 48%|████▊     | 357/751 [06:38<06:27,  1.02it/s]"
          ]
        },
        {
          "output_type": "stream",
          "name": "stdout",
          "text": [
            "[2023/05/02 14:21:12] ppocr DEBUG: dt_boxes num : 2, elapse : 0.36306095123291016\n",
            "[2023/05/02 14:21:12] ppocr DEBUG: cls num  : 2, elapse : 0.050803184509277344\n",
            "[2023/05/02 14:21:12] ppocr DEBUG: rec_res num  : 2, elapse : 0.3780636787414551\n"
          ]
        },
        {
          "output_type": "stream",
          "name": "stderr",
          "text": [
            "\r 48%|████▊     | 358/751 [06:39<06:07,  1.07it/s]"
          ]
        },
        {
          "output_type": "stream",
          "name": "stdout",
          "text": [
            "[2023/05/02 14:21:13] ppocr DEBUG: dt_boxes num : 1, elapse : 0.3791530132293701\n",
            "[2023/05/02 14:21:13] ppocr DEBUG: cls num  : 1, elapse : 0.03377079963684082\n",
            "[2023/05/02 14:21:13] ppocr DEBUG: rec_res num  : 1, elapse : 0.19414615631103516\n"
          ]
        },
        {
          "output_type": "stream",
          "name": "stderr",
          "text": [
            "\r 48%|████▊     | 359/751 [06:39<05:31,  1.18it/s]"
          ]
        },
        {
          "output_type": "stream",
          "name": "stdout",
          "text": [
            "[2023/05/02 14:21:13] ppocr DEBUG: dt_boxes num : 1, elapse : 0.3226125240325928\n",
            "[2023/05/02 14:21:13] ppocr DEBUG: cls num  : 1, elapse : 0.018682479858398438\n",
            "[2023/05/02 14:21:13] ppocr DEBUG: rec_res num  : 1, elapse : 0.17636561393737793\n"
          ]
        },
        {
          "output_type": "stream",
          "name": "stderr",
          "text": [
            "\r 48%|████▊     | 360/751 [06:40<04:54,  1.33it/s]"
          ]
        },
        {
          "output_type": "stream",
          "name": "stdout",
          "text": [
            "[2023/05/02 14:21:14] ppocr DEBUG: dt_boxes num : 1, elapse : 0.34174418449401855\n",
            "[2023/05/02 14:21:14] ppocr DEBUG: cls num  : 1, elapse : 0.019604206085205078\n",
            "[2023/05/02 14:21:14] ppocr DEBUG: rec_res num  : 1, elapse : 0.17687153816223145\n"
          ]
        },
        {
          "output_type": "stream",
          "name": "stderr",
          "text": [
            "\r 48%|████▊     | 361/751 [06:41<04:31,  1.44it/s]"
          ]
        },
        {
          "output_type": "stream",
          "name": "stdout",
          "text": [
            "[2023/05/02 14:21:14] ppocr DEBUG: dt_boxes num : 3, elapse : 0.3226168155670166\n",
            "[2023/05/02 14:21:14] ppocr DEBUG: cls num  : 3, elapse : 0.05460929870605469\n",
            "[2023/05/02 14:21:15] ppocr DEBUG: rec_res num  : 3, elapse : 0.4619433879852295\n"
          ]
        },
        {
          "output_type": "stream",
          "name": "stderr",
          "text": [
            "\r 48%|████▊     | 362/751 [06:41<04:51,  1.34it/s]"
          ]
        },
        {
          "output_type": "stream",
          "name": "stdout",
          "text": [
            "[2023/05/02 14:21:15] ppocr DEBUG: dt_boxes num : 10, elapse : 0.3164494037628174\n",
            "[2023/05/02 14:21:15] ppocr DEBUG: cls num  : 10, elapse : 0.15688657760620117\n",
            "[2023/05/02 14:21:17] ppocr DEBUG: rec_res num  : 10, elapse : 2.0662083625793457\n"
          ]
        },
        {
          "output_type": "stream",
          "name": "stderr",
          "text": [
            "\r 48%|████▊     | 363/751 [06:44<08:21,  1.29s/it]"
          ]
        },
        {
          "output_type": "stream",
          "name": "stdout",
          "text": [
            "[2023/05/02 14:21:18] ppocr DEBUG: dt_boxes num : 11, elapse : 0.2763352394104004\n",
            "[2023/05/02 14:21:18] ppocr DEBUG: cls num  : 11, elapse : 0.12326645851135254\n",
            "[2023/05/02 14:21:19] ppocr DEBUG: rec_res num  : 11, elapse : 1.6379780769348145\n"
          ]
        },
        {
          "output_type": "stream",
          "name": "stderr",
          "text": [
            "\r 48%|████▊     | 364/751 [06:46<09:49,  1.52s/it]"
          ]
        },
        {
          "output_type": "stream",
          "name": "stdout",
          "text": [
            "[2023/05/02 14:21:20] ppocr DEBUG: dt_boxes num : 4, elapse : 0.22838544845581055\n",
            "[2023/05/02 14:21:20] ppocr DEBUG: cls num  : 4, elapse : 0.04418611526489258\n",
            "[2023/05/02 14:21:20] ppocr DEBUG: rec_res num  : 4, elapse : 0.4285151958465576\n"
          ]
        },
        {
          "output_type": "stream",
          "name": "stderr",
          "text": [
            "\r 49%|████▊     | 365/751 [06:47<08:15,  1.28s/it]"
          ]
        },
        {
          "output_type": "stream",
          "name": "stdout",
          "text": [
            "[2023/05/02 14:21:20] ppocr DEBUG: dt_boxes num : 3, elapse : 0.23136162757873535\n",
            "[2023/05/02 14:21:20] ppocr DEBUG: cls num  : 3, elapse : 0.03558087348937988\n",
            "[2023/05/02 14:21:21] ppocr DEBUG: rec_res num  : 3, elapse : 0.3186376094818115\n"
          ]
        },
        {
          "output_type": "stream",
          "name": "stderr",
          "text": [
            "\r 49%|████▊     | 366/751 [06:47<06:55,  1.08s/it]"
          ]
        },
        {
          "output_type": "stream",
          "name": "stdout",
          "text": [
            "[2023/05/02 14:21:21] ppocr DEBUG: dt_boxes num : 4, elapse : 0.24850940704345703\n",
            "[2023/05/02 14:21:21] ppocr DEBUG: cls num  : 4, elapse : 0.04813551902770996\n",
            "[2023/05/02 14:21:22] ppocr DEBUG: rec_res num  : 4, elapse : 0.4532184600830078\n"
          ]
        },
        {
          "output_type": "stream",
          "name": "stderr",
          "text": [
            "\r 49%|████▉     | 367/751 [06:48<06:18,  1.01it/s]"
          ]
        },
        {
          "output_type": "stream",
          "name": "stdout",
          "text": [
            "[2023/05/02 14:21:22] ppocr DEBUG: dt_boxes num : 3, elapse : 0.2336130142211914\n",
            "[2023/05/02 14:21:22] ppocr DEBUG: cls num  : 3, elapse : 0.03978371620178223\n",
            "[2023/05/02 14:21:22] ppocr DEBUG: rec_res num  : 3, elapse : 0.3190155029296875\n"
          ]
        },
        {
          "output_type": "stream",
          "name": "stderr",
          "text": [
            "\r 49%|████▉     | 368/751 [06:49<05:35,  1.14it/s]"
          ]
        },
        {
          "output_type": "stream",
          "name": "stdout",
          "text": [
            "[2023/05/02 14:21:22] ppocr DEBUG: dt_boxes num : 3, elapse : 0.22231769561767578\n",
            "[2023/05/02 14:21:22] ppocr DEBUG: cls num  : 3, elapse : 0.03908276557922363\n",
            "[2023/05/02 14:21:23] ppocr DEBUG: rec_res num  : 3, elapse : 0.3263123035430908\n"
          ]
        },
        {
          "output_type": "stream",
          "name": "stderr",
          "text": [
            "\r 49%|████▉     | 369/751 [06:49<05:03,  1.26it/s]"
          ]
        },
        {
          "output_type": "stream",
          "name": "stdout",
          "text": [
            "[2023/05/02 14:21:23] ppocr DEBUG: dt_boxes num : 3, elapse : 0.2305917739868164\n",
            "[2023/05/02 14:21:23] ppocr DEBUG: cls num  : 3, elapse : 0.03618216514587402\n",
            "[2023/05/02 14:21:23] ppocr DEBUG: rec_res num  : 3, elapse : 0.32449817657470703\n"
          ]
        },
        {
          "output_type": "stream",
          "name": "stderr",
          "text": [
            "\r 49%|████▉     | 370/751 [06:50<04:41,  1.35it/s]"
          ]
        },
        {
          "output_type": "stream",
          "name": "stdout",
          "text": [
            "[2023/05/02 14:21:24] ppocr DEBUG: dt_boxes num : 7, elapse : 0.2289884090423584\n",
            "[2023/05/02 14:21:24] ppocr DEBUG: cls num  : 7, elapse : 0.08039617538452148\n",
            "[2023/05/02 14:21:24] ppocr DEBUG: rec_res num  : 7, elapse : 0.7263965606689453\n"
          ]
        },
        {
          "output_type": "stream",
          "name": "stderr",
          "text": [
            "\r 49%|████▉     | 371/751 [06:51<05:17,  1.20it/s]"
          ]
        },
        {
          "output_type": "stream",
          "name": "stdout",
          "text": [
            "[2023/05/02 14:21:25] ppocr DEBUG: dt_boxes num : 6, elapse : 0.23265814781188965\n",
            "[2023/05/02 14:21:25] ppocr DEBUG: cls num  : 6, elapse : 0.06980371475219727\n",
            "[2023/05/02 14:21:25] ppocr DEBUG: rec_res num  : 6, elapse : 0.6631193161010742\n"
          ]
        },
        {
          "output_type": "stream",
          "name": "stderr",
          "text": [
            "\r 50%|████▉     | 372/751 [06:52<05:34,  1.13it/s]"
          ]
        },
        {
          "output_type": "stream",
          "name": "stdout",
          "text": [
            "[2023/05/02 14:21:26] ppocr DEBUG: dt_boxes num : 6, elapse : 0.2607407569885254\n",
            "[2023/05/02 14:21:26] ppocr DEBUG: cls num  : 6, elapse : 0.06848502159118652\n",
            "[2023/05/02 14:21:26] ppocr DEBUG: rec_res num  : 6, elapse : 0.6174988746643066\n"
          ]
        },
        {
          "output_type": "stream",
          "name": "stderr",
          "text": [
            "\r 50%|████▉     | 373/751 [06:53<05:45,  1.10it/s]"
          ]
        },
        {
          "output_type": "stream",
          "name": "stdout",
          "text": [
            "[2023/05/02 14:21:27] ppocr DEBUG: dt_boxes num : 4, elapse : 0.23588323593139648\n",
            "[2023/05/02 14:21:27] ppocr DEBUG: cls num  : 4, elapse : 0.0490570068359375\n",
            "[2023/05/02 14:21:27] ppocr DEBUG: rec_res num  : 4, elapse : 0.42497730255126953\n"
          ]
        },
        {
          "output_type": "stream",
          "name": "stderr",
          "text": [
            "\r 50%|████▉     | 374/751 [06:54<05:24,  1.16it/s]"
          ]
        },
        {
          "output_type": "stream",
          "name": "stdout",
          "text": [
            "[2023/05/02 14:21:27] ppocr DEBUG: dt_boxes num : 7, elapse : 0.23649239540100098\n",
            "[2023/05/02 14:21:27] ppocr DEBUG: cls num  : 7, elapse : 0.09054327011108398\n",
            "[2023/05/02 14:21:29] ppocr DEBUG: rec_res num  : 7, elapse : 1.1889543533325195\n"
          ]
        },
        {
          "output_type": "stream",
          "name": "stderr",
          "text": [
            "\r 50%|████▉     | 375/751 [06:55<06:39,  1.06s/it]"
          ]
        },
        {
          "output_type": "stream",
          "name": "stdout",
          "text": [
            "[2023/05/02 14:21:29] ppocr DEBUG: dt_boxes num : 9, elapse : 0.3555624485015869\n",
            "[2023/05/02 14:21:29] ppocr DEBUG: cls num  : 9, elapse : 0.16934490203857422\n",
            "[2023/05/02 14:21:31] ppocr DEBUG: rec_res num  : 9, elapse : 1.639469861984253\n"
          ]
        },
        {
          "output_type": "stream",
          "name": "stderr",
          "text": [
            "\r 50%|█████     | 376/751 [06:57<08:46,  1.40s/it]"
          ]
        },
        {
          "output_type": "stream",
          "name": "stdout",
          "text": [
            "[2023/05/02 14:21:31] ppocr DEBUG: dt_boxes num : 14, elapse : 0.3526298999786377\n",
            "[2023/05/02 14:21:32] ppocr DEBUG: cls num  : 14, elapse : 0.2648355960845947\n",
            "[2023/05/02 14:21:34] ppocr DEBUG: rec_res num  : 14, elapse : 2.34026837348938\n"
          ]
        },
        {
          "output_type": "stream",
          "name": "stderr",
          "text": [
            "\r 50%|█████     | 377/751 [07:00<11:43,  1.88s/it]"
          ]
        },
        {
          "output_type": "stream",
          "name": "stdout",
          "text": [
            "[2023/05/02 14:21:34] ppocr DEBUG: dt_boxes num : 5, elapse : 0.3647756576538086\n",
            "[2023/05/02 14:21:34] ppocr DEBUG: cls num  : 5, elapse : 0.08774614334106445\n",
            "[2023/05/02 14:21:35] ppocr DEBUG: rec_res num  : 5, elapse : 0.7792568206787109\n"
          ]
        },
        {
          "output_type": "stream",
          "name": "stderr",
          "text": [
            "\r 50%|█████     | 378/751 [07:02<10:33,  1.70s/it]"
          ]
        },
        {
          "output_type": "stream",
          "name": "stdout",
          "text": [
            "[2023/05/02 14:21:35] ppocr DEBUG: dt_boxes num : 6, elapse : 0.32903361320495605\n",
            "[2023/05/02 14:21:36] ppocr DEBUG: cls num  : 6, elapse : 0.09979796409606934\n",
            "[2023/05/02 14:21:37] ppocr DEBUG: rec_res num  : 6, elapse : 0.9108076095581055\n"
          ]
        },
        {
          "output_type": "stream",
          "name": "stderr",
          "text": [
            "\r 50%|█████     | 379/751 [07:03<09:55,  1.60s/it]"
          ]
        },
        {
          "output_type": "stream",
          "name": "stdout",
          "text": [
            "[2023/05/02 14:21:37] ppocr DEBUG: dt_boxes num : 4, elapse : 0.23839712142944336\n",
            "[2023/05/02 14:21:37] ppocr DEBUG: cls num  : 4, elapse : 0.048680782318115234\n",
            "[2023/05/02 14:21:37] ppocr DEBUG: rec_res num  : 4, elapse : 0.4283332824707031\n"
          ]
        },
        {
          "output_type": "stream",
          "name": "stderr",
          "text": [
            "\r 51%|█████     | 380/751 [07:04<08:17,  1.34s/it]"
          ]
        },
        {
          "output_type": "stream",
          "name": "stdout",
          "text": [
            "[2023/05/02 14:21:38] ppocr DEBUG: dt_boxes num : 1, elapse : 0.2289109230041504\n",
            "[2023/05/02 14:21:38] ppocr DEBUG: cls num  : 1, elapse : 0.018806934356689453\n",
            "[2023/05/02 14:21:38] ppocr DEBUG: rec_res num  : 1, elapse : 0.11684441566467285\n"
          ]
        },
        {
          "output_type": "stream",
          "name": "stderr",
          "text": [
            "\r 51%|█████     | 381/751 [07:04<06:30,  1.06s/it]"
          ]
        },
        {
          "output_type": "stream",
          "name": "stdout",
          "text": [
            "[2023/05/02 14:21:38] ppocr DEBUG: dt_boxes num : 0, elapse : 0.23171043395996094\n",
            "[2023/05/02 14:21:38] ppocr DEBUG: cls num  : 0, elapse : 0\n",
            "[2023/05/02 14:21:38] ppocr DEBUG: rec_res num  : 0, elapse : 2.1457672119140625e-06\n"
          ]
        },
        {
          "output_type": "stream",
          "name": "stderr",
          "text": [
            "\r 51%|█████     | 382/751 [07:04<05:00,  1.23it/s]"
          ]
        },
        {
          "output_type": "stream",
          "name": "stdout",
          "text": [
            "[2023/05/02 14:21:38] ppocr DEBUG: dt_boxes num : 0, elapse : 0.2427983283996582\n",
            "[2023/05/02 14:21:38] ppocr DEBUG: cls num  : 0, elapse : 0\n",
            "[2023/05/02 14:21:38] ppocr DEBUG: rec_res num  : 0, elapse : 2.86102294921875e-06\n"
          ]
        },
        {
          "output_type": "stream",
          "name": "stderr",
          "text": [
            "\r 51%|█████     | 383/751 [07:05<03:58,  1.54it/s]"
          ]
        },
        {
          "output_type": "stream",
          "name": "stdout",
          "text": [
            "[2023/05/02 14:21:38] ppocr DEBUG: dt_boxes num : 1, elapse : 0.2270512580871582\n",
            "[2023/05/02 14:21:38] ppocr DEBUG: cls num  : 1, elapse : 0.01564311981201172\n",
            "[2023/05/02 14:21:39] ppocr DEBUG: rec_res num  : 1, elapse : 0.1172645092010498\n"
          ]
        },
        {
          "output_type": "stream",
          "name": "stderr",
          "text": [
            "\r 51%|█████     | 384/751 [07:05<03:27,  1.77it/s]"
          ]
        },
        {
          "output_type": "stream",
          "name": "stdout",
          "text": [
            "[2023/05/02 14:21:39] ppocr DEBUG: dt_boxes num : 1, elapse : 0.2536301612854004\n",
            "[2023/05/02 14:21:39] ppocr DEBUG: cls num  : 1, elapse : 0.01569652557373047\n",
            "[2023/05/02 14:21:39] ppocr DEBUG: rec_res num  : 1, elapse : 0.11796283721923828\n"
          ]
        },
        {
          "output_type": "stream",
          "name": "stderr",
          "text": [
            "\r 51%|█████▏    | 385/751 [07:06<03:09,  1.93it/s]"
          ]
        },
        {
          "output_type": "stream",
          "name": "stdout",
          "text": [
            "[2023/05/02 14:21:39] ppocr DEBUG: dt_boxes num : 7, elapse : 0.24834871292114258\n",
            "[2023/05/02 14:21:39] ppocr DEBUG: cls num  : 7, elapse : 0.09034132957458496\n",
            "[2023/05/02 14:21:40] ppocr DEBUG: rec_res num  : 7, elapse : 0.7649140357971191\n"
          ]
        },
        {
          "output_type": "stream",
          "name": "stderr",
          "text": [
            "\r 51%|█████▏    | 386/751 [07:07<04:15,  1.43it/s]"
          ]
        },
        {
          "output_type": "stream",
          "name": "stdout",
          "text": [
            "[2023/05/02 14:21:40] ppocr DEBUG: dt_boxes num : 7, elapse : 0.2243344783782959\n",
            "[2023/05/02 14:21:40] ppocr DEBUG: cls num  : 7, elapse : 0.07903051376342773\n",
            "[2023/05/02 14:21:41] ppocr DEBUG: rec_res num  : 7, elapse : 0.760556697845459\n"
          ]
        },
        {
          "output_type": "stream",
          "name": "stderr",
          "text": [
            "\r 52%|█████▏    | 387/751 [07:08<04:57,  1.22it/s]"
          ]
        },
        {
          "output_type": "stream",
          "name": "stdout",
          "text": [
            "[2023/05/02 14:21:41] ppocr DEBUG: dt_boxes num : 9, elapse : 0.24601459503173828\n",
            "[2023/05/02 14:21:42] ppocr DEBUG: cls num  : 9, elapse : 0.102325439453125\n",
            "[2023/05/02 14:21:42] ppocr DEBUG: rec_res num  : 9, elapse : 0.9460620880126953\n"
          ]
        },
        {
          "output_type": "stream",
          "name": "stderr",
          "text": [
            "\r 52%|█████▏    | 388/751 [07:09<05:52,  1.03it/s]"
          ]
        },
        {
          "output_type": "stream",
          "name": "stdout",
          "text": [
            "[2023/05/02 14:21:43] ppocr DEBUG: dt_boxes num : 4, elapse : 0.24126362800598145\n",
            "[2023/05/02 14:21:43] ppocr DEBUG: cls num  : 4, elapse : 0.053963661193847656\n",
            "[2023/05/02 14:21:43] ppocr DEBUG: rec_res num  : 4, elapse : 0.4475266933441162\n"
          ]
        },
        {
          "output_type": "stream",
          "name": "stderr",
          "text": [
            "\r 52%|█████▏    | 389/751 [07:10<05:29,  1.10it/s]"
          ]
        },
        {
          "output_type": "stream",
          "name": "stdout",
          "text": [
            "[2023/05/02 14:21:44] ppocr DEBUG: dt_boxes num : 6, elapse : 0.24225258827209473\n",
            "[2023/05/02 14:21:44] ppocr DEBUG: cls num  : 6, elapse : 0.06826090812683105\n",
            "[2023/05/02 14:21:44] ppocr DEBUG: rec_res num  : 6, elapse : 0.6550028324127197\n"
          ]
        },
        {
          "output_type": "stream",
          "name": "stderr",
          "text": [
            "\r 52%|█████▏    | 390/751 [07:11<05:36,  1.07it/s]"
          ]
        },
        {
          "output_type": "stream",
          "name": "stdout",
          "text": [
            "[2023/05/02 14:21:44] ppocr DEBUG: dt_boxes num : 4, elapse : 0.22327589988708496\n",
            "[2023/05/02 14:21:45] ppocr DEBUG: cls num  : 4, elapse : 0.05279254913330078\n",
            "[2023/05/02 14:21:45] ppocr DEBUG: rec_res num  : 4, elapse : 0.4253976345062256\n"
          ]
        },
        {
          "output_type": "stream",
          "name": "stderr",
          "text": [
            "\r 52%|█████▏    | 391/751 [07:12<05:12,  1.15it/s]"
          ]
        },
        {
          "output_type": "stream",
          "name": "stdout",
          "text": [
            "[2023/05/02 14:21:45] ppocr DEBUG: dt_boxes num : 9, elapse : 0.2404499053955078\n",
            "[2023/05/02 14:21:45] ppocr DEBUG: cls num  : 9, elapse : 0.10535454750061035\n",
            "[2023/05/02 14:21:46] ppocr DEBUG: rec_res num  : 9, elapse : 0.9488370418548584\n"
          ]
        },
        {
          "output_type": "stream",
          "name": "stderr",
          "text": [
            "\r 52%|█████▏    | 392/751 [07:13<05:59,  1.00s/it]"
          ]
        },
        {
          "output_type": "stream",
          "name": "stdout",
          "text": [
            "[2023/05/02 14:21:47] ppocr DEBUG: dt_boxes num : 8, elapse : 0.23902130126953125\n",
            "[2023/05/02 14:21:47] ppocr DEBUG: cls num  : 8, elapse : 0.13113951683044434\n",
            "[2023/05/02 14:21:48] ppocr DEBUG: rec_res num  : 8, elapse : 1.4772469997406006\n"
          ]
        },
        {
          "output_type": "stream",
          "name": "stderr",
          "text": [
            "\r 52%|█████▏    | 393/751 [07:15<07:32,  1.26s/it]"
          ]
        },
        {
          "output_type": "stream",
          "name": "stdout",
          "text": [
            "[2023/05/02 14:21:49] ppocr DEBUG: dt_boxes num : 3, elapse : 0.3537309169769287\n",
            "[2023/05/02 14:21:49] ppocr DEBUG: cls num  : 3, elapse : 0.05541253089904785\n",
            "[2023/05/02 14:21:49] ppocr DEBUG: rec_res num  : 3, elapse : 0.5388026237487793\n"
          ]
        },
        {
          "output_type": "stream",
          "name": "stderr",
          "text": [
            "\r 52%|█████▏    | 394/751 [07:16<07:00,  1.18s/it]"
          ]
        },
        {
          "output_type": "stream",
          "name": "stdout",
          "text": [
            "[2023/05/02 14:21:49] ppocr DEBUG: dt_boxes num : 5, elapse : 0.360607385635376\n",
            "[2023/05/02 14:21:50] ppocr DEBUG: cls num  : 5, elapse : 0.09136629104614258\n",
            "[2023/05/02 14:21:51] ppocr DEBUG: rec_res num  : 5, elapse : 0.9203355312347412\n"
          ]
        },
        {
          "output_type": "stream",
          "name": "stderr",
          "text": [
            "\r 53%|█████▎    | 395/751 [07:17<07:22,  1.24s/it]"
          ]
        },
        {
          "output_type": "stream",
          "name": "stdout",
          "text": [
            "[2023/05/02 14:21:51] ppocr DEBUG: dt_boxes num : 5, elapse : 0.349642276763916\n",
            "[2023/05/02 14:21:51] ppocr DEBUG: cls num  : 5, elapse : 0.09199881553649902\n",
            "[2023/05/02 14:21:52] ppocr DEBUG: rec_res num  : 5, elapse : 0.854433536529541\n"
          ]
        },
        {
          "output_type": "stream",
          "name": "stderr",
          "text": [
            "\r 53%|█████▎    | 396/751 [07:18<07:30,  1.27s/it]"
          ]
        },
        {
          "output_type": "stream",
          "name": "stdout",
          "text": [
            "[2023/05/02 14:21:52] ppocr DEBUG: dt_boxes num : 4, elapse : 0.3291444778442383\n",
            "[2023/05/02 14:21:52] ppocr DEBUG: cls num  : 4, elapse : 0.06639313697814941\n",
            "[2023/05/02 14:21:53] ppocr DEBUG: rec_res num  : 4, elapse : 0.6386933326721191\n"
          ]
        },
        {
          "output_type": "stream",
          "name": "stderr",
          "text": [
            "\r 53%|█████▎    | 397/751 [07:19<07:07,  1.21s/it]"
          ]
        },
        {
          "output_type": "stream",
          "name": "stdout",
          "text": [
            "[2023/05/02 14:21:53] ppocr DEBUG: dt_boxes num : 5, elapse : 0.31905031204223633\n",
            "[2023/05/02 14:21:53] ppocr DEBUG: cls num  : 5, elapse : 0.09190845489501953\n",
            "[2023/05/02 14:21:54] ppocr DEBUG: rec_res num  : 5, elapse : 1.0137107372283936\n"
          ]
        },
        {
          "output_type": "stream",
          "name": "stderr",
          "text": [
            "\r 53%|█████▎    | 398/751 [07:21<07:32,  1.28s/it]"
          ]
        },
        {
          "output_type": "stream",
          "name": "stdout",
          "text": [
            "[2023/05/02 14:21:55] ppocr DEBUG: dt_boxes num : 7, elapse : 0.32909202575683594\n",
            "[2023/05/02 14:21:55] ppocr DEBUG: cls num  : 7, elapse : 0.12621450424194336\n",
            "[2023/05/02 14:21:56] ppocr DEBUG: rec_res num  : 7, elapse : 1.0005569458007812\n"
          ]
        },
        {
          "output_type": "stream",
          "name": "stderr",
          "text": [
            "\r 53%|█████▎    | 399/751 [07:22<07:52,  1.34s/it]"
          ]
        },
        {
          "output_type": "stream",
          "name": "stdout",
          "text": [
            "[2023/05/02 14:21:56] ppocr DEBUG: dt_boxes num : 8, elapse : 0.24862980842590332\n",
            "[2023/05/02 14:21:56] ppocr DEBUG: cls num  : 8, elapse : 0.09100604057312012\n",
            "[2023/05/02 14:21:57] ppocr DEBUG: rec_res num  : 8, elapse : 0.9530408382415771\n"
          ]
        },
        {
          "output_type": "stream",
          "name": "stderr",
          "text": [
            "\r 53%|█████▎    | 400/751 [07:24<07:47,  1.33s/it]"
          ]
        },
        {
          "output_type": "stream",
          "name": "stdout",
          "text": [
            "[2023/05/02 14:21:57] ppocr DEBUG: dt_boxes num : 5, elapse : 0.22960376739501953\n",
            "[2023/05/02 14:21:57] ppocr DEBUG: cls num  : 5, elapse : 0.06062650680541992\n",
            "[2023/05/02 14:21:58] ppocr DEBUG: rec_res num  : 5, elapse : 0.5468087196350098\n"
          ]
        },
        {
          "output_type": "stream",
          "name": "stderr",
          "text": [
            "\r 53%|█████▎    | 401/751 [07:25<06:57,  1.19s/it]"
          ]
        },
        {
          "output_type": "stream",
          "name": "stdout",
          "text": [
            "[2023/05/02 14:21:58] ppocr DEBUG: dt_boxes num : 4, elapse : 0.22922611236572266\n",
            "[2023/05/02 14:21:58] ppocr DEBUG: cls num  : 4, elapse : 0.04900503158569336\n",
            "[2023/05/02 14:21:59] ppocr DEBUG: rec_res num  : 4, elapse : 0.4385402202606201\n"
          ]
        },
        {
          "output_type": "stream",
          "name": "stderr",
          "text": [
            "\r 54%|█████▎    | 402/751 [07:25<06:08,  1.05s/it]"
          ]
        },
        {
          "output_type": "stream",
          "name": "stdout",
          "text": [
            "[2023/05/02 14:21:59] ppocr DEBUG: dt_boxes num : 7, elapse : 0.2358248233795166\n",
            "[2023/05/02 14:21:59] ppocr DEBUG: cls num  : 7, elapse : 0.0844259262084961\n",
            "[2023/05/02 14:22:00] ppocr DEBUG: rec_res num  : 7, elapse : 0.8230690956115723\n"
          ]
        },
        {
          "output_type": "stream",
          "name": "stderr",
          "text": [
            "\r 54%|█████▎    | 403/751 [07:26<06:18,  1.09s/it]"
          ]
        },
        {
          "output_type": "stream",
          "name": "stdout",
          "text": [
            "[2023/05/02 14:22:00] ppocr DEBUG: dt_boxes num : 3, elapse : 0.23454999923706055\n",
            "[2023/05/02 14:22:00] ppocr DEBUG: cls num  : 3, elapse : 0.04853558540344238\n",
            "[2023/05/02 14:22:01] ppocr DEBUG: rec_res num  : 3, elapse : 0.35854315757751465\n"
          ]
        },
        {
          "output_type": "stream",
          "name": "stderr",
          "text": [
            "\r 54%|█████▍    | 404/751 [07:27<05:33,  1.04it/s]"
          ]
        },
        {
          "output_type": "stream",
          "name": "stdout",
          "text": [
            "[2023/05/02 14:22:01] ppocr DEBUG: dt_boxes num : 2, elapse : 0.2410123348236084\n",
            "[2023/05/02 14:22:01] ppocr DEBUG: cls num  : 2, elapse : 0.032488107681274414\n",
            "[2023/05/02 14:22:01] ppocr DEBUG: rec_res num  : 2, elapse : 0.2302405834197998\n"
          ]
        },
        {
          "output_type": "stream",
          "name": "stderr",
          "text": [
            "\r 54%|█████▍    | 405/751 [07:28<04:47,  1.20it/s]"
          ]
        },
        {
          "output_type": "stream",
          "name": "stdout",
          "text": [
            "[2023/05/02 14:22:01] ppocr DEBUG: dt_boxes num : 2, elapse : 0.2358999252319336\n",
            "[2023/05/02 14:22:01] ppocr DEBUG: cls num  : 2, elapse : 0.028254032135009766\n",
            "[2023/05/02 14:22:02] ppocr DEBUG: rec_res num  : 2, elapse : 0.22111845016479492\n"
          ]
        },
        {
          "output_type": "stream",
          "name": "stderr",
          "text": [
            "\r 54%|█████▍    | 406/751 [07:28<04:13,  1.36it/s]"
          ]
        },
        {
          "output_type": "stream",
          "name": "stdout",
          "text": [
            "[2023/05/02 14:22:02] ppocr DEBUG: dt_boxes num : 6, elapse : 0.25679588317871094\n",
            "[2023/05/02 14:22:02] ppocr DEBUG: cls num  : 6, elapse : 0.06831645965576172\n",
            "[2023/05/02 14:22:03] ppocr DEBUG: rec_res num  : 6, elapse : 0.6179091930389404\n"
          ]
        },
        {
          "output_type": "stream",
          "name": "stderr",
          "text": [
            "\r 54%|█████▍    | 407/751 [07:29<04:36,  1.25it/s]"
          ]
        },
        {
          "output_type": "stream",
          "name": "stdout",
          "text": [
            "[2023/05/02 14:22:03] ppocr DEBUG: dt_boxes num : 6, elapse : 0.2394852638244629\n",
            "[2023/05/02 14:22:03] ppocr DEBUG: cls num  : 6, elapse : 0.06847095489501953\n",
            "[2023/05/02 14:22:04] ppocr DEBUG: rec_res num  : 6, elapse : 0.6317377090454102\n"
          ]
        },
        {
          "output_type": "stream",
          "name": "stderr",
          "text": [
            "\r 54%|█████▍    | 408/751 [07:30<04:52,  1.17it/s]"
          ]
        },
        {
          "output_type": "stream",
          "name": "stdout",
          "text": [
            "[2023/05/02 14:22:04] ppocr DEBUG: dt_boxes num : 3, elapse : 0.25243663787841797\n",
            "[2023/05/02 14:22:04] ppocr DEBUG: cls num  : 3, elapse : 0.04589223861694336\n",
            "[2023/05/02 14:22:04] ppocr DEBUG: rec_res num  : 3, elapse : 0.3271830081939697\n"
          ]
        },
        {
          "output_type": "stream",
          "name": "stderr",
          "text": [
            "\r 54%|█████▍    | 409/751 [07:31<04:29,  1.27it/s]"
          ]
        },
        {
          "output_type": "stream",
          "name": "stdout",
          "text": [
            "[2023/05/02 14:22:04] ppocr DEBUG: dt_boxes num : 9, elapse : 0.2731640338897705\n",
            "[2023/05/02 14:22:05] ppocr DEBUG: cls num  : 9, elapse : 0.11752867698669434\n",
            "[2023/05/02 14:22:06] ppocr DEBUG: rec_res num  : 9, elapse : 1.005220651626587\n"
          ]
        },
        {
          "output_type": "stream",
          "name": "stderr",
          "text": [
            "\r 55%|█████▍    | 410/751 [07:32<05:33,  1.02it/s]"
          ]
        },
        {
          "output_type": "stream",
          "name": "stdout",
          "text": [
            "[2023/05/02 14:22:06] ppocr DEBUG: dt_boxes num : 3, elapse : 0.3368105888366699\n",
            "[2023/05/02 14:22:06] ppocr DEBUG: cls num  : 3, elapse : 0.06100940704345703\n",
            "[2023/05/02 14:22:07] ppocr DEBUG: rec_res num  : 3, elapse : 0.5774428844451904\n"
          ]
        },
        {
          "output_type": "stream",
          "name": "stderr",
          "text": [
            "\r 55%|█████▍    | 411/751 [07:33<05:35,  1.01it/s]"
          ]
        },
        {
          "output_type": "stream",
          "name": "stdout",
          "text": [
            "[2023/05/02 14:22:07] ppocr DEBUG: dt_boxes num : 5, elapse : 0.3695032596588135\n",
            "[2023/05/02 14:22:07] ppocr DEBUG: cls num  : 5, elapse : 0.1083688735961914\n",
            "[2023/05/02 14:22:08] ppocr DEBUG: rec_res num  : 5, elapse : 0.9522824287414551\n"
          ]
        },
        {
          "output_type": "stream",
          "name": "stderr",
          "text": [
            "\r 55%|█████▍    | 412/751 [07:35<06:21,  1.13s/it]"
          ]
        },
        {
          "output_type": "stream",
          "name": "stdout",
          "text": [
            "[2023/05/02 14:22:08] ppocr DEBUG: dt_boxes num : 3, elapse : 0.3506770133972168\n",
            "[2023/05/02 14:22:09] ppocr DEBUG: cls num  : 3, elapse : 0.06974673271179199\n",
            "[2023/05/02 14:22:09] ppocr DEBUG: rec_res num  : 3, elapse : 0.5524423122406006\n"
          ]
        },
        {
          "output_type": "stream",
          "name": "stderr",
          "text": [
            "\r 55%|█████▍    | 413/751 [07:36<06:08,  1.09s/it]"
          ]
        },
        {
          "output_type": "stream",
          "name": "stdout",
          "text": [
            "[2023/05/02 14:22:09] ppocr DEBUG: dt_boxes num : 3, elapse : 0.35420680046081543\n",
            "[2023/05/02 14:22:10] ppocr DEBUG: cls num  : 3, elapse : 0.05654454231262207\n",
            "[2023/05/02 14:22:10] ppocr DEBUG: rec_res num  : 3, elapse : 0.5688719749450684\n"
          ]
        },
        {
          "output_type": "stream",
          "name": "stderr",
          "text": [
            "\r 55%|█████▌    | 414/751 [07:37<05:58,  1.06s/it]"
          ]
        },
        {
          "output_type": "stream",
          "name": "stdout",
          "text": [
            "[2023/05/02 14:22:10] ppocr DEBUG: dt_boxes num : 12, elapse : 0.338071346282959\n",
            "[2023/05/02 14:22:11] ppocr DEBUG: cls num  : 12, elapse : 0.22559905052185059\n",
            "[2023/05/02 14:22:13] ppocr DEBUG: rec_res num  : 12, elapse : 1.958036184310913\n"
          ]
        },
        {
          "output_type": "stream",
          "name": "stderr",
          "text": [
            "\r 55%|█████▌    | 415/751 [07:39<08:27,  1.51s/it]"
          ]
        },
        {
          "output_type": "stream",
          "name": "stdout",
          "text": [
            "[2023/05/02 14:22:13] ppocr DEBUG: dt_boxes num : 7, elapse : 0.350879430770874\n",
            "[2023/05/02 14:22:13] ppocr DEBUG: cls num  : 7, elapse : 0.11869478225708008\n",
            "[2023/05/02 14:22:14] ppocr DEBUG: rec_res num  : 7, elapse : 1.0856995582580566\n"
          ]
        },
        {
          "output_type": "stream",
          "name": "stderr",
          "text": [
            "\r 55%|█████▌    | 416/751 [07:41<08:33,  1.53s/it]"
          ]
        },
        {
          "output_type": "stream",
          "name": "stdout",
          "text": [
            "[2023/05/02 14:22:15] ppocr DEBUG: dt_boxes num : 7, elapse : 0.3364682197570801\n",
            "[2023/05/02 14:22:15] ppocr DEBUG: cls num  : 7, elapse : 0.11321139335632324\n",
            "[2023/05/02 14:22:16] ppocr DEBUG: rec_res num  : 7, elapse : 0.8261001110076904\n"
          ]
        },
        {
          "output_type": "stream",
          "name": "stderr",
          "text": [
            "\r 56%|█████▌    | 417/751 [07:42<08:08,  1.46s/it]"
          ]
        },
        {
          "output_type": "stream",
          "name": "stdout",
          "text": [
            "[2023/05/02 14:22:16] ppocr DEBUG: dt_boxes num : 13, elapse : 0.259472131729126\n",
            "[2023/05/02 14:22:16] ppocr DEBUG: cls num  : 13, elapse : 0.15137410163879395\n",
            "[2023/05/02 14:22:17] ppocr DEBUG: rec_res num  : 13, elapse : 1.5301437377929688\n"
          ]
        },
        {
          "output_type": "stream",
          "name": "stderr",
          "text": [
            "\r 56%|█████▌    | 418/751 [07:44<08:57,  1.61s/it]"
          ]
        },
        {
          "output_type": "stream",
          "name": "stdout",
          "text": [
            "[2023/05/02 14:22:18] ppocr DEBUG: dt_boxes num : 14, elapse : 0.2339930534362793\n",
            "[2023/05/02 14:22:18] ppocr DEBUG: cls num  : 14, elapse : 0.15194392204284668\n",
            "[2023/05/02 14:22:20] ppocr DEBUG: rec_res num  : 14, elapse : 1.8168480396270752\n"
          ]
        },
        {
          "output_type": "stream",
          "name": "stderr",
          "text": [
            "\r 56%|█████▌    | 419/751 [07:46<09:57,  1.80s/it]"
          ]
        },
        {
          "output_type": "stream",
          "name": "stdout",
          "text": [
            "[2023/05/02 14:22:20] ppocr DEBUG: dt_boxes num : 13, elapse : 0.22873497009277344\n",
            "[2023/05/02 14:22:20] ppocr DEBUG: cls num  : 13, elapse : 0.15128731727600098\n",
            "[2023/05/02 14:22:22] ppocr DEBUG: rec_res num  : 13, elapse : 1.542583703994751\n"
          ]
        },
        {
          "output_type": "stream",
          "name": "stderr",
          "text": [
            "\r 56%|█████▌    | 420/751 [07:48<10:09,  1.84s/it]"
          ]
        },
        {
          "output_type": "stream",
          "name": "stdout",
          "text": [
            "[2023/05/02 14:22:22] ppocr DEBUG: dt_boxes num : 13, elapse : 0.23102903366088867\n",
            "[2023/05/02 14:22:22] ppocr DEBUG: cls num  : 13, elapse : 0.14360618591308594\n",
            "[2023/05/02 14:22:24] ppocr DEBUG: rec_res num  : 13, elapse : 1.5572731494903564\n"
          ]
        },
        {
          "output_type": "stream",
          "name": "stderr",
          "text": [
            "\r 56%|█████▌    | 421/751 [07:50<10:19,  1.88s/it]"
          ]
        },
        {
          "output_type": "stream",
          "name": "stdout",
          "text": [
            "[2023/05/02 14:22:24] ppocr DEBUG: dt_boxes num : 12, elapse : 0.2624523639678955\n",
            "[2023/05/02 14:22:24] ppocr DEBUG: cls num  : 12, elapse : 0.13989019393920898\n",
            "[2023/05/02 14:22:27] ppocr DEBUG: rec_res num  : 12, elapse : 3.274409532546997\n"
          ]
        },
        {
          "output_type": "stream",
          "name": "stderr",
          "text": [
            "\r 56%|█████▌    | 422/751 [07:54<13:17,  2.42s/it]"
          ]
        },
        {
          "output_type": "stream",
          "name": "stdout",
          "text": [
            "[2023/05/02 14:22:28] ppocr DEBUG: dt_boxes num : 1, elapse : 0.3473517894744873\n",
            "[2023/05/02 14:22:28] ppocr DEBUG: cls num  : 1, elapse : 0.026133060455322266\n",
            "[2023/05/02 14:22:28] ppocr DEBUG: rec_res num  : 1, elapse : 0.2010822296142578\n"
          ]
        },
        {
          "output_type": "stream",
          "name": "stderr",
          "text": [
            "\r 56%|█████▋    | 423/751 [07:54<10:16,  1.88s/it]"
          ]
        },
        {
          "output_type": "stream",
          "name": "stdout",
          "text": [
            "[2023/05/02 14:22:28] ppocr DEBUG: dt_boxes num : 3, elapse : 0.3501121997833252\n",
            "[2023/05/02 14:22:28] ppocr DEBUG: cls num  : 3, elapse : 0.06720328330993652\n",
            "[2023/05/02 14:22:29] ppocr DEBUG: rec_res num  : 3, elapse : 0.5791893005371094\n"
          ]
        },
        {
          "output_type": "stream",
          "name": "stderr",
          "text": [
            "\r 56%|█████▋    | 424/751 [07:56<08:50,  1.62s/it]"
          ]
        },
        {
          "output_type": "stream",
          "name": "stdout",
          "text": [
            "[2023/05/02 14:22:29] ppocr DEBUG: dt_boxes num : 4, elapse : 0.33077406883239746\n",
            "[2023/05/02 14:22:29] ppocr DEBUG: cls num  : 4, elapse : 0.08440828323364258\n",
            "[2023/05/02 14:22:30] ppocr DEBUG: rec_res num  : 4, elapse : 0.688887357711792\n"
          ]
        },
        {
          "output_type": "stream",
          "name": "stderr",
          "text": [
            "\r 57%|█████▋    | 425/751 [07:57<08:01,  1.48s/it]"
          ]
        },
        {
          "output_type": "stream",
          "name": "stdout",
          "text": [
            "[2023/05/02 14:22:30] ppocr DEBUG: dt_boxes num : 7, elapse : 0.33928728103637695\n",
            "[2023/05/02 14:22:31] ppocr DEBUG: cls num  : 7, elapse : 0.11821556091308594\n",
            "[2023/05/02 14:22:32] ppocr DEBUG: rec_res num  : 7, elapse : 1.1470966339111328\n"
          ]
        },
        {
          "output_type": "stream",
          "name": "stderr",
          "text": [
            "\r 57%|█████▋    | 426/751 [07:58<08:14,  1.52s/it]"
          ]
        },
        {
          "output_type": "stream",
          "name": "stdout",
          "text": [
            "[2023/05/02 14:22:32] ppocr DEBUG: dt_boxes num : 5, elapse : 0.34380650520324707\n",
            "[2023/05/02 14:22:32] ppocr DEBUG: cls num  : 5, elapse : 0.10567021369934082\n",
            "[2023/05/02 14:22:33] ppocr DEBUG: rec_res num  : 5, elapse : 0.7912642955780029\n"
          ]
        },
        {
          "output_type": "stream",
          "name": "stderr",
          "text": [
            "\r 57%|█████▋    | 427/751 [08:00<07:48,  1.45s/it]"
          ]
        },
        {
          "output_type": "stream",
          "name": "stdout",
          "text": [
            "[2023/05/02 14:22:33] ppocr DEBUG: dt_boxes num : 4, elapse : 0.3430342674255371\n",
            "[2023/05/02 14:22:33] ppocr DEBUG: cls num  : 4, elapse : 0.06897234916687012\n",
            "[2023/05/02 14:22:34] ppocr DEBUG: rec_res num  : 4, elapse : 0.6178357601165771\n"
          ]
        },
        {
          "output_type": "stream",
          "name": "stderr",
          "text": [
            "\r 57%|█████▋    | 428/751 [08:01<07:09,  1.33s/it]"
          ]
        },
        {
          "output_type": "stream",
          "name": "stdout",
          "text": [
            "[2023/05/02 14:22:34] ppocr DEBUG: dt_boxes num : 1, elapse : 0.26183509826660156\n",
            "[2023/05/02 14:22:34] ppocr DEBUG: cls num  : 1, elapse : 0.017864704132080078\n",
            "[2023/05/02 14:22:34] ppocr DEBUG: rec_res num  : 1, elapse : 0.11450886726379395\n"
          ]
        },
        {
          "output_type": "stream",
          "name": "stderr",
          "text": [
            "\r 57%|█████▋    | 429/751 [08:01<05:39,  1.06s/it]"
          ]
        },
        {
          "output_type": "stream",
          "name": "stdout",
          "text": [
            "[2023/05/02 14:22:35] ppocr DEBUG: dt_boxes num : 3, elapse : 0.26702117919921875\n",
            "[2023/05/02 14:22:35] ppocr DEBUG: cls num  : 3, elapse : 0.044191837310791016\n",
            "[2023/05/02 14:22:35] ppocr DEBUG: rec_res num  : 3, elapse : 0.3257589340209961\n"
          ]
        },
        {
          "output_type": "stream",
          "name": "stderr",
          "text": [
            "\r 57%|█████▋    | 430/751 [08:02<05:00,  1.07it/s]"
          ]
        },
        {
          "output_type": "stream",
          "name": "stdout",
          "text": [
            "[2023/05/02 14:22:35] ppocr DEBUG: dt_boxes num : 3, elapse : 0.2574763298034668\n",
            "[2023/05/02 14:22:35] ppocr DEBUG: cls num  : 3, elapse : 0.03697919845581055\n",
            "[2023/05/02 14:22:36] ppocr DEBUG: rec_res num  : 3, elapse : 0.31353187561035156\n"
          ]
        },
        {
          "output_type": "stream",
          "name": "stderr",
          "text": [
            "\r 57%|█████▋    | 431/751 [08:02<04:30,  1.18it/s]"
          ]
        },
        {
          "output_type": "stream",
          "name": "stdout",
          "text": [
            "[2023/05/02 14:22:36] ppocr DEBUG: dt_boxes num : 1, elapse : 0.2191178798675537\n",
            "[2023/05/02 14:22:36] ppocr DEBUG: cls num  : 1, elapse : 0.015993356704711914\n",
            "[2023/05/02 14:22:36] ppocr DEBUG: rec_res num  : 1, elapse : 0.11205196380615234\n"
          ]
        },
        {
          "output_type": "stream",
          "name": "stderr",
          "text": [
            "\r 58%|█████▊    | 432/751 [08:03<03:43,  1.43it/s]"
          ]
        },
        {
          "output_type": "stream",
          "name": "stdout",
          "text": [
            "[2023/05/02 14:22:36] ppocr DEBUG: dt_boxes num : 0, elapse : 0.26407647132873535\n",
            "[2023/05/02 14:22:36] ppocr DEBUG: cls num  : 0, elapse : 0\n",
            "[2023/05/02 14:22:36] ppocr DEBUG: rec_res num  : 0, elapse : 2.6226043701171875e-06\n"
          ]
        },
        {
          "output_type": "stream",
          "name": "stderr",
          "text": [
            "\r 58%|█████▊    | 433/751 [08:03<03:03,  1.74it/s]"
          ]
        },
        {
          "output_type": "stream",
          "name": "stdout",
          "text": [
            "[2023/05/02 14:22:37] ppocr DEBUG: dt_boxes num : 1, elapse : 0.23330998420715332\n",
            "[2023/05/02 14:22:37] ppocr DEBUG: cls num  : 1, elapse : 0.019945383071899414\n",
            "[2023/05/02 14:22:37] ppocr DEBUG: rec_res num  : 1, elapse : 0.11821603775024414\n"
          ]
        },
        {
          "output_type": "stream",
          "name": "stderr",
          "text": [
            "\r 58%|█████▊    | 434/751 [08:03<02:44,  1.93it/s]"
          ]
        },
        {
          "output_type": "stream",
          "name": "stdout",
          "text": [
            "[2023/05/02 14:22:37] ppocr DEBUG: dt_boxes num : 0, elapse : 0.23176097869873047\n",
            "[2023/05/02 14:22:37] ppocr DEBUG: cls num  : 0, elapse : 0\n",
            "[2023/05/02 14:22:37] ppocr DEBUG: rec_res num  : 0, elapse : 2.86102294921875e-06\n"
          ]
        },
        {
          "output_type": "stream",
          "name": "stderr",
          "text": [
            "\r 58%|█████▊    | 435/751 [08:04<02:18,  2.27it/s]"
          ]
        },
        {
          "output_type": "stream",
          "name": "stdout",
          "text": [
            "[2023/05/02 14:22:37] ppocr DEBUG: dt_boxes num : 5, elapse : 0.2471940517425537\n",
            "[2023/05/02 14:22:37] ppocr DEBUG: cls num  : 5, elapse : 0.07243633270263672\n",
            "[2023/05/02 14:22:38] ppocr DEBUG: rec_res num  : 5, elapse : 0.5701780319213867\n"
          ]
        },
        {
          "output_type": "stream",
          "name": "stderr",
          "text": [
            "\r 58%|█████▊    | 436/751 [08:05<03:03,  1.72it/s]"
          ]
        },
        {
          "output_type": "stream",
          "name": "stdout",
          "text": [
            "[2023/05/02 14:22:38] ppocr DEBUG: dt_boxes num : 3, elapse : 0.22428631782531738\n",
            "[2023/05/02 14:22:38] ppocr DEBUG: cls num  : 3, elapse : 0.04411792755126953\n",
            "[2023/05/02 14:22:39] ppocr DEBUG: rec_res num  : 3, elapse : 0.34020352363586426\n"
          ]
        },
        {
          "output_type": "stream",
          "name": "stderr",
          "text": [
            "\r 58%|█████▊    | 437/751 [08:05<03:07,  1.67it/s]"
          ]
        },
        {
          "output_type": "stream",
          "name": "stdout",
          "text": [
            "[2023/05/02 14:22:39] ppocr DEBUG: dt_boxes num : 3, elapse : 0.25218677520751953\n",
            "[2023/05/02 14:22:39] ppocr DEBUG: cls num  : 3, elapse : 0.037433624267578125\n",
            "[2023/05/02 14:22:39] ppocr DEBUG: rec_res num  : 3, elapse : 0.3238699436187744\n"
          ]
        },
        {
          "output_type": "stream",
          "name": "stderr",
          "text": [
            "\r 58%|█████▊    | 438/751 [08:06<03:10,  1.65it/s]"
          ]
        },
        {
          "output_type": "stream",
          "name": "stdout",
          "text": [
            "[2023/05/02 14:22:39] ppocr DEBUG: dt_boxes num : 4, elapse : 0.2354419231414795\n",
            "[2023/05/02 14:22:40] ppocr DEBUG: cls num  : 4, elapse : 0.05511331558227539\n",
            "[2023/05/02 14:22:40] ppocr DEBUG: rec_res num  : 4, elapse : 0.4306459426879883\n"
          ]
        },
        {
          "output_type": "stream",
          "name": "stderr",
          "text": [
            "\r 58%|█████▊    | 439/751 [08:07<03:22,  1.54it/s]"
          ]
        },
        {
          "output_type": "stream",
          "name": "stdout",
          "text": [
            "[2023/05/02 14:22:40] ppocr DEBUG: dt_boxes num : 4, elapse : 0.2193002700805664\n",
            "[2023/05/02 14:22:40] ppocr DEBUG: cls num  : 4, elapse : 0.05652046203613281\n",
            "[2023/05/02 14:22:41] ppocr DEBUG: rec_res num  : 4, elapse : 0.43300867080688477\n"
          ]
        },
        {
          "output_type": "stream",
          "name": "stderr",
          "text": [
            "\r 59%|█████▊    | 440/751 [08:07<03:29,  1.48it/s]"
          ]
        },
        {
          "output_type": "stream",
          "name": "stdout",
          "text": [
            "[2023/05/02 14:22:41] ppocr DEBUG: dt_boxes num : 4, elapse : 0.22863149642944336\n",
            "[2023/05/02 14:22:41] ppocr DEBUG: cls num  : 4, elapse : 0.05054330825805664\n",
            "[2023/05/02 14:22:41] ppocr DEBUG: rec_res num  : 4, elapse : 0.4254143238067627\n"
          ]
        },
        {
          "output_type": "stream",
          "name": "stderr",
          "text": [
            "\r 59%|█████▊    | 441/751 [08:08<03:34,  1.45it/s]"
          ]
        },
        {
          "output_type": "stream",
          "name": "stdout",
          "text": [
            "[2023/05/02 14:22:42] ppocr DEBUG: dt_boxes num : 24, elapse : 0.24586176872253418\n",
            "[2023/05/02 14:22:42] ppocr DEBUG: cls num  : 24, elapse : 0.25673913955688477\n",
            "[2023/05/02 14:22:46] ppocr DEBUG: rec_res num  : 24, elapse : 3.718021869659424\n"
          ]
        },
        {
          "output_type": "stream",
          "name": "stderr",
          "text": [
            "\r 59%|█████▉    | 442/751 [08:12<09:03,  1.76s/it]"
          ]
        },
        {
          "output_type": "stream",
          "name": "stdout",
          "text": [
            "[2023/05/02 14:22:46] ppocr DEBUG: dt_boxes num : 24, elapse : 0.34870100021362305\n",
            "[2023/05/02 14:22:46] ppocr DEBUG: cls num  : 24, elapse : 0.44414186477661133\n",
            "[2023/05/02 14:22:51] ppocr DEBUG: rec_res num  : 24, elapse : 4.973933935165405\n"
          ]
        },
        {
          "output_type": "stream",
          "name": "stderr",
          "text": [
            "\r 59%|█████▉    | 443/751 [08:18<15:13,  2.97s/it]"
          ]
        },
        {
          "output_type": "stream",
          "name": "stdout",
          "text": [
            "[2023/05/02 14:22:52] ppocr DEBUG: dt_boxes num : 24, elapse : 0.3588249683380127\n",
            "[2023/05/02 14:22:52] ppocr DEBUG: cls num  : 24, elapse : 0.4166374206542969\n",
            "[2023/05/02 14:22:55] ppocr DEBUG: rec_res num  : 24, elapse : 3.2264244556427\n"
          ]
        },
        {
          "output_type": "stream",
          "name": "stderr",
          "text": [
            "\r 59%|█████▉    | 444/751 [08:22<16:48,  3.28s/it]"
          ]
        },
        {
          "output_type": "stream",
          "name": "stdout",
          "text": [
            "[2023/05/02 14:22:56] ppocr DEBUG: dt_boxes num : 23, elapse : 0.2298111915588379\n",
            "[2023/05/02 14:22:56] ppocr DEBUG: cls num  : 23, elapse : 0.23716974258422852\n",
            "[2023/05/02 14:22:59] ppocr DEBUG: rec_res num  : 23, elapse : 2.8835232257843018\n"
          ]
        },
        {
          "output_type": "stream",
          "name": "stderr",
          "text": [
            "\r 59%|█████▉    | 445/751 [08:25<16:53,  3.31s/it]"
          ]
        },
        {
          "output_type": "stream",
          "name": "stdout",
          "text": [
            "[2023/05/02 14:22:59] ppocr DEBUG: dt_boxes num : 1, elapse : 0.2419121265411377\n",
            "[2023/05/02 14:22:59] ppocr DEBUG: cls num  : 1, elapse : 0.016710519790649414\n",
            "[2023/05/02 14:22:59] ppocr DEBUG: rec_res num  : 1, elapse : 0.10907483100891113\n"
          ]
        },
        {
          "output_type": "stream",
          "name": "stderr",
          "text": [
            "\r 59%|█████▉    | 446/751 [08:26<12:23,  2.44s/it]"
          ]
        },
        {
          "output_type": "stream",
          "name": "stdout",
          "text": [
            "[2023/05/02 14:22:59] ppocr DEBUG: dt_boxes num : 0, elapse : 0.23058462142944336\n",
            "[2023/05/02 14:22:59] ppocr DEBUG: cls num  : 0, elapse : 0\n",
            "[2023/05/02 14:22:59] ppocr DEBUG: rec_res num  : 0, elapse : 2.6226043701171875e-06\n"
          ]
        },
        {
          "output_type": "stream",
          "name": "stderr",
          "text": [
            "\r 60%|█████▉    | 447/751 [08:26<09:01,  1.78s/it]"
          ]
        },
        {
          "output_type": "stream",
          "name": "stdout",
          "text": [
            "[2023/05/02 14:23:00] ppocr DEBUG: dt_boxes num : 1, elapse : 0.23465943336486816\n",
            "[2023/05/02 14:23:00] ppocr DEBUG: cls num  : 1, elapse : 0.017215728759765625\n",
            "[2023/05/02 14:23:00] ppocr DEBUG: rec_res num  : 1, elapse : 0.11066627502441406\n"
          ]
        },
        {
          "output_type": "stream",
          "name": "stderr",
          "text": [
            "\r 60%|█████▉    | 448/751 [08:26<06:52,  1.36s/it]"
          ]
        },
        {
          "output_type": "stream",
          "name": "stdout",
          "text": [
            "[2023/05/02 14:23:00] ppocr DEBUG: dt_boxes num : 1, elapse : 0.2411031723022461\n",
            "[2023/05/02 14:23:00] ppocr DEBUG: cls num  : 1, elapse : 0.015444040298461914\n",
            "[2023/05/02 14:23:00] ppocr DEBUG: rec_res num  : 1, elapse : 0.11367654800415039\n"
          ]
        },
        {
          "output_type": "stream",
          "name": "stderr",
          "text": [
            "\r 60%|█████▉    | 449/751 [08:27<05:23,  1.07s/it]"
          ]
        },
        {
          "output_type": "stream",
          "name": "stdout",
          "text": [
            "[2023/05/02 14:23:01] ppocr DEBUG: dt_boxes num : 1, elapse : 0.23611998558044434\n",
            "[2023/05/02 14:23:01] ppocr DEBUG: cls num  : 1, elapse : 0.019970178604125977\n",
            "[2023/05/02 14:23:01] ppocr DEBUG: rec_res num  : 1, elapse : 0.11074542999267578\n"
          ]
        },
        {
          "output_type": "stream",
          "name": "stderr",
          "text": [
            "\r 60%|█████▉    | 450/751 [08:27<04:20,  1.16it/s]"
          ]
        },
        {
          "output_type": "stream",
          "name": "stdout",
          "text": [
            "[2023/05/02 14:23:01] ppocr DEBUG: dt_boxes num : 4, elapse : 0.22559905052185059\n",
            "[2023/05/02 14:23:01] ppocr DEBUG: cls num  : 4, elapse : 0.05124497413635254\n",
            "[2023/05/02 14:23:01] ppocr DEBUG: rec_res num  : 4, elapse : 0.4165503978729248\n"
          ]
        },
        {
          "output_type": "stream",
          "name": "stderr",
          "text": [
            "\r 60%|██████    | 451/751 [08:28<04:05,  1.22it/s]"
          ]
        },
        {
          "output_type": "stream",
          "name": "stdout",
          "text": [
            "[2023/05/02 14:23:02] ppocr DEBUG: dt_boxes num : 3, elapse : 0.22784018516540527\n",
            "[2023/05/02 14:23:02] ppocr DEBUG: cls num  : 3, elapse : 0.05016350746154785\n",
            "[2023/05/02 14:23:02] ppocr DEBUG: rec_res num  : 3, elapse : 0.3267552852630615\n"
          ]
        },
        {
          "output_type": "stream",
          "name": "stderr",
          "text": [
            "\r 60%|██████    | 452/751 [08:29<03:47,  1.31it/s]"
          ]
        },
        {
          "output_type": "stream",
          "name": "stdout",
          "text": [
            "[2023/05/02 14:23:02] ppocr DEBUG: dt_boxes num : 5, elapse : 0.2287425994873047\n",
            "[2023/05/02 14:23:02] ppocr DEBUG: cls num  : 5, elapse : 0.06586909294128418\n",
            "[2023/05/02 14:23:03] ppocr DEBUG: rec_res num  : 5, elapse : 0.5294897556304932\n"
          ]
        },
        {
          "output_type": "stream",
          "name": "stderr",
          "text": [
            "\r 60%|██████    | 453/751 [08:29<03:53,  1.27it/s]"
          ]
        },
        {
          "output_type": "stream",
          "name": "stdout",
          "text": [
            "[2023/05/02 14:23:03] ppocr DEBUG: dt_boxes num : 4, elapse : 0.25194573402404785\n",
            "[2023/05/02 14:23:03] ppocr DEBUG: cls num  : 4, elapse : 0.06741952896118164\n",
            "[2023/05/02 14:23:04] ppocr DEBUG: rec_res num  : 4, elapse : 0.7091376781463623\n"
          ]
        },
        {
          "output_type": "stream",
          "name": "stderr",
          "text": [
            "\r 60%|██████    | 454/751 [08:30<04:17,  1.15it/s]"
          ]
        },
        {
          "output_type": "stream",
          "name": "stdout",
          "text": [
            "[2023/05/02 14:23:04] ppocr DEBUG: dt_boxes num : 7, elapse : 0.3361523151397705\n",
            "[2023/05/02 14:23:04] ppocr DEBUG: cls num  : 7, elapse : 0.12253379821777344\n",
            "[2023/05/02 14:23:06] ppocr DEBUG: rec_res num  : 7, elapse : 1.2846894264221191\n"
          ]
        },
        {
          "output_type": "stream",
          "name": "stderr",
          "text": [
            "\r 61%|██████    | 455/751 [08:32<05:36,  1.14s/it]"
          ]
        },
        {
          "output_type": "stream",
          "name": "stdout",
          "text": [
            "[2023/05/02 14:23:06] ppocr DEBUG: dt_boxes num : 7, elapse : 0.3361332416534424\n",
            "[2023/05/02 14:23:06] ppocr DEBUG: cls num  : 7, elapse : 0.1322035789489746\n",
            "[2023/05/02 14:23:07] ppocr DEBUG: rec_res num  : 7, elapse : 1.3029241561889648\n"
          ]
        },
        {
          "output_type": "stream",
          "name": "stderr",
          "text": [
            "\r 61%|██████    | 456/751 [08:34<06:34,  1.34s/it]"
          ]
        },
        {
          "output_type": "stream",
          "name": "stdout",
          "text": [
            "[2023/05/02 14:23:08] ppocr DEBUG: dt_boxes num : 2, elapse : 0.31400108337402344\n",
            "[2023/05/02 14:23:08] ppocr DEBUG: cls num  : 2, elapse : 0.03657102584838867\n",
            "[2023/05/02 14:23:08] ppocr DEBUG: rec_res num  : 2, elapse : 0.3582582473754883\n"
          ]
        },
        {
          "output_type": "stream",
          "name": "stderr",
          "text": [
            "\r 61%|██████    | 457/751 [08:35<05:39,  1.16s/it]"
          ]
        },
        {
          "output_type": "stream",
          "name": "stdout",
          "text": [
            "[2023/05/02 14:23:09] ppocr DEBUG: dt_boxes num : 8, elapse : 0.34606170654296875\n",
            "[2023/05/02 14:23:09] ppocr DEBUG: cls num  : 8, elapse : 0.13767695426940918\n",
            "[2023/05/02 14:23:10] ppocr DEBUG: rec_res num  : 8, elapse : 1.2461097240447998\n"
          ]
        },
        {
          "output_type": "stream",
          "name": "stderr",
          "text": [
            "\r 61%|██████    | 458/751 [08:37<06:31,  1.33s/it]"
          ]
        },
        {
          "output_type": "stream",
          "name": "stdout",
          "text": [
            "[2023/05/02 14:23:10] ppocr DEBUG: dt_boxes num : 8, elapse : 0.31157517433166504\n",
            "[2023/05/02 14:23:10] ppocr DEBUG: cls num  : 8, elapse : 0.12918305397033691\n",
            "[2023/05/02 14:23:12] ppocr DEBUG: rec_res num  : 8, elapse : 1.259455919265747\n"
          ]
        },
        {
          "output_type": "stream",
          "name": "stderr",
          "text": [
            "\r 61%|██████    | 459/751 [08:38<07:04,  1.45s/it]"
          ]
        },
        {
          "output_type": "stream",
          "name": "stdout",
          "text": [
            "[2023/05/02 14:23:12] ppocr DEBUG: dt_boxes num : 12, elapse : 0.2923603057861328\n",
            "[2023/05/02 14:23:12] ppocr DEBUG: cls num  : 12, elapse : 0.13385677337646484\n",
            "[2023/05/02 14:23:13] ppocr DEBUG: rec_res num  : 12, elapse : 1.2841506004333496\n"
          ]
        },
        {
          "output_type": "stream",
          "name": "stderr",
          "text": [
            "\r 61%|██████▏   | 460/751 [08:40<07:27,  1.54s/it]"
          ]
        },
        {
          "output_type": "stream",
          "name": "stdout",
          "text": [
            "[2023/05/02 14:23:14] ppocr DEBUG: dt_boxes num : 20, elapse : 0.2439594268798828\n",
            "[2023/05/02 14:23:14] ppocr DEBUG: cls num  : 20, elapse : 0.2156224250793457\n",
            "[2023/05/02 14:23:16] ppocr DEBUG: rec_res num  : 20, elapse : 2.1450300216674805\n"
          ]
        },
        {
          "output_type": "stream",
          "name": "stderr",
          "text": [
            "\r 61%|██████▏   | 461/751 [08:43<09:00,  1.86s/it]"
          ]
        },
        {
          "output_type": "stream",
          "name": "stdout",
          "text": [
            "[2023/05/02 14:23:16] ppocr DEBUG: dt_boxes num : 1, elapse : 0.2278602123260498\n",
            "[2023/05/02 14:23:16] ppocr DEBUG: cls num  : 1, elapse : 0.01938939094543457\n",
            "[2023/05/02 14:23:16] ppocr DEBUG: rec_res num  : 1, elapse : 0.1173241138458252\n"
          ]
        },
        {
          "output_type": "stream",
          "name": "stderr",
          "text": [
            "\r 62%|██████▏   | 462/751 [08:43<06:50,  1.42s/it]"
          ]
        },
        {
          "output_type": "stream",
          "name": "stdout",
          "text": [
            "[2023/05/02 14:23:17] ppocr DEBUG: dt_boxes num : 1, elapse : 0.23299479484558105\n",
            "[2023/05/02 14:23:17] ppocr DEBUG: cls num  : 1, elapse : 0.022699356079101562\n",
            "[2023/05/02 14:23:17] ppocr DEBUG: rec_res num  : 1, elapse : 0.12405657768249512\n"
          ]
        },
        {
          "output_type": "stream",
          "name": "stderr",
          "text": [
            "\r 62%|██████▏   | 463/751 [08:43<05:20,  1.11s/it]"
          ]
        },
        {
          "output_type": "stream",
          "name": "stdout",
          "text": [
            "[2023/05/02 14:23:17] ppocr DEBUG: dt_boxes num : 7, elapse : 0.2383735179901123\n",
            "[2023/05/02 14:23:17] ppocr DEBUG: cls num  : 7, elapse : 0.07820868492126465\n",
            "[2023/05/02 14:23:18] ppocr DEBUG: rec_res num  : 7, elapse : 1.2752039432525635\n"
          ]
        },
        {
          "output_type": "stream",
          "name": "stderr",
          "text": [
            "\r 62%|██████▏   | 464/751 [08:45<06:03,  1.27s/it]"
          ]
        },
        {
          "output_type": "stream",
          "name": "stdout",
          "text": [
            "[2023/05/02 14:23:19] ppocr DEBUG: dt_boxes num : 8, elapse : 0.2336132526397705\n",
            "[2023/05/02 14:23:19] ppocr DEBUG: cls num  : 8, elapse : 0.09803128242492676\n",
            "[2023/05/02 14:23:20] ppocr DEBUG: rec_res num  : 8, elapse : 1.0639598369598389\n"
          ]
        },
        {
          "output_type": "stream",
          "name": "stderr",
          "text": [
            "\r 62%|██████▏   | 465/751 [08:46<06:14,  1.31s/it]"
          ]
        },
        {
          "output_type": "stream",
          "name": "stdout",
          "text": [
            "[2023/05/02 14:23:20] ppocr DEBUG: dt_boxes num : 7, elapse : 0.23495888710021973\n",
            "[2023/05/02 14:23:20] ppocr DEBUG: cls num  : 7, elapse : 0.077423095703125\n",
            "[2023/05/02 14:23:21] ppocr DEBUG: rec_res num  : 7, elapse : 1.0908269882202148\n"
          ]
        },
        {
          "output_type": "stream",
          "name": "stderr",
          "text": [
            "\r 62%|██████▏   | 466/751 [08:48<06:23,  1.35s/it]"
          ]
        },
        {
          "output_type": "stream",
          "name": "stdout",
          "text": [
            "[2023/05/02 14:23:22] ppocr DEBUG: dt_boxes num : 1, elapse : 0.22268915176391602\n",
            "[2023/05/02 14:23:22] ppocr DEBUG: cls num  : 1, elapse : 0.01821279525756836\n",
            "[2023/05/02 14:23:22] ppocr DEBUG: rec_res num  : 1, elapse : 0.11084246635437012\n"
          ]
        },
        {
          "output_type": "stream",
          "name": "stderr",
          "text": [
            "\r 62%|██████▏   | 467/751 [08:48<04:59,  1.05s/it]"
          ]
        },
        {
          "output_type": "stream",
          "name": "stdout",
          "text": [
            "[2023/05/02 14:23:22] ppocr DEBUG: dt_boxes num : 1, elapse : 0.23029422760009766\n",
            "[2023/05/02 14:23:22] ppocr DEBUG: cls num  : 1, elapse : 0.019559621810913086\n",
            "[2023/05/02 14:23:22] ppocr DEBUG: rec_res num  : 1, elapse : 0.14690899848937988\n"
          ]
        },
        {
          "output_type": "stream",
          "name": "stderr",
          "text": [
            "\r 62%|██████▏   | 468/751 [08:49<04:04,  1.16it/s]"
          ]
        },
        {
          "output_type": "stream",
          "name": "stdout",
          "text": [
            "[2023/05/02 14:23:22] ppocr DEBUG: dt_boxes num : 1, elapse : 0.3208034038543701\n",
            "[2023/05/02 14:23:22] ppocr DEBUG: cls num  : 1, elapse : 0.02175307273864746\n",
            "[2023/05/02 14:23:23] ppocr DEBUG: rec_res num  : 1, elapse : 0.19534063339233398\n"
          ]
        },
        {
          "output_type": "stream",
          "name": "stderr",
          "text": [
            "\r 62%|██████▏   | 469/751 [08:49<03:37,  1.29it/s]"
          ]
        },
        {
          "output_type": "stream",
          "name": "stdout",
          "text": [
            "[2023/05/02 14:23:23] ppocr DEBUG: dt_boxes num : 1, elapse : 0.328737735748291\n",
            "[2023/05/02 14:23:23] ppocr DEBUG: cls num  : 1, elapse : 0.03278064727783203\n",
            "[2023/05/02 14:23:23] ppocr DEBUG: rec_res num  : 1, elapse : 0.1910386085510254\n"
          ]
        },
        {
          "output_type": "stream",
          "name": "stderr",
          "text": [
            "\r 63%|██████▎   | 470/751 [08:50<03:21,  1.40it/s]"
          ]
        },
        {
          "output_type": "stream",
          "name": "stdout",
          "text": [
            "[2023/05/02 14:23:24] ppocr DEBUG: dt_boxes num : 0, elapse : 0.3215303421020508\n",
            "[2023/05/02 14:23:24] ppocr DEBUG: cls num  : 0, elapse : 0\n",
            "[2023/05/02 14:23:24] ppocr DEBUG: rec_res num  : 0, elapse : 2.6226043701171875e-06\n"
          ]
        },
        {
          "output_type": "stream",
          "name": "stderr",
          "text": [
            "\r 63%|██████▎   | 471/751 [08:50<02:49,  1.65it/s]"
          ]
        },
        {
          "output_type": "stream",
          "name": "stdout",
          "text": [
            "[2023/05/02 14:23:24] ppocr DEBUG: dt_boxes num : 1, elapse : 0.3219568729400635\n",
            "[2023/05/02 14:23:24] ppocr DEBUG: cls num  : 1, elapse : 0.024810075759887695\n",
            "[2023/05/02 14:23:24] ppocr DEBUG: rec_res num  : 1, elapse : 0.1824033260345459\n"
          ]
        },
        {
          "output_type": "stream",
          "name": "stderr",
          "text": [
            "\r 63%|██████▎   | 472/751 [08:51<02:44,  1.69it/s]"
          ]
        },
        {
          "output_type": "stream",
          "name": "stdout",
          "text": [
            "[2023/05/02 14:23:24] ppocr DEBUG: dt_boxes num : 0, elapse : 0.31473588943481445\n",
            "[2023/05/02 14:23:24] ppocr DEBUG: cls num  : 0, elapse : 0\n",
            "[2023/05/02 14:23:24] ppocr DEBUG: rec_res num  : 0, elapse : 2.384185791015625e-06\n"
          ]
        },
        {
          "output_type": "stream",
          "name": "stderr",
          "text": [
            "\r 63%|██████▎   | 473/751 [08:51<02:22,  1.95it/s]"
          ]
        },
        {
          "output_type": "stream",
          "name": "stdout",
          "text": [
            "[2023/05/02 14:23:25] ppocr DEBUG: dt_boxes num : 1, elapse : 0.3287067413330078\n",
            "[2023/05/02 14:23:25] ppocr DEBUG: cls num  : 1, elapse : 0.024326562881469727\n",
            "[2023/05/02 14:23:25] ppocr DEBUG: rec_res num  : 1, elapse : 0.18719840049743652\n"
          ]
        },
        {
          "output_type": "stream",
          "name": "stderr",
          "text": [
            "\r 63%|██████▎   | 474/751 [08:52<02:26,  1.89it/s]"
          ]
        },
        {
          "output_type": "stream",
          "name": "stdout",
          "text": [
            "[2023/05/02 14:23:25] ppocr DEBUG: dt_boxes num : 2, elapse : 0.3461430072784424\n",
            "[2023/05/02 14:23:25] ppocr DEBUG: cls num  : 2, elapse : 0.0418241024017334\n",
            "[2023/05/02 14:23:26] ppocr DEBUG: rec_res num  : 2, elapse : 0.39058375358581543\n"
          ]
        },
        {
          "output_type": "stream",
          "name": "stderr",
          "text": [
            "\r 63%|██████▎   | 475/751 [08:52<02:48,  1.64it/s]"
          ]
        },
        {
          "output_type": "stream",
          "name": "stdout",
          "text": [
            "[2023/05/02 14:23:26] ppocr DEBUG: dt_boxes num : 6, elapse : 0.34387898445129395\n",
            "[2023/05/02 14:23:26] ppocr DEBUG: cls num  : 6, elapse : 0.13071060180664062\n",
            "[2023/05/02 14:23:28] ppocr DEBUG: rec_res num  : 6, elapse : 1.3544411659240723\n"
          ]
        },
        {
          "output_type": "stream",
          "name": "stderr",
          "text": [
            "\r 63%|██████▎   | 476/751 [08:54<04:30,  1.02it/s]"
          ]
        },
        {
          "output_type": "stream",
          "name": "stdout",
          "text": [
            "[2023/05/02 14:23:28] ppocr DEBUG: dt_boxes num : 11, elapse : 0.3357560634613037\n",
            "[2023/05/02 14:23:28] ppocr DEBUG: cls num  : 11, elapse : 0.192521333694458\n",
            "[2023/05/02 14:23:30] ppocr DEBUG: rec_res num  : 11, elapse : 2.0074357986450195\n"
          ]
        },
        {
          "output_type": "stream",
          "name": "stderr",
          "text": [
            "\r 64%|██████▎   | 477/751 [08:57<06:38,  1.46s/it]"
          ]
        },
        {
          "output_type": "stream",
          "name": "stdout",
          "text": [
            "[2023/05/02 14:23:31] ppocr DEBUG: dt_boxes num : 11, elapse : 0.3347818851470947\n",
            "[2023/05/02 14:23:31] ppocr DEBUG: cls num  : 11, elapse : 0.17729926109313965\n",
            "[2023/05/02 14:23:32] ppocr DEBUG: rec_res num  : 11, elapse : 1.4487581253051758\n"
          ]
        },
        {
          "output_type": "stream",
          "name": "stderr",
          "text": [
            "\r 64%|██████▎   | 478/751 [08:59<07:20,  1.61s/it]"
          ]
        },
        {
          "output_type": "stream",
          "name": "stdout",
          "text": [
            "[2023/05/02 14:23:32] ppocr DEBUG: dt_boxes num : 11, elapse : 0.24943876266479492\n",
            "[2023/05/02 14:23:33] ppocr DEBUG: cls num  : 11, elapse : 0.12755513191223145\n",
            "[2023/05/02 14:23:34] ppocr DEBUG: rec_res num  : 11, elapse : 1.3521950244903564\n"
          ]
        },
        {
          "output_type": "stream",
          "name": "stderr",
          "text": [
            "\r 64%|██████▍   | 479/751 [09:01<07:30,  1.66s/it]"
          ]
        },
        {
          "output_type": "stream",
          "name": "stdout",
          "text": [
            "[2023/05/02 14:23:34] ppocr DEBUG: dt_boxes num : 2, elapse : 0.22127723693847656\n",
            "[2023/05/02 14:23:34] ppocr DEBUG: cls num  : 2, elapse : 0.02971506118774414\n",
            "[2023/05/02 14:23:34] ppocr DEBUG: rec_res num  : 2, elapse : 0.22102761268615723\n"
          ]
        },
        {
          "output_type": "stream",
          "name": "stderr",
          "text": [
            "\r 64%|██████▍   | 480/751 [09:01<05:54,  1.31s/it]"
          ]
        },
        {
          "output_type": "stream",
          "name": "stdout",
          "text": [
            "[2023/05/02 14:23:35] ppocr DEBUG: dt_boxes num : 1, elapse : 0.22327494621276855\n",
            "[2023/05/02 14:23:35] ppocr DEBUG: cls num  : 1, elapse : 0.0190885066986084\n",
            "[2023/05/02 14:23:35] ppocr DEBUG: rec_res num  : 1, elapse : 0.11228394508361816\n"
          ]
        },
        {
          "output_type": "stream",
          "name": "stderr",
          "text": [
            "\r 64%|██████▍   | 481/751 [09:01<04:37,  1.03s/it]"
          ]
        },
        {
          "output_type": "stream",
          "name": "stdout",
          "text": [
            "[2023/05/02 14:23:35] ppocr DEBUG: dt_boxes num : 2, elapse : 0.22172284126281738\n",
            "[2023/05/02 14:23:35] ppocr DEBUG: cls num  : 2, elapse : 0.028920412063598633\n",
            "[2023/05/02 14:23:35] ppocr DEBUG: rec_res num  : 2, elapse : 0.20767831802368164\n"
          ]
        },
        {
          "output_type": "stream",
          "name": "stderr",
          "text": [
            "\r 64%|██████▍   | 482/751 [09:02<03:51,  1.16it/s]"
          ]
        },
        {
          "output_type": "stream",
          "name": "stdout",
          "text": [
            "[2023/05/02 14:23:36] ppocr DEBUG: dt_boxes num : 1, elapse : 0.22763490676879883\n",
            "[2023/05/02 14:23:36] ppocr DEBUG: cls num  : 1, elapse : 0.018050670623779297\n",
            "[2023/05/02 14:23:36] ppocr DEBUG: rec_res num  : 1, elapse : 0.11084794998168945\n"
          ]
        },
        {
          "output_type": "stream",
          "name": "stderr",
          "text": [
            "\r 64%|██████▍   | 483/751 [09:02<03:11,  1.40it/s]"
          ]
        },
        {
          "output_type": "stream",
          "name": "stdout",
          "text": [
            "[2023/05/02 14:23:36] ppocr DEBUG: dt_boxes num : 0, elapse : 0.2179875373840332\n",
            "[2023/05/02 14:23:36] ppocr DEBUG: cls num  : 0, elapse : 0\n",
            "[2023/05/02 14:23:36] ppocr DEBUG: rec_res num  : 0, elapse : 2.1457672119140625e-06\n"
          ]
        },
        {
          "output_type": "stream",
          "name": "stderr",
          "text": [
            "\r 64%|██████▍   | 484/751 [09:02<02:32,  1.75it/s]"
          ]
        },
        {
          "output_type": "stream",
          "name": "stdout",
          "text": [
            "[2023/05/02 14:23:36] ppocr DEBUG: dt_boxes num : 3, elapse : 0.23668408393859863\n",
            "[2023/05/02 14:23:36] ppocr DEBUG: cls num  : 3, elapse : 0.039397478103637695\n",
            "[2023/05/02 14:23:37] ppocr DEBUG: rec_res num  : 3, elapse : 0.3216054439544678\n"
          ]
        },
        {
          "output_type": "stream",
          "name": "stderr",
          "text": [
            "\r 65%|██████▍   | 485/751 [09:03<02:35,  1.71it/s]"
          ]
        },
        {
          "output_type": "stream",
          "name": "stdout",
          "text": [
            "[2023/05/02 14:23:37] ppocr DEBUG: dt_boxes num : 24, elapse : 0.2260127067565918\n",
            "[2023/05/02 14:23:37] ppocr DEBUG: cls num  : 24, elapse : 0.25789332389831543\n",
            "[2023/05/02 14:23:40] ppocr DEBUG: rec_res num  : 24, elapse : 2.6259679794311523\n"
          ]
        },
        {
          "output_type": "stream",
          "name": "stderr",
          "text": [
            "\r 65%|██████▍   | 486/751 [09:06<05:57,  1.35s/it]"
          ]
        },
        {
          "output_type": "stream",
          "name": "stdout",
          "text": [
            "[2023/05/02 14:23:40] ppocr DEBUG: dt_boxes num : 24, elapse : 0.23288869857788086\n",
            "[2023/05/02 14:23:40] ppocr DEBUG: cls num  : 24, elapse : 0.2551262378692627\n",
            "[2023/05/02 14:23:44] ppocr DEBUG: rec_res num  : 24, elapse : 3.6961474418640137\n"
          ]
        },
        {
          "output_type": "stream",
          "name": "stderr",
          "text": [
            "\r 65%|██████▍   | 487/751 [09:10<09:42,  2.21s/it]"
          ]
        },
        {
          "output_type": "stream",
          "name": "stdout",
          "text": [
            "[2023/05/02 14:23:44] ppocr DEBUG: dt_boxes num : 24, elapse : 0.34743237495422363\n",
            "[2023/05/02 14:23:45] ppocr DEBUG: cls num  : 24, elapse : 0.4499547481536865\n",
            "[2023/05/02 14:23:49] ppocr DEBUG: rec_res num  : 24, elapse : 4.099902391433716\n"
          ]
        },
        {
          "output_type": "stream",
          "name": "stderr",
          "text": [
            "\r 65%|██████▍   | 488/751 [09:15<13:14,  3.02s/it]"
          ]
        },
        {
          "output_type": "stream",
          "name": "stdout",
          "text": [
            "[2023/05/02 14:23:49] ppocr DEBUG: dt_boxes num : 2, elapse : 0.33561038970947266\n",
            "[2023/05/02 14:23:49] ppocr DEBUG: cls num  : 2, elapse : 0.040334224700927734\n",
            "[2023/05/02 14:23:50] ppocr DEBUG: rec_res num  : 2, elapse : 0.31537723541259766\n"
          ]
        },
        {
          "output_type": "stream",
          "name": "stderr",
          "text": [
            "\r 65%|██████▌   | 489/751 [09:16<10:10,  2.33s/it]"
          ]
        },
        {
          "output_type": "stream",
          "name": "stdout",
          "text": [
            "[2023/05/02 14:23:50] ppocr DEBUG: dt_boxes num : 1, elapse : 0.33254504203796387\n",
            "[2023/05/02 14:23:50] ppocr DEBUG: cls num  : 1, elapse : 0.024442672729492188\n",
            "[2023/05/02 14:23:50] ppocr DEBUG: rec_res num  : 1, elapse : 0.1642138957977295\n"
          ]
        },
        {
          "output_type": "stream",
          "name": "stderr",
          "text": [
            "\r 65%|██████▌   | 490/751 [09:17<07:48,  1.79s/it]"
          ]
        },
        {
          "output_type": "stream",
          "name": "stdout",
          "text": [
            "[2023/05/02 14:23:50] ppocr DEBUG: dt_boxes num : 4, elapse : 0.26422977447509766\n",
            "[2023/05/02 14:23:50] ppocr DEBUG: cls num  : 4, elapse : 0.05412006378173828\n",
            "[2023/05/02 14:23:51] ppocr DEBUG: rec_res num  : 4, elapse : 0.41952061653137207\n"
          ]
        },
        {
          "output_type": "stream",
          "name": "stderr",
          "text": [
            "\r 65%|██████▌   | 491/751 [09:17<06:25,  1.48s/it]"
          ]
        },
        {
          "output_type": "stream",
          "name": "stdout",
          "text": [
            "[2023/05/02 14:23:51] ppocr DEBUG: dt_boxes num : 4, elapse : 0.23731017112731934\n",
            "[2023/05/02 14:23:51] ppocr DEBUG: cls num  : 4, elapse : 0.049636125564575195\n",
            "[2023/05/02 14:23:52] ppocr DEBUG: rec_res num  : 4, elapse : 0.45357656478881836\n"
          ]
        },
        {
          "output_type": "stream",
          "name": "stderr",
          "text": [
            "\r 66%|██████▌   | 492/751 [09:18<05:28,  1.27s/it]"
          ]
        },
        {
          "output_type": "stream",
          "name": "stdout",
          "text": [
            "[2023/05/02 14:23:52] ppocr DEBUG: dt_boxes num : 5, elapse : 0.24225831031799316\n",
            "[2023/05/02 14:23:52] ppocr DEBUG: cls num  : 5, elapse : 0.07387495040893555\n",
            "[2023/05/02 14:23:53] ppocr DEBUG: rec_res num  : 5, elapse : 0.9333679676055908\n"
          ]
        },
        {
          "output_type": "stream",
          "name": "stderr",
          "text": [
            "\r 66%|██████▌   | 493/751 [09:19<05:27,  1.27s/it]"
          ]
        },
        {
          "output_type": "stream",
          "name": "stdout",
          "text": [
            "[2023/05/02 14:23:53] ppocr DEBUG: dt_boxes num : 3, elapse : 0.23243427276611328\n",
            "[2023/05/02 14:23:53] ppocr DEBUG: cls num  : 3, elapse : 0.039937496185302734\n",
            "[2023/05/02 14:23:53] ppocr DEBUG: rec_res num  : 3, elapse : 0.32127833366394043\n"
          ]
        },
        {
          "output_type": "stream",
          "name": "stderr",
          "text": [
            "\r 66%|██████▌   | 494/751 [09:20<04:35,  1.07s/it]"
          ]
        },
        {
          "output_type": "stream",
          "name": "stdout",
          "text": [
            "[2023/05/02 14:23:54] ppocr DEBUG: dt_boxes num : 3, elapse : 0.22336506843566895\n",
            "[2023/05/02 14:23:54] ppocr DEBUG: cls num  : 3, elapse : 0.05192089080810547\n",
            "[2023/05/02 14:23:54] ppocr DEBUG: rec_res num  : 3, elapse : 0.33306026458740234\n"
          ]
        },
        {
          "output_type": "stream",
          "name": "stderr",
          "text": [
            "\r 66%|██████▌   | 495/751 [09:21<04:00,  1.06it/s]"
          ]
        },
        {
          "output_type": "stream",
          "name": "stdout",
          "text": [
            "[2023/05/02 14:23:54] ppocr DEBUG: dt_boxes num : 3, elapse : 0.2388453483581543\n",
            "[2023/05/02 14:23:54] ppocr DEBUG: cls num  : 3, elapse : 0.039025068283081055\n",
            "[2023/05/02 14:23:55] ppocr DEBUG: rec_res num  : 3, elapse : 0.3234283924102783\n"
          ]
        },
        {
          "output_type": "stream",
          "name": "stderr",
          "text": [
            "\r 66%|██████▌   | 496/751 [09:21<03:35,  1.19it/s]"
          ]
        },
        {
          "output_type": "stream",
          "name": "stdout",
          "text": [
            "[2023/05/02 14:23:55] ppocr DEBUG: dt_boxes num : 1, elapse : 0.25008678436279297\n",
            "[2023/05/02 14:23:55] ppocr DEBUG: cls num  : 1, elapse : 0.022930622100830078\n",
            "[2023/05/02 14:23:55] ppocr DEBUG: rec_res num  : 1, elapse : 0.11393952369689941\n"
          ]
        },
        {
          "output_type": "stream",
          "name": "stderr",
          "text": [
            "\r 66%|██████▌   | 497/751 [09:22<03:01,  1.40it/s]"
          ]
        },
        {
          "output_type": "stream",
          "name": "stdout",
          "text": [
            "[2023/05/02 14:23:55] ppocr DEBUG: dt_boxes num : 2, elapse : 0.2506248950958252\n",
            "[2023/05/02 14:23:55] ppocr DEBUG: cls num  : 2, elapse : 0.02863168716430664\n",
            "[2023/05/02 14:23:56] ppocr DEBUG: rec_res num  : 2, elapse : 0.20854449272155762\n"
          ]
        },
        {
          "output_type": "stream",
          "name": "stderr",
          "text": [
            "\r 66%|██████▋   | 498/751 [09:22<02:44,  1.53it/s]"
          ]
        },
        {
          "output_type": "stream",
          "name": "stdout",
          "text": [
            "[2023/05/02 14:23:56] ppocr DEBUG: dt_boxes num : 1, elapse : 0.22836899757385254\n",
            "[2023/05/02 14:23:56] ppocr DEBUG: cls num  : 1, elapse : 0.018934965133666992\n",
            "[2023/05/02 14:23:56] ppocr DEBUG: rec_res num  : 1, elapse : 0.11130881309509277\n"
          ]
        },
        {
          "output_type": "stream",
          "name": "stderr",
          "text": [
            "\r 66%|██████▋   | 499/751 [09:23<02:23,  1.76it/s]"
          ]
        },
        {
          "output_type": "stream",
          "name": "stdout",
          "text": [
            "[2023/05/02 14:23:56] ppocr DEBUG: dt_boxes num : 1, elapse : 0.22410821914672852\n",
            "[2023/05/02 14:23:56] ppocr DEBUG: cls num  : 1, elapse : 0.020137310028076172\n",
            "[2023/05/02 14:23:56] ppocr DEBUG: rec_res num  : 1, elapse : 0.12531518936157227\n"
          ]
        },
        {
          "output_type": "stream",
          "name": "stderr",
          "text": [
            "\r 67%|██████▋   | 500/751 [09:23<02:09,  1.94it/s]"
          ]
        },
        {
          "output_type": "stream",
          "name": "stdout",
          "text": [
            "[2023/05/02 14:23:57] ppocr DEBUG: dt_boxes num : 1, elapse : 0.23654699325561523\n",
            "[2023/05/02 14:23:57] ppocr DEBUG: cls num  : 1, elapse : 0.01953721046447754\n",
            "[2023/05/02 14:23:57] ppocr DEBUG: rec_res num  : 1, elapse : 0.12172102928161621\n"
          ]
        },
        {
          "output_type": "stream",
          "name": "stderr",
          "text": [
            "\r 67%|██████▋   | 501/751 [09:23<01:59,  2.09it/s]"
          ]
        },
        {
          "output_type": "stream",
          "name": "stdout",
          "text": [
            "[2023/05/02 14:23:57] ppocr DEBUG: dt_boxes num : 2, elapse : 0.23353075981140137\n",
            "[2023/05/02 14:23:57] ppocr DEBUG: cls num  : 2, elapse : 0.02805352210998535\n",
            "[2023/05/02 14:23:57] ppocr DEBUG: rec_res num  : 2, elapse : 0.3663668632507324\n"
          ]
        },
        {
          "output_type": "stream",
          "name": "stderr",
          "text": [
            "\r 67%|██████▋   | 502/751 [09:24<02:12,  1.89it/s]"
          ]
        },
        {
          "output_type": "stream",
          "name": "stdout",
          "text": [
            "[2023/05/02 14:23:58] ppocr DEBUG: dt_boxes num : 1, elapse : 0.25068020820617676\n",
            "[2023/05/02 14:23:58] ppocr DEBUG: cls num  : 1, elapse : 0.027477264404296875\n",
            "[2023/05/02 14:23:58] ppocr DEBUG: rec_res num  : 1, elapse : 0.138167142868042\n"
          ]
        },
        {
          "output_type": "stream",
          "name": "stderr",
          "text": [
            "\r 67%|██████▋   | 503/751 [09:24<02:04,  2.00it/s]"
          ]
        },
        {
          "output_type": "stream",
          "name": "stdout",
          "text": [
            "[2023/05/02 14:23:58] ppocr DEBUG: dt_boxes num : 0, elapse : 0.2560584545135498\n",
            "[2023/05/02 14:23:58] ppocr DEBUG: cls num  : 0, elapse : 0\n",
            "[2023/05/02 14:23:58] ppocr DEBUG: rec_res num  : 0, elapse : 3.337860107421875e-06\n"
          ]
        },
        {
          "output_type": "stream",
          "name": "stderr",
          "text": [
            "\r 67%|██████▋   | 504/751 [09:25<01:47,  2.30it/s]"
          ]
        },
        {
          "output_type": "stream",
          "name": "stdout",
          "text": [
            "[2023/05/02 14:23:58] ppocr DEBUG: dt_boxes num : 1, elapse : 0.2512972354888916\n",
            "[2023/05/02 14:23:58] ppocr DEBUG: cls num  : 1, elapse : 0.01904129981994629\n",
            "[2023/05/02 14:23:59] ppocr DEBUG: rec_res num  : 1, elapse : 0.13567471504211426\n"
          ]
        },
        {
          "output_type": "stream",
          "name": "stderr",
          "text": [
            "\r 67%|██████▋   | 505/751 [09:25<01:46,  2.31it/s]"
          ]
        },
        {
          "output_type": "stream",
          "name": "stdout",
          "text": [
            "[2023/05/02 14:23:59] ppocr DEBUG: dt_boxes num : 3, elapse : 0.23601984977722168\n",
            "[2023/05/02 14:23:59] ppocr DEBUG: cls num  : 3, elapse : 0.03728318214416504\n",
            "[2023/05/02 14:23:59] ppocr DEBUG: rec_res num  : 3, elapse : 0.3095123767852783\n"
          ]
        },
        {
          "output_type": "stream",
          "name": "stderr",
          "text": [
            "\r 67%|██████▋   | 506/751 [09:26<01:58,  2.07it/s]"
          ]
        },
        {
          "output_type": "stream",
          "name": "stdout",
          "text": [
            "[2023/05/02 14:23:59] ppocr DEBUG: dt_boxes num : 4, elapse : 0.24285030364990234\n",
            "[2023/05/02 14:24:00] ppocr DEBUG: cls num  : 4, elapse : 0.057741641998291016\n",
            "[2023/05/02 14:24:00] ppocr DEBUG: rec_res num  : 4, elapse : 0.4220867156982422\n"
          ]
        },
        {
          "output_type": "stream",
          "name": "stderr",
          "text": [
            "\r 68%|██████▊   | 507/751 [09:27<02:17,  1.78it/s]"
          ]
        },
        {
          "output_type": "stream",
          "name": "stdout",
          "text": [
            "[2023/05/02 14:24:00] ppocr DEBUG: dt_boxes num : 7, elapse : 0.2604217529296875\n",
            "[2023/05/02 14:24:00] ppocr DEBUG: cls num  : 7, elapse : 0.13077235221862793\n",
            "[2023/05/02 14:24:02] ppocr DEBUG: rec_res num  : 7, elapse : 1.2757742404937744\n"
          ]
        },
        {
          "output_type": "stream",
          "name": "stderr",
          "text": [
            "\r 68%|██████▊   | 508/751 [09:28<03:39,  1.11it/s]"
          ]
        },
        {
          "output_type": "stream",
          "name": "stdout",
          "text": [
            "[2023/05/02 14:24:02] ppocr DEBUG: dt_boxes num : 8, elapse : 0.354140043258667\n",
            "[2023/05/02 14:24:02] ppocr DEBUG: cls num  : 8, elapse : 0.157761812210083\n",
            "[2023/05/02 14:24:04] ppocr DEBUG: rec_res num  : 8, elapse : 1.4558818340301514\n"
          ]
        },
        {
          "output_type": "stream",
          "name": "stderr",
          "text": [
            "\r 68%|██████▊   | 509/751 [09:30<04:57,  1.23s/it]"
          ]
        },
        {
          "output_type": "stream",
          "name": "stdout",
          "text": [
            "[2023/05/02 14:24:04] ppocr DEBUG: dt_boxes num : 7, elapse : 0.3388359546661377\n",
            "[2023/05/02 14:24:04] ppocr DEBUG: cls num  : 7, elapse : 0.14955830574035645\n",
            "[2023/05/02 14:24:05] ppocr DEBUG: rec_res num  : 7, elapse : 1.2369260787963867\n"
          ]
        },
        {
          "output_type": "stream",
          "name": "stderr",
          "text": [
            "\r 68%|██████▊   | 510/751 [09:32<05:34,  1.39s/it]"
          ]
        },
        {
          "output_type": "stream",
          "name": "stdout",
          "text": [
            "[2023/05/02 14:24:06] ppocr DEBUG: dt_boxes num : 4, elapse : 0.3292529582977295\n",
            "[2023/05/02 14:24:06] ppocr DEBUG: cls num  : 4, elapse : 0.07477378845214844\n",
            "[2023/05/02 14:24:06] ppocr DEBUG: rec_res num  : 4, elapse : 0.612553596496582\n"
          ]
        },
        {
          "output_type": "stream",
          "name": "stderr",
          "text": [
            "\r 68%|██████▊   | 511/751 [09:33<05:08,  1.29s/it]"
          ]
        },
        {
          "output_type": "stream",
          "name": "stdout",
          "text": [
            "[2023/05/02 14:24:07] ppocr DEBUG: dt_boxes num : 7, elapse : 0.3375427722930908\n",
            "[2023/05/02 14:24:07] ppocr DEBUG: cls num  : 7, elapse : 0.1260378360748291\n",
            "[2023/05/02 14:24:08] ppocr DEBUG: rec_res num  : 7, elapse : 1.114450454711914\n"
          ]
        },
        {
          "output_type": "stream",
          "name": "stderr",
          "text": [
            "\r 68%|██████▊   | 512/751 [09:35<05:30,  1.38s/it]"
          ]
        },
        {
          "output_type": "stream",
          "name": "stdout",
          "text": [
            "[2023/05/02 14:24:08] ppocr DEBUG: dt_boxes num : 3, elapse : 0.3110473155975342\n",
            "[2023/05/02 14:24:08] ppocr DEBUG: cls num  : 3, elapse : 0.05575752258300781\n",
            "[2023/05/02 14:24:09] ppocr DEBUG: rec_res num  : 3, elapse : 0.47533655166625977\n"
          ]
        },
        {
          "output_type": "stream",
          "name": "stderr",
          "text": [
            "\r 68%|██████▊   | 513/751 [09:35<04:52,  1.23s/it]"
          ]
        },
        {
          "output_type": "stream",
          "name": "stdout",
          "text": [
            "[2023/05/02 14:24:09] ppocr DEBUG: dt_boxes num : 3, elapse : 0.268902063369751\n",
            "[2023/05/02 14:24:09] ppocr DEBUG: cls num  : 3, elapse : 0.03735685348510742\n",
            "[2023/05/02 14:24:10] ppocr DEBUG: rec_res num  : 3, elapse : 0.30727624893188477\n"
          ]
        },
        {
          "output_type": "stream",
          "name": "stderr",
          "text": [
            "\r 68%|██████▊   | 514/751 [09:36<04:08,  1.05s/it]"
          ]
        },
        {
          "output_type": "stream",
          "name": "stdout",
          "text": [
            "[2023/05/02 14:24:10] ppocr DEBUG: dt_boxes num : 3, elapse : 0.2202301025390625\n",
            "[2023/05/02 14:24:10] ppocr DEBUG: cls num  : 3, elapse : 0.04288816452026367\n",
            "[2023/05/02 14:24:10] ppocr DEBUG: rec_res num  : 3, elapse : 0.325913667678833\n"
          ]
        },
        {
          "output_type": "stream",
          "name": "stderr",
          "text": [
            "\r 69%|██████▊   | 515/751 [09:37<03:36,  1.09it/s]"
          ]
        },
        {
          "output_type": "stream",
          "name": "stdout",
          "text": [
            "[2023/05/02 14:24:10] ppocr DEBUG: dt_boxes num : 3, elapse : 0.2246406078338623\n",
            "[2023/05/02 14:24:10] ppocr DEBUG: cls num  : 3, elapse : 0.03824138641357422\n",
            "[2023/05/02 14:24:11] ppocr DEBUG: rec_res num  : 3, elapse : 0.344083309173584\n"
          ]
        },
        {
          "output_type": "stream",
          "name": "stderr",
          "text": [
            "\r 69%|██████▊   | 516/751 [09:37<03:14,  1.21it/s]"
          ]
        },
        {
          "output_type": "stream",
          "name": "stdout",
          "text": [
            "[2023/05/02 14:24:11] ppocr DEBUG: dt_boxes num : 8, elapse : 0.22786712646484375\n",
            "[2023/05/02 14:24:11] ppocr DEBUG: cls num  : 8, elapse : 0.09308528900146484\n",
            "[2023/05/02 14:24:12] ppocr DEBUG: rec_res num  : 8, elapse : 0.8478286266326904\n"
          ]
        },
        {
          "output_type": "stream",
          "name": "stderr",
          "text": [
            "\r 69%|██████▉   | 517/751 [09:39<03:39,  1.07it/s]"
          ]
        },
        {
          "output_type": "stream",
          "name": "stdout",
          "text": [
            "[2023/05/02 14:24:12] ppocr DEBUG: dt_boxes num : 4, elapse : 0.24820947647094727\n",
            "[2023/05/02 14:24:12] ppocr DEBUG: cls num  : 4, elapse : 0.0481717586517334\n",
            "[2023/05/02 14:24:13] ppocr DEBUG: rec_res num  : 4, elapse : 0.42711806297302246\n"
          ]
        },
        {
          "output_type": "stream",
          "name": "stderr",
          "text": [
            "\r 69%|██████▉   | 518/751 [09:39<03:24,  1.14it/s]"
          ]
        },
        {
          "output_type": "stream",
          "name": "stdout",
          "text": [
            "[2023/05/02 14:24:13] ppocr DEBUG: dt_boxes num : 3, elapse : 0.26018595695495605\n",
            "[2023/05/02 14:24:13] ppocr DEBUG: cls num  : 3, elapse : 0.04030466079711914\n",
            "[2023/05/02 14:24:13] ppocr DEBUG: rec_res num  : 3, elapse : 0.32310986518859863\n"
          ]
        },
        {
          "output_type": "stream",
          "name": "stderr",
          "text": [
            "\r 69%|██████▉   | 519/751 [09:40<03:07,  1.24it/s]"
          ]
        },
        {
          "output_type": "stream",
          "name": "stdout",
          "text": [
            "[2023/05/02 14:24:14] ppocr DEBUG: dt_boxes num : 3, elapse : 0.2282102108001709\n",
            "[2023/05/02 14:24:14] ppocr DEBUG: cls num  : 3, elapse : 0.041423797607421875\n",
            "[2023/05/02 14:24:14] ppocr DEBUG: rec_res num  : 3, elapse : 0.3148341178894043\n"
          ]
        },
        {
          "output_type": "stream",
          "name": "stderr",
          "text": [
            "\r 69%|██████▉   | 520/751 [09:41<02:52,  1.34it/s]"
          ]
        },
        {
          "output_type": "stream",
          "name": "stdout",
          "text": [
            "[2023/05/02 14:24:14] ppocr DEBUG: dt_boxes num : 20, elapse : 0.2678670883178711\n",
            "[2023/05/02 14:24:14] ppocr DEBUG: cls num  : 20, elapse : 0.23140478134155273\n",
            "[2023/05/02 14:24:17] ppocr DEBUG: rec_res num  : 20, elapse : 2.305004358291626\n"
          ]
        },
        {
          "output_type": "stream",
          "name": "stderr",
          "text": [
            "\r 69%|██████▉   | 521/751 [09:43<05:15,  1.37s/it]"
          ]
        },
        {
          "output_type": "stream",
          "name": "stdout",
          "text": [
            "[2023/05/02 14:24:17] ppocr DEBUG: dt_boxes num : 13, elapse : 0.2353379726409912\n",
            "[2023/05/02 14:24:17] ppocr DEBUG: cls num  : 13, elapse : 0.1609656810760498\n",
            "[2023/05/02 14:24:19] ppocr DEBUG: rec_res num  : 13, elapse : 1.8650097846984863\n"
          ]
        },
        {
          "output_type": "stream",
          "name": "stderr",
          "text": [
            "\r 70%|██████▉   | 522/751 [09:46<06:17,  1.65s/it]"
          ]
        },
        {
          "output_type": "stream",
          "name": "stdout",
          "text": [
            "[2023/05/02 14:24:19] ppocr DEBUG: dt_boxes num : 19, elapse : 0.3857898712158203\n",
            "[2023/05/02 14:24:20] ppocr DEBUG: cls num  : 19, elapse : 0.35152244567871094\n",
            "[2023/05/02 14:24:24] ppocr DEBUG: rec_res num  : 19, elapse : 3.719111919403076\n"
          ]
        },
        {
          "output_type": "stream",
          "name": "stderr",
          "text": [
            "\r 70%|██████▉   | 523/751 [09:50<09:30,  2.50s/it]"
          ]
        },
        {
          "output_type": "stream",
          "name": "stdout",
          "text": [
            "[2023/05/02 14:24:24] ppocr DEBUG: dt_boxes num : 6, elapse : 0.3277125358581543\n",
            "[2023/05/02 14:24:24] ppocr DEBUG: cls num  : 6, elapse : 0.11207962036132812\n",
            "[2023/05/02 14:24:25] ppocr DEBUG: rec_res num  : 6, elapse : 0.9702818393707275\n"
          ]
        },
        {
          "output_type": "stream",
          "name": "stderr",
          "text": [
            "\r 70%|██████▉   | 524/751 [09:52<08:16,  2.19s/it]"
          ]
        },
        {
          "output_type": "stream",
          "name": "stdout",
          "text": [
            "[2023/05/02 14:24:25] ppocr DEBUG: dt_boxes num : 3, elapse : 0.32506370544433594\n",
            "[2023/05/02 14:24:25] ppocr DEBUG: cls num  : 3, elapse : 0.05035877227783203\n",
            "[2023/05/02 14:24:26] ppocr DEBUG: rec_res num  : 3, elapse : 0.47467827796936035\n"
          ]
        },
        {
          "output_type": "stream",
          "name": "stderr",
          "text": [
            "\r 70%|██████▉   | 525/751 [09:52<06:45,  1.79s/it]"
          ]
        },
        {
          "output_type": "stream",
          "name": "stdout",
          "text": [
            "[2023/05/02 14:24:26] ppocr DEBUG: dt_boxes num : 3, elapse : 0.30968332290649414\n",
            "[2023/05/02 14:24:26] ppocr DEBUG: cls num  : 3, elapse : 0.056253671646118164\n",
            "[2023/05/02 14:24:27] ppocr DEBUG: rec_res num  : 3, elapse : 0.46846795082092285\n"
          ]
        },
        {
          "output_type": "stream",
          "name": "stderr",
          "text": [
            "\r 70%|███████   | 526/751 [09:53<05:40,  1.51s/it]"
          ]
        },
        {
          "output_type": "stream",
          "name": "stdout",
          "text": [
            "[2023/05/02 14:24:27] ppocr DEBUG: dt_boxes num : 4, elapse : 0.30753159523010254\n",
            "[2023/05/02 14:24:27] ppocr DEBUG: cls num  : 4, elapse : 0.07368350028991699\n",
            "[2023/05/02 14:24:28] ppocr DEBUG: rec_res num  : 4, elapse : 0.6257843971252441\n"
          ]
        },
        {
          "output_type": "stream",
          "name": "stderr",
          "text": [
            "\r 70%|███████   | 527/751 [09:54<05:06,  1.37s/it]"
          ]
        },
        {
          "output_type": "stream",
          "name": "stdout",
          "text": [
            "[2023/05/02 14:24:28] ppocr DEBUG: dt_boxes num : 21, elapse : 0.29782605171203613\n",
            "[2023/05/02 14:24:28] ppocr DEBUG: cls num  : 21, elapse : 0.22667932510375977\n",
            "[2023/05/02 14:24:31] ppocr DEBUG: rec_res num  : 21, elapse : 2.5646634101867676\n"
          ]
        },
        {
          "output_type": "stream",
          "name": "stderr",
          "text": [
            "\r 70%|███████   | 528/751 [09:57<07:02,  1.90s/it]"
          ]
        },
        {
          "output_type": "stream",
          "name": "stdout",
          "text": [
            "[2023/05/02 14:24:31] ppocr DEBUG: dt_boxes num : 18, elapse : 0.24315166473388672\n",
            "[2023/05/02 14:24:31] ppocr DEBUG: cls num  : 18, elapse : 0.19730401039123535\n",
            "[2023/05/02 14:24:34] ppocr DEBUG: rec_res num  : 18, elapse : 2.6602578163146973\n"
          ]
        },
        {
          "output_type": "stream",
          "name": "stderr",
          "text": [
            "\r 70%|███████   | 529/751 [10:01<08:22,  2.26s/it]"
          ]
        },
        {
          "output_type": "stream",
          "name": "stdout",
          "text": [
            "[2023/05/02 14:24:34] ppocr DEBUG: dt_boxes num : 19, elapse : 0.24926424026489258\n",
            "[2023/05/02 14:24:35] ppocr DEBUG: cls num  : 19, elapse : 0.20910954475402832\n",
            "[2023/05/02 14:24:37] ppocr DEBUG: rec_res num  : 19, elapse : 2.0876622200012207\n"
          ]
        },
        {
          "output_type": "stream",
          "name": "stderr",
          "text": [
            "\r 71%|███████   | 530/751 [10:03<08:40,  2.36s/it]"
          ]
        },
        {
          "output_type": "stream",
          "name": "stdout",
          "text": [
            "[2023/05/02 14:24:37] ppocr DEBUG: dt_boxes num : 18, elapse : 0.24121594429016113\n",
            "[2023/05/02 14:24:37] ppocr DEBUG: cls num  : 18, elapse : 0.19106030464172363\n",
            "[2023/05/02 14:24:41] ppocr DEBUG: rec_res num  : 18, elapse : 3.9011712074279785\n"
          ]
        },
        {
          "output_type": "stream",
          "name": "stderr",
          "text": [
            "\r 71%|███████   | 531/751 [10:08<10:50,  2.96s/it]"
          ]
        },
        {
          "output_type": "stream",
          "name": "stdout",
          "text": [
            "[2023/05/02 14:24:41] ppocr DEBUG: dt_boxes num : 3, elapse : 0.3797938823699951\n",
            "[2023/05/02 14:24:41] ppocr DEBUG: cls num  : 3, elapse : 0.07225322723388672\n",
            "[2023/05/02 14:24:42] ppocr DEBUG: rec_res num  : 3, elapse : 0.5614767074584961\n"
          ]
        },
        {
          "output_type": "stream",
          "name": "stderr",
          "text": [
            "\r 71%|███████   | 532/751 [10:09<08:41,  2.38s/it]"
          ]
        },
        {
          "output_type": "stream",
          "name": "stdout",
          "text": [
            "[2023/05/02 14:24:42] ppocr DEBUG: dt_boxes num : 5, elapse : 0.40715885162353516\n",
            "[2023/05/02 14:24:43] ppocr DEBUG: cls num  : 5, elapse : 0.11707758903503418\n",
            "[2023/05/02 14:24:43] ppocr DEBUG: rec_res num  : 5, elapse : 0.8677129745483398\n"
          ]
        },
        {
          "output_type": "stream",
          "name": "stderr",
          "text": [
            "\r 71%|███████   | 533/751 [10:10<07:36,  2.09s/it]"
          ]
        },
        {
          "output_type": "stream",
          "name": "stdout",
          "text": [
            "[2023/05/02 14:24:44] ppocr DEBUG: dt_boxes num : 4, elapse : 0.35005712509155273\n",
            "[2023/05/02 14:24:44] ppocr DEBUG: cls num  : 4, elapse : 0.07581830024719238\n",
            "[2023/05/02 14:24:45] ppocr DEBUG: rec_res num  : 4, elapse : 0.6543397903442383\n"
          ]
        },
        {
          "output_type": "stream",
          "name": "stderr",
          "text": [
            "\r 71%|███████   | 534/751 [10:11<06:29,  1.80s/it]"
          ]
        },
        {
          "output_type": "stream",
          "name": "stdout",
          "text": [
            "[2023/05/02 14:24:45] ppocr DEBUG: dt_boxes num : 5, elapse : 0.3557877540588379\n",
            "[2023/05/02 14:24:45] ppocr DEBUG: cls num  : 5, elapse : 0.0795736312866211\n",
            "[2023/05/02 14:24:46] ppocr DEBUG: rec_res num  : 5, elapse : 0.7946126461029053\n"
          ]
        },
        {
          "output_type": "stream",
          "name": "stderr",
          "text": [
            "\r 71%|███████   | 535/751 [10:12<05:52,  1.63s/it]"
          ]
        },
        {
          "output_type": "stream",
          "name": "stdout",
          "text": [
            "[2023/05/02 14:24:46] ppocr DEBUG: dt_boxes num : 4, elapse : 0.3154573440551758\n",
            "[2023/05/02 14:24:46] ppocr DEBUG: cls num  : 4, elapse : 0.08058881759643555\n",
            "[2023/05/02 14:24:47] ppocr DEBUG: rec_res num  : 4, elapse : 0.6451935768127441\n"
          ]
        },
        {
          "output_type": "stream",
          "name": "stderr",
          "text": [
            "\r 71%|███████▏  | 536/751 [10:13<05:15,  1.47s/it]"
          ]
        },
        {
          "output_type": "stream",
          "name": "stdout",
          "text": [
            "[2023/05/02 14:24:47] ppocr DEBUG: dt_boxes num : 8, elapse : 0.31525278091430664\n",
            "[2023/05/02 14:24:47] ppocr DEBUG: cls num  : 8, elapse : 0.10859060287475586\n",
            "[2023/05/02 14:24:48] ppocr DEBUG: rec_res num  : 8, elapse : 0.8397834300994873\n"
          ]
        },
        {
          "output_type": "stream",
          "name": "stderr",
          "text": [
            "\r 72%|███████▏  | 537/751 [10:15<05:02,  1.41s/it]"
          ]
        },
        {
          "output_type": "stream",
          "name": "stdout",
          "text": [
            "[2023/05/02 14:24:48] ppocr DEBUG: dt_boxes num : 8, elapse : 0.22554278373718262\n",
            "[2023/05/02 14:24:48] ppocr DEBUG: cls num  : 8, elapse : 0.09919214248657227\n",
            "[2023/05/02 14:24:49] ppocr DEBUG: rec_res num  : 8, elapse : 0.8329286575317383\n"
          ]
        },
        {
          "output_type": "stream",
          "name": "stderr",
          "text": [
            "\r 72%|███████▏  | 538/751 [10:16<04:45,  1.34s/it]"
          ]
        },
        {
          "output_type": "stream",
          "name": "stdout",
          "text": [
            "[2023/05/02 14:24:50] ppocr DEBUG: dt_boxes num : 4, elapse : 0.23516035079956055\n",
            "[2023/05/02 14:24:50] ppocr DEBUG: cls num  : 4, elapse : 0.053604841232299805\n",
            "[2023/05/02 14:24:50] ppocr DEBUG: rec_res num  : 4, elapse : 0.4098694324493408\n"
          ]
        },
        {
          "output_type": "stream",
          "name": "stderr",
          "text": [
            "\r 72%|███████▏  | 539/751 [10:17<04:05,  1.16s/it]"
          ]
        },
        {
          "output_type": "stream",
          "name": "stdout",
          "text": [
            "[2023/05/02 14:24:50] ppocr DEBUG: dt_boxes num : 8, elapse : 0.24592971801757812\n",
            "[2023/05/02 14:24:50] ppocr DEBUG: cls num  : 8, elapse : 0.09172868728637695\n",
            "[2023/05/02 14:24:51] ppocr DEBUG: rec_res num  : 8, elapse : 0.8343663215637207\n"
          ]
        },
        {
          "output_type": "stream",
          "name": "stderr",
          "text": [
            "\r 72%|███████▏  | 540/751 [10:18<04:06,  1.17s/it]"
          ]
        },
        {
          "output_type": "stream",
          "name": "stdout",
          "text": [
            "[2023/05/02 14:24:51] ppocr DEBUG: dt_boxes num : 9, elapse : 0.22450542449951172\n",
            "[2023/05/02 14:24:52] ppocr DEBUG: cls num  : 9, elapse : 0.11791539192199707\n",
            "[2023/05/02 14:24:53] ppocr DEBUG: rec_res num  : 9, elapse : 0.9193634986877441\n"
          ]
        },
        {
          "output_type": "stream",
          "name": "stderr",
          "text": [
            "\r 72%|███████▏  | 541/751 [10:19<04:12,  1.20s/it]"
          ]
        },
        {
          "output_type": "stream",
          "name": "stdout",
          "text": [
            "[2023/05/02 14:24:53] ppocr DEBUG: dt_boxes num : 1, elapse : 0.2374727725982666\n",
            "[2023/05/02 14:24:53] ppocr DEBUG: cls num  : 1, elapse : 0.01730489730834961\n",
            "[2023/05/02 14:24:53] ppocr DEBUG: rec_res num  : 1, elapse : 0.12135434150695801\n"
          ]
        },
        {
          "output_type": "stream",
          "name": "stderr",
          "text": [
            "\r 72%|███████▏  | 542/751 [10:19<03:20,  1.04it/s]"
          ]
        },
        {
          "output_type": "stream",
          "name": "stdout",
          "text": [
            "[2023/05/02 14:24:53] ppocr DEBUG: dt_boxes num : 1, elapse : 0.2175922393798828\n",
            "[2023/05/02 14:24:53] ppocr DEBUG: cls num  : 1, elapse : 0.018027067184448242\n",
            "[2023/05/02 14:24:53] ppocr DEBUG: rec_res num  : 1, elapse : 0.11449289321899414\n"
          ]
        },
        {
          "output_type": "stream",
          "name": "stderr",
          "text": [
            "\r 72%|███████▏  | 543/751 [10:20<02:42,  1.28it/s]"
          ]
        },
        {
          "output_type": "stream",
          "name": "stdout",
          "text": [
            "[2023/05/02 14:24:54] ppocr DEBUG: dt_boxes num : 0, elapse : 0.22293567657470703\n",
            "[2023/05/02 14:24:54] ppocr DEBUG: cls num  : 0, elapse : 0\n",
            "[2023/05/02 14:24:54] ppocr DEBUG: rec_res num  : 0, elapse : 2.86102294921875e-06\n"
          ]
        },
        {
          "output_type": "stream",
          "name": "stderr",
          "text": [
            "\r 72%|███████▏  | 544/751 [10:20<02:08,  1.61it/s]"
          ]
        },
        {
          "output_type": "stream",
          "name": "stdout",
          "text": [
            "[2023/05/02 14:24:54] ppocr DEBUG: dt_boxes num : 1, elapse : 0.24698925018310547\n",
            "[2023/05/02 14:24:54] ppocr DEBUG: cls num  : 1, elapse : 0.01793646812438965\n",
            "[2023/05/02 14:24:54] ppocr DEBUG: rec_res num  : 1, elapse : 0.10868239402770996\n"
          ]
        },
        {
          "output_type": "stream",
          "name": "stderr",
          "text": [
            "\r 73%|███████▎  | 545/751 [10:20<01:53,  1.82it/s]"
          ]
        },
        {
          "output_type": "stream",
          "name": "stdout",
          "text": [
            "[2023/05/02 14:24:54] ppocr DEBUG: dt_boxes num : 5, elapse : 0.2227768898010254\n",
            "[2023/05/02 14:24:54] ppocr DEBUG: cls num  : 5, elapse : 0.056648969650268555\n",
            "[2023/05/02 14:24:55] ppocr DEBUG: rec_res num  : 5, elapse : 0.5232291221618652\n"
          ]
        },
        {
          "output_type": "stream",
          "name": "stderr",
          "text": [
            "\r 73%|███████▎  | 546/751 [10:21<02:09,  1.58it/s]"
          ]
        },
        {
          "output_type": "stream",
          "name": "stdout",
          "text": [
            "[2023/05/02 14:24:55] ppocr DEBUG: dt_boxes num : 10, elapse : 0.22371697425842285\n",
            "[2023/05/02 14:24:55] ppocr DEBUG: cls num  : 10, elapse : 0.11406373977661133\n",
            "[2023/05/02 14:24:57] ppocr DEBUG: rec_res num  : 10, elapse : 1.4128761291503906\n"
          ]
        },
        {
          "output_type": "stream",
          "name": "stderr",
          "text": [
            "\r 73%|███████▎  | 547/751 [10:23<03:18,  1.03it/s]"
          ]
        },
        {
          "output_type": "stream",
          "name": "stdout",
          "text": [
            "[2023/05/02 14:24:57] ppocr DEBUG: dt_boxes num : 11, elapse : 0.23018646240234375\n",
            "[2023/05/02 14:24:57] ppocr DEBUG: cls num  : 11, elapse : 0.11860847473144531\n",
            "[2023/05/02 14:24:59] ppocr DEBUG: rec_res num  : 11, elapse : 2.5139145851135254\n"
          ]
        },
        {
          "output_type": "stream",
          "name": "stderr",
          "text": [
            "\r 73%|███████▎  | 548/751 [10:26<05:14,  1.55s/it]"
          ]
        },
        {
          "output_type": "stream",
          "name": "stdout",
          "text": [
            "[2023/05/02 14:25:00] ppocr DEBUG: dt_boxes num : 13, elapse : 0.3501284122467041\n",
            "[2023/05/02 14:25:00] ppocr DEBUG: cls num  : 13, elapse : 0.24970126152038574\n",
            "[2023/05/02 14:25:03] ppocr DEBUG: rec_res num  : 13, elapse : 2.494252920150757\n"
          ]
        },
        {
          "output_type": "stream",
          "name": "stderr",
          "text": [
            "\r 73%|███████▎  | 549/751 [10:29<06:48,  2.02s/it]"
          ]
        },
        {
          "output_type": "stream",
          "name": "stdout",
          "text": [
            "[2023/05/02 14:25:03] ppocr DEBUG: dt_boxes num : 4, elapse : 0.3301866054534912\n",
            "[2023/05/02 14:25:03] ppocr DEBUG: cls num  : 4, elapse : 0.06556987762451172\n",
            "[2023/05/02 14:25:04] ppocr DEBUG: rec_res num  : 4, elapse : 0.651970624923706\n"
          ]
        },
        {
          "output_type": "stream",
          "name": "stderr",
          "text": [
            "\r 73%|███████▎  | 550/751 [10:30<05:49,  1.74s/it]"
          ]
        },
        {
          "output_type": "stream",
          "name": "stdout",
          "text": [
            "[2023/05/02 14:25:04] ppocr DEBUG: dt_boxes num : 4, elapse : 0.31970763206481934\n",
            "[2023/05/02 14:25:04] ppocr DEBUG: cls num  : 4, elapse : 0.08074116706848145\n",
            "[2023/05/02 14:25:05] ppocr DEBUG: rec_res num  : 4, elapse : 0.6413683891296387\n"
          ]
        },
        {
          "output_type": "stream",
          "name": "stderr",
          "text": [
            "\r 73%|███████▎  | 551/751 [10:31<05:07,  1.54s/it]"
          ]
        },
        {
          "output_type": "stream",
          "name": "stdout",
          "text": [
            "[2023/05/02 14:25:05] ppocr DEBUG: dt_boxes num : 7, elapse : 0.315640926361084\n",
            "[2023/05/02 14:25:05] ppocr DEBUG: cls num  : 7, elapse : 0.11707091331481934\n",
            "[2023/05/02 14:25:06] ppocr DEBUG: rec_res num  : 7, elapse : 1.1302058696746826\n"
          ]
        },
        {
          "output_type": "stream",
          "name": "stderr",
          "text": [
            "\r 74%|███████▎  | 552/751 [10:33<05:09,  1.56s/it]"
          ]
        },
        {
          "output_type": "stream",
          "name": "stdout",
          "text": [
            "[2023/05/02 14:25:07] ppocr DEBUG: dt_boxes num : 3, elapse : 0.2781236171722412\n",
            "[2023/05/02 14:25:07] ppocr DEBUG: cls num  : 3, elapse : 0.04236578941345215\n",
            "[2023/05/02 14:25:07] ppocr DEBUG: rec_res num  : 3, elapse : 0.3212435245513916\n"
          ]
        },
        {
          "output_type": "stream",
          "name": "stderr",
          "text": [
            "\r 74%|███████▎  | 553/751 [10:33<04:14,  1.29s/it]"
          ]
        },
        {
          "output_type": "stream",
          "name": "stdout",
          "text": [
            "[2023/05/02 14:25:07] ppocr DEBUG: dt_boxes num : 5, elapse : 0.24361610412597656\n",
            "[2023/05/02 14:25:07] ppocr DEBUG: cls num  : 5, elapse : 0.06492233276367188\n",
            "[2023/05/02 14:25:08] ppocr DEBUG: rec_res num  : 5, elapse : 0.5485930442810059\n"
          ]
        },
        {
          "output_type": "stream",
          "name": "stderr",
          "text": [
            "\r 74%|███████▍  | 554/751 [10:34<03:49,  1.16s/it]"
          ]
        },
        {
          "output_type": "stream",
          "name": "stdout",
          "text": [
            "[2023/05/02 14:25:08] ppocr DEBUG: dt_boxes num : 4, elapse : 0.22382307052612305\n",
            "[2023/05/02 14:25:08] ppocr DEBUG: cls num  : 4, elapse : 0.049483299255371094\n",
            "[2023/05/02 14:25:09] ppocr DEBUG: rec_res num  : 4, elapse : 0.4499847888946533\n"
          ]
        },
        {
          "output_type": "stream",
          "name": "stderr",
          "text": [
            "\r 74%|███████▍  | 555/751 [10:35<03:23,  1.04s/it]"
          ]
        },
        {
          "output_type": "stream",
          "name": "stdout",
          "text": [
            "[2023/05/02 14:25:09] ppocr DEBUG: dt_boxes num : 9, elapse : 0.24004435539245605\n",
            "[2023/05/02 14:25:09] ppocr DEBUG: cls num  : 9, elapse : 0.10996103286743164\n",
            "[2023/05/02 14:25:10] ppocr DEBUG: rec_res num  : 9, elapse : 0.9744057655334473\n"
          ]
        },
        {
          "output_type": "stream",
          "name": "stderr",
          "text": [
            "\r 74%|███████▍  | 556/751 [10:36<03:40,  1.13s/it]"
          ]
        },
        {
          "output_type": "stream",
          "name": "stdout",
          "text": [
            "[2023/05/02 14:25:10] ppocr DEBUG: dt_boxes num : 5, elapse : 0.2396392822265625\n",
            "[2023/05/02 14:25:10] ppocr DEBUG: cls num  : 5, elapse : 0.06195950508117676\n",
            "[2023/05/02 14:25:11] ppocr DEBUG: rec_res num  : 5, elapse : 0.5640230178833008\n"
          ]
        },
        {
          "output_type": "stream",
          "name": "stderr",
          "text": [
            "\r 74%|███████▍  | 557/751 [10:37<03:25,  1.06s/it]"
          ]
        },
        {
          "output_type": "stream",
          "name": "stdout",
          "text": [
            "[2023/05/02 14:25:11] ppocr DEBUG: dt_boxes num : 4, elapse : 0.26035380363464355\n",
            "[2023/05/02 14:25:11] ppocr DEBUG: cls num  : 4, elapse : 0.05380606651306152\n",
            "[2023/05/02 14:25:12] ppocr DEBUG: rec_res num  : 4, elapse : 0.4579634666442871\n"
          ]
        },
        {
          "output_type": "stream",
          "name": "stderr",
          "text": [
            "\r 74%|███████▍  | 558/751 [10:38<03:08,  1.02it/s]"
          ]
        },
        {
          "output_type": "stream",
          "name": "stdout",
          "text": [
            "[2023/05/02 14:25:12] ppocr DEBUG: dt_boxes num : 9, elapse : 0.24869680404663086\n",
            "[2023/05/02 14:25:12] ppocr DEBUG: cls num  : 9, elapse : 0.10336494445800781\n",
            "[2023/05/02 14:25:13] ppocr DEBUG: rec_res num  : 9, elapse : 1.008812665939331\n"
          ]
        },
        {
          "output_type": "stream",
          "name": "stderr",
          "text": [
            "\r 74%|███████▍  | 559/751 [10:40<03:31,  1.10s/it]"
          ]
        },
        {
          "output_type": "stream",
          "name": "stdout",
          "text": [
            "[2023/05/02 14:25:13] ppocr DEBUG: dt_boxes num : 1, elapse : 0.2666347026824951\n",
            "[2023/05/02 14:25:13] ppocr DEBUG: cls num  : 1, elapse : 0.020937442779541016\n",
            "[2023/05/02 14:25:13] ppocr DEBUG: rec_res num  : 1, elapse : 0.1259303092956543\n"
          ]
        },
        {
          "output_type": "stream",
          "name": "stderr",
          "text": [
            "\r 75%|███████▍  | 560/751 [10:40<02:52,  1.11it/s]"
          ]
        },
        {
          "output_type": "stream",
          "name": "stdout",
          "text": [
            "[2023/05/02 14:25:14] ppocr DEBUG: dt_boxes num : 1, elapse : 0.232330322265625\n",
            "[2023/05/02 14:25:14] ppocr DEBUG: cls num  : 1, elapse : 0.019701480865478516\n",
            "[2023/05/02 14:25:14] ppocr DEBUG: rec_res num  : 1, elapse : 0.10884928703308105\n"
          ]
        },
        {
          "output_type": "stream",
          "name": "stderr",
          "text": [
            "\r 75%|███████▍  | 561/751 [10:40<02:21,  1.34it/s]"
          ]
        },
        {
          "output_type": "stream",
          "name": "stdout",
          "text": [
            "[2023/05/02 14:25:14] ppocr DEBUG: dt_boxes num : 5, elapse : 0.22971248626708984\n",
            "[2023/05/02 14:25:14] ppocr DEBUG: cls num  : 5, elapse : 0.06627869606018066\n",
            "[2023/05/02 14:25:15] ppocr DEBUG: rec_res num  : 5, elapse : 0.8392117023468018\n"
          ]
        },
        {
          "output_type": "stream",
          "name": "stderr",
          "text": [
            "\r 75%|███████▍  | 562/751 [10:41<02:44,  1.15it/s]"
          ]
        },
        {
          "output_type": "stream",
          "name": "stdout",
          "text": [
            "[2023/05/02 14:25:15] ppocr DEBUG: dt_boxes num : 5, elapse : 0.2389659881591797\n",
            "[2023/05/02 14:25:15] ppocr DEBUG: cls num  : 5, elapse : 0.06523656845092773\n",
            "[2023/05/02 14:25:16] ppocr DEBUG: rec_res num  : 5, elapse : 0.9023005962371826\n"
          ]
        },
        {
          "output_type": "stream",
          "name": "stderr",
          "text": [
            "\r 75%|███████▍  | 563/751 [10:43<03:03,  1.02it/s]"
          ]
        },
        {
          "output_type": "stream",
          "name": "stdout",
          "text": [
            "[2023/05/02 14:25:16] ppocr DEBUG: dt_boxes num : 5, elapse : 0.28282976150512695\n",
            "[2023/05/02 14:25:17] ppocr DEBUG: cls num  : 5, elapse : 0.08583545684814453\n",
            "[2023/05/02 14:25:18] ppocr DEBUG: rec_res num  : 5, elapse : 1.4628522396087646\n"
          ]
        },
        {
          "output_type": "stream",
          "name": "stderr",
          "text": [
            "\r 75%|███████▌  | 564/751 [10:45<03:52,  1.24s/it]"
          ]
        },
        {
          "output_type": "stream",
          "name": "stdout",
          "text": [
            "[2023/05/02 14:25:18] ppocr DEBUG: dt_boxes num : 2, elapse : 0.3309187889099121\n",
            "[2023/05/02 14:25:18] ppocr DEBUG: cls num  : 2, elapse : 0.05253267288208008\n",
            "[2023/05/02 14:25:19] ppocr DEBUG: rec_res num  : 2, elapse : 0.357358455657959\n"
          ]
        },
        {
          "output_type": "stream",
          "name": "stderr",
          "text": [
            "\r 75%|███████▌  | 565/751 [10:45<03:24,  1.10s/it]"
          ]
        },
        {
          "output_type": "stream",
          "name": "stdout",
          "text": [
            "[2023/05/02 14:25:19] ppocr DEBUG: dt_boxes num : 5, elapse : 0.34577155113220215\n",
            "[2023/05/02 14:25:19] ppocr DEBUG: cls num  : 5, elapse : 0.11143851280212402\n",
            "[2023/05/02 14:25:22] ppocr DEBUG: rec_res num  : 5, elapse : 2.943908214569092\n"
          ]
        },
        {
          "output_type": "stream",
          "name": "stderr",
          "text": [
            "\r 75%|███████▌  | 566/751 [10:49<05:32,  1.80s/it]"
          ]
        },
        {
          "output_type": "stream",
          "name": "stdout",
          "text": [
            "[2023/05/02 14:25:23] ppocr DEBUG: dt_boxes num : 6, elapse : 0.35848402976989746\n",
            "[2023/05/02 14:25:23] ppocr DEBUG: cls num  : 6, elapse : 0.10397911071777344\n",
            "[2023/05/02 14:25:26] ppocr DEBUG: rec_res num  : 6, elapse : 3.5471110343933105\n"
          ]
        },
        {
          "output_type": "stream",
          "name": "stderr",
          "text": [
            "\r 75%|███████▌  | 567/751 [10:53<07:34,  2.47s/it]"
          ]
        },
        {
          "output_type": "stream",
          "name": "stdout",
          "text": [
            "[2023/05/02 14:25:27] ppocr DEBUG: dt_boxes num : 6, elapse : 0.2657487392425537\n",
            "[2023/05/02 14:25:27] ppocr DEBUG: cls num  : 6, elapse : 0.07250642776489258\n",
            "[2023/05/02 14:25:29] ppocr DEBUG: rec_res num  : 6, elapse : 2.559516191482544\n"
          ]
        },
        {
          "output_type": "stream",
          "name": "stderr",
          "text": [
            "\r 76%|███████▌  | 568/751 [10:56<07:56,  2.60s/it]"
          ]
        },
        {
          "output_type": "stream",
          "name": "stdout",
          "text": [
            "[2023/05/02 14:25:29] ppocr DEBUG: dt_boxes num : 5, elapse : 0.22962594032287598\n",
            "[2023/05/02 14:25:29] ppocr DEBUG: cls num  : 5, elapse : 0.057982444763183594\n",
            "[2023/05/02 14:25:32] ppocr DEBUG: rec_res num  : 5, elapse : 2.1301333904266357\n"
          ]
        },
        {
          "output_type": "stream",
          "name": "stderr",
          "text": [
            "\r 76%|███████▌  | 569/751 [10:58<07:44,  2.55s/it]"
          ]
        },
        {
          "output_type": "stream",
          "name": "stdout",
          "text": [
            "[2023/05/02 14:25:32] ppocr DEBUG: dt_boxes num : 1, elapse : 0.22795653343200684\n",
            "[2023/05/02 14:25:32] ppocr DEBUG: cls num  : 1, elapse : 0.018432140350341797\n",
            "[2023/05/02 14:25:32] ppocr DEBUG: rec_res num  : 1, elapse : 0.11027216911315918\n"
          ]
        },
        {
          "output_type": "stream",
          "name": "stderr",
          "text": [
            "\r 76%|███████▌  | 570/751 [10:59<05:43,  1.90s/it]"
          ]
        },
        {
          "output_type": "stream",
          "name": "stdout",
          "text": [
            "[2023/05/02 14:25:32] ppocr DEBUG: dt_boxes num : 3, elapse : 0.2364518642425537\n",
            "[2023/05/02 14:25:32] ppocr DEBUG: cls num  : 3, elapse : 0.040950775146484375\n",
            "[2023/05/02 14:25:33] ppocr DEBUG: rec_res num  : 3, elapse : 0.313370943069458\n"
          ]
        },
        {
          "output_type": "stream",
          "name": "stderr",
          "text": [
            "\r 76%|███████▌  | 571/751 [10:59<04:32,  1.51s/it]"
          ]
        },
        {
          "output_type": "stream",
          "name": "stdout",
          "text": [
            "[2023/05/02 14:25:33] ppocr DEBUG: dt_boxes num : 4, elapse : 0.22660493850708008\n",
            "[2023/05/02 14:25:33] ppocr DEBUG: cls num  : 4, elapse : 0.05380082130432129\n",
            "[2023/05/02 14:25:33] ppocr DEBUG: rec_res num  : 4, elapse : 0.4236929416656494\n"
          ]
        },
        {
          "output_type": "stream",
          "name": "stderr",
          "text": [
            "\r 76%|███████▌  | 572/751 [11:00<03:48,  1.28s/it]"
          ]
        },
        {
          "output_type": "stream",
          "name": "stdout",
          "text": [
            "[2023/05/02 14:25:34] ppocr DEBUG: dt_boxes num : 4, elapse : 0.22033405303955078\n",
            "[2023/05/02 14:25:34] ppocr DEBUG: cls num  : 4, elapse : 0.04983711242675781\n",
            "[2023/05/02 14:25:34] ppocr DEBUG: rec_res num  : 4, elapse : 0.4121534824371338\n"
          ]
        },
        {
          "output_type": "stream",
          "name": "stderr",
          "text": [
            "\r 76%|███████▋  | 573/751 [11:01<03:16,  1.10s/it]"
          ]
        },
        {
          "output_type": "stream",
          "name": "stdout",
          "text": [
            "[2023/05/02 14:25:34] ppocr DEBUG: dt_boxes num : 3, elapse : 0.24599337577819824\n",
            "[2023/05/02 14:25:34] ppocr DEBUG: cls num  : 3, elapse : 0.038658857345581055\n",
            "[2023/05/02 14:25:35] ppocr DEBUG: rec_res num  : 3, elapse : 0.3098299503326416\n"
          ]
        },
        {
          "output_type": "stream",
          "name": "stderr",
          "text": [
            "\r 76%|███████▋  | 574/751 [11:01<02:49,  1.04it/s]"
          ]
        },
        {
          "output_type": "stream",
          "name": "stdout",
          "text": [
            "[2023/05/02 14:25:35] ppocr DEBUG: dt_boxes num : 8, elapse : 0.22595810890197754\n",
            "[2023/05/02 14:25:35] ppocr DEBUG: cls num  : 8, elapse : 0.09117650985717773\n",
            "[2023/05/02 14:25:36] ppocr DEBUG: rec_res num  : 8, elapse : 0.9020936489105225\n"
          ]
        },
        {
          "output_type": "stream",
          "name": "stderr",
          "text": [
            "\r 77%|███████▋  | 575/751 [11:02<03:03,  1.04s/it]"
          ]
        },
        {
          "output_type": "stream",
          "name": "stdout",
          "text": [
            "[2023/05/02 14:25:36] ppocr DEBUG: dt_boxes num : 7, elapse : 0.3310368061065674\n",
            "[2023/05/02 14:25:36] ppocr DEBUG: cls num  : 7, elapse : 0.1273515224456787\n",
            "[2023/05/02 14:25:38] ppocr DEBUG: rec_res num  : 7, elapse : 1.4423487186431885\n"
          ]
        },
        {
          "output_type": "stream",
          "name": "stderr",
          "text": [
            "\r 77%|███████▋  | 576/751 [11:04<03:48,  1.31s/it]"
          ]
        },
        {
          "output_type": "stream",
          "name": "stdout",
          "text": [
            "[2023/05/02 14:25:38] ppocr DEBUG: dt_boxes num : 5, elapse : 0.3333284854888916\n",
            "[2023/05/02 14:25:38] ppocr DEBUG: cls num  : 5, elapse : 0.10350203514099121\n",
            "[2023/05/02 14:25:39] ppocr DEBUG: rec_res num  : 5, elapse : 0.9341070652008057\n"
          ]
        },
        {
          "output_type": "stream",
          "name": "stderr",
          "text": [
            "\r 77%|███████▋  | 577/751 [11:06<03:52,  1.34s/it]"
          ]
        },
        {
          "output_type": "stream",
          "name": "stdout",
          "text": [
            "[2023/05/02 14:25:40] ppocr DEBUG: dt_boxes num : 8, elapse : 0.3580493927001953\n",
            "[2023/05/02 14:25:40] ppocr DEBUG: cls num  : 8, elapse : 0.15620923042297363\n",
            "[2023/05/02 14:25:41] ppocr DEBUG: rec_res num  : 8, elapse : 1.344099760055542\n"
          ]
        },
        {
          "output_type": "stream",
          "name": "stderr",
          "text": [
            "\r 77%|███████▋  | 578/751 [11:08<04:19,  1.50s/it]"
          ]
        },
        {
          "output_type": "stream",
          "name": "stdout",
          "text": [
            "[2023/05/02 14:25:41] ppocr DEBUG: dt_boxes num : 3, elapse : 0.31691694259643555\n",
            "[2023/05/02 14:25:41] ppocr DEBUG: cls num  : 3, elapse : 0.05149197578430176\n",
            "[2023/05/02 14:25:42] ppocr DEBUG: rec_res num  : 3, elapse : 0.4597208499908447\n"
          ]
        },
        {
          "output_type": "stream",
          "name": "stderr",
          "text": [
            "\r 77%|███████▋  | 579/751 [11:08<03:44,  1.31s/it]"
          ]
        },
        {
          "output_type": "stream",
          "name": "stdout",
          "text": [
            "[2023/05/02 14:25:42] ppocr DEBUG: dt_boxes num : 3, elapse : 0.301846981048584\n",
            "[2023/05/02 14:25:42] ppocr DEBUG: cls num  : 3, elapse : 0.05253195762634277\n",
            "[2023/05/02 14:25:43] ppocr DEBUG: rec_res num  : 3, elapse : 0.48102521896362305\n"
          ]
        },
        {
          "output_type": "stream",
          "name": "stderr",
          "text": [
            "\r 77%|███████▋  | 580/751 [11:09<03:20,  1.17s/it]"
          ]
        },
        {
          "output_type": "stream",
          "name": "stdout",
          "text": [
            "[2023/05/02 14:25:43] ppocr DEBUG: dt_boxes num : 6, elapse : 0.3090636730194092\n",
            "[2023/05/02 14:25:43] ppocr DEBUG: cls num  : 6, elapse : 0.09445905685424805\n",
            "[2023/05/02 14:25:44] ppocr DEBUG: rec_res num  : 6, elapse : 0.922987699508667\n"
          ]
        },
        {
          "output_type": "stream",
          "name": "stderr",
          "text": [
            "\r 77%|███████▋  | 581/751 [11:11<03:28,  1.22s/it]"
          ]
        },
        {
          "output_type": "stream",
          "name": "stdout",
          "text": [
            "[2023/05/02 14:25:44] ppocr DEBUG: dt_boxes num : 6, elapse : 0.32655858993530273\n",
            "[2023/05/02 14:25:45] ppocr DEBUG: cls num  : 6, elapse : 0.08891153335571289\n",
            "[2023/05/02 14:25:45] ppocr DEBUG: rec_res num  : 6, elapse : 0.6236841678619385\n"
          ]
        },
        {
          "output_type": "stream",
          "name": "stderr",
          "text": [
            "\r 77%|███████▋  | 582/751 [11:12<03:18,  1.18s/it]"
          ]
        },
        {
          "output_type": "stream",
          "name": "stdout",
          "text": [
            "[2023/05/02 14:25:45] ppocr DEBUG: dt_boxes num : 9, elapse : 0.23302459716796875\n",
            "[2023/05/02 14:25:46] ppocr DEBUG: cls num  : 9, elapse : 0.10666489601135254\n",
            "[2023/05/02 14:25:47] ppocr DEBUG: rec_res num  : 9, elapse : 0.9723787307739258\n"
          ]
        },
        {
          "output_type": "stream",
          "name": "stderr",
          "text": [
            "\r 78%|███████▊  | 583/751 [11:13<03:25,  1.22s/it]"
          ]
        },
        {
          "output_type": "stream",
          "name": "stdout",
          "text": [
            "[2023/05/02 14:25:47] ppocr DEBUG: dt_boxes num : 1, elapse : 0.2463681697845459\n",
            "[2023/05/02 14:25:47] ppocr DEBUG: cls num  : 1, elapse : 0.018383502960205078\n",
            "[2023/05/02 14:25:47] ppocr DEBUG: rec_res num  : 1, elapse : 0.10768532752990723\n"
          ]
        },
        {
          "output_type": "stream",
          "name": "stderr",
          "text": [
            "\r 78%|███████▊  | 584/751 [11:13<02:42,  1.03it/s]"
          ]
        },
        {
          "output_type": "stream",
          "name": "stdout",
          "text": [
            "[2023/05/02 14:25:47] ppocr DEBUG: dt_boxes num : 1, elapse : 0.22383332252502441\n",
            "[2023/05/02 14:25:47] ppocr DEBUG: cls num  : 1, elapse : 0.01786065101623535\n",
            "[2023/05/02 14:25:47] ppocr DEBUG: rec_res num  : 1, elapse : 0.11387014389038086\n"
          ]
        },
        {
          "output_type": "stream",
          "name": "stderr",
          "text": [
            "\r 78%|███████▊  | 585/751 [11:14<02:11,  1.26it/s]"
          ]
        },
        {
          "output_type": "stream",
          "name": "stdout",
          "text": [
            "[2023/05/02 14:25:48] ppocr DEBUG: dt_boxes num : 1, elapse : 0.2545952796936035\n",
            "[2023/05/02 14:25:48] ppocr DEBUG: cls num  : 1, elapse : 0.019478321075439453\n",
            "[2023/05/02 14:25:48] ppocr DEBUG: rec_res num  : 1, elapse : 0.1230010986328125\n"
          ]
        },
        {
          "output_type": "stream",
          "name": "stderr",
          "text": [
            "\r 78%|███████▊  | 586/751 [11:14<01:51,  1.47it/s]"
          ]
        },
        {
          "output_type": "stream",
          "name": "stdout",
          "text": [
            "[2023/05/02 14:25:48] ppocr DEBUG: dt_boxes num : 2, elapse : 0.23473620414733887\n",
            "[2023/05/02 14:25:48] ppocr DEBUG: cls num  : 2, elapse : 0.028951406478881836\n",
            "[2023/05/02 14:25:48] ppocr DEBUG: rec_res num  : 2, elapse : 0.38651061058044434\n"
          ]
        },
        {
          "output_type": "stream",
          "name": "stderr",
          "text": [
            "\r 78%|███████▊  | 587/751 [11:15<01:50,  1.48it/s]"
          ]
        },
        {
          "output_type": "stream",
          "name": "stdout",
          "text": [
            "[2023/05/02 14:25:49] ppocr DEBUG: dt_boxes num : 3, elapse : 0.2290503978729248\n",
            "[2023/05/02 14:25:49] ppocr DEBUG: cls num  : 3, elapse : 0.048055410385131836\n",
            "[2023/05/02 14:25:49] ppocr DEBUG: rec_res num  : 3, elapse : 0.5950157642364502\n"
          ]
        },
        {
          "output_type": "stream",
          "name": "stderr",
          "text": [
            "\r 78%|███████▊  | 588/751 [11:16<02:00,  1.35it/s]"
          ]
        },
        {
          "output_type": "stream",
          "name": "stdout",
          "text": [
            "[2023/05/02 14:25:50] ppocr DEBUG: dt_boxes num : 3, elapse : 0.2641451358795166\n",
            "[2023/05/02 14:25:50] ppocr DEBUG: cls num  : 3, elapse : 0.045503854751586914\n",
            "[2023/05/02 14:25:50] ppocr DEBUG: rec_res num  : 3, elapse : 0.335277795791626\n"
          ]
        },
        {
          "output_type": "stream",
          "name": "stderr",
          "text": [
            "\r 78%|███████▊  | 589/751 [11:16<01:56,  1.39it/s]"
          ]
        },
        {
          "output_type": "stream",
          "name": "stdout",
          "text": [
            "[2023/05/02 14:25:50] ppocr DEBUG: dt_boxes num : 9, elapse : 0.2389967441558838\n",
            "[2023/05/02 14:25:50] ppocr DEBUG: cls num  : 9, elapse : 0.1021735668182373\n",
            "[2023/05/02 14:25:51] ppocr DEBUG: rec_res num  : 9, elapse : 0.999014139175415\n"
          ]
        },
        {
          "output_type": "stream",
          "name": "stderr",
          "text": [
            "\r 79%|███████▊  | 590/751 [11:18<02:26,  1.10it/s]"
          ]
        },
        {
          "output_type": "stream",
          "name": "stdout",
          "text": [
            "[2023/05/02 14:25:52] ppocr DEBUG: dt_boxes num : 4, elapse : 0.239149808883667\n",
            "[2023/05/02 14:25:52] ppocr DEBUG: cls num  : 4, elapse : 0.05188608169555664\n",
            "[2023/05/02 14:25:52] ppocr DEBUG: rec_res num  : 4, elapse : 0.44504332542419434\n"
          ]
        },
        {
          "output_type": "stream",
          "name": "stderr",
          "text": [
            "\r 79%|███████▊  | 591/751 [11:19<02:18,  1.16it/s]"
          ]
        },
        {
          "output_type": "stream",
          "name": "stdout",
          "text": [
            "[2023/05/02 14:25:52] ppocr DEBUG: dt_boxes num : 3, elapse : 0.2526266574859619\n",
            "[2023/05/02 14:25:52] ppocr DEBUG: cls num  : 3, elapse : 0.04020047187805176\n",
            "[2023/05/02 14:25:53] ppocr DEBUG: rec_res num  : 3, elapse : 0.32483816146850586\n"
          ]
        },
        {
          "output_type": "stream",
          "name": "stderr",
          "text": [
            "\r 79%|███████▉  | 592/751 [11:19<02:06,  1.26it/s]"
          ]
        },
        {
          "output_type": "stream",
          "name": "stdout",
          "text": [
            "[2023/05/02 14:25:53] ppocr DEBUG: dt_boxes num : 4, elapse : 0.25405216217041016\n",
            "[2023/05/02 14:25:53] ppocr DEBUG: cls num  : 4, elapse : 0.04999995231628418\n",
            "[2023/05/02 14:25:53] ppocr DEBUG: rec_res num  : 4, elapse : 0.43355441093444824\n"
          ]
        },
        {
          "output_type": "stream",
          "name": "stderr",
          "text": [
            "\r 79%|███████▉  | 593/751 [11:20<02:04,  1.27it/s]"
          ]
        },
        {
          "output_type": "stream",
          "name": "stdout",
          "text": [
            "[2023/05/02 14:25:54] ppocr DEBUG: dt_boxes num : 7, elapse : 0.24124455451965332\n",
            "[2023/05/02 14:25:54] ppocr DEBUG: cls num  : 7, elapse : 0.08936834335327148\n",
            "[2023/05/02 14:25:55] ppocr DEBUG: rec_res num  : 7, elapse : 0.7637474536895752\n"
          ]
        },
        {
          "output_type": "stream",
          "name": "stderr",
          "text": [
            "\r 79%|███████▉  | 594/751 [11:21<02:18,  1.13it/s]"
          ]
        },
        {
          "output_type": "stream",
          "name": "stdout",
          "text": [
            "[2023/05/02 14:25:55] ppocr DEBUG: dt_boxes num : 5, elapse : 0.3188920021057129\n",
            "[2023/05/02 14:25:55] ppocr DEBUG: cls num  : 5, elapse : 0.09819698333740234\n",
            "[2023/05/02 14:25:56] ppocr DEBUG: rec_res num  : 5, elapse : 0.9454305171966553\n"
          ]
        },
        {
          "output_type": "stream",
          "name": "stderr",
          "text": [
            "\r 79%|███████▉  | 595/751 [11:23<02:41,  1.04s/it]"
          ]
        },
        {
          "output_type": "stream",
          "name": "stdout",
          "text": [
            "[2023/05/02 14:25:56] ppocr DEBUG: dt_boxes num : 5, elapse : 0.37042975425720215\n",
            "[2023/05/02 14:25:56] ppocr DEBUG: cls num  : 5, elapse : 0.09930086135864258\n",
            "[2023/05/02 14:25:57] ppocr DEBUG: rec_res num  : 5, elapse : 0.9072129726409912\n"
          ]
        },
        {
          "output_type": "stream",
          "name": "stderr",
          "text": [
            "\r 79%|███████▉  | 596/751 [11:24<02:58,  1.15s/it]"
          ]
        },
        {
          "output_type": "stream",
          "name": "stdout",
          "text": [
            "[2023/05/02 14:25:58] ppocr DEBUG: dt_boxes num : 5, elapse : 0.3401327133178711\n",
            "[2023/05/02 14:25:58] ppocr DEBUG: cls num  : 5, elapse : 0.09536552429199219\n",
            "[2023/05/02 14:25:59] ppocr DEBUG: rec_res num  : 5, elapse : 0.917395830154419\n"
          ]
        },
        {
          "output_type": "stream",
          "name": "stderr",
          "text": [
            "\r 79%|███████▉  | 597/751 [11:25<03:08,  1.22s/it]"
          ]
        },
        {
          "output_type": "stream",
          "name": "stdout",
          "text": [
            "[2023/05/02 14:25:59] ppocr DEBUG: dt_boxes num : 7, elapse : 0.35057735443115234\n",
            "[2023/05/02 14:25:59] ppocr DEBUG: cls num  : 7, elapse : 0.12747502326965332\n",
            "[2023/05/02 14:26:00] ppocr DEBUG: rec_res num  : 7, elapse : 1.1574130058288574\n"
          ]
        },
        {
          "output_type": "stream",
          "name": "stderr",
          "text": [
            "\r 80%|███████▉  | 598/751 [11:27<03:27,  1.36s/it]"
          ]
        },
        {
          "output_type": "stream",
          "name": "stdout",
          "text": [
            "[2023/05/02 14:26:01] ppocr DEBUG: dt_boxes num : 7, elapse : 0.3266589641571045\n",
            "[2023/05/02 14:26:01] ppocr DEBUG: cls num  : 7, elapse : 0.11609697341918945\n",
            "[2023/05/02 14:26:02] ppocr DEBUG: rec_res num  : 7, elapse : 1.075916051864624\n"
          ]
        },
        {
          "output_type": "stream",
          "name": "stderr",
          "text": [
            "\r 80%|███████▉  | 599/751 [11:29<03:34,  1.41s/it]"
          ]
        },
        {
          "output_type": "stream",
          "name": "stdout",
          "text": [
            "[2023/05/02 14:26:02] ppocr DEBUG: dt_boxes num : 8, elapse : 0.3328704833984375\n",
            "[2023/05/02 14:26:02] ppocr DEBUG: cls num  : 8, elapse : 0.13038206100463867\n",
            "[2023/05/02 14:26:04] ppocr DEBUG: rec_res num  : 8, elapse : 1.2101490497589111\n"
          ]
        },
        {
          "output_type": "stream",
          "name": "stderr",
          "text": [
            "\r 80%|███████▉  | 600/751 [11:30<03:46,  1.50s/it]"
          ]
        },
        {
          "output_type": "stream",
          "name": "stdout",
          "text": [
            "[2023/05/02 14:26:04] ppocr DEBUG: dt_boxes num : 6, elapse : 0.23579144477844238\n",
            "[2023/05/02 14:26:04] ppocr DEBUG: cls num  : 6, elapse : 0.07488298416137695\n",
            "[2023/05/02 14:26:05] ppocr DEBUG: rec_res num  : 6, elapse : 0.6537184715270996\n"
          ]
        },
        {
          "output_type": "stream",
          "name": "stderr",
          "text": [
            "\r 80%|████████  | 601/751 [11:31<03:21,  1.34s/it]"
          ]
        },
        {
          "output_type": "stream",
          "name": "stdout",
          "text": [
            "[2023/05/02 14:26:05] ppocr DEBUG: dt_boxes num : 6, elapse : 0.22549152374267578\n",
            "[2023/05/02 14:26:05] ppocr DEBUG: cls num  : 6, elapse : 0.07158374786376953\n",
            "[2023/05/02 14:26:06] ppocr DEBUG: rec_res num  : 6, elapse : 0.6344156265258789\n"
          ]
        },
        {
          "output_type": "stream",
          "name": "stderr",
          "text": [
            "\r 80%|████████  | 602/751 [11:32<03:02,  1.23s/it]"
          ]
        },
        {
          "output_type": "stream",
          "name": "stdout",
          "text": [
            "[2023/05/02 14:26:06] ppocr DEBUG: dt_boxes num : 19, elapse : 0.2361891269683838\n",
            "[2023/05/02 14:26:06] ppocr DEBUG: cls num  : 19, elapse : 0.20212817192077637\n",
            "[2023/05/02 14:26:08] ppocr DEBUG: rec_res num  : 19, elapse : 2.065847873687744\n"
          ]
        },
        {
          "output_type": "stream",
          "name": "stderr",
          "text": [
            "\r 80%|████████  | 603/751 [11:35<03:59,  1.62s/it]"
          ]
        },
        {
          "output_type": "stream",
          "name": "stdout",
          "text": [
            "[2023/05/02 14:26:08] ppocr DEBUG: dt_boxes num : 16, elapse : 0.22944283485412598\n",
            "[2023/05/02 14:26:09] ppocr DEBUG: cls num  : 16, elapse : 0.1715376377105713\n",
            "[2023/05/02 14:26:11] ppocr DEBUG: rec_res num  : 16, elapse : 2.0590829849243164\n"
          ]
        },
        {
          "output_type": "stream",
          "name": "stderr",
          "text": [
            "\r 80%|████████  | 604/751 [11:37<04:36,  1.88s/it]"
          ]
        },
        {
          "output_type": "stream",
          "name": "stdout",
          "text": [
            "[2023/05/02 14:26:11] ppocr DEBUG: dt_boxes num : 7, elapse : 0.22684645652770996\n",
            "[2023/05/02 14:26:11] ppocr DEBUG: cls num  : 7, elapse : 0.0777730941772461\n",
            "[2023/05/02 14:26:12] ppocr DEBUG: rec_res num  : 7, elapse : 0.7379508018493652\n"
          ]
        },
        {
          "output_type": "stream",
          "name": "stderr",
          "text": [
            "\r 81%|████████  | 605/751 [11:38<03:58,  1.63s/it]"
          ]
        },
        {
          "output_type": "stream",
          "name": "stdout",
          "text": [
            "[2023/05/02 14:26:12] ppocr DEBUG: dt_boxes num : 12, elapse : 0.22948360443115234\n",
            "[2023/05/02 14:26:12] ppocr DEBUG: cls num  : 12, elapse : 0.12960553169250488\n",
            "[2023/05/02 14:26:13] ppocr DEBUG: rec_res num  : 12, elapse : 1.3793680667877197\n"
          ]
        },
        {
          "output_type": "stream",
          "name": "stderr",
          "text": [
            "\r 81%|████████  | 606/751 [11:40<04:02,  1.67s/it]"
          ]
        },
        {
          "output_type": "stream",
          "name": "stdout",
          "text": [
            "[2023/05/02 14:26:14] ppocr DEBUG: dt_boxes num : 9, elapse : 0.2706723213195801\n",
            "[2023/05/02 14:26:14] ppocr DEBUG: cls num  : 9, elapse : 0.14776968955993652\n",
            "[2023/05/02 14:26:16] ppocr DEBUG: rec_res num  : 9, elapse : 1.840118169784546\n"
          ]
        },
        {
          "output_type": "stream",
          "name": "stderr",
          "text": [
            "\r 81%|████████  | 607/751 [11:42<04:27,  1.86s/it]"
          ]
        },
        {
          "output_type": "stream",
          "name": "stdout",
          "text": [
            "[2023/05/02 14:26:16] ppocr DEBUG: dt_boxes num : 3, elapse : 0.33582544326782227\n",
            "[2023/05/02 14:26:16] ppocr DEBUG: cls num  : 3, elapse : 0.06892657279968262\n",
            "[2023/05/02 14:26:17] ppocr DEBUG: rec_res num  : 3, elapse : 0.5907120704650879\n"
          ]
        },
        {
          "output_type": "stream",
          "name": "stderr",
          "text": [
            "\r 81%|████████  | 608/751 [11:43<03:49,  1.61s/it]"
          ]
        },
        {
          "output_type": "stream",
          "name": "stdout",
          "text": [
            "[2023/05/02 14:26:17] ppocr DEBUG: dt_boxes num : 5, elapse : 0.34362196922302246\n",
            "[2023/05/02 14:26:17] ppocr DEBUG: cls num  : 5, elapse : 0.1939711570739746\n",
            "[2023/05/02 14:26:18] ppocr DEBUG: rec_res num  : 5, elapse : 1.142369270324707\n"
          ]
        },
        {
          "output_type": "stream",
          "name": "stderr",
          "text": [
            "\r 81%|████████  | 609/751 [11:45<03:52,  1.64s/it]"
          ]
        },
        {
          "output_type": "stream",
          "name": "stdout",
          "text": [
            "[2023/05/02 14:26:19] ppocr DEBUG: dt_boxes num : 8, elapse : 0.4775266647338867\n",
            "[2023/05/02 14:26:19] ppocr DEBUG: cls num  : 8, elapse : 0.17494678497314453\n",
            "[2023/05/02 14:26:21] ppocr DEBUG: rec_res num  : 8, elapse : 1.6241071224212646\n"
          ]
        },
        {
          "output_type": "stream",
          "name": "stderr",
          "text": [
            "\r 81%|████████  | 610/751 [11:47<04:19,  1.84s/it]"
          ]
        },
        {
          "output_type": "stream",
          "name": "stdout",
          "text": [
            "[2023/05/02 14:26:21] ppocr DEBUG: dt_boxes num : 7, elapse : 0.3648388385772705\n",
            "[2023/05/02 14:26:21] ppocr DEBUG: cls num  : 7, elapse : 0.13463139533996582\n",
            "[2023/05/02 14:26:24] ppocr DEBUG: rec_res num  : 7, elapse : 2.3690218925476074\n"
          ]
        },
        {
          "output_type": "stream",
          "name": "stderr",
          "text": [
            "\r 81%|████████▏ | 611/751 [11:50<05:03,  2.17s/it]"
          ]
        },
        {
          "output_type": "stream",
          "name": "stdout",
          "text": [
            "[2023/05/02 14:26:24] ppocr DEBUG: dt_boxes num : 9, elapse : 0.7080879211425781\n",
            "[2023/05/02 14:26:25] ppocr DEBUG: cls num  : 9, elapse : 0.2324998378753662\n",
            "[2023/05/02 14:26:26] ppocr DEBUG: rec_res num  : 9, elapse : 1.2687277793884277\n"
          ]
        },
        {
          "output_type": "stream",
          "name": "stderr",
          "text": [
            "\r 81%|████████▏ | 612/751 [11:53<05:07,  2.21s/it]"
          ]
        },
        {
          "output_type": "stream",
          "name": "stdout",
          "text": [
            "[2023/05/02 14:26:26] ppocr DEBUG: dt_boxes num : 2, elapse : 0.22977137565612793\n",
            "[2023/05/02 14:26:26] ppocr DEBUG: cls num  : 2, elapse : 0.031239748001098633\n",
            "[2023/05/02 14:26:27] ppocr DEBUG: rec_res num  : 2, elapse : 0.21822261810302734\n"
          ]
        },
        {
          "output_type": "stream",
          "name": "stderr",
          "text": [
            "\r 82%|████████▏ | 613/751 [11:53<03:54,  1.70s/it]"
          ]
        },
        {
          "output_type": "stream",
          "name": "stdout",
          "text": [
            "[2023/05/02 14:26:27] ppocr DEBUG: dt_boxes num : 2, elapse : 0.22243905067443848\n",
            "[2023/05/02 14:26:27] ppocr DEBUG: cls num  : 2, elapse : 0.02711033821105957\n",
            "[2023/05/02 14:26:27] ppocr DEBUG: rec_res num  : 2, elapse : 0.20979762077331543\n"
          ]
        },
        {
          "output_type": "stream",
          "name": "stderr",
          "text": [
            "\r 82%|████████▏ | 614/751 [11:54<03:02,  1.33s/it]"
          ]
        },
        {
          "output_type": "stream",
          "name": "stdout",
          "text": [
            "[2023/05/02 14:26:27] ppocr DEBUG: dt_boxes num : 4, elapse : 0.22256875038146973\n",
            "[2023/05/02 14:26:27] ppocr DEBUG: cls num  : 4, elapse : 0.06304717063903809\n",
            "[2023/05/02 14:26:28] ppocr DEBUG: rec_res num  : 4, elapse : 0.47420454025268555\n"
          ]
        },
        {
          "output_type": "stream",
          "name": "stderr",
          "text": [
            "\r 82%|████████▏ | 615/751 [11:54<02:38,  1.17s/it]"
          ]
        },
        {
          "output_type": "stream",
          "name": "stdout",
          "text": [
            "[2023/05/02 14:26:28] ppocr DEBUG: dt_boxes num : 4, elapse : 0.23020148277282715\n",
            "[2023/05/02 14:26:28] ppocr DEBUG: cls num  : 4, elapse : 0.05214190483093262\n",
            "[2023/05/02 14:26:28] ppocr DEBUG: rec_res num  : 4, elapse : 0.4237990379333496\n"
          ]
        },
        {
          "output_type": "stream",
          "name": "stderr",
          "text": [
            "\r 82%|████████▏ | 616/751 [11:55<02:19,  1.03s/it]"
          ]
        },
        {
          "output_type": "stream",
          "name": "stdout",
          "text": [
            "[2023/05/02 14:26:29] ppocr DEBUG: dt_boxes num : 9, elapse : 0.23234796524047852\n",
            "[2023/05/02 14:26:29] ppocr DEBUG: cls num  : 9, elapse : 0.1028280258178711\n",
            "[2023/05/02 14:26:30] ppocr DEBUG: rec_res num  : 9, elapse : 0.937361478805542\n"
          ]
        },
        {
          "output_type": "stream",
          "name": "stderr",
          "text": [
            "\r 82%|████████▏ | 617/751 [11:56<02:28,  1.11s/it]"
          ]
        },
        {
          "output_type": "stream",
          "name": "stdout",
          "text": [
            "[2023/05/02 14:26:30] ppocr DEBUG: dt_boxes num : 3, elapse : 0.22777342796325684\n",
            "[2023/05/02 14:26:30] ppocr DEBUG: cls num  : 3, elapse : 0.03885149955749512\n",
            "[2023/05/02 14:26:30] ppocr DEBUG: rec_res num  : 3, elapse : 0.32346296310424805\n"
          ]
        },
        {
          "output_type": "stream",
          "name": "stderr",
          "text": [
            "\r 82%|████████▏ | 618/751 [11:57<02:07,  1.04it/s]"
          ]
        },
        {
          "output_type": "stream",
          "name": "stdout",
          "text": [
            "[2023/05/02 14:26:31] ppocr DEBUG: dt_boxes num : 3, elapse : 0.22531747817993164\n",
            "[2023/05/02 14:26:31] ppocr DEBUG: cls num  : 3, elapse : 0.038153648376464844\n",
            "[2023/05/02 14:26:31] ppocr DEBUG: rec_res num  : 3, elapse : 0.31000256538391113\n"
          ]
        },
        {
          "output_type": "stream",
          "name": "stderr",
          "text": [
            "\r 82%|████████▏ | 619/751 [11:58<01:52,  1.18it/s]"
          ]
        },
        {
          "output_type": "stream",
          "name": "stdout",
          "text": [
            "[2023/05/02 14:26:31] ppocr DEBUG: dt_boxes num : 1, elapse : 0.2176811695098877\n",
            "[2023/05/02 14:26:31] ppocr DEBUG: cls num  : 1, elapse : 0.019032955169677734\n",
            "[2023/05/02 14:26:31] ppocr DEBUG: rec_res num  : 1, elapse : 0.10920429229736328\n"
          ]
        },
        {
          "output_type": "stream",
          "name": "stderr",
          "text": [
            "\r 83%|████████▎ | 620/751 [11:58<01:32,  1.42it/s]"
          ]
        },
        {
          "output_type": "stream",
          "name": "stdout",
          "text": [
            "[2023/05/02 14:26:32] ppocr DEBUG: dt_boxes num : 2, elapse : 0.2392258644104004\n",
            "[2023/05/02 14:26:32] ppocr DEBUG: cls num  : 2, elapse : 0.03234434127807617\n",
            "[2023/05/02 14:26:32] ppocr DEBUG: rec_res num  : 2, elapse : 0.23924732208251953\n"
          ]
        },
        {
          "output_type": "stream",
          "name": "stderr",
          "text": [
            "\r 83%|████████▎ | 621/751 [11:58<01:24,  1.53it/s]"
          ]
        },
        {
          "output_type": "stream",
          "name": "stdout",
          "text": [
            "[2023/05/02 14:26:32] ppocr DEBUG: dt_boxes num : 1, elapse : 0.2253561019897461\n",
            "[2023/05/02 14:26:32] ppocr DEBUG: cls num  : 1, elapse : 0.01698160171508789\n",
            "[2023/05/02 14:26:32] ppocr DEBUG: rec_res num  : 1, elapse : 0.11054086685180664\n"
          ]
        },
        {
          "output_type": "stream",
          "name": "stderr",
          "text": [
            "\r 83%|████████▎ | 622/751 [11:59<01:13,  1.76it/s]"
          ]
        },
        {
          "output_type": "stream",
          "name": "stdout",
          "text": [
            "[2023/05/02 14:26:33] ppocr DEBUG: dt_boxes num : 0, elapse : 0.2296895980834961\n",
            "[2023/05/02 14:26:33] ppocr DEBUG: cls num  : 0, elapse : 0\n",
            "[2023/05/02 14:26:33] ppocr DEBUG: rec_res num  : 0, elapse : 2.384185791015625e-06\n"
          ]
        },
        {
          "output_type": "stream",
          "name": "stderr",
          "text": [
            "\r 83%|████████▎ | 623/751 [11:59<01:00,  2.11it/s]"
          ]
        },
        {
          "output_type": "stream",
          "name": "stdout",
          "text": [
            "[2023/05/02 14:26:33] ppocr DEBUG: dt_boxes num : 1, elapse : 0.241194486618042\n",
            "[2023/05/02 14:26:33] ppocr DEBUG: cls num  : 1, elapse : 0.023491859436035156\n",
            "[2023/05/02 14:26:33] ppocr DEBUG: rec_res num  : 1, elapse : 0.1112680435180664\n"
          ]
        },
        {
          "output_type": "stream",
          "name": "stderr",
          "text": [
            "\r 83%|████████▎ | 624/751 [11:59<00:56,  2.23it/s]"
          ]
        },
        {
          "output_type": "stream",
          "name": "stdout",
          "text": [
            "[2023/05/02 14:26:33] ppocr DEBUG: dt_boxes num : 3, elapse : 0.22672271728515625\n",
            "[2023/05/02 14:26:33] ppocr DEBUG: cls num  : 3, elapse : 0.03724360466003418\n",
            "[2023/05/02 14:26:34] ppocr DEBUG: rec_res num  : 3, elapse : 0.33416318893432617\n"
          ]
        },
        {
          "output_type": "stream",
          "name": "stderr",
          "text": [
            "\r 83%|████████▎ | 625/751 [12:00<01:02,  2.01it/s]"
          ]
        },
        {
          "output_type": "stream",
          "name": "stdout",
          "text": [
            "[2023/05/02 14:26:34] ppocr DEBUG: dt_boxes num : 9, elapse : 0.22395968437194824\n",
            "[2023/05/02 14:26:34] ppocr DEBUG: cls num  : 9, elapse : 0.09998583793640137\n",
            "[2023/05/02 14:26:35] ppocr DEBUG: rec_res num  : 9, elapse : 1.2362196445465088\n"
          ]
        },
        {
          "output_type": "stream",
          "name": "stderr",
          "text": [
            "\r 83%|████████▎ | 626/751 [12:02<01:42,  1.22it/s]"
          ]
        },
        {
          "output_type": "stream",
          "name": "stdout",
          "text": [
            "[2023/05/02 14:26:35] ppocr DEBUG: dt_boxes num : 8, elapse : 0.3230259418487549\n",
            "[2023/05/02 14:26:36] ppocr DEBUG: cls num  : 8, elapse : 0.15192580223083496\n",
            "[2023/05/02 14:26:38] ppocr DEBUG: rec_res num  : 8, elapse : 1.9718225002288818\n"
          ]
        },
        {
          "output_type": "stream",
          "name": "stderr",
          "text": [
            "\r 83%|████████▎ | 627/751 [12:04<02:43,  1.32s/it]"
          ]
        },
        {
          "output_type": "stream",
          "name": "stdout",
          "text": [
            "[2023/05/02 14:26:38] ppocr DEBUG: dt_boxes num : 3, elapse : 0.35830235481262207\n",
            "[2023/05/02 14:26:38] ppocr DEBUG: cls num  : 3, elapse : 0.06017017364501953\n",
            "[2023/05/02 14:26:39] ppocr DEBUG: rec_res num  : 3, elapse : 0.544344425201416\n"
          ]
        },
        {
          "output_type": "stream",
          "name": "stderr",
          "text": [
            "\r 84%|████████▎ | 628/751 [12:05<02:29,  1.22s/it]"
          ]
        },
        {
          "output_type": "stream",
          "name": "stdout",
          "text": [
            "[2023/05/02 14:26:39] ppocr DEBUG: dt_boxes num : 6, elapse : 0.32865285873413086\n",
            "[2023/05/02 14:26:39] ppocr DEBUG: cls num  : 6, elapse : 0.10828948020935059\n",
            "[2023/05/02 14:26:40] ppocr DEBUG: rec_res num  : 6, elapse : 1.0157113075256348\n"
          ]
        },
        {
          "output_type": "stream",
          "name": "stderr",
          "text": [
            "\r 84%|████████▍ | 629/751 [12:07<02:38,  1.30s/it]"
          ]
        },
        {
          "output_type": "stream",
          "name": "stdout",
          "text": [
            "[2023/05/02 14:26:40] ppocr DEBUG: dt_boxes num : 5, elapse : 0.30880308151245117\n",
            "[2023/05/02 14:26:40] ppocr DEBUG: cls num  : 5, elapse : 0.07948136329650879\n",
            "[2023/05/02 14:26:41] ppocr DEBUG: rec_res num  : 5, elapse : 0.7686512470245361\n"
          ]
        },
        {
          "output_type": "stream",
          "name": "stderr",
          "text": [
            "\r 84%|████████▍ | 630/751 [12:08<02:32,  1.26s/it]"
          ]
        },
        {
          "output_type": "stream",
          "name": "stdout",
          "text": [
            "[2023/05/02 14:26:42] ppocr DEBUG: dt_boxes num : 13, elapse : 0.35132837295532227\n",
            "[2023/05/02 14:26:42] ppocr DEBUG: cls num  : 13, elapse : 0.2306830883026123\n",
            "[2023/05/02 14:26:44] ppocr DEBUG: rec_res num  : 13, elapse : 1.92020583152771\n"
          ]
        },
        {
          "output_type": "stream",
          "name": "stderr",
          "text": [
            "\r 84%|████████▍ | 631/751 [12:10<03:16,  1.64s/it]"
          ]
        },
        {
          "output_type": "stream",
          "name": "stdout",
          "text": [
            "[2023/05/02 14:26:44] ppocr DEBUG: dt_boxes num : 3, elapse : 0.23113131523132324\n",
            "[2023/05/02 14:26:44] ppocr DEBUG: cls num  : 3, elapse : 0.03893685340881348\n",
            "[2023/05/02 14:26:44] ppocr DEBUG: rec_res num  : 3, elapse : 0.31068968772888184\n"
          ]
        },
        {
          "output_type": "stream",
          "name": "stderr",
          "text": [
            "\r 84%|████████▍ | 632/751 [12:11<02:38,  1.33s/it]"
          ]
        },
        {
          "output_type": "stream",
          "name": "stdout",
          "text": [
            "[2023/05/02 14:26:45] ppocr DEBUG: dt_boxes num : 3, elapse : 0.22546911239624023\n",
            "[2023/05/02 14:26:45] ppocr DEBUG: cls num  : 3, elapse : 0.04114818572998047\n",
            "[2023/05/02 14:26:45] ppocr DEBUG: rec_res num  : 3, elapse : 0.31763410568237305\n"
          ]
        },
        {
          "output_type": "stream",
          "name": "stderr",
          "text": [
            "\r 84%|████████▍ | 633/751 [12:12<02:11,  1.11s/it]"
          ]
        },
        {
          "output_type": "stream",
          "name": "stdout",
          "text": [
            "[2023/05/02 14:26:45] ppocr DEBUG: dt_boxes num : 6, elapse : 0.23680472373962402\n",
            "[2023/05/02 14:26:45] ppocr DEBUG: cls num  : 6, elapse : 0.07119464874267578\n",
            "[2023/05/02 14:26:46] ppocr DEBUG: rec_res num  : 6, elapse : 0.6304488182067871\n"
          ]
        },
        {
          "output_type": "stream",
          "name": "stderr",
          "text": [
            "\r 84%|████████▍ | 634/751 [12:12<02:04,  1.07s/it]"
          ]
        },
        {
          "output_type": "stream",
          "name": "stdout",
          "text": [
            "[2023/05/02 14:26:46] ppocr DEBUG: dt_boxes num : 9, elapse : 0.24631118774414062\n",
            "[2023/05/02 14:26:46] ppocr DEBUG: cls num  : 9, elapse : 0.0987849235534668\n",
            "[2023/05/02 14:26:47] ppocr DEBUG: rec_res num  : 9, elapse : 0.94053053855896\n"
          ]
        },
        {
          "output_type": "stream",
          "name": "stderr",
          "text": [
            "\r 85%|████████▍ | 635/751 [12:14<02:12,  1.14s/it]"
          ]
        },
        {
          "output_type": "stream",
          "name": "stdout",
          "text": [
            "[2023/05/02 14:26:47] ppocr DEBUG: dt_boxes num : 7, elapse : 0.22580218315124512\n",
            "[2023/05/02 14:26:48] ppocr DEBUG: cls num  : 7, elapse : 0.07986187934875488\n",
            "[2023/05/02 14:26:48] ppocr DEBUG: rec_res num  : 7, elapse : 0.7330269813537598\n"
          ]
        },
        {
          "output_type": "stream",
          "name": "stderr",
          "text": [
            "\r 85%|████████▍ | 636/751 [12:15<02:08,  1.11s/it]"
          ]
        },
        {
          "output_type": "stream",
          "name": "stdout",
          "text": [
            "[2023/05/02 14:26:49] ppocr DEBUG: dt_boxes num : 5, elapse : 0.22554945945739746\n",
            "[2023/05/02 14:26:49] ppocr DEBUG: cls num  : 5, elapse : 0.05822873115539551\n",
            "[2023/05/02 14:26:49] ppocr DEBUG: rec_res num  : 5, elapse : 0.5348079204559326\n"
          ]
        },
        {
          "output_type": "stream",
          "name": "stderr",
          "text": [
            "\r 85%|████████▍ | 637/751 [12:16<01:57,  1.03s/it]"
          ]
        },
        {
          "output_type": "stream",
          "name": "stdout",
          "text": [
            "[2023/05/02 14:26:49] ppocr DEBUG: dt_boxes num : 8, elapse : 0.23236346244812012\n",
            "[2023/05/02 14:26:49] ppocr DEBUG: cls num  : 8, elapse : 0.0967864990234375\n",
            "[2023/05/02 14:26:50] ppocr DEBUG: rec_res num  : 8, elapse : 0.8333344459533691\n"
          ]
        },
        {
          "output_type": "stream",
          "name": "stderr",
          "text": [
            "\r 85%|████████▍ | 638/751 [12:17<02:01,  1.08s/it]"
          ]
        },
        {
          "output_type": "stream",
          "name": "stdout",
          "text": [
            "[2023/05/02 14:26:51] ppocr DEBUG: dt_boxes num : 6, elapse : 0.23021769523620605\n",
            "[2023/05/02 14:26:51] ppocr DEBUG: cls num  : 6, elapse : 0.07127594947814941\n",
            "[2023/05/02 14:26:53] ppocr DEBUG: rec_res num  : 6, elapse : 2.299001932144165\n"
          ]
        },
        {
          "output_type": "stream",
          "name": "stderr",
          "text": [
            "\r 85%|████████▌ | 639/751 [12:19<02:52,  1.54s/it]"
          ]
        },
        {
          "output_type": "stream",
          "name": "stdout",
          "text": [
            "[2023/05/02 14:26:53] ppocr DEBUG: dt_boxes num : 8, elapse : 0.22323894500732422\n",
            "[2023/05/02 14:26:53] ppocr DEBUG: cls num  : 8, elapse : 0.10448336601257324\n",
            "[2023/05/02 14:26:56] ppocr DEBUG: rec_res num  : 8, elapse : 2.2369561195373535\n"
          ]
        },
        {
          "output_type": "stream",
          "name": "stderr",
          "text": [
            "\r 85%|████████▌ | 640/751 [12:22<03:25,  1.85s/it]"
          ]
        },
        {
          "output_type": "stream",
          "name": "stdout",
          "text": [
            "[2023/05/02 14:26:56] ppocr DEBUG: dt_boxes num : 8, elapse : 0.3439161777496338\n",
            "[2023/05/02 14:26:56] ppocr DEBUG: cls num  : 8, elapse : 0.13983726501464844\n",
            "[2023/05/02 14:26:58] ppocr DEBUG: rec_res num  : 8, elapse : 2.4435408115386963\n"
          ]
        },
        {
          "output_type": "stream",
          "name": "stderr",
          "text": [
            "\r 85%|████████▌ | 641/751 [12:25<04:00,  2.18s/it]"
          ]
        },
        {
          "output_type": "stream",
          "name": "stdout",
          "text": [
            "[2023/05/02 14:26:59] ppocr DEBUG: dt_boxes num : 3, elapse : 0.33257222175598145\n",
            "[2023/05/02 14:26:59] ppocr DEBUG: cls num  : 3, elapse : 0.049378156661987305\n",
            "[2023/05/02 14:26:59] ppocr DEBUG: rec_res num  : 3, elapse : 0.4958627223968506\n"
          ]
        },
        {
          "output_type": "stream",
          "name": "stderr",
          "text": [
            "\r 85%|████████▌ | 642/751 [12:26<03:16,  1.80s/it]"
          ]
        },
        {
          "output_type": "stream",
          "name": "stdout",
          "text": [
            "[2023/05/02 14:27:00] ppocr DEBUG: dt_boxes num : 3, elapse : 0.3118324279785156\n",
            "[2023/05/02 14:27:00] ppocr DEBUG: cls num  : 3, elapse : 0.052971601486206055\n",
            "[2023/05/02 14:27:00] ppocr DEBUG: rec_res num  : 3, elapse : 0.4612295627593994\n"
          ]
        },
        {
          "output_type": "stream",
          "name": "stderr",
          "text": [
            "\r 86%|████████▌ | 643/751 [12:27<02:43,  1.51s/it]"
          ]
        },
        {
          "output_type": "stream",
          "name": "stdout",
          "text": [
            "[2023/05/02 14:27:01] ppocr DEBUG: dt_boxes num : 4, elapse : 0.30889105796813965\n",
            "[2023/05/02 14:27:01] ppocr DEBUG: cls num  : 4, elapse : 0.06609177589416504\n",
            "[2023/05/02 14:27:01] ppocr DEBUG: rec_res num  : 4, elapse : 0.652353048324585\n"
          ]
        },
        {
          "output_type": "stream",
          "name": "stderr",
          "text": [
            "\r 86%|████████▌ | 644/751 [12:28<02:27,  1.38s/it]"
          ]
        },
        {
          "output_type": "stream",
          "name": "stdout",
          "text": [
            "[2023/05/02 14:27:02] ppocr DEBUG: dt_boxes num : 4, elapse : 0.3151884078979492\n",
            "[2023/05/02 14:27:02] ppocr DEBUG: cls num  : 4, elapse : 0.07676482200622559\n",
            "[2023/05/02 14:27:02] ppocr DEBUG: rec_res num  : 4, elapse : 0.6155648231506348\n"
          ]
        },
        {
          "output_type": "stream",
          "name": "stderr",
          "text": [
            "\r 86%|████████▌ | 645/751 [12:29<02:14,  1.27s/it]"
          ]
        },
        {
          "output_type": "stream",
          "name": "stdout",
          "text": [
            "[2023/05/02 14:27:03] ppocr DEBUG: dt_boxes num : 5, elapse : 0.24227023124694824\n",
            "[2023/05/02 14:27:03] ppocr DEBUG: cls num  : 5, elapse : 0.06053304672241211\n",
            "[2023/05/02 14:27:03] ppocr DEBUG: rec_res num  : 5, elapse : 0.5339479446411133\n"
          ]
        },
        {
          "output_type": "stream",
          "name": "stderr",
          "text": [
            "\r 86%|████████▌ | 646/751 [12:30<02:00,  1.15s/it]"
          ]
        },
        {
          "output_type": "stream",
          "name": "stdout",
          "text": [
            "[2023/05/02 14:27:03] ppocr DEBUG: dt_boxes num : 3, elapse : 0.23006296157836914\n",
            "[2023/05/02 14:27:03] ppocr DEBUG: cls num  : 3, elapse : 0.03948187828063965\n",
            "[2023/05/02 14:27:04] ppocr DEBUG: rec_res num  : 3, elapse : 0.31130194664001465\n"
          ]
        },
        {
          "output_type": "stream",
          "name": "stderr",
          "text": [
            "\r 86%|████████▌ | 647/751 [12:30<01:42,  1.02it/s]"
          ]
        },
        {
          "output_type": "stream",
          "name": "stdout",
          "text": [
            "[2023/05/02 14:27:04] ppocr DEBUG: dt_boxes num : 3, elapse : 0.23121142387390137\n",
            "[2023/05/02 14:27:04] ppocr DEBUG: cls num  : 3, elapse : 0.038556575775146484\n",
            "[2023/05/02 14:27:04] ppocr DEBUG: rec_res num  : 3, elapse : 0.310955286026001\n"
          ]
        },
        {
          "output_type": "stream",
          "name": "stderr",
          "text": [
            "\r 86%|████████▋ | 648/751 [12:31<01:29,  1.15it/s]"
          ]
        },
        {
          "output_type": "stream",
          "name": "stdout",
          "text": [
            "[2023/05/02 14:27:05] ppocr DEBUG: dt_boxes num : 5, elapse : 0.23271512985229492\n",
            "[2023/05/02 14:27:05] ppocr DEBUG: cls num  : 5, elapse : 0.05962324142456055\n",
            "[2023/05/02 14:27:06] ppocr DEBUG: rec_res num  : 5, elapse : 1.3360958099365234\n"
          ]
        },
        {
          "output_type": "stream",
          "name": "stderr",
          "text": [
            "\r 86%|████████▋ | 649/751 [12:33<01:52,  1.10s/it]"
          ]
        },
        {
          "output_type": "stream",
          "name": "stdout",
          "text": [
            "[2023/05/02 14:27:06] ppocr DEBUG: dt_boxes num : 4, elapse : 0.2199714183807373\n",
            "[2023/05/02 14:27:06] ppocr DEBUG: cls num  : 4, elapse : 0.04836297035217285\n",
            "[2023/05/02 14:27:07] ppocr DEBUG: rec_res num  : 4, elapse : 0.421736478805542\n"
          ]
        },
        {
          "output_type": "stream",
          "name": "stderr",
          "text": [
            "\r 87%|████████▋ | 650/751 [12:33<01:39,  1.02it/s]"
          ]
        },
        {
          "output_type": "stream",
          "name": "stdout",
          "text": [
            "[2023/05/02 14:27:07] ppocr DEBUG: dt_boxes num : 4, elapse : 0.22681164741516113\n",
            "[2023/05/02 14:27:07] ppocr DEBUG: cls num  : 4, elapse : 0.046598196029663086\n",
            "[2023/05/02 14:27:07] ppocr DEBUG: rec_res num  : 4, elapse : 0.4372282028198242\n"
          ]
        },
        {
          "output_type": "stream",
          "name": "stderr",
          "text": [
            "\r 87%|████████▋ | 651/751 [12:34<01:30,  1.10it/s]"
          ]
        },
        {
          "output_type": "stream",
          "name": "stdout",
          "text": [
            "[2023/05/02 14:27:08] ppocr DEBUG: dt_boxes num : 5, elapse : 0.22785496711730957\n",
            "[2023/05/02 14:27:08] ppocr DEBUG: cls num  : 5, elapse : 0.06010723114013672\n",
            "[2023/05/02 14:27:08] ppocr DEBUG: rec_res num  : 5, elapse : 0.5271792411804199\n"
          ]
        },
        {
          "output_type": "stream",
          "name": "stderr",
          "text": [
            "\r 87%|████████▋ | 652/751 [12:35<01:27,  1.13it/s]"
          ]
        },
        {
          "output_type": "stream",
          "name": "stdout",
          "text": [
            "[2023/05/02 14:27:09] ppocr DEBUG: dt_boxes num : 2, elapse : 0.2213141918182373\n",
            "[2023/05/02 14:27:09] ppocr DEBUG: cls num  : 2, elapse : 0.028384923934936523\n",
            "[2023/05/02 14:27:09] ppocr DEBUG: rec_res num  : 2, elapse : 0.21922850608825684\n"
          ]
        },
        {
          "output_type": "stream",
          "name": "stderr",
          "text": [
            "\r 87%|████████▋ | 653/751 [12:35<01:15,  1.30it/s]"
          ]
        },
        {
          "output_type": "stream",
          "name": "stdout",
          "text": [
            "[2023/05/02 14:27:09] ppocr DEBUG: dt_boxes num : 3, elapse : 0.22170543670654297\n",
            "[2023/05/02 14:27:09] ppocr DEBUG: cls num  : 3, elapse : 0.03840279579162598\n",
            "[2023/05/02 14:27:09] ppocr DEBUG: rec_res num  : 3, elapse : 0.3146500587463379\n"
          ]
        },
        {
          "output_type": "stream",
          "name": "stderr",
          "text": [
            "\r 87%|████████▋ | 654/751 [12:36<01:09,  1.39it/s]"
          ]
        },
        {
          "output_type": "stream",
          "name": "stdout",
          "text": [
            "[2023/05/02 14:27:10] ppocr DEBUG: dt_boxes num : 9, elapse : 0.22841763496398926\n",
            "[2023/05/02 14:27:10] ppocr DEBUG: cls num  : 9, elapse : 0.10516595840454102\n",
            "[2023/05/02 14:27:11] ppocr DEBUG: rec_res num  : 9, elapse : 0.9763038158416748\n"
          ]
        },
        {
          "output_type": "stream",
          "name": "stderr",
          "text": [
            "\r 87%|████████▋ | 655/751 [12:37<01:26,  1.11it/s]"
          ]
        },
        {
          "output_type": "stream",
          "name": "stdout",
          "text": [
            "[2023/05/02 14:27:11] ppocr DEBUG: dt_boxes num : 11, elapse : 0.23102378845214844\n",
            "[2023/05/02 14:27:11] ppocr DEBUG: cls num  : 11, elapse : 0.1306476593017578\n",
            "[2023/05/02 14:27:12] ppocr DEBUG: rec_res num  : 11, elapse : 1.1255488395690918\n"
          ]
        },
        {
          "output_type": "stream",
          "name": "stderr",
          "text": [
            "\r 87%|████████▋ | 656/751 [12:39<01:42,  1.08s/it]"
          ]
        },
        {
          "output_type": "stream",
          "name": "stdout",
          "text": [
            "[2023/05/02 14:27:12] ppocr DEBUG: dt_boxes num : 7, elapse : 0.25481081008911133\n",
            "[2023/05/02 14:27:13] ppocr DEBUG: cls num  : 7, elapse : 0.11092448234558105\n",
            "[2023/05/02 14:27:14] ppocr DEBUG: rec_res num  : 7, elapse : 1.2635219097137451\n"
          ]
        },
        {
          "output_type": "stream",
          "name": "stderr",
          "text": [
            "\r 87%|████████▋ | 657/751 [12:40<01:57,  1.25s/it]"
          ]
        },
        {
          "output_type": "stream",
          "name": "stdout",
          "text": [
            "[2023/05/02 14:27:14] ppocr DEBUG: dt_boxes num : 4, elapse : 0.32349705696105957\n",
            "[2023/05/02 14:27:14] ppocr DEBUG: cls num  : 4, elapse : 0.06937932968139648\n",
            "[2023/05/02 14:27:15] ppocr DEBUG: rec_res num  : 4, elapse : 0.6988656520843506\n"
          ]
        },
        {
          "output_type": "stream",
          "name": "stderr",
          "text": [
            "\r 88%|████████▊ | 658/751 [12:42<01:52,  1.21s/it]"
          ]
        },
        {
          "output_type": "stream",
          "name": "stdout",
          "text": [
            "[2023/05/02 14:27:15] ppocr DEBUG: dt_boxes num : 0, elapse : 0.31609463691711426\n",
            "[2023/05/02 14:27:15] ppocr DEBUG: cls num  : 0, elapse : 0\n",
            "[2023/05/02 14:27:15] ppocr DEBUG: rec_res num  : 0, elapse : 2.384185791015625e-06\n"
          ]
        },
        {
          "output_type": "stream",
          "name": "stderr",
          "text": [
            "\r 88%|████████▊ | 659/751 [12:42<01:27,  1.05it/s]"
          ]
        },
        {
          "output_type": "stream",
          "name": "stdout",
          "text": [
            "[2023/05/02 14:27:16] ppocr DEBUG: dt_boxes num : 2, elapse : 0.306506872177124\n",
            "[2023/05/02 14:27:16] ppocr DEBUG: cls num  : 2, elapse : 0.03461146354675293\n",
            "[2023/05/02 14:27:16] ppocr DEBUG: rec_res num  : 2, elapse : 0.35045480728149414\n"
          ]
        },
        {
          "output_type": "stream",
          "name": "stderr",
          "text": [
            "\r 88%|████████▊ | 660/751 [12:43<01:19,  1.14it/s]"
          ]
        },
        {
          "output_type": "stream",
          "name": "stdout",
          "text": [
            "[2023/05/02 14:27:16] ppocr DEBUG: dt_boxes num : 1, elapse : 0.32459139823913574\n",
            "[2023/05/02 14:27:16] ppocr DEBUG: cls num  : 1, elapse : 0.02435469627380371\n",
            "[2023/05/02 14:27:17] ppocr DEBUG: rec_res num  : 1, elapse : 0.1758284568786621\n"
          ]
        },
        {
          "output_type": "stream",
          "name": "stderr",
          "text": [
            "\r 88%|████████▊ | 661/751 [12:43<01:10,  1.28it/s]"
          ]
        },
        {
          "output_type": "stream",
          "name": "stdout",
          "text": [
            "[2023/05/02 14:27:17] ppocr DEBUG: dt_boxes num : 2, elapse : 0.3541700839996338\n",
            "[2023/05/02 14:27:17] ppocr DEBUG: cls num  : 2, elapse : 0.04232001304626465\n",
            "[2023/05/02 14:27:17] ppocr DEBUG: rec_res num  : 2, elapse : 0.3685152530670166\n"
          ]
        },
        {
          "output_type": "stream",
          "name": "stderr",
          "text": [
            "\r 88%|████████▊ | 662/751 [12:44<01:09,  1.28it/s]"
          ]
        },
        {
          "output_type": "stream",
          "name": "stdout",
          "text": [
            "[2023/05/02 14:27:18] ppocr DEBUG: dt_boxes num : 5, elapse : 0.3182384967803955\n",
            "[2023/05/02 14:27:18] ppocr DEBUG: cls num  : 5, elapse : 0.09525322914123535\n",
            "[2023/05/02 14:27:19] ppocr DEBUG: rec_res num  : 5, elapse : 0.7736587524414062\n"
          ]
        },
        {
          "output_type": "stream",
          "name": "stderr",
          "text": [
            "\r 88%|████████▊ | 663/751 [12:45<01:20,  1.10it/s]"
          ]
        },
        {
          "output_type": "stream",
          "name": "stdout",
          "text": [
            "[2023/05/02 14:27:19] ppocr DEBUG: dt_boxes num : 13, elapse : 0.3321690559387207\n",
            "[2023/05/02 14:27:19] ppocr DEBUG: cls num  : 13, elapse : 0.20713353157043457\n",
            "[2023/05/02 14:27:21] ppocr DEBUG: rec_res num  : 13, elapse : 2.1623945236206055\n"
          ]
        },
        {
          "output_type": "stream",
          "name": "stderr",
          "text": [
            "\r 88%|████████▊ | 664/751 [12:48<02:06,  1.46s/it]"
          ]
        },
        {
          "output_type": "stream",
          "name": "stdout",
          "text": [
            "[2023/05/02 14:27:22] ppocr DEBUG: dt_boxes num : 3, elapse : 0.2669987678527832\n",
            "[2023/05/02 14:27:22] ppocr DEBUG: cls num  : 3, elapse : 0.040988922119140625\n",
            "[2023/05/02 14:27:22] ppocr DEBUG: rec_res num  : 3, elapse : 0.31894898414611816\n"
          ]
        },
        {
          "output_type": "stream",
          "name": "stderr",
          "text": [
            "\r 89%|████████▊ | 665/751 [12:49<01:44,  1.22s/it]"
          ]
        },
        {
          "output_type": "stream",
          "name": "stdout",
          "text": [
            "[2023/05/02 14:27:22] ppocr DEBUG: dt_boxes num : 3, elapse : 0.23168420791625977\n",
            "[2023/05/02 14:27:22] ppocr DEBUG: cls num  : 3, elapse : 0.04046821594238281\n",
            "[2023/05/02 14:27:23] ppocr DEBUG: rec_res num  : 3, elapse : 0.3207972049713135\n"
          ]
        },
        {
          "output_type": "stream",
          "name": "stderr",
          "text": [
            "\r 89%|████████▊ | 666/751 [12:49<01:27,  1.03s/it]"
          ]
        },
        {
          "output_type": "stream",
          "name": "stdout",
          "text": [
            "[2023/05/02 14:27:23] ppocr DEBUG: dt_boxes num : 5, elapse : 0.2226085662841797\n",
            "[2023/05/02 14:27:23] ppocr DEBUG: cls num  : 5, elapse : 0.06356024742126465\n",
            "[2023/05/02 14:27:23] ppocr DEBUG: rec_res num  : 5, elapse : 0.5245532989501953\n"
          ]
        },
        {
          "output_type": "stream",
          "name": "stderr",
          "text": [
            "\r 89%|████████▉ | 667/751 [12:50<01:21,  1.03it/s]"
          ]
        },
        {
          "output_type": "stream",
          "name": "stdout",
          "text": [
            "[2023/05/02 14:27:24] ppocr DEBUG: dt_boxes num : 4, elapse : 0.23764920234680176\n",
            "[2023/05/02 14:27:24] ppocr DEBUG: cls num  : 4, elapse : 0.05087471008300781\n",
            "[2023/05/02 14:27:24] ppocr DEBUG: rec_res num  : 4, elapse : 0.41319727897644043\n"
          ]
        },
        {
          "output_type": "stream",
          "name": "stderr",
          "text": [
            "\r 89%|████████▉ | 668/751 [12:51<01:14,  1.12it/s]"
          ]
        },
        {
          "output_type": "stream",
          "name": "stdout",
          "text": [
            "[2023/05/02 14:27:24] ppocr DEBUG: dt_boxes num : 4, elapse : 0.22472095489501953\n",
            "[2023/05/02 14:27:24] ppocr DEBUG: cls num  : 4, elapse : 0.04990673065185547\n",
            "[2023/05/02 14:27:25] ppocr DEBUG: rec_res num  : 4, elapse : 0.4167294502258301\n"
          ]
        },
        {
          "output_type": "stream",
          "name": "stderr",
          "text": [
            "\r 89%|████████▉ | 669/751 [12:51<01:08,  1.19it/s]"
          ]
        },
        {
          "output_type": "stream",
          "name": "stdout",
          "text": [
            "[2023/05/02 14:27:25] ppocr DEBUG: dt_boxes num : 7, elapse : 0.2275683879852295\n",
            "[2023/05/02 14:27:25] ppocr DEBUG: cls num  : 7, elapse : 0.09927749633789062\n",
            "[2023/05/02 14:27:26] ppocr DEBUG: rec_res num  : 7, elapse : 0.8231933116912842\n"
          ]
        },
        {
          "output_type": "stream",
          "name": "stderr",
          "text": [
            "\r 89%|████████▉ | 670/751 [12:53<01:16,  1.06it/s]"
          ]
        },
        {
          "output_type": "stream",
          "name": "stdout",
          "text": [
            "[2023/05/02 14:27:26] ppocr DEBUG: dt_boxes num : 0, elapse : 0.22259116172790527\n",
            "[2023/05/02 14:27:26] ppocr DEBUG: cls num  : 0, elapse : 0\n",
            "[2023/05/02 14:27:26] ppocr DEBUG: rec_res num  : 0, elapse : 1.9073486328125e-06\n"
          ]
        },
        {
          "output_type": "stream",
          "name": "stderr",
          "text": [
            "\r 89%|████████▉ | 671/751 [12:53<00:58,  1.37it/s]"
          ]
        },
        {
          "output_type": "stream",
          "name": "stdout",
          "text": [
            "[2023/05/02 14:27:26] ppocr DEBUG: dt_boxes num : 0, elapse : 0.23807191848754883\n",
            "[2023/05/02 14:27:26] ppocr DEBUG: cls num  : 0, elapse : 0\n",
            "[2023/05/02 14:27:26] ppocr DEBUG: rec_res num  : 0, elapse : 2.384185791015625e-06\n"
          ]
        },
        {
          "output_type": "stream",
          "name": "stderr",
          "text": [
            "\r 89%|████████▉ | 672/751 [12:53<00:46,  1.70it/s]"
          ]
        },
        {
          "output_type": "stream",
          "name": "stdout",
          "text": [
            "[2023/05/02 14:27:27] ppocr DEBUG: dt_boxes num : 0, elapse : 0.24625492095947266\n",
            "[2023/05/02 14:27:27] ppocr DEBUG: cls num  : 0, elapse : 0\n",
            "[2023/05/02 14:27:27] ppocr DEBUG: rec_res num  : 0, elapse : 2.384185791015625e-06\n"
          ]
        },
        {
          "output_type": "stream",
          "name": "stderr",
          "text": [
            "\r 90%|████████▉ | 673/751 [12:53<00:38,  2.03it/s]"
          ]
        },
        {
          "output_type": "stream",
          "name": "stdout",
          "text": [
            "[2023/05/02 14:27:27] ppocr DEBUG: dt_boxes num : 0, elapse : 0.2312483787536621\n",
            "[2023/05/02 14:27:27] ppocr DEBUG: cls num  : 0, elapse : 0\n",
            "[2023/05/02 14:27:27] ppocr DEBUG: rec_res num  : 0, elapse : 2.384185791015625e-06\n"
          ]
        },
        {
          "output_type": "stream",
          "name": "stderr",
          "text": [
            "\r 90%|████████▉ | 674/751 [12:54<00:32,  2.38it/s]"
          ]
        },
        {
          "output_type": "stream",
          "name": "stdout",
          "text": [
            "[2023/05/02 14:27:27] ppocr DEBUG: dt_boxes num : 2, elapse : 0.23957085609436035\n",
            "[2023/05/02 14:27:27] ppocr DEBUG: cls num  : 2, elapse : 0.029254674911499023\n",
            "[2023/05/02 14:27:28] ppocr DEBUG: rec_res num  : 2, elapse : 0.2611563205718994\n"
          ]
        },
        {
          "output_type": "stream",
          "name": "stderr",
          "text": [
            "\r 90%|████████▉ | 675/751 [12:54<00:34,  2.19it/s]"
          ]
        },
        {
          "output_type": "stream",
          "name": "stdout",
          "text": [
            "[2023/05/02 14:27:28] ppocr DEBUG: dt_boxes num : 2, elapse : 0.2395339012145996\n",
            "[2023/05/02 14:27:28] ppocr DEBUG: cls num  : 2, elapse : 0.029470443725585938\n",
            "[2023/05/02 14:27:28] ppocr DEBUG: rec_res num  : 2, elapse : 0.2566256523132324\n"
          ]
        },
        {
          "output_type": "stream",
          "name": "stderr",
          "text": [
            "\r 90%|█████████ | 676/751 [12:55<00:36,  2.06it/s]"
          ]
        },
        {
          "output_type": "stream",
          "name": "stdout",
          "text": [
            "[2023/05/02 14:27:28] ppocr DEBUG: dt_boxes num : 4, elapse : 0.23102593421936035\n",
            "[2023/05/02 14:27:28] ppocr DEBUG: cls num  : 4, elapse : 0.054604291915893555\n",
            "[2023/05/02 14:27:29] ppocr DEBUG: rec_res num  : 4, elapse : 1.0845696926116943\n"
          ]
        },
        {
          "output_type": "stream",
          "name": "stderr",
          "text": [
            "\r 90%|█████████ | 677/751 [12:56<00:55,  1.32it/s]"
          ]
        },
        {
          "output_type": "stream",
          "name": "stdout",
          "text": [
            "[2023/05/02 14:27:30] ppocr DEBUG: dt_boxes num : 4, elapse : 0.23588109016418457\n",
            "[2023/05/02 14:27:30] ppocr DEBUG: cls num  : 4, elapse : 0.05623126029968262\n",
            "[2023/05/02 14:27:31] ppocr DEBUG: rec_res num  : 4, elapse : 1.0790369510650635\n"
          ]
        },
        {
          "output_type": "stream",
          "name": "stderr",
          "text": [
            "\r 90%|█████████ | 678/751 [12:57<01:08,  1.06it/s]"
          ]
        },
        {
          "output_type": "stream",
          "name": "stdout",
          "text": [
            "[2023/05/02 14:27:31] ppocr DEBUG: dt_boxes num : 3, elapse : 0.2335193157196045\n",
            "[2023/05/02 14:27:31] ppocr DEBUG: cls num  : 3, elapse : 0.04102444648742676\n",
            "[2023/05/02 14:27:32] ppocr DEBUG: rec_res num  : 3, elapse : 0.3782963752746582\n"
          ]
        },
        {
          "output_type": "stream",
          "name": "stderr",
          "text": [
            "\r 90%|█████████ | 679/751 [12:58<01:02,  1.16it/s]"
          ]
        },
        {
          "output_type": "stream",
          "name": "stdout",
          "text": [
            "[2023/05/02 14:27:32] ppocr DEBUG: dt_boxes num : 4, elapse : 0.30334901809692383\n",
            "[2023/05/02 14:27:32] ppocr DEBUG: cls num  : 4, elapse : 0.08887457847595215\n",
            "[2023/05/02 14:27:33] ppocr DEBUG: rec_res num  : 4, elapse : 0.7179288864135742\n"
          ]
        },
        {
          "output_type": "stream",
          "name": "stderr",
          "text": [
            "\r 91%|█████████ | 680/751 [12:59<01:07,  1.06it/s]"
          ]
        },
        {
          "output_type": "stream",
          "name": "stdout",
          "text": [
            "[2023/05/02 14:27:33] ppocr DEBUG: dt_boxes num : 4, elapse : 0.3443944454193115\n",
            "[2023/05/02 14:27:33] ppocr DEBUG: cls num  : 4, elapse : 0.0712575912475586\n",
            "[2023/05/02 14:27:34] ppocr DEBUG: rec_res num  : 4, elapse : 0.7094604969024658\n"
          ]
        },
        {
          "output_type": "stream",
          "name": "stderr",
          "text": [
            "\r 91%|█████████ | 681/751 [13:00<01:10,  1.01s/it]"
          ]
        },
        {
          "output_type": "stream",
          "name": "stdout",
          "text": [
            "[2023/05/02 14:27:34] ppocr DEBUG: dt_boxes num : 4, elapse : 0.3367331027984619\n",
            "[2023/05/02 14:27:34] ppocr DEBUG: cls num  : 4, elapse : 0.07667279243469238\n",
            "[2023/05/02 14:27:35] ppocr DEBUG: rec_res num  : 4, elapse : 0.7395188808441162\n"
          ]
        },
        {
          "output_type": "stream",
          "name": "stderr",
          "text": [
            "\r 91%|█████████ | 682/751 [13:02<01:13,  1.06s/it]"
          ]
        },
        {
          "output_type": "stream",
          "name": "stdout",
          "text": [
            "[2023/05/02 14:27:35] ppocr DEBUG: dt_boxes num : 3, elapse : 0.3403289318084717\n",
            "[2023/05/02 14:27:35] ppocr DEBUG: cls num  : 3, elapse : 0.057971954345703125\n",
            "[2023/05/02 14:27:36] ppocr DEBUG: rec_res num  : 3, elapse : 0.5765104293823242\n"
          ]
        },
        {
          "output_type": "stream",
          "name": "stderr",
          "text": [
            "\r 91%|█████████ | 683/751 [13:03<01:10,  1.04s/it]"
          ]
        },
        {
          "output_type": "stream",
          "name": "stdout",
          "text": [
            "[2023/05/02 14:27:36] ppocr DEBUG: dt_boxes num : 3, elapse : 0.319164514541626\n",
            "[2023/05/02 14:27:36] ppocr DEBUG: cls num  : 3, elapse : 0.05699777603149414\n",
            "[2023/05/02 14:27:37] ppocr DEBUG: rec_res num  : 3, elapse : 0.4648110866546631\n"
          ]
        },
        {
          "output_type": "stream",
          "name": "stderr",
          "text": [
            "\r 91%|█████████ | 684/751 [13:03<01:06,  1.01it/s]"
          ]
        },
        {
          "output_type": "stream",
          "name": "stdout",
          "text": [
            "[2023/05/02 14:27:37] ppocr DEBUG: dt_boxes num : 2, elapse : 0.30426621437072754\n",
            "[2023/05/02 14:27:37] ppocr DEBUG: cls num  : 2, elapse : 0.04645872116088867\n",
            "[2023/05/02 14:27:38] ppocr DEBUG: rec_res num  : 2, elapse : 0.3171882629394531\n"
          ]
        },
        {
          "output_type": "stream",
          "name": "stderr",
          "text": [
            "\r 91%|█████████ | 685/751 [13:04<00:59,  1.11it/s]"
          ]
        },
        {
          "output_type": "stream",
          "name": "stdout",
          "text": [
            "[2023/05/02 14:27:38] ppocr DEBUG: dt_boxes num : 3, elapse : 0.30414509773254395\n",
            "[2023/05/02 14:27:38] ppocr DEBUG: cls num  : 3, elapse : 0.05032920837402344\n",
            "[2023/05/02 14:27:38] ppocr DEBUG: rec_res num  : 3, elapse : 0.4667477607727051\n"
          ]
        },
        {
          "output_type": "stream",
          "name": "stderr",
          "text": [
            "\r 91%|█████████▏| 686/751 [13:05<00:57,  1.13it/s]"
          ]
        },
        {
          "output_type": "stream",
          "name": "stdout",
          "text": [
            "[2023/05/02 14:27:39] ppocr DEBUG: dt_boxes num : 6, elapse : 0.3087327480316162\n",
            "[2023/05/02 14:27:39] ppocr DEBUG: cls num  : 6, elapse : 0.09674263000488281\n",
            "[2023/05/02 14:27:42] ppocr DEBUG: rec_res num  : 6, elapse : 2.707219362258911\n"
          ]
        },
        {
          "output_type": "stream",
          "name": "stderr",
          "text": [
            "\r 91%|█████████▏| 687/751 [13:08<01:39,  1.56s/it]"
          ]
        },
        {
          "output_type": "stream",
          "name": "stdout",
          "text": [
            "[2023/05/02 14:27:42] ppocr DEBUG: dt_boxes num : 13, elapse : 0.23320937156677246\n",
            "[2023/05/02 14:27:42] ppocr DEBUG: cls num  : 13, elapse : 0.14098286628723145\n",
            "[2023/05/02 14:27:43] ppocr DEBUG: rec_res num  : 13, elapse : 1.434957504272461\n"
          ]
        },
        {
          "output_type": "stream",
          "name": "stderr",
          "text": [
            "\r 92%|█████████▏| 688/751 [13:10<01:43,  1.64s/it]"
          ]
        },
        {
          "output_type": "stream",
          "name": "stdout",
          "text": [
            "[2023/05/02 14:27:44] ppocr DEBUG: dt_boxes num : 13, elapse : 0.23449468612670898\n",
            "[2023/05/02 14:27:44] ppocr DEBUG: cls num  : 13, elapse : 0.14365267753601074\n",
            "[2023/05/02 14:27:45] ppocr DEBUG: rec_res num  : 13, elapse : 1.4294862747192383\n"
          ]
        },
        {
          "output_type": "stream",
          "name": "stderr",
          "text": [
            "\r 92%|█████████▏| 689/751 [13:12<01:45,  1.70s/it]"
          ]
        },
        {
          "output_type": "stream",
          "name": "stdout",
          "text": [
            "[2023/05/02 14:27:45] ppocr DEBUG: dt_boxes num : 3, elapse : 0.23488235473632812\n",
            "[2023/05/02 14:27:46] ppocr DEBUG: cls num  : 3, elapse : 0.038702964782714844\n",
            "[2023/05/02 14:27:46] ppocr DEBUG: rec_res num  : 3, elapse : 0.3133563995361328\n"
          ]
        },
        {
          "output_type": "stream",
          "name": "stderr",
          "text": [
            "\r 92%|█████████▏| 690/751 [13:12<01:23,  1.37s/it]"
          ]
        },
        {
          "output_type": "stream",
          "name": "stdout",
          "text": [
            "[2023/05/02 14:27:46] ppocr DEBUG: dt_boxes num : 3, elapse : 0.22435975074768066\n",
            "[2023/05/02 14:27:46] ppocr DEBUG: cls num  : 3, elapse : 0.040796756744384766\n",
            "[2023/05/02 14:27:46] ppocr DEBUG: rec_res num  : 3, elapse : 0.32629966735839844\n"
          ]
        },
        {
          "output_type": "stream",
          "name": "stderr",
          "text": [
            "\r 92%|█████████▏| 691/751 [13:13<01:08,  1.14s/it]"
          ]
        },
        {
          "output_type": "stream",
          "name": "stdout",
          "text": [
            "[2023/05/02 14:27:47] ppocr DEBUG: dt_boxes num : 4, elapse : 0.2348952293395996\n",
            "[2023/05/02 14:27:47] ppocr DEBUG: cls num  : 4, elapse : 0.04955124855041504\n",
            "[2023/05/02 14:27:48] ppocr DEBUG: rec_res num  : 4, elapse : 0.8586890697479248\n"
          ]
        },
        {
          "output_type": "stream",
          "name": "stderr",
          "text": [
            "\r 92%|█████████▏| 692/751 [13:14<01:07,  1.15s/it]"
          ]
        },
        {
          "output_type": "stream",
          "name": "stdout",
          "text": [
            "[2023/05/02 14:27:48] ppocr DEBUG: dt_boxes num : 7, elapse : 0.2331678867340088\n",
            "[2023/05/02 14:27:48] ppocr DEBUG: cls num  : 7, elapse : 0.08644700050354004\n",
            "[2023/05/02 14:27:49] ppocr DEBUG: rec_res num  : 7, elapse : 0.7799150943756104\n"
          ]
        },
        {
          "output_type": "stream",
          "name": "stderr",
          "text": [
            "\r 92%|█████████▏| 693/751 [13:15<01:06,  1.14s/it]"
          ]
        },
        {
          "output_type": "stream",
          "name": "stdout",
          "text": [
            "[2023/05/02 14:27:49] ppocr DEBUG: dt_boxes num : 4, elapse : 0.2273557186126709\n",
            "[2023/05/02 14:27:49] ppocr DEBUG: cls num  : 4, elapse : 0.04861640930175781\n",
            "[2023/05/02 14:27:49] ppocr DEBUG: rec_res num  : 4, elapse : 0.42566871643066406\n"
          ]
        },
        {
          "output_type": "stream",
          "name": "stderr",
          "text": [
            "\r 92%|█████████▏| 694/751 [13:16<00:57,  1.02s/it]"
          ]
        },
        {
          "output_type": "stream",
          "name": "stdout",
          "text": [
            "[2023/05/02 14:27:50] ppocr DEBUG: dt_boxes num : 3, elapse : 0.23128247261047363\n",
            "[2023/05/02 14:27:50] ppocr DEBUG: cls num  : 3, elapse : 0.03861284255981445\n",
            "[2023/05/02 14:27:50] ppocr DEBUG: rec_res num  : 3, elapse : 0.3170318603515625\n"
          ]
        },
        {
          "output_type": "stream",
          "name": "stderr",
          "text": [
            "\r 93%|█████████▎| 695/751 [13:17<00:50,  1.12it/s]"
          ]
        },
        {
          "output_type": "stream",
          "name": "stdout",
          "text": [
            "[2023/05/02 14:27:50] ppocr DEBUG: dt_boxes num : 3, elapse : 0.23170161247253418\n",
            "[2023/05/02 14:27:50] ppocr DEBUG: cls num  : 3, elapse : 0.044141292572021484\n",
            "[2023/05/02 14:27:51] ppocr DEBUG: rec_res num  : 3, elapse : 0.4668703079223633\n"
          ]
        },
        {
          "output_type": "stream",
          "name": "stderr",
          "text": [
            "\r 93%|█████████▎| 696/751 [13:17<00:46,  1.17it/s]"
          ]
        },
        {
          "output_type": "stream",
          "name": "stdout",
          "text": [
            "[2023/05/02 14:27:51] ppocr DEBUG: dt_boxes num : 7, elapse : 0.3763434886932373\n",
            "[2023/05/02 14:27:51] ppocr DEBUG: cls num  : 7, elapse : 0.12985849380493164\n",
            "[2023/05/02 14:27:53] ppocr DEBUG: rec_res num  : 7, elapse : 1.2810838222503662\n"
          ]
        },
        {
          "output_type": "stream",
          "name": "stderr",
          "text": [
            "\r 93%|█████████▎| 697/751 [13:19<01:01,  1.14s/it]"
          ]
        },
        {
          "output_type": "stream",
          "name": "stdout",
          "text": [
            "[2023/05/02 14:27:53] ppocr DEBUG: dt_boxes num : 7, elapse : 0.3168449401855469\n",
            "[2023/05/02 14:27:53] ppocr DEBUG: cls num  : 7, elapse : 0.12563252449035645\n",
            "[2023/05/02 14:27:54] ppocr DEBUG: rec_res num  : 7, elapse : 1.281670093536377\n"
          ]
        },
        {
          "output_type": "stream",
          "name": "stderr",
          "text": [
            "\r 93%|█████████▎| 698/751 [13:21<01:10,  1.32s/it]"
          ]
        },
        {
          "output_type": "stream",
          "name": "stdout",
          "text": [
            "[2023/05/02 14:27:55] ppocr DEBUG: dt_boxes num : 7, elapse : 0.33695340156555176\n",
            "[2023/05/02 14:27:55] ppocr DEBUG: cls num  : 7, elapse : 0.12997007369995117\n",
            "[2023/05/02 14:27:56] ppocr DEBUG: rec_res num  : 7, elapse : 1.1748714447021484\n"
          ]
        },
        {
          "output_type": "stream",
          "name": "stderr",
          "text": [
            "\r 93%|█████████▎| 699/751 [13:23<01:14,  1.43s/it]"
          ]
        },
        {
          "output_type": "stream",
          "name": "stdout",
          "text": [
            "[2023/05/02 14:27:56] ppocr DEBUG: dt_boxes num : 6, elapse : 0.3323972225189209\n",
            "[2023/05/02 14:27:57] ppocr DEBUG: cls num  : 6, elapse : 0.09560370445251465\n",
            "[2023/05/02 14:27:57] ppocr DEBUG: rec_res num  : 6, elapse : 0.9250924587249756\n"
          ]
        },
        {
          "output_type": "stream",
          "name": "stderr",
          "text": [
            "\r 93%|█████████▎| 700/751 [13:24<01:11,  1.41s/it]"
          ]
        },
        {
          "output_type": "stream",
          "name": "stdout",
          "text": [
            "[2023/05/02 14:27:58] ppocr DEBUG: dt_boxes num : 6, elapse : 0.31560397148132324\n",
            "[2023/05/02 14:27:58] ppocr DEBUG: cls num  : 6, elapse : 0.09805893898010254\n",
            "[2023/05/02 14:27:59] ppocr DEBUG: rec_res num  : 6, elapse : 0.9222831726074219\n"
          ]
        },
        {
          "output_type": "stream",
          "name": "stderr",
          "text": [
            "\r 93%|█████████▎| 701/751 [13:25<01:09,  1.39s/it]"
          ]
        },
        {
          "output_type": "stream",
          "name": "stdout",
          "text": [
            "[2023/05/02 14:27:59] ppocr DEBUG: dt_boxes num : 9, elapse : 0.31856346130371094\n",
            "[2023/05/02 14:27:59] ppocr DEBUG: cls num  : 9, elapse : 0.15104246139526367\n",
            "[2023/05/02 14:28:00] ppocr DEBUG: rec_res num  : 9, elapse : 0.9388296604156494\n"
          ]
        },
        {
          "output_type": "stream",
          "name": "stderr",
          "text": [
            "\r 93%|█████████▎| 702/751 [13:27<01:08,  1.41s/it]"
          ]
        },
        {
          "output_type": "stream",
          "name": "stdout",
          "text": [
            "[2023/05/02 14:28:00] ppocr DEBUG: dt_boxes num : 4, elapse : 0.22121644020080566\n",
            "[2023/05/02 14:28:01] ppocr DEBUG: cls num  : 4, elapse : 0.04890608787536621\n",
            "[2023/05/02 14:28:01] ppocr DEBUG: rec_res num  : 4, elapse : 0.4338510036468506\n"
          ]
        },
        {
          "output_type": "stream",
          "name": "stderr",
          "text": [
            "\r 94%|█████████▎| 703/751 [13:28<00:57,  1.20s/it]"
          ]
        },
        {
          "output_type": "stream",
          "name": "stdout",
          "text": [
            "[2023/05/02 14:28:01] ppocr DEBUG: dt_boxes num : 2, elapse : 0.2195117473602295\n",
            "[2023/05/02 14:28:01] ppocr DEBUG: cls num  : 2, elapse : 0.027583837509155273\n",
            "[2023/05/02 14:28:01] ppocr DEBUG: rec_res num  : 2, elapse : 0.21800446510314941\n"
          ]
        },
        {
          "output_type": "stream",
          "name": "stderr",
          "text": [
            "\r 94%|█████████▎| 704/751 [13:28<00:46,  1.01it/s]"
          ]
        },
        {
          "output_type": "stream",
          "name": "stdout",
          "text": [
            "[2023/05/02 14:28:02] ppocr DEBUG: dt_boxes num : 8, elapse : 0.22737884521484375\n",
            "[2023/05/02 14:28:02] ppocr DEBUG: cls num  : 8, elapse : 0.09122037887573242\n",
            "[2023/05/02 14:28:03] ppocr DEBUG: rec_res num  : 8, elapse : 0.9749808311462402\n"
          ]
        },
        {
          "output_type": "stream",
          "name": "stderr",
          "text": [
            "\r 94%|█████████▍| 705/751 [13:29<00:49,  1.08s/it]"
          ]
        },
        {
          "output_type": "stream",
          "name": "stdout",
          "text": [
            "[2023/05/02 14:28:03] ppocr DEBUG: dt_boxes num : 7, elapse : 0.23249506950378418\n",
            "[2023/05/02 14:28:03] ppocr DEBUG: cls num  : 7, elapse : 0.08208084106445312\n",
            "[2023/05/02 14:28:04] ppocr DEBUG: rec_res num  : 7, elapse : 0.8807826042175293\n"
          ]
        },
        {
          "output_type": "stream",
          "name": "stderr",
          "text": [
            "\r 94%|█████████▍| 706/751 [13:31<00:50,  1.12s/it]"
          ]
        },
        {
          "output_type": "stream",
          "name": "stdout",
          "text": [
            "[2023/05/02 14:28:04] ppocr DEBUG: dt_boxes num : 7, elapse : 0.233292818069458\n",
            "[2023/05/02 14:28:04] ppocr DEBUG: cls num  : 7, elapse : 0.08026862144470215\n",
            "[2023/05/02 14:28:05] ppocr DEBUG: rec_res num  : 7, elapse : 0.8817670345306396\n"
          ]
        },
        {
          "output_type": "stream",
          "name": "stderr",
          "text": [
            "\r 94%|█████████▍| 707/751 [13:32<00:50,  1.15s/it]"
          ]
        },
        {
          "output_type": "stream",
          "name": "stdout",
          "text": [
            "[2023/05/02 14:28:05] ppocr DEBUG: dt_boxes num : 3, elapse : 0.22635197639465332\n",
            "[2023/05/02 14:28:05] ppocr DEBUG: cls num  : 3, elapse : 0.038985252380371094\n",
            "[2023/05/02 14:28:06] ppocr DEBUG: rec_res num  : 3, elapse : 0.3076455593109131\n"
          ]
        },
        {
          "output_type": "stream",
          "name": "stderr",
          "text": [
            "\r 94%|█████████▍| 708/751 [13:32<00:42,  1.02it/s]"
          ]
        },
        {
          "output_type": "stream",
          "name": "stdout",
          "text": [
            "[2023/05/02 14:28:06] ppocr DEBUG: dt_boxes num : 3, elapse : 0.2245802879333496\n",
            "[2023/05/02 14:28:06] ppocr DEBUG: cls num  : 3, elapse : 0.04421496391296387\n",
            "[2023/05/02 14:28:06] ppocr DEBUG: rec_res num  : 3, elapse : 0.3156099319458008\n"
          ]
        },
        {
          "output_type": "stream",
          "name": "stderr",
          "text": [
            "\r 94%|█████████▍| 709/751 [13:33<00:36,  1.15it/s]"
          ]
        },
        {
          "output_type": "stream",
          "name": "stdout",
          "text": [
            "[2023/05/02 14:28:07] ppocr DEBUG: dt_boxes num : 4, elapse : 0.2246074676513672\n",
            "[2023/05/02 14:28:07] ppocr DEBUG: cls num  : 4, elapse : 0.04907369613647461\n",
            "[2023/05/02 14:28:07] ppocr DEBUG: rec_res num  : 4, elapse : 0.4185526371002197\n"
          ]
        },
        {
          "output_type": "stream",
          "name": "stderr",
          "text": [
            "\r 95%|█████████▍| 710/751 [13:34<00:33,  1.21it/s]"
          ]
        },
        {
          "output_type": "stream",
          "name": "stdout",
          "text": [
            "[2023/05/02 14:28:07] ppocr DEBUG: dt_boxes num : 0, elapse : 0.22101950645446777\n",
            "[2023/05/02 14:28:07] ppocr DEBUG: cls num  : 0, elapse : 0\n",
            "[2023/05/02 14:28:07] ppocr DEBUG: rec_res num  : 0, elapse : 2.1457672119140625e-06\n"
          ]
        },
        {
          "output_type": "stream",
          "name": "stderr",
          "text": [
            "\r 95%|█████████▍| 711/751 [13:34<00:25,  1.54it/s]"
          ]
        },
        {
          "output_type": "stream",
          "name": "stdout",
          "text": [
            "[2023/05/02 14:28:08] ppocr DEBUG: dt_boxes num : 10, elapse : 0.23986148834228516\n",
            "[2023/05/02 14:28:08] ppocr DEBUG: cls num  : 10, elapse : 0.1135702133178711\n",
            "[2023/05/02 14:28:09] ppocr DEBUG: rec_res num  : 10, elapse : 1.0323455333709717\n"
          ]
        },
        {
          "output_type": "stream",
          "name": "stderr",
          "text": [
            "\r 95%|█████████▍| 712/751 [13:35<00:34,  1.14it/s]"
          ]
        },
        {
          "output_type": "stream",
          "name": "stdout",
          "text": [
            "[2023/05/02 14:28:09] ppocr DEBUG: dt_boxes num : 3, elapse : 0.22226858139038086\n",
            "[2023/05/02 14:28:09] ppocr DEBUG: cls num  : 3, elapse : 0.03697061538696289\n",
            "[2023/05/02 14:28:09] ppocr DEBUG: rec_res num  : 3, elapse : 0.34037256240844727\n"
          ]
        },
        {
          "output_type": "stream",
          "name": "stderr",
          "text": [
            "\r 95%|█████████▍| 713/751 [13:36<00:30,  1.25it/s]"
          ]
        },
        {
          "output_type": "stream",
          "name": "stdout",
          "text": [
            "[2023/05/02 14:28:10] ppocr DEBUG: dt_boxes num : 4, elapse : 0.31528472900390625\n",
            "[2023/05/02 14:28:10] ppocr DEBUG: cls num  : 4, elapse : 0.07212615013122559\n",
            "[2023/05/02 14:28:12] ppocr DEBUG: rec_res num  : 4, elapse : 2.227674961090088\n"
          ]
        },
        {
          "output_type": "stream",
          "name": "stderr",
          "text": [
            "\r 95%|█████████▌| 714/751 [13:39<00:49,  1.35s/it]"
          ]
        },
        {
          "output_type": "stream",
          "name": "stdout",
          "text": [
            "[2023/05/02 14:28:12] ppocr DEBUG: dt_boxes num : 5, elapse : 0.34667491912841797\n",
            "[2023/05/02 14:28:12] ppocr DEBUG: cls num  : 5, elapse : 0.09302067756652832\n",
            "[2023/05/02 14:28:14] ppocr DEBUG: rec_res num  : 5, elapse : 1.4029159545898438\n"
          ]
        },
        {
          "output_type": "stream",
          "name": "stderr",
          "text": [
            "\r 95%|█████████▌| 715/751 [13:40<00:54,  1.51s/it]"
          ]
        },
        {
          "output_type": "stream",
          "name": "stdout",
          "text": [
            "[2023/05/02 14:28:14] ppocr DEBUG: dt_boxes num : 4, elapse : 0.32369303703308105\n",
            "[2023/05/02 14:28:14] ppocr DEBUG: cls num  : 4, elapse : 0.07896590232849121\n",
            "[2023/05/02 14:28:15] ppocr DEBUG: rec_res num  : 4, elapse : 0.6355290412902832\n"
          ]
        },
        {
          "output_type": "stream",
          "name": "stderr",
          "text": [
            "\r 95%|█████████▌| 716/751 [13:42<00:48,  1.37s/it]"
          ]
        },
        {
          "output_type": "stream",
          "name": "stdout",
          "text": [
            "[2023/05/02 14:28:15] ppocr DEBUG: dt_boxes num : 8, elapse : 0.31429433822631836\n",
            "[2023/05/02 14:28:15] ppocr DEBUG: cls num  : 8, elapse : 0.13012027740478516\n",
            "[2023/05/02 14:28:17] ppocr DEBUG: rec_res num  : 8, elapse : 1.2365236282348633\n"
          ]
        },
        {
          "output_type": "stream",
          "name": "stderr",
          "text": [
            "\r 95%|█████████▌| 717/751 [13:43<00:50,  1.48s/it]"
          ]
        },
        {
          "output_type": "stream",
          "name": "stdout",
          "text": [
            "[2023/05/02 14:28:17] ppocr DEBUG: dt_boxes num : 5, elapse : 0.31052184104919434\n",
            "[2023/05/02 14:28:17] ppocr DEBUG: cls num  : 5, elapse : 0.08522891998291016\n",
            "[2023/05/02 14:28:18] ppocr DEBUG: rec_res num  : 5, elapse : 0.7746000289916992\n"
          ]
        },
        {
          "output_type": "stream",
          "name": "stderr",
          "text": [
            "\r 96%|█████████▌| 718/751 [13:44<00:45,  1.39s/it]"
          ]
        },
        {
          "output_type": "stream",
          "name": "stdout",
          "text": [
            "[2023/05/02 14:28:18] ppocr DEBUG: dt_boxes num : 3, elapse : 0.3189516067504883\n",
            "[2023/05/02 14:28:18] ppocr DEBUG: cls num  : 3, elapse : 0.036290884017944336\n",
            "[2023/05/02 14:28:19] ppocr DEBUG: rec_res num  : 3, elapse : 0.31714749336242676\n"
          ]
        },
        {
          "output_type": "stream",
          "name": "stderr",
          "text": [
            "\r 96%|█████████▌| 719/751 [13:45<00:37,  1.18s/it]"
          ]
        },
        {
          "output_type": "stream",
          "name": "stdout",
          "text": [
            "[2023/05/02 14:28:19] ppocr DEBUG: dt_boxes num : 6, elapse : 0.23673653602600098\n",
            "[2023/05/02 14:28:19] ppocr DEBUG: cls num  : 6, elapse : 0.07002091407775879\n",
            "[2023/05/02 14:28:19] ppocr DEBUG: rec_res num  : 6, elapse : 0.6244678497314453\n"
          ]
        },
        {
          "output_type": "stream",
          "name": "stderr",
          "text": [
            "\r 96%|█████████▌| 720/751 [13:46<00:34,  1.11s/it]"
          ]
        },
        {
          "output_type": "stream",
          "name": "stdout",
          "text": [
            "[2023/05/02 14:28:20] ppocr DEBUG: dt_boxes num : 6, elapse : 0.2295389175415039\n",
            "[2023/05/02 14:28:20] ppocr DEBUG: cls num  : 6, elapse : 0.06847405433654785\n",
            "[2023/05/02 14:28:20] ppocr DEBUG: rec_res num  : 6, elapse : 0.6268692016601562\n"
          ]
        },
        {
          "output_type": "stream",
          "name": "stderr",
          "text": [
            "\r 96%|█████████▌| 721/751 [13:47<00:31,  1.06s/it]"
          ]
        },
        {
          "output_type": "stream",
          "name": "stdout",
          "text": [
            "[2023/05/02 14:28:21] ppocr DEBUG: dt_boxes num : 5, elapse : 0.23423409461975098\n",
            "[2023/05/02 14:28:21] ppocr DEBUG: cls num  : 5, elapse : 0.062249183654785156\n",
            "[2023/05/02 14:28:21] ppocr DEBUG: rec_res num  : 5, elapse : 0.5161817073822021\n"
          ]
        },
        {
          "output_type": "stream",
          "name": "stderr",
          "text": [
            "\r 96%|█████████▌| 722/751 [13:48<00:28,  1.01it/s]"
          ]
        },
        {
          "output_type": "stream",
          "name": "stdout",
          "text": [
            "[2023/05/02 14:28:22] ppocr DEBUG: dt_boxes num : 1, elapse : 0.21931695938110352\n",
            "[2023/05/02 14:28:22] ppocr DEBUG: cls num  : 1, elapse : 0.0198974609375\n",
            "[2023/05/02 14:28:22] ppocr DEBUG: rec_res num  : 1, elapse : 0.11550021171569824\n"
          ]
        },
        {
          "output_type": "stream",
          "name": "stderr",
          "text": [
            "\r 96%|█████████▋| 723/751 [13:48<00:22,  1.24it/s]"
          ]
        },
        {
          "output_type": "stream",
          "name": "stdout",
          "text": [
            "[2023/05/02 14:28:22] ppocr DEBUG: dt_boxes num : 1, elapse : 0.23323822021484375\n",
            "[2023/05/02 14:28:22] ppocr DEBUG: cls num  : 1, elapse : 0.018403053283691406\n",
            "[2023/05/02 14:28:22] ppocr DEBUG: rec_res num  : 1, elapse : 0.10947322845458984\n"
          ]
        },
        {
          "output_type": "stream",
          "name": "stderr",
          "text": [
            "\r 96%|█████████▋| 724/751 [13:49<00:18,  1.47it/s]"
          ]
        },
        {
          "output_type": "stream",
          "name": "stdout",
          "text": [
            "[2023/05/02 14:28:22] ppocr DEBUG: dt_boxes num : 0, elapse : 0.2225041389465332\n",
            "[2023/05/02 14:28:22] ppocr DEBUG: cls num  : 0, elapse : 0\n",
            "[2023/05/02 14:28:22] ppocr DEBUG: rec_res num  : 0, elapse : 2.1457672119140625e-06\n"
          ]
        },
        {
          "output_type": "stream",
          "name": "stderr",
          "text": [
            "\r 97%|█████████▋| 725/751 [13:49<00:14,  1.82it/s]"
          ]
        },
        {
          "output_type": "stream",
          "name": "stdout",
          "text": [
            "[2023/05/02 14:28:23] ppocr DEBUG: dt_boxes num : 1, elapse : 0.23729681968688965\n",
            "[2023/05/02 14:28:23] ppocr DEBUG: cls num  : 1, elapse : 0.016259431838989258\n",
            "[2023/05/02 14:28:23] ppocr DEBUG: rec_res num  : 1, elapse : 0.27407169342041016\n"
          ]
        },
        {
          "output_type": "stream",
          "name": "stderr",
          "text": [
            "\r 97%|█████████▋| 726/751 [13:49<00:13,  1.82it/s]"
          ]
        },
        {
          "output_type": "stream",
          "name": "stdout",
          "text": [
            "[2023/05/02 14:28:23] ppocr DEBUG: dt_boxes num : 4, elapse : 0.22539520263671875\n",
            "[2023/05/02 14:28:23] ppocr DEBUG: cls num  : 4, elapse : 0.05166912078857422\n",
            "[2023/05/02 14:28:24] ppocr DEBUG: rec_res num  : 4, elapse : 0.4130833148956299\n"
          ]
        },
        {
          "output_type": "stream",
          "name": "stderr",
          "text": [
            "\r 97%|█████████▋| 727/751 [13:50<00:14,  1.67it/s]"
          ]
        },
        {
          "output_type": "stream",
          "name": "stdout",
          "text": [
            "[2023/05/02 14:28:24] ppocr DEBUG: dt_boxes num : 3, elapse : 0.2260434627532959\n",
            "[2023/05/02 14:28:24] ppocr DEBUG: cls num  : 3, elapse : 0.040807247161865234\n",
            "[2023/05/02 14:28:24] ppocr DEBUG: rec_res num  : 3, elapse : 0.31687307357788086\n"
          ]
        },
        {
          "output_type": "stream",
          "name": "stderr",
          "text": [
            "\r 97%|█████████▋| 728/751 [13:51<00:13,  1.66it/s]"
          ]
        },
        {
          "output_type": "stream",
          "name": "stdout",
          "text": [
            "[2023/05/02 14:28:24] ppocr DEBUG: dt_boxes num : 0, elapse : 0.22496366500854492\n",
            "[2023/05/02 14:28:24] ppocr DEBUG: cls num  : 0, elapse : 0\n",
            "[2023/05/02 14:28:24] ppocr DEBUG: rec_res num  : 0, elapse : 2.1457672119140625e-06\n"
          ]
        },
        {
          "output_type": "stream",
          "name": "stderr",
          "text": [
            "\r 97%|█████████▋| 729/751 [13:51<00:10,  2.02it/s]"
          ]
        },
        {
          "output_type": "stream",
          "name": "stdout",
          "text": [
            "[2023/05/02 14:28:25] ppocr DEBUG: dt_boxes num : 4, elapse : 0.24793124198913574\n",
            "[2023/05/02 14:28:25] ppocr DEBUG: cls num  : 4, elapse : 0.0515139102935791\n",
            "[2023/05/02 14:28:25] ppocr DEBUG: rec_res num  : 4, elapse : 0.47362828254699707\n"
          ]
        },
        {
          "output_type": "stream",
          "name": "stderr",
          "text": [
            "\r 97%|█████████▋| 730/751 [13:52<00:12,  1.71it/s]"
          ]
        },
        {
          "output_type": "stream",
          "name": "stdout",
          "text": [
            "[2023/05/02 14:28:25] ppocr DEBUG: dt_boxes num : 3, elapse : 0.22478103637695312\n",
            "[2023/05/02 14:28:25] ppocr DEBUG: cls num  : 3, elapse : 0.039879798889160156\n",
            "[2023/05/02 14:28:26] ppocr DEBUG: rec_res num  : 3, elapse : 0.3129713535308838\n"
          ]
        },
        {
          "output_type": "stream",
          "name": "stderr",
          "text": [
            "\r 97%|█████████▋| 731/751 [13:52<00:11,  1.70it/s]"
          ]
        },
        {
          "output_type": "stream",
          "name": "stdout",
          "text": [
            "[2023/05/02 14:28:26] ppocr DEBUG: dt_boxes num : 3, elapse : 0.22377371788024902\n",
            "[2023/05/02 14:28:26] ppocr DEBUG: cls num  : 3, elapse : 0.037178993225097656\n",
            "[2023/05/02 14:28:26] ppocr DEBUG: rec_res num  : 3, elapse : 0.3224351406097412\n"
          ]
        },
        {
          "output_type": "stream",
          "name": "stderr",
          "text": [
            "\r 97%|█████████▋| 732/751 [13:53<00:11,  1.68it/s]"
          ]
        },
        {
          "output_type": "stream",
          "name": "stdout",
          "text": [
            "[2023/05/02 14:28:27] ppocr DEBUG: dt_boxes num : 4, elapse : 0.22672557830810547\n",
            "[2023/05/02 14:28:27] ppocr DEBUG: cls num  : 4, elapse : 0.049826860427856445\n",
            "[2023/05/02 14:28:27] ppocr DEBUG: rec_res num  : 4, elapse : 0.42372941970825195\n"
          ]
        },
        {
          "output_type": "stream",
          "name": "stderr",
          "text": [
            "\r 98%|█████████▊| 733/751 [13:54<00:11,  1.57it/s]"
          ]
        },
        {
          "output_type": "stream",
          "name": "stdout",
          "text": [
            "[2023/05/02 14:28:27] ppocr DEBUG: dt_boxes num : 4, elapse : 0.2258620262145996\n",
            "[2023/05/02 14:28:27] ppocr DEBUG: cls num  : 4, elapse : 0.04722023010253906\n",
            "[2023/05/02 14:28:28] ppocr DEBUG: rec_res num  : 4, elapse : 0.42204713821411133\n"
          ]
        },
        {
          "output_type": "stream",
          "name": "stderr",
          "text": [
            "\r 98%|█████████▊| 734/751 [13:54<00:11,  1.52it/s]"
          ]
        },
        {
          "output_type": "stream",
          "name": "stdout",
          "text": [
            "[2023/05/02 14:28:28] ppocr DEBUG: dt_boxes num : 5, elapse : 0.22762155532836914\n",
            "[2023/05/02 14:28:28] ppocr DEBUG: cls num  : 5, elapse : 0.05640435218811035\n",
            "[2023/05/02 14:28:29] ppocr DEBUG: rec_res num  : 5, elapse : 0.8298764228820801\n"
          ]
        },
        {
          "output_type": "stream",
          "name": "stderr",
          "text": [
            "\r 98%|█████████▊| 735/751 [13:56<00:12,  1.24it/s]"
          ]
        },
        {
          "output_type": "stream",
          "name": "stdout",
          "text": [
            "[2023/05/02 14:28:29] ppocr DEBUG: dt_boxes num : 6, elapse : 0.346416711807251\n",
            "[2023/05/02 14:28:29] ppocr DEBUG: cls num  : 6, elapse : 0.10570073127746582\n",
            "[2023/05/02 14:28:31] ppocr DEBUG: rec_res num  : 6, elapse : 1.0979664325714111\n"
          ]
        },
        {
          "output_type": "stream",
          "name": "stderr",
          "text": [
            "\r 98%|█████████▊| 736/751 [13:57<00:15,  1.04s/it]"
          ]
        },
        {
          "output_type": "stream",
          "name": "stdout",
          "text": [
            "[2023/05/02 14:28:31] ppocr DEBUG: dt_boxes num : 7, elapse : 0.32755279541015625\n",
            "[2023/05/02 14:28:31] ppocr DEBUG: cls num  : 7, elapse : 0.12502670288085938\n",
            "[2023/05/02 14:28:32] ppocr DEBUG: rec_res num  : 7, elapse : 1.2628352642059326\n"
          ]
        },
        {
          "output_type": "stream",
          "name": "stderr",
          "text": [
            "\r 98%|█████████▊| 737/751 [13:59<00:17,  1.25s/it]"
          ]
        },
        {
          "output_type": "stream",
          "name": "stdout",
          "text": [
            "[2023/05/02 14:28:33] ppocr DEBUG: dt_boxes num : 10, elapse : 0.3495829105377197\n",
            "[2023/05/02 14:28:33] ppocr DEBUG: cls num  : 10, elapse : 0.1722545623779297\n",
            "[2023/05/02 14:28:35] ppocr DEBUG: rec_res num  : 10, elapse : 2.0345492362976074\n"
          ]
        },
        {
          "output_type": "stream",
          "name": "stderr",
          "text": [
            "\r 98%|█████████▊| 738/751 [14:01<00:21,  1.65s/it]"
          ]
        },
        {
          "output_type": "stream",
          "name": "stdout",
          "text": [
            "[2023/05/02 14:28:35] ppocr DEBUG: dt_boxes num : 6, elapse : 0.3101201057434082\n",
            "[2023/05/02 14:28:35] ppocr DEBUG: cls num  : 6, elapse : 0.1008610725402832\n",
            "[2023/05/02 14:28:36] ppocr DEBUG: rec_res num  : 6, elapse : 0.9069464206695557\n"
          ]
        },
        {
          "output_type": "stream",
          "name": "stderr",
          "text": [
            "\r 98%|█████████▊| 739/751 [14:03<00:18,  1.55s/it]"
          ]
        },
        {
          "output_type": "stream",
          "name": "stdout",
          "text": [
            "[2023/05/02 14:28:37] ppocr DEBUG: dt_boxes num : 6, elapse : 0.3317601680755615\n",
            "[2023/05/02 14:28:37] ppocr DEBUG: cls num  : 6, elapse : 0.10477852821350098\n",
            "[2023/05/02 14:28:37] ppocr DEBUG: rec_res num  : 6, elapse : 0.7193117141723633\n"
          ]
        },
        {
          "output_type": "stream",
          "name": "stderr",
          "text": [
            "\r 99%|█████████▊| 740/751 [14:04<00:15,  1.44s/it]"
          ]
        },
        {
          "output_type": "stream",
          "name": "stdout",
          "text": [
            "[2023/05/02 14:28:38] ppocr DEBUG: dt_boxes num : 4, elapse : 0.22813653945922852\n",
            "[2023/05/02 14:28:38] ppocr DEBUG: cls num  : 4, elapse : 0.05336260795593262\n",
            "[2023/05/02 14:28:38] ppocr DEBUG: rec_res num  : 4, elapse : 0.40999436378479004\n"
          ]
        },
        {
          "output_type": "stream",
          "name": "stderr",
          "text": [
            "\r 99%|█████████▊| 741/751 [14:05<00:12,  1.22s/it]"
          ]
        },
        {
          "output_type": "stream",
          "name": "stdout",
          "text": [
            "[2023/05/02 14:28:38] ppocr DEBUG: dt_boxes num : 5, elapse : 0.22425341606140137\n",
            "[2023/05/02 14:28:38] ppocr DEBUG: cls num  : 5, elapse : 0.06813669204711914\n",
            "[2023/05/02 14:28:39] ppocr DEBUG: rec_res num  : 5, elapse : 0.5214314460754395\n"
          ]
        },
        {
          "output_type": "stream",
          "name": "stderr",
          "text": [
            "\r 99%|█████████▉| 742/751 [14:06<00:09,  1.11s/it]"
          ]
        },
        {
          "output_type": "stream",
          "name": "stdout",
          "text": [
            "[2023/05/02 14:28:39] ppocr DEBUG: dt_boxes num : 5, elapse : 0.22510099411010742\n",
            "[2023/05/02 14:28:39] ppocr DEBUG: cls num  : 5, elapse : 0.06174039840698242\n",
            "[2023/05/02 14:28:40] ppocr DEBUG: rec_res num  : 5, elapse : 0.6157710552215576\n"
          ]
        },
        {
          "output_type": "stream",
          "name": "stderr",
          "text": [
            "\r 99%|█████████▉| 743/751 [14:06<00:08,  1.05s/it]"
          ]
        },
        {
          "output_type": "stream",
          "name": "stdout",
          "text": [
            "[2023/05/02 14:28:40] ppocr DEBUG: dt_boxes num : 5, elapse : 0.2213270664215088\n",
            "[2023/05/02 14:28:40] ppocr DEBUG: cls num  : 5, elapse : 0.06089949607849121\n",
            "[2023/05/02 14:28:41] ppocr DEBUG: rec_res num  : 5, elapse : 0.5361354351043701\n"
          ]
        },
        {
          "output_type": "stream",
          "name": "stderr",
          "text": [
            "\r 99%|█████████▉| 744/751 [14:07<00:06,  1.01it/s]"
          ]
        },
        {
          "output_type": "stream",
          "name": "stdout",
          "text": [
            "[2023/05/02 14:28:41] ppocr DEBUG: dt_boxes num : 5, elapse : 0.2322540283203125\n",
            "[2023/05/02 14:28:41] ppocr DEBUG: cls num  : 5, elapse : 0.06622433662414551\n",
            "[2023/05/02 14:28:42] ppocr DEBUG: rec_res num  : 5, elapse : 0.5361578464508057\n"
          ]
        },
        {
          "output_type": "stream",
          "name": "stderr",
          "text": [
            "\r 99%|█████████▉| 745/751 [14:08<00:05,  1.05it/s]"
          ]
        },
        {
          "output_type": "stream",
          "name": "stdout",
          "text": [
            "[2023/05/02 14:28:42] ppocr DEBUG: dt_boxes num : 11, elapse : 0.23421359062194824\n",
            "[2023/05/02 14:28:42] ppocr DEBUG: cls num  : 11, elapse : 0.11835455894470215\n",
            "[2023/05/02 14:28:44] ppocr DEBUG: rec_res num  : 11, elapse : 1.5927174091339111\n"
          ]
        },
        {
          "output_type": "stream",
          "name": "stderr",
          "text": [
            "\r 99%|█████████▉| 746/751 [14:10<00:06,  1.26s/it]"
          ]
        },
        {
          "output_type": "stream",
          "name": "stdout",
          "text": [
            "[2023/05/02 14:28:44] ppocr DEBUG: dt_boxes num : 11, elapse : 0.22914409637451172\n",
            "[2023/05/02 14:28:44] ppocr DEBUG: cls num  : 11, elapse : 0.11815237998962402\n",
            "[2023/05/02 14:28:46] ppocr DEBUG: rec_res num  : 11, elapse : 1.6055908203125\n"
          ]
        },
        {
          "output_type": "stream",
          "name": "stderr",
          "text": [
            "\r 99%|█████████▉| 747/751 [14:12<00:05,  1.47s/it]"
          ]
        },
        {
          "output_type": "stream",
          "name": "stdout",
          "text": [
            "[2023/05/02 14:28:46] ppocr DEBUG: dt_boxes num : 1, elapse : 0.23415493965148926\n",
            "[2023/05/02 14:28:46] ppocr DEBUG: cls num  : 1, elapse : 0.022878170013427734\n",
            "[2023/05/02 14:28:46] ppocr DEBUG: rec_res num  : 1, elapse : 0.10893392562866211\n"
          ]
        },
        {
          "output_type": "stream",
          "name": "stderr",
          "text": [
            "\r100%|█████████▉| 748/751 [14:12<00:03,  1.15s/it]"
          ]
        },
        {
          "output_type": "stream",
          "name": "stdout",
          "text": [
            "[2023/05/02 14:28:46] ppocr DEBUG: dt_boxes num : 1, elapse : 0.23255538940429688\n",
            "[2023/05/02 14:28:46] ppocr DEBUG: cls num  : 1, elapse : 0.0173187255859375\n",
            "[2023/05/02 14:28:46] ppocr DEBUG: rec_res num  : 1, elapse : 0.11129212379455566\n"
          ]
        },
        {
          "output_type": "stream",
          "name": "stderr",
          "text": [
            "\r100%|█████████▉| 749/751 [14:13<00:01,  1.09it/s]"
          ]
        },
        {
          "output_type": "stream",
          "name": "stdout",
          "text": [
            "[2023/05/02 14:28:47] ppocr DEBUG: dt_boxes num : 1, elapse : 0.22959089279174805\n",
            "[2023/05/02 14:28:47] ppocr DEBUG: cls num  : 1, elapse : 0.01883077621459961\n",
            "[2023/05/02 14:28:47] ppocr DEBUG: rec_res num  : 1, elapse : 0.13097620010375977\n"
          ]
        },
        {
          "output_type": "stream",
          "name": "stderr",
          "text": [
            "\r100%|█████████▉| 750/751 [14:13<00:00,  1.32it/s]"
          ]
        },
        {
          "output_type": "stream",
          "name": "stdout",
          "text": [
            "[2023/05/02 14:28:47] ppocr DEBUG: dt_boxes num : 0, elapse : 0.22169947624206543\n",
            "[2023/05/02 14:28:47] ppocr DEBUG: cls num  : 0, elapse : 0\n",
            "[2023/05/02 14:28:47] ppocr DEBUG: rec_res num  : 0, elapse : 2.384185791015625e-06\n"
          ]
        },
        {
          "output_type": "stream",
          "name": "stderr",
          "text": [
            "100%|██████████| 751/751 [14:14<00:00,  1.14s/it]\n"
          ]
        }
      ],
      "source": [
        "import numpy as np\n",
        "from tqdm import tqdm\n",
        "name_list=[]\n",
        "text_list=[]\n",
        "conf_list=[]\n",
        "\n",
        "for i in tqdm(np.arange(0,len(names))):\n",
        "  img_path = 'frames/'+names[i]\n",
        "  result = ocr.ocr(img_path, cls=True)\n",
        "  \n",
        "  #print(result)\n",
        "  #print(\"---------\")\n",
        "\n",
        "  for idx in range(len(result)):\n",
        "    res = result[idx]\n",
        "    for line in res:\n",
        "      text,conf= line[1]\n",
        "      name_list.append(names[i][:-4])\n",
        "      text_list.append(text)\n",
        "      conf_list.append(conf)"
      ]
    },
    {
      "cell_type": "code",
      "execution_count": null,
      "metadata": {
        "id": "PvpLlyy3xOfc"
      },
      "outputs": [],
      "source": [
        "import pandas as pd\n",
        "df=pd.DataFrame({'name':name_list,\"text\":text_list,\"conf\":conf_list})"
      ]
    },
    {
      "cell_type": "code",
      "execution_count": null,
      "metadata": {
        "id": "Rxg_i5WQ5Fqh",
        "colab": {
          "base_uri": "https://localhost:8080/",
          "height": 206
        },
        "outputId": "77186b14-147a-4bff-ad31-965626b8f714"
      },
      "outputs": [
        {
          "output_type": "execute_result",
          "data": {
            "text/plain": [
              "   name                        text      conf\n",
              "0  5400                         KFC  0.996755\n",
              "1  5400  KFC TWENTY20 INTERNATIONAL  0.966607\n",
              "2  5400                          HD  0.958017\n",
              "3  5400                   AUSTRALIA  0.993863\n",
              "4  5400                SOUTH AFRICA  0.976533"
            ],
            "text/html": [
              "\n",
              "  <div id=\"df-f6922afa-00b7-4219-82ce-701a987524fd\">\n",
              "    <div class=\"colab-df-container\">\n",
              "      <div>\n",
              "<style scoped>\n",
              "    .dataframe tbody tr th:only-of-type {\n",
              "        vertical-align: middle;\n",
              "    }\n",
              "\n",
              "    .dataframe tbody tr th {\n",
              "        vertical-align: top;\n",
              "    }\n",
              "\n",
              "    .dataframe thead th {\n",
              "        text-align: right;\n",
              "    }\n",
              "</style>\n",
              "<table border=\"1\" class=\"dataframe\">\n",
              "  <thead>\n",
              "    <tr style=\"text-align: right;\">\n",
              "      <th></th>\n",
              "      <th>name</th>\n",
              "      <th>text</th>\n",
              "      <th>conf</th>\n",
              "    </tr>\n",
              "  </thead>\n",
              "  <tbody>\n",
              "    <tr>\n",
              "      <th>0</th>\n",
              "      <td>5400</td>\n",
              "      <td>KFC</td>\n",
              "      <td>0.996755</td>\n",
              "    </tr>\n",
              "    <tr>\n",
              "      <th>1</th>\n",
              "      <td>5400</td>\n",
              "      <td>KFC TWENTY20 INTERNATIONAL</td>\n",
              "      <td>0.966607</td>\n",
              "    </tr>\n",
              "    <tr>\n",
              "      <th>2</th>\n",
              "      <td>5400</td>\n",
              "      <td>HD</td>\n",
              "      <td>0.958017</td>\n",
              "    </tr>\n",
              "    <tr>\n",
              "      <th>3</th>\n",
              "      <td>5400</td>\n",
              "      <td>AUSTRALIA</td>\n",
              "      <td>0.993863</td>\n",
              "    </tr>\n",
              "    <tr>\n",
              "      <th>4</th>\n",
              "      <td>5400</td>\n",
              "      <td>SOUTH AFRICA</td>\n",
              "      <td>0.976533</td>\n",
              "    </tr>\n",
              "  </tbody>\n",
              "</table>\n",
              "</div>\n",
              "      <button class=\"colab-df-convert\" onclick=\"convertToInteractive('df-f6922afa-00b7-4219-82ce-701a987524fd')\"\n",
              "              title=\"Convert this dataframe to an interactive table.\"\n",
              "              style=\"display:none;\">\n",
              "        \n",
              "  <svg xmlns=\"http://www.w3.org/2000/svg\" height=\"24px\"viewBox=\"0 0 24 24\"\n",
              "       width=\"24px\">\n",
              "    <path d=\"M0 0h24v24H0V0z\" fill=\"none\"/>\n",
              "    <path d=\"M18.56 5.44l.94 2.06.94-2.06 2.06-.94-2.06-.94-.94-2.06-.94 2.06-2.06.94zm-11 1L8.5 8.5l.94-2.06 2.06-.94-2.06-.94L8.5 2.5l-.94 2.06-2.06.94zm10 10l.94 2.06.94-2.06 2.06-.94-2.06-.94-.94-2.06-.94 2.06-2.06.94z\"/><path d=\"M17.41 7.96l-1.37-1.37c-.4-.4-.92-.59-1.43-.59-.52 0-1.04.2-1.43.59L10.3 9.45l-7.72 7.72c-.78.78-.78 2.05 0 2.83L4 21.41c.39.39.9.59 1.41.59.51 0 1.02-.2 1.41-.59l7.78-7.78 2.81-2.81c.8-.78.8-2.07 0-2.86zM5.41 20L4 18.59l7.72-7.72 1.47 1.35L5.41 20z\"/>\n",
              "  </svg>\n",
              "      </button>\n",
              "      \n",
              "  <style>\n",
              "    .colab-df-container {\n",
              "      display:flex;\n",
              "      flex-wrap:wrap;\n",
              "      gap: 12px;\n",
              "    }\n",
              "\n",
              "    .colab-df-convert {\n",
              "      background-color: #E8F0FE;\n",
              "      border: none;\n",
              "      border-radius: 50%;\n",
              "      cursor: pointer;\n",
              "      display: none;\n",
              "      fill: #1967D2;\n",
              "      height: 32px;\n",
              "      padding: 0 0 0 0;\n",
              "      width: 32px;\n",
              "    }\n",
              "\n",
              "    .colab-df-convert:hover {\n",
              "      background-color: #E2EBFA;\n",
              "      box-shadow: 0px 1px 2px rgba(60, 64, 67, 0.3), 0px 1px 3px 1px rgba(60, 64, 67, 0.15);\n",
              "      fill: #174EA6;\n",
              "    }\n",
              "\n",
              "    [theme=dark] .colab-df-convert {\n",
              "      background-color: #3B4455;\n",
              "      fill: #D2E3FC;\n",
              "    }\n",
              "\n",
              "    [theme=dark] .colab-df-convert:hover {\n",
              "      background-color: #434B5C;\n",
              "      box-shadow: 0px 1px 3px 1px rgba(0, 0, 0, 0.15);\n",
              "      filter: drop-shadow(0px 1px 2px rgba(0, 0, 0, 0.3));\n",
              "      fill: #FFFFFF;\n",
              "    }\n",
              "  </style>\n",
              "\n",
              "      <script>\n",
              "        const buttonEl =\n",
              "          document.querySelector('#df-f6922afa-00b7-4219-82ce-701a987524fd button.colab-df-convert');\n",
              "        buttonEl.style.display =\n",
              "          google.colab.kernel.accessAllowed ? 'block' : 'none';\n",
              "\n",
              "        async function convertToInteractive(key) {\n",
              "          const element = document.querySelector('#df-f6922afa-00b7-4219-82ce-701a987524fd');\n",
              "          const dataTable =\n",
              "            await google.colab.kernel.invokeFunction('convertToInteractive',\n",
              "                                                     [key], {});\n",
              "          if (!dataTable) return;\n",
              "\n",
              "          const docLinkHtml = 'Like what you see? Visit the ' +\n",
              "            '<a target=\"_blank\" href=https://colab.research.google.com/notebooks/data_table.ipynb>data table notebook</a>'\n",
              "            + ' to learn more about interactive tables.';\n",
              "          element.innerHTML = '';\n",
              "          dataTable['output_type'] = 'display_data';\n",
              "          await google.colab.output.renderOutput(dataTable, element);\n",
              "          const docLink = document.createElement('div');\n",
              "          docLink.innerHTML = docLinkHtml;\n",
              "          element.appendChild(docLink);\n",
              "        }\n",
              "      </script>\n",
              "    </div>\n",
              "  </div>\n",
              "  "
            ]
          },
          "metadata": {},
          "execution_count": 24
        }
      ],
      "source": [
        "df.head()"
      ]
    },
    {
      "cell_type": "code",
      "execution_count": null,
      "metadata": {
        "id": "AE7BGwugxOkt"
      },
      "outputs": [],
      "source": [
        "text_df= df.groupby('name').apply(lambda x:\" \".join(x['text'])).reset_index()"
      ]
    },
    {
      "cell_type": "code",
      "execution_count": null,
      "metadata": {
        "id": "eqlbGLhhxOnd"
      },
      "outputs": [],
      "source": [
        "text_df['scorecard']=text_df[0].apply(lambda x:re.findall(r\"AUS \\d{1,3}/\\d{1,3}\",x))"
      ]
    },
    {
      "cell_type": "code",
      "execution_count": null,
      "metadata": {
        "id": "YX6sit7aajsI"
      },
      "outputs": [],
      "source": [
        "ball_df= text_df[text_df['scorecard'].apply(lambda x:True if len(x)>0 else False)]"
      ]
    },
    {
      "cell_type": "code",
      "execution_count": null,
      "metadata": {
        "colab": {
          "base_uri": "https://localhost:8080/",
          "height": 423
        },
        "id": "XNRjWB0PkiqI",
        "outputId": "e6668a4b-c7e8-4b55-a23a-22d5bc92b681"
      },
      "outputs": [
        {
          "output_type": "execute_result",
          "data": {
            "text/plain": [
              "      name                                             0  scorecard\n",
              "0    10020             TPOWER AUS 0/0 TORACE EHD OVER0.1  [AUS 0/0]\n",
              "1    10080                               AUS 0/0 OVER0.1  [AUS 0/0]\n",
              "2    10140                          AUS 0/0 OSHD OVER0.1  [AUS 0/0]\n",
              "4    10260                      AUS 0/0 AEADE HD OVER0.1  [AUS 0/0]\n",
              "5    10320                           AUS 0/0 OVERO. PEST  [AUS 0/0]\n",
              "..     ...                                           ...        ...\n",
              "697   9540                        AUS 0/0 HD OVERO PRICK  [AUS 0/0]\n",
              "700   9720    POWERADE AUS 0/0 OVER0 yEmiras FlyEmirates  [AUS 0/0]\n",
              "701   9780  POWERADE AUS 0/0 HD OVER0 irates FlyEmirates  [AUS 0/0]\n",
              "702   9840                             AUS 0/0 HD OVERO.  [AUS 0/0]\n",
              "704   9960                       AUS 0/0 OVER0.1 CRERADE  [AUS 0/0]\n",
              "\n",
              "[151 rows x 3 columns]"
            ],
            "text/html": [
              "\n",
              "  <div id=\"df-c54c638e-a2bf-43fe-beb6-530f01b76a6c\">\n",
              "    <div class=\"colab-df-container\">\n",
              "      <div>\n",
              "<style scoped>\n",
              "    .dataframe tbody tr th:only-of-type {\n",
              "        vertical-align: middle;\n",
              "    }\n",
              "\n",
              "    .dataframe tbody tr th {\n",
              "        vertical-align: top;\n",
              "    }\n",
              "\n",
              "    .dataframe thead th {\n",
              "        text-align: right;\n",
              "    }\n",
              "</style>\n",
              "<table border=\"1\" class=\"dataframe\">\n",
              "  <thead>\n",
              "    <tr style=\"text-align: right;\">\n",
              "      <th></th>\n",
              "      <th>name</th>\n",
              "      <th>0</th>\n",
              "      <th>scorecard</th>\n",
              "    </tr>\n",
              "  </thead>\n",
              "  <tbody>\n",
              "    <tr>\n",
              "      <th>0</th>\n",
              "      <td>10020</td>\n",
              "      <td>TPOWER AUS 0/0 TORACE EHD OVER0.1</td>\n",
              "      <td>[AUS 0/0]</td>\n",
              "    </tr>\n",
              "    <tr>\n",
              "      <th>1</th>\n",
              "      <td>10080</td>\n",
              "      <td>AUS 0/0 OVER0.1</td>\n",
              "      <td>[AUS 0/0]</td>\n",
              "    </tr>\n",
              "    <tr>\n",
              "      <th>2</th>\n",
              "      <td>10140</td>\n",
              "      <td>AUS 0/0 OSHD OVER0.1</td>\n",
              "      <td>[AUS 0/0]</td>\n",
              "    </tr>\n",
              "    <tr>\n",
              "      <th>4</th>\n",
              "      <td>10260</td>\n",
              "      <td>AUS 0/0 AEADE HD OVER0.1</td>\n",
              "      <td>[AUS 0/0]</td>\n",
              "    </tr>\n",
              "    <tr>\n",
              "      <th>5</th>\n",
              "      <td>10320</td>\n",
              "      <td>AUS 0/0 OVERO. PEST</td>\n",
              "      <td>[AUS 0/0]</td>\n",
              "    </tr>\n",
              "    <tr>\n",
              "      <th>...</th>\n",
              "      <td>...</td>\n",
              "      <td>...</td>\n",
              "      <td>...</td>\n",
              "    </tr>\n",
              "    <tr>\n",
              "      <th>697</th>\n",
              "      <td>9540</td>\n",
              "      <td>AUS 0/0 HD OVERO PRICK</td>\n",
              "      <td>[AUS 0/0]</td>\n",
              "    </tr>\n",
              "    <tr>\n",
              "      <th>700</th>\n",
              "      <td>9720</td>\n",
              "      <td>POWERADE AUS 0/0 OVER0 yEmiras FlyEmirates</td>\n",
              "      <td>[AUS 0/0]</td>\n",
              "    </tr>\n",
              "    <tr>\n",
              "      <th>701</th>\n",
              "      <td>9780</td>\n",
              "      <td>POWERADE AUS 0/0 HD OVER0 irates FlyEmirates</td>\n",
              "      <td>[AUS 0/0]</td>\n",
              "    </tr>\n",
              "    <tr>\n",
              "      <th>702</th>\n",
              "      <td>9840</td>\n",
              "      <td>AUS 0/0 HD OVERO.</td>\n",
              "      <td>[AUS 0/0]</td>\n",
              "    </tr>\n",
              "    <tr>\n",
              "      <th>704</th>\n",
              "      <td>9960</td>\n",
              "      <td>AUS 0/0 OVER0.1 CRERADE</td>\n",
              "      <td>[AUS 0/0]</td>\n",
              "    </tr>\n",
              "  </tbody>\n",
              "</table>\n",
              "<p>151 rows × 3 columns</p>\n",
              "</div>\n",
              "      <button class=\"colab-df-convert\" onclick=\"convertToInteractive('df-c54c638e-a2bf-43fe-beb6-530f01b76a6c')\"\n",
              "              title=\"Convert this dataframe to an interactive table.\"\n",
              "              style=\"display:none;\">\n",
              "        \n",
              "  <svg xmlns=\"http://www.w3.org/2000/svg\" height=\"24px\"viewBox=\"0 0 24 24\"\n",
              "       width=\"24px\">\n",
              "    <path d=\"M0 0h24v24H0V0z\" fill=\"none\"/>\n",
              "    <path d=\"M18.56 5.44l.94 2.06.94-2.06 2.06-.94-2.06-.94-.94-2.06-.94 2.06-2.06.94zm-11 1L8.5 8.5l.94-2.06 2.06-.94-2.06-.94L8.5 2.5l-.94 2.06-2.06.94zm10 10l.94 2.06.94-2.06 2.06-.94-2.06-.94-.94-2.06-.94 2.06-2.06.94z\"/><path d=\"M17.41 7.96l-1.37-1.37c-.4-.4-.92-.59-1.43-.59-.52 0-1.04.2-1.43.59L10.3 9.45l-7.72 7.72c-.78.78-.78 2.05 0 2.83L4 21.41c.39.39.9.59 1.41.59.51 0 1.02-.2 1.41-.59l7.78-7.78 2.81-2.81c.8-.78.8-2.07 0-2.86zM5.41 20L4 18.59l7.72-7.72 1.47 1.35L5.41 20z\"/>\n",
              "  </svg>\n",
              "      </button>\n",
              "      \n",
              "  <style>\n",
              "    .colab-df-container {\n",
              "      display:flex;\n",
              "      flex-wrap:wrap;\n",
              "      gap: 12px;\n",
              "    }\n",
              "\n",
              "    .colab-df-convert {\n",
              "      background-color: #E8F0FE;\n",
              "      border: none;\n",
              "      border-radius: 50%;\n",
              "      cursor: pointer;\n",
              "      display: none;\n",
              "      fill: #1967D2;\n",
              "      height: 32px;\n",
              "      padding: 0 0 0 0;\n",
              "      width: 32px;\n",
              "    }\n",
              "\n",
              "    .colab-df-convert:hover {\n",
              "      background-color: #E2EBFA;\n",
              "      box-shadow: 0px 1px 2px rgba(60, 64, 67, 0.3), 0px 1px 3px 1px rgba(60, 64, 67, 0.15);\n",
              "      fill: #174EA6;\n",
              "    }\n",
              "\n",
              "    [theme=dark] .colab-df-convert {\n",
              "      background-color: #3B4455;\n",
              "      fill: #D2E3FC;\n",
              "    }\n",
              "\n",
              "    [theme=dark] .colab-df-convert:hover {\n",
              "      background-color: #434B5C;\n",
              "      box-shadow: 0px 1px 3px 1px rgba(0, 0, 0, 0.15);\n",
              "      filter: drop-shadow(0px 1px 2px rgba(0, 0, 0, 0.3));\n",
              "      fill: #FFFFFF;\n",
              "    }\n",
              "  </style>\n",
              "\n",
              "      <script>\n",
              "        const buttonEl =\n",
              "          document.querySelector('#df-c54c638e-a2bf-43fe-beb6-530f01b76a6c button.colab-df-convert');\n",
              "        buttonEl.style.display =\n",
              "          google.colab.kernel.accessAllowed ? 'block' : 'none';\n",
              "\n",
              "        async function convertToInteractive(key) {\n",
              "          const element = document.querySelector('#df-c54c638e-a2bf-43fe-beb6-530f01b76a6c');\n",
              "          const dataTable =\n",
              "            await google.colab.kernel.invokeFunction('convertToInteractive',\n",
              "                                                     [key], {});\n",
              "          if (!dataTable) return;\n",
              "\n",
              "          const docLinkHtml = 'Like what you see? Visit the ' +\n",
              "            '<a target=\"_blank\" href=https://colab.research.google.com/notebooks/data_table.ipynb>data table notebook</a>'\n",
              "            + ' to learn more about interactive tables.';\n",
              "          element.innerHTML = '';\n",
              "          dataTable['output_type'] = 'display_data';\n",
              "          await google.colab.output.renderOutput(dataTable, element);\n",
              "          const docLink = document.createElement('div');\n",
              "          docLink.innerHTML = docLinkHtml;\n",
              "          element.appendChild(docLink);\n",
              "        }\n",
              "      </script>\n",
              "    </div>\n",
              "  </div>\n",
              "  "
            ]
          },
          "metadata": {},
          "execution_count": 28
        }
      ],
      "source": [
        "ball_df"
      ]
    },
    {
      "cell_type": "code",
      "execution_count": null,
      "metadata": {
        "id": "9H3t6XG9xI9L"
      },
      "outputs": [],
      "source": [
        "ball_df['score']=ball_df['scorecard'].apply(lambda x:re.findall(r\"\\d{1,3}/\\d{1,3}\",x[0])[0])"
      ]
    },
    {
      "cell_type": "code",
      "execution_count": null,
      "metadata": {
        "colab": {
          "base_uri": "https://localhost:8080/",
          "height": 423
        },
        "id": "uLzR8GLckxsf",
        "outputId": "5fa0faf5-fbc0-4345-d2d7-bfca9d2413e2"
      },
      "outputs": [
        {
          "output_type": "execute_result",
          "data": {
            "text/plain": [
              "      name                                             0  scorecard score\n",
              "0    10020             TPOWER AUS 0/0 TORACE EHD OVER0.1  [AUS 0/0]   0/0\n",
              "1    10080                               AUS 0/0 OVER0.1  [AUS 0/0]   0/0\n",
              "2    10140                          AUS 0/0 OSHD OVER0.1  [AUS 0/0]   0/0\n",
              "4    10260                      AUS 0/0 AEADE HD OVER0.1  [AUS 0/0]   0/0\n",
              "5    10320                           AUS 0/0 OVERO. PEST  [AUS 0/0]   0/0\n",
              "..     ...                                           ...        ...   ...\n",
              "697   9540                        AUS 0/0 HD OVERO PRICK  [AUS 0/0]   0/0\n",
              "700   9720    POWERADE AUS 0/0 OVER0 yEmiras FlyEmirates  [AUS 0/0]   0/0\n",
              "701   9780  POWERADE AUS 0/0 HD OVER0 irates FlyEmirates  [AUS 0/0]   0/0\n",
              "702   9840                             AUS 0/0 HD OVERO.  [AUS 0/0]   0/0\n",
              "704   9960                       AUS 0/0 OVER0.1 CRERADE  [AUS 0/0]   0/0\n",
              "\n",
              "[151 rows x 4 columns]"
            ],
            "text/html": [
              "\n",
              "  <div id=\"df-090653b4-f1e2-450b-b4ef-2ebf65678b9a\">\n",
              "    <div class=\"colab-df-container\">\n",
              "      <div>\n",
              "<style scoped>\n",
              "    .dataframe tbody tr th:only-of-type {\n",
              "        vertical-align: middle;\n",
              "    }\n",
              "\n",
              "    .dataframe tbody tr th {\n",
              "        vertical-align: top;\n",
              "    }\n",
              "\n",
              "    .dataframe thead th {\n",
              "        text-align: right;\n",
              "    }\n",
              "</style>\n",
              "<table border=\"1\" class=\"dataframe\">\n",
              "  <thead>\n",
              "    <tr style=\"text-align: right;\">\n",
              "      <th></th>\n",
              "      <th>name</th>\n",
              "      <th>0</th>\n",
              "      <th>scorecard</th>\n",
              "      <th>score</th>\n",
              "    </tr>\n",
              "  </thead>\n",
              "  <tbody>\n",
              "    <tr>\n",
              "      <th>0</th>\n",
              "      <td>10020</td>\n",
              "      <td>TPOWER AUS 0/0 TORACE EHD OVER0.1</td>\n",
              "      <td>[AUS 0/0]</td>\n",
              "      <td>0/0</td>\n",
              "    </tr>\n",
              "    <tr>\n",
              "      <th>1</th>\n",
              "      <td>10080</td>\n",
              "      <td>AUS 0/0 OVER0.1</td>\n",
              "      <td>[AUS 0/0]</td>\n",
              "      <td>0/0</td>\n",
              "    </tr>\n",
              "    <tr>\n",
              "      <th>2</th>\n",
              "      <td>10140</td>\n",
              "      <td>AUS 0/0 OSHD OVER0.1</td>\n",
              "      <td>[AUS 0/0]</td>\n",
              "      <td>0/0</td>\n",
              "    </tr>\n",
              "    <tr>\n",
              "      <th>4</th>\n",
              "      <td>10260</td>\n",
              "      <td>AUS 0/0 AEADE HD OVER0.1</td>\n",
              "      <td>[AUS 0/0]</td>\n",
              "      <td>0/0</td>\n",
              "    </tr>\n",
              "    <tr>\n",
              "      <th>5</th>\n",
              "      <td>10320</td>\n",
              "      <td>AUS 0/0 OVERO. PEST</td>\n",
              "      <td>[AUS 0/0]</td>\n",
              "      <td>0/0</td>\n",
              "    </tr>\n",
              "    <tr>\n",
              "      <th>...</th>\n",
              "      <td>...</td>\n",
              "      <td>...</td>\n",
              "      <td>...</td>\n",
              "      <td>...</td>\n",
              "    </tr>\n",
              "    <tr>\n",
              "      <th>697</th>\n",
              "      <td>9540</td>\n",
              "      <td>AUS 0/0 HD OVERO PRICK</td>\n",
              "      <td>[AUS 0/0]</td>\n",
              "      <td>0/0</td>\n",
              "    </tr>\n",
              "    <tr>\n",
              "      <th>700</th>\n",
              "      <td>9720</td>\n",
              "      <td>POWERADE AUS 0/0 OVER0 yEmiras FlyEmirates</td>\n",
              "      <td>[AUS 0/0]</td>\n",
              "      <td>0/0</td>\n",
              "    </tr>\n",
              "    <tr>\n",
              "      <th>701</th>\n",
              "      <td>9780</td>\n",
              "      <td>POWERADE AUS 0/0 HD OVER0 irates FlyEmirates</td>\n",
              "      <td>[AUS 0/0]</td>\n",
              "      <td>0/0</td>\n",
              "    </tr>\n",
              "    <tr>\n",
              "      <th>702</th>\n",
              "      <td>9840</td>\n",
              "      <td>AUS 0/0 HD OVERO.</td>\n",
              "      <td>[AUS 0/0]</td>\n",
              "      <td>0/0</td>\n",
              "    </tr>\n",
              "    <tr>\n",
              "      <th>704</th>\n",
              "      <td>9960</td>\n",
              "      <td>AUS 0/0 OVER0.1 CRERADE</td>\n",
              "      <td>[AUS 0/0]</td>\n",
              "      <td>0/0</td>\n",
              "    </tr>\n",
              "  </tbody>\n",
              "</table>\n",
              "<p>151 rows × 4 columns</p>\n",
              "</div>\n",
              "      <button class=\"colab-df-convert\" onclick=\"convertToInteractive('df-090653b4-f1e2-450b-b4ef-2ebf65678b9a')\"\n",
              "              title=\"Convert this dataframe to an interactive table.\"\n",
              "              style=\"display:none;\">\n",
              "        \n",
              "  <svg xmlns=\"http://www.w3.org/2000/svg\" height=\"24px\"viewBox=\"0 0 24 24\"\n",
              "       width=\"24px\">\n",
              "    <path d=\"M0 0h24v24H0V0z\" fill=\"none\"/>\n",
              "    <path d=\"M18.56 5.44l.94 2.06.94-2.06 2.06-.94-2.06-.94-.94-2.06-.94 2.06-2.06.94zm-11 1L8.5 8.5l.94-2.06 2.06-.94-2.06-.94L8.5 2.5l-.94 2.06-2.06.94zm10 10l.94 2.06.94-2.06 2.06-.94-2.06-.94-.94-2.06-.94 2.06-2.06.94z\"/><path d=\"M17.41 7.96l-1.37-1.37c-.4-.4-.92-.59-1.43-.59-.52 0-1.04.2-1.43.59L10.3 9.45l-7.72 7.72c-.78.78-.78 2.05 0 2.83L4 21.41c.39.39.9.59 1.41.59.51 0 1.02-.2 1.41-.59l7.78-7.78 2.81-2.81c.8-.78.8-2.07 0-2.86zM5.41 20L4 18.59l7.72-7.72 1.47 1.35L5.41 20z\"/>\n",
              "  </svg>\n",
              "      </button>\n",
              "      \n",
              "  <style>\n",
              "    .colab-df-container {\n",
              "      display:flex;\n",
              "      flex-wrap:wrap;\n",
              "      gap: 12px;\n",
              "    }\n",
              "\n",
              "    .colab-df-convert {\n",
              "      background-color: #E8F0FE;\n",
              "      border: none;\n",
              "      border-radius: 50%;\n",
              "      cursor: pointer;\n",
              "      display: none;\n",
              "      fill: #1967D2;\n",
              "      height: 32px;\n",
              "      padding: 0 0 0 0;\n",
              "      width: 32px;\n",
              "    }\n",
              "\n",
              "    .colab-df-convert:hover {\n",
              "      background-color: #E2EBFA;\n",
              "      box-shadow: 0px 1px 2px rgba(60, 64, 67, 0.3), 0px 1px 3px 1px rgba(60, 64, 67, 0.15);\n",
              "      fill: #174EA6;\n",
              "    }\n",
              "\n",
              "    [theme=dark] .colab-df-convert {\n",
              "      background-color: #3B4455;\n",
              "      fill: #D2E3FC;\n",
              "    }\n",
              "\n",
              "    [theme=dark] .colab-df-convert:hover {\n",
              "      background-color: #434B5C;\n",
              "      box-shadow: 0px 1px 3px 1px rgba(0, 0, 0, 0.15);\n",
              "      filter: drop-shadow(0px 1px 2px rgba(0, 0, 0, 0.3));\n",
              "      fill: #FFFFFF;\n",
              "    }\n",
              "  </style>\n",
              "\n",
              "      <script>\n",
              "        const buttonEl =\n",
              "          document.querySelector('#df-090653b4-f1e2-450b-b4ef-2ebf65678b9a button.colab-df-convert');\n",
              "        buttonEl.style.display =\n",
              "          google.colab.kernel.accessAllowed ? 'block' : 'none';\n",
              "\n",
              "        async function convertToInteractive(key) {\n",
              "          const element = document.querySelector('#df-090653b4-f1e2-450b-b4ef-2ebf65678b9a');\n",
              "          const dataTable =\n",
              "            await google.colab.kernel.invokeFunction('convertToInteractive',\n",
              "                                                     [key], {});\n",
              "          if (!dataTable) return;\n",
              "\n",
              "          const docLinkHtml = 'Like what you see? Visit the ' +\n",
              "            '<a target=\"_blank\" href=https://colab.research.google.com/notebooks/data_table.ipynb>data table notebook</a>'\n",
              "            + ' to learn more about interactive tables.';\n",
              "          element.innerHTML = '';\n",
              "          dataTable['output_type'] = 'display_data';\n",
              "          await google.colab.output.renderOutput(dataTable, element);\n",
              "          const docLink = document.createElement('div');\n",
              "          docLink.innerHTML = docLinkHtml;\n",
              "          element.appendChild(docLink);\n",
              "        }\n",
              "      </script>\n",
              "    </div>\n",
              "  </div>\n",
              "  "
            ]
          },
          "metadata": {},
          "execution_count": 30
        }
      ],
      "source": [
        "ball_df"
      ]
    },
    {
      "cell_type": "code",
      "execution_count": null,
      "metadata": {
        "id": "zDZAesgGc5wN"
      },
      "outputs": [],
      "source": [
        "ball_df['over']=ball_df[0].apply(lambda x:re.findall(r\"OVER\\s?[0-9\\.]+\",x))"
      ]
    },
    {
      "cell_type": "code",
      "execution_count": null,
      "metadata": {
        "id": "t6cBjCgylMQA"
      },
      "outputs": [],
      "source": [
        "ball_df= ball_df[ball_df['over'].apply(lambda x:True if len(x)!=0 else False)]"
      ]
    },
    {
      "cell_type": "code",
      "execution_count": null,
      "metadata": {
        "id": "T_ecfCMBl-iW"
      },
      "outputs": [],
      "source": [
        "ball_df['over_num']=ball_df['over'].apply(lambda x:x[0])"
      ]
    },
    {
      "cell_type": "code",
      "execution_count": null,
      "metadata": {
        "id": "HnqvZp_7ocVz"
      },
      "outputs": [],
      "source": [
        "ball_df['over_num']=ball_df['over_num'].apply(lambda x:re.findall(\"[0-9\\.]+\",x)[0])"
      ]
    },
    {
      "cell_type": "code",
      "execution_count": null,
      "metadata": {
        "id": "RLwEHbR3xI_h"
      },
      "outputs": [],
      "source": [
        "ball_df['name']=ball_df['name'].astype(int)"
      ]
    },
    {
      "cell_type": "code",
      "execution_count": null,
      "metadata": {
        "colab": {
          "base_uri": "https://localhost:8080/",
          "height": 423
        },
        "id": "keGNUk2WcdGw",
        "outputId": "e238d5d7-aedb-448e-f87c-b1f2bc958769"
      },
      "outputs": [
        {
          "output_type": "execute_result",
          "data": {
            "text/plain": [
              "      name                                                  0   scorecard  \\\n",
              "0    10020                  TPOWER AUS 0/0 TORACE EHD OVER0.1   [AUS 0/0]   \n",
              "1    10080                                    AUS 0/0 OVER0.1   [AUS 0/0]   \n",
              "2    10140                               AUS 0/0 OSHD OVER0.1   [AUS 0/0]   \n",
              "4    10260                           AUS 0/0 AEADE HD OVER0.1   [AUS 0/0]   \n",
              "6    10380  AUS 0/0 OVER0. AUS WON THE TOSS &ELECTED TOBAT...   [AUS 0/0]   \n",
              "..     ...                                                ...         ...   \n",
              "636  49860                          AUS 1/67 OVER5.3 THISUVER  [AUS 1/67]   \n",
              "638  49980            AUS 1/67 SHD OVER5.3 RUN RATE 12-18 KFC  [AUS 1/67]   \n",
              "700   9720         POWERADE AUS 0/0 OVER0 yEmiras FlyEmirates   [AUS 0/0]   \n",
              "701   9780       POWERADE AUS 0/0 HD OVER0 irates FlyEmirates   [AUS 0/0]   \n",
              "704   9960                            AUS 0/0 OVER0.1 CRERADE   [AUS 0/0]   \n",
              "\n",
              "    score       over over_num  \n",
              "0     0/0  [OVER0.1]      0.1  \n",
              "1     0/0  [OVER0.1]      0.1  \n",
              "2     0/0  [OVER0.1]      0.1  \n",
              "4     0/0  [OVER0.1]      0.1  \n",
              "6     0/0   [OVER0.]       0.  \n",
              "..    ...        ...      ...  \n",
              "636  1/67  [OVER5.3]      5.3  \n",
              "638  1/67  [OVER5.3]      5.3  \n",
              "700   0/0    [OVER0]        0  \n",
              "701   0/0    [OVER0]        0  \n",
              "704   0/0  [OVER0.1]      0.1  \n",
              "\n",
              "[143 rows x 6 columns]"
            ],
            "text/html": [
              "\n",
              "  <div id=\"df-bcc772b5-c6e5-4f23-80a4-cf1c509d76fc\">\n",
              "    <div class=\"colab-df-container\">\n",
              "      <div>\n",
              "<style scoped>\n",
              "    .dataframe tbody tr th:only-of-type {\n",
              "        vertical-align: middle;\n",
              "    }\n",
              "\n",
              "    .dataframe tbody tr th {\n",
              "        vertical-align: top;\n",
              "    }\n",
              "\n",
              "    .dataframe thead th {\n",
              "        text-align: right;\n",
              "    }\n",
              "</style>\n",
              "<table border=\"1\" class=\"dataframe\">\n",
              "  <thead>\n",
              "    <tr style=\"text-align: right;\">\n",
              "      <th></th>\n",
              "      <th>name</th>\n",
              "      <th>0</th>\n",
              "      <th>scorecard</th>\n",
              "      <th>score</th>\n",
              "      <th>over</th>\n",
              "      <th>over_num</th>\n",
              "    </tr>\n",
              "  </thead>\n",
              "  <tbody>\n",
              "    <tr>\n",
              "      <th>0</th>\n",
              "      <td>10020</td>\n",
              "      <td>TPOWER AUS 0/0 TORACE EHD OVER0.1</td>\n",
              "      <td>[AUS 0/0]</td>\n",
              "      <td>0/0</td>\n",
              "      <td>[OVER0.1]</td>\n",
              "      <td>0.1</td>\n",
              "    </tr>\n",
              "    <tr>\n",
              "      <th>1</th>\n",
              "      <td>10080</td>\n",
              "      <td>AUS 0/0 OVER0.1</td>\n",
              "      <td>[AUS 0/0]</td>\n",
              "      <td>0/0</td>\n",
              "      <td>[OVER0.1]</td>\n",
              "      <td>0.1</td>\n",
              "    </tr>\n",
              "    <tr>\n",
              "      <th>2</th>\n",
              "      <td>10140</td>\n",
              "      <td>AUS 0/0 OSHD OVER0.1</td>\n",
              "      <td>[AUS 0/0]</td>\n",
              "      <td>0/0</td>\n",
              "      <td>[OVER0.1]</td>\n",
              "      <td>0.1</td>\n",
              "    </tr>\n",
              "    <tr>\n",
              "      <th>4</th>\n",
              "      <td>10260</td>\n",
              "      <td>AUS 0/0 AEADE HD OVER0.1</td>\n",
              "      <td>[AUS 0/0]</td>\n",
              "      <td>0/0</td>\n",
              "      <td>[OVER0.1]</td>\n",
              "      <td>0.1</td>\n",
              "    </tr>\n",
              "    <tr>\n",
              "      <th>6</th>\n",
              "      <td>10380</td>\n",
              "      <td>AUS 0/0 OVER0. AUS WON THE TOSS &amp;ELECTED TOBAT...</td>\n",
              "      <td>[AUS 0/0]</td>\n",
              "      <td>0/0</td>\n",
              "      <td>[OVER0.]</td>\n",
              "      <td>0.</td>\n",
              "    </tr>\n",
              "    <tr>\n",
              "      <th>...</th>\n",
              "      <td>...</td>\n",
              "      <td>...</td>\n",
              "      <td>...</td>\n",
              "      <td>...</td>\n",
              "      <td>...</td>\n",
              "      <td>...</td>\n",
              "    </tr>\n",
              "    <tr>\n",
              "      <th>636</th>\n",
              "      <td>49860</td>\n",
              "      <td>AUS 1/67 OVER5.3 THISUVER</td>\n",
              "      <td>[AUS 1/67]</td>\n",
              "      <td>1/67</td>\n",
              "      <td>[OVER5.3]</td>\n",
              "      <td>5.3</td>\n",
              "    </tr>\n",
              "    <tr>\n",
              "      <th>638</th>\n",
              "      <td>49980</td>\n",
              "      <td>AUS 1/67 SHD OVER5.3 RUN RATE 12-18 KFC</td>\n",
              "      <td>[AUS 1/67]</td>\n",
              "      <td>1/67</td>\n",
              "      <td>[OVER5.3]</td>\n",
              "      <td>5.3</td>\n",
              "    </tr>\n",
              "    <tr>\n",
              "      <th>700</th>\n",
              "      <td>9720</td>\n",
              "      <td>POWERADE AUS 0/0 OVER0 yEmiras FlyEmirates</td>\n",
              "      <td>[AUS 0/0]</td>\n",
              "      <td>0/0</td>\n",
              "      <td>[OVER0]</td>\n",
              "      <td>0</td>\n",
              "    </tr>\n",
              "    <tr>\n",
              "      <th>701</th>\n",
              "      <td>9780</td>\n",
              "      <td>POWERADE AUS 0/0 HD OVER0 irates FlyEmirates</td>\n",
              "      <td>[AUS 0/0]</td>\n",
              "      <td>0/0</td>\n",
              "      <td>[OVER0]</td>\n",
              "      <td>0</td>\n",
              "    </tr>\n",
              "    <tr>\n",
              "      <th>704</th>\n",
              "      <td>9960</td>\n",
              "      <td>AUS 0/0 OVER0.1 CRERADE</td>\n",
              "      <td>[AUS 0/0]</td>\n",
              "      <td>0/0</td>\n",
              "      <td>[OVER0.1]</td>\n",
              "      <td>0.1</td>\n",
              "    </tr>\n",
              "  </tbody>\n",
              "</table>\n",
              "<p>143 rows × 6 columns</p>\n",
              "</div>\n",
              "      <button class=\"colab-df-convert\" onclick=\"convertToInteractive('df-bcc772b5-c6e5-4f23-80a4-cf1c509d76fc')\"\n",
              "              title=\"Convert this dataframe to an interactive table.\"\n",
              "              style=\"display:none;\">\n",
              "        \n",
              "  <svg xmlns=\"http://www.w3.org/2000/svg\" height=\"24px\"viewBox=\"0 0 24 24\"\n",
              "       width=\"24px\">\n",
              "    <path d=\"M0 0h24v24H0V0z\" fill=\"none\"/>\n",
              "    <path d=\"M18.56 5.44l.94 2.06.94-2.06 2.06-.94-2.06-.94-.94-2.06-.94 2.06-2.06.94zm-11 1L8.5 8.5l.94-2.06 2.06-.94-2.06-.94L8.5 2.5l-.94 2.06-2.06.94zm10 10l.94 2.06.94-2.06 2.06-.94-2.06-.94-.94-2.06-.94 2.06-2.06.94z\"/><path d=\"M17.41 7.96l-1.37-1.37c-.4-.4-.92-.59-1.43-.59-.52 0-1.04.2-1.43.59L10.3 9.45l-7.72 7.72c-.78.78-.78 2.05 0 2.83L4 21.41c.39.39.9.59 1.41.59.51 0 1.02-.2 1.41-.59l7.78-7.78 2.81-2.81c.8-.78.8-2.07 0-2.86zM5.41 20L4 18.59l7.72-7.72 1.47 1.35L5.41 20z\"/>\n",
              "  </svg>\n",
              "      </button>\n",
              "      \n",
              "  <style>\n",
              "    .colab-df-container {\n",
              "      display:flex;\n",
              "      flex-wrap:wrap;\n",
              "      gap: 12px;\n",
              "    }\n",
              "\n",
              "    .colab-df-convert {\n",
              "      background-color: #E8F0FE;\n",
              "      border: none;\n",
              "      border-radius: 50%;\n",
              "      cursor: pointer;\n",
              "      display: none;\n",
              "      fill: #1967D2;\n",
              "      height: 32px;\n",
              "      padding: 0 0 0 0;\n",
              "      width: 32px;\n",
              "    }\n",
              "\n",
              "    .colab-df-convert:hover {\n",
              "      background-color: #E2EBFA;\n",
              "      box-shadow: 0px 1px 2px rgba(60, 64, 67, 0.3), 0px 1px 3px 1px rgba(60, 64, 67, 0.15);\n",
              "      fill: #174EA6;\n",
              "    }\n",
              "\n",
              "    [theme=dark] .colab-df-convert {\n",
              "      background-color: #3B4455;\n",
              "      fill: #D2E3FC;\n",
              "    }\n",
              "\n",
              "    [theme=dark] .colab-df-convert:hover {\n",
              "      background-color: #434B5C;\n",
              "      box-shadow: 0px 1px 3px 1px rgba(0, 0, 0, 0.15);\n",
              "      filter: drop-shadow(0px 1px 2px rgba(0, 0, 0, 0.3));\n",
              "      fill: #FFFFFF;\n",
              "    }\n",
              "  </style>\n",
              "\n",
              "      <script>\n",
              "        const buttonEl =\n",
              "          document.querySelector('#df-bcc772b5-c6e5-4f23-80a4-cf1c509d76fc button.colab-df-convert');\n",
              "        buttonEl.style.display =\n",
              "          google.colab.kernel.accessAllowed ? 'block' : 'none';\n",
              "\n",
              "        async function convertToInteractive(key) {\n",
              "          const element = document.querySelector('#df-bcc772b5-c6e5-4f23-80a4-cf1c509d76fc');\n",
              "          const dataTable =\n",
              "            await google.colab.kernel.invokeFunction('convertToInteractive',\n",
              "                                                     [key], {});\n",
              "          if (!dataTable) return;\n",
              "\n",
              "          const docLinkHtml = 'Like what you see? Visit the ' +\n",
              "            '<a target=\"_blank\" href=https://colab.research.google.com/notebooks/data_table.ipynb>data table notebook</a>'\n",
              "            + ' to learn more about interactive tables.';\n",
              "          element.innerHTML = '';\n",
              "          dataTable['output_type'] = 'display_data';\n",
              "          await google.colab.output.renderOutput(dataTable, element);\n",
              "          const docLink = document.createElement('div');\n",
              "          docLink.innerHTML = docLinkHtml;\n",
              "          element.appendChild(docLink);\n",
              "        }\n",
              "      </script>\n",
              "    </div>\n",
              "  </div>\n",
              "  "
            ]
          },
          "metadata": {},
          "execution_count": 36
        }
      ],
      "source": [
        "ball_df"
      ]
    },
    {
      "cell_type": "code",
      "execution_count": null,
      "metadata": {
        "id": "kB8pOOTypiG8"
      },
      "outputs": [],
      "source": [
        "ball_df= ball_df.sort_values(['name'])"
      ]
    },
    {
      "cell_type": "code",
      "execution_count": null,
      "metadata": {
        "id": "m6IG0QZ1prf1"
      },
      "outputs": [],
      "source": [
        "ball_df['wicket']=ball_df['score'].apply(lambda x:x.split(\"/\")[0])"
      ]
    },
    {
      "cell_type": "code",
      "execution_count": null,
      "metadata": {
        "id": "Z1zvKlTMqDw1"
      },
      "outputs": [],
      "source": [
        "ball_df['score1']=ball_df['score'].apply(lambda x:x.split(\"/\")[1])"
      ]
    },
    {
      "cell_type": "code",
      "execution_count": null,
      "metadata": {
        "id": "RbFi6EMfqLGj"
      },
      "outputs": [],
      "source": [
        "final_df = ball_df[['name','over_num','score1','wicket']]"
      ]
    },
    {
      "cell_type": "code",
      "execution_count": null,
      "metadata": {
        "id": "FtCRYxCrqlHn"
      },
      "outputs": [],
      "source": [
        "final_df[['name','score1','wicket']]=final_df[['name','score1','wicket']].astype(int)\n",
        "final_df['over_num']=final_df['over_num'].astype(float)\n"
      ]
    },
    {
      "cell_type": "code",
      "execution_count": null,
      "metadata": {
        "id": "NVYrbFihq4R3"
      },
      "outputs": [],
      "source": [
        "final_df= final_df.rename(columns={'score1':'score'})"
      ]
    },
    {
      "cell_type": "code",
      "execution_count": null,
      "metadata": {
        "colab": {
          "base_uri": "https://localhost:8080/",
          "height": 331
        },
        "id": "Gr7V7P8-Q6er",
        "outputId": "9a6c1365-7078-4528-86bd-71cfb6afda3a"
      },
      "outputs": [
        {
          "output_type": "execute_result",
          "data": {
            "text/plain": [
              "     name  over_num  score  wicket\n",
              "76  14580       0.5      6       0\n",
              "77  14640       0.5      7       0\n",
              "78  14700       0.5      7       0\n",
              "79  14760       0.5      7       0\n",
              "80  14820       0.5      7       0\n",
              "82  14940       0.5      7       0\n",
              "83  15000       0.5      7       0\n",
              "89  15360       0.5      7       0\n",
              "91  15480       0.5      7       0"
            ],
            "text/html": [
              "\n",
              "  <div id=\"df-73225b2f-5688-4d0b-ac1b-bd7230f4312f\">\n",
              "    <div class=\"colab-df-container\">\n",
              "      <div>\n",
              "<style scoped>\n",
              "    .dataframe tbody tr th:only-of-type {\n",
              "        vertical-align: middle;\n",
              "    }\n",
              "\n",
              "    .dataframe tbody tr th {\n",
              "        vertical-align: top;\n",
              "    }\n",
              "\n",
              "    .dataframe thead th {\n",
              "        text-align: right;\n",
              "    }\n",
              "</style>\n",
              "<table border=\"1\" class=\"dataframe\">\n",
              "  <thead>\n",
              "    <tr style=\"text-align: right;\">\n",
              "      <th></th>\n",
              "      <th>name</th>\n",
              "      <th>over_num</th>\n",
              "      <th>score</th>\n",
              "      <th>wicket</th>\n",
              "    </tr>\n",
              "  </thead>\n",
              "  <tbody>\n",
              "    <tr>\n",
              "      <th>76</th>\n",
              "      <td>14580</td>\n",
              "      <td>0.5</td>\n",
              "      <td>6</td>\n",
              "      <td>0</td>\n",
              "    </tr>\n",
              "    <tr>\n",
              "      <th>77</th>\n",
              "      <td>14640</td>\n",
              "      <td>0.5</td>\n",
              "      <td>7</td>\n",
              "      <td>0</td>\n",
              "    </tr>\n",
              "    <tr>\n",
              "      <th>78</th>\n",
              "      <td>14700</td>\n",
              "      <td>0.5</td>\n",
              "      <td>7</td>\n",
              "      <td>0</td>\n",
              "    </tr>\n",
              "    <tr>\n",
              "      <th>79</th>\n",
              "      <td>14760</td>\n",
              "      <td>0.5</td>\n",
              "      <td>7</td>\n",
              "      <td>0</td>\n",
              "    </tr>\n",
              "    <tr>\n",
              "      <th>80</th>\n",
              "      <td>14820</td>\n",
              "      <td>0.5</td>\n",
              "      <td>7</td>\n",
              "      <td>0</td>\n",
              "    </tr>\n",
              "    <tr>\n",
              "      <th>82</th>\n",
              "      <td>14940</td>\n",
              "      <td>0.5</td>\n",
              "      <td>7</td>\n",
              "      <td>0</td>\n",
              "    </tr>\n",
              "    <tr>\n",
              "      <th>83</th>\n",
              "      <td>15000</td>\n",
              "      <td>0.5</td>\n",
              "      <td>7</td>\n",
              "      <td>0</td>\n",
              "    </tr>\n",
              "    <tr>\n",
              "      <th>89</th>\n",
              "      <td>15360</td>\n",
              "      <td>0.5</td>\n",
              "      <td>7</td>\n",
              "      <td>0</td>\n",
              "    </tr>\n",
              "    <tr>\n",
              "      <th>91</th>\n",
              "      <td>15480</td>\n",
              "      <td>0.5</td>\n",
              "      <td>7</td>\n",
              "      <td>0</td>\n",
              "    </tr>\n",
              "  </tbody>\n",
              "</table>\n",
              "</div>\n",
              "      <button class=\"colab-df-convert\" onclick=\"convertToInteractive('df-73225b2f-5688-4d0b-ac1b-bd7230f4312f')\"\n",
              "              title=\"Convert this dataframe to an interactive table.\"\n",
              "              style=\"display:none;\">\n",
              "        \n",
              "  <svg xmlns=\"http://www.w3.org/2000/svg\" height=\"24px\"viewBox=\"0 0 24 24\"\n",
              "       width=\"24px\">\n",
              "    <path d=\"M0 0h24v24H0V0z\" fill=\"none\"/>\n",
              "    <path d=\"M18.56 5.44l.94 2.06.94-2.06 2.06-.94-2.06-.94-.94-2.06-.94 2.06-2.06.94zm-11 1L8.5 8.5l.94-2.06 2.06-.94-2.06-.94L8.5 2.5l-.94 2.06-2.06.94zm10 10l.94 2.06.94-2.06 2.06-.94-2.06-.94-.94-2.06-.94 2.06-2.06.94z\"/><path d=\"M17.41 7.96l-1.37-1.37c-.4-.4-.92-.59-1.43-.59-.52 0-1.04.2-1.43.59L10.3 9.45l-7.72 7.72c-.78.78-.78 2.05 0 2.83L4 21.41c.39.39.9.59 1.41.59.51 0 1.02-.2 1.41-.59l7.78-7.78 2.81-2.81c.8-.78.8-2.07 0-2.86zM5.41 20L4 18.59l7.72-7.72 1.47 1.35L5.41 20z\"/>\n",
              "  </svg>\n",
              "      </button>\n",
              "      \n",
              "  <style>\n",
              "    .colab-df-container {\n",
              "      display:flex;\n",
              "      flex-wrap:wrap;\n",
              "      gap: 12px;\n",
              "    }\n",
              "\n",
              "    .colab-df-convert {\n",
              "      background-color: #E8F0FE;\n",
              "      border: none;\n",
              "      border-radius: 50%;\n",
              "      cursor: pointer;\n",
              "      display: none;\n",
              "      fill: #1967D2;\n",
              "      height: 32px;\n",
              "      padding: 0 0 0 0;\n",
              "      width: 32px;\n",
              "    }\n",
              "\n",
              "    .colab-df-convert:hover {\n",
              "      background-color: #E2EBFA;\n",
              "      box-shadow: 0px 1px 2px rgba(60, 64, 67, 0.3), 0px 1px 3px 1px rgba(60, 64, 67, 0.15);\n",
              "      fill: #174EA6;\n",
              "    }\n",
              "\n",
              "    [theme=dark] .colab-df-convert {\n",
              "      background-color: #3B4455;\n",
              "      fill: #D2E3FC;\n",
              "    }\n",
              "\n",
              "    [theme=dark] .colab-df-convert:hover {\n",
              "      background-color: #434B5C;\n",
              "      box-shadow: 0px 1px 3px 1px rgba(0, 0, 0, 0.15);\n",
              "      filter: drop-shadow(0px 1px 2px rgba(0, 0, 0, 0.3));\n",
              "      fill: #FFFFFF;\n",
              "    }\n",
              "  </style>\n",
              "\n",
              "      <script>\n",
              "        const buttonEl =\n",
              "          document.querySelector('#df-73225b2f-5688-4d0b-ac1b-bd7230f4312f button.colab-df-convert');\n",
              "        buttonEl.style.display =\n",
              "          google.colab.kernel.accessAllowed ? 'block' : 'none';\n",
              "\n",
              "        async function convertToInteractive(key) {\n",
              "          const element = document.querySelector('#df-73225b2f-5688-4d0b-ac1b-bd7230f4312f');\n",
              "          const dataTable =\n",
              "            await google.colab.kernel.invokeFunction('convertToInteractive',\n",
              "                                                     [key], {});\n",
              "          if (!dataTable) return;\n",
              "\n",
              "          const docLinkHtml = 'Like what you see? Visit the ' +\n",
              "            '<a target=\"_blank\" href=https://colab.research.google.com/notebooks/data_table.ipynb>data table notebook</a>'\n",
              "            + ' to learn more about interactive tables.';\n",
              "          element.innerHTML = '';\n",
              "          dataTable['output_type'] = 'display_data';\n",
              "          await google.colab.output.renderOutput(dataTable, element);\n",
              "          const docLink = document.createElement('div');\n",
              "          docLink.innerHTML = docLinkHtml;\n",
              "          element.appendChild(docLink);\n",
              "        }\n",
              "      </script>\n",
              "    </div>\n",
              "  </div>\n",
              "  "
            ]
          },
          "metadata": {},
          "execution_count": 43
        }
      ],
      "source": [
        "#need to take the first instance in over_num\n",
        "temp=final_df[final_df['over_num']==0.5]\n",
        "temp"
      ]
    },
    {
      "cell_type": "code",
      "execution_count": null,
      "metadata": {
        "id": "YmIsLeMNWPyc"
      },
      "outputs": [],
      "source": [
        "indices= final_df.groupby('over_num').apply(lambda x:x['score'].idxmax()).reset_index()[0].values\n",
        "final_df= final_df.loc[indices]"
      ]
    },
    {
      "cell_type": "code",
      "execution_count": null,
      "metadata": {
        "id": "f1Tvb3jjqYNH"
      },
      "outputs": [],
      "source": [
        "final_df = final_df.sort_values(['over_num','score'])"
      ]
    },
    {
      "cell_type": "code",
      "execution_count": null,
      "metadata": {
        "id": "_R5Y6b_40ARr"
      },
      "outputs": [],
      "source": [
        "score= final_df['score'].values\n",
        "diff= score[1:]-score[:-1]\n",
        "indices= np.where(diff>=4)[0]"
      ]
    },
    {
      "cell_type": "code",
      "execution_count": null,
      "metadata": {
        "id": "m5-P90zB0cYD"
      },
      "outputs": [],
      "source": [
        "boundaries_df= final_df.iloc[indices+1]"
      ]
    },
    {
      "cell_type": "code",
      "execution_count": null,
      "metadata": {
        "id": "c4atFdtY0rZn"
      },
      "outputs": [],
      "source": [
        "wicket= final_df['wicket'].values\n",
        "diff= wicket[1:]-wicket[:-1]\n",
        "indices= np.where(diff==1)[0]"
      ]
    },
    {
      "cell_type": "code",
      "execution_count": null,
      "metadata": {
        "id": "Ou7LV1WV08Nd"
      },
      "outputs": [],
      "source": [
        "wickets_df= final_df.iloc[indices+1]"
      ]
    },
    {
      "cell_type": "code",
      "execution_count": null,
      "metadata": {
        "id": "2w0aoR0j1EUj"
      },
      "outputs": [],
      "source": [
        "highlights_df= pd.concat([boundaries_df,wickets_df])"
      ]
    },
    {
      "cell_type": "code",
      "execution_count": null,
      "metadata": {
        "id": "HzwqPhnK1Lw7"
      },
      "outputs": [],
      "source": [
        "highlights_df= highlights_df.sort_values(['name'])"
      ]
    },
    {
      "cell_type": "code",
      "execution_count": null,
      "metadata": {
        "colab": {
          "base_uri": "https://localhost:8080/",
          "height": 206
        },
        "id": "OJLBFhtnBXhi",
        "outputId": "4ecf8e54-6a9c-4682-ce80-f8cf79983903"
      },
      "outputs": [
        {
          "output_type": "execute_result",
          "data": {
            "text/plain": [
              "      name  over_num  score  wicket\n",
              "77   14640       0.5      7       0\n",
              "102  16140       0.1      8       0\n",
              "129  17760       1.2     12       0\n",
              "172  20340       1.0     13       0\n",
              "183  21000       1.5     17       0"
            ],
            "text/html": [
              "\n",
              "  <div id=\"df-69f7f11a-12fb-41af-8a50-efaad3660533\">\n",
              "    <div class=\"colab-df-container\">\n",
              "      <div>\n",
              "<style scoped>\n",
              "    .dataframe tbody tr th:only-of-type {\n",
              "        vertical-align: middle;\n",
              "    }\n",
              "\n",
              "    .dataframe tbody tr th {\n",
              "        vertical-align: top;\n",
              "    }\n",
              "\n",
              "    .dataframe thead th {\n",
              "        text-align: right;\n",
              "    }\n",
              "</style>\n",
              "<table border=\"1\" class=\"dataframe\">\n",
              "  <thead>\n",
              "    <tr style=\"text-align: right;\">\n",
              "      <th></th>\n",
              "      <th>name</th>\n",
              "      <th>over_num</th>\n",
              "      <th>score</th>\n",
              "      <th>wicket</th>\n",
              "    </tr>\n",
              "  </thead>\n",
              "  <tbody>\n",
              "    <tr>\n",
              "      <th>77</th>\n",
              "      <td>14640</td>\n",
              "      <td>0.5</td>\n",
              "      <td>7</td>\n",
              "      <td>0</td>\n",
              "    </tr>\n",
              "    <tr>\n",
              "      <th>102</th>\n",
              "      <td>16140</td>\n",
              "      <td>0.1</td>\n",
              "      <td>8</td>\n",
              "      <td>0</td>\n",
              "    </tr>\n",
              "    <tr>\n",
              "      <th>129</th>\n",
              "      <td>17760</td>\n",
              "      <td>1.2</td>\n",
              "      <td>12</td>\n",
              "      <td>0</td>\n",
              "    </tr>\n",
              "    <tr>\n",
              "      <th>172</th>\n",
              "      <td>20340</td>\n",
              "      <td>1.0</td>\n",
              "      <td>13</td>\n",
              "      <td>0</td>\n",
              "    </tr>\n",
              "    <tr>\n",
              "      <th>183</th>\n",
              "      <td>21000</td>\n",
              "      <td>1.5</td>\n",
              "      <td>17</td>\n",
              "      <td>0</td>\n",
              "    </tr>\n",
              "  </tbody>\n",
              "</table>\n",
              "</div>\n",
              "      <button class=\"colab-df-convert\" onclick=\"convertToInteractive('df-69f7f11a-12fb-41af-8a50-efaad3660533')\"\n",
              "              title=\"Convert this dataframe to an interactive table.\"\n",
              "              style=\"display:none;\">\n",
              "        \n",
              "  <svg xmlns=\"http://www.w3.org/2000/svg\" height=\"24px\"viewBox=\"0 0 24 24\"\n",
              "       width=\"24px\">\n",
              "    <path d=\"M0 0h24v24H0V0z\" fill=\"none\"/>\n",
              "    <path d=\"M18.56 5.44l.94 2.06.94-2.06 2.06-.94-2.06-.94-.94-2.06-.94 2.06-2.06.94zm-11 1L8.5 8.5l.94-2.06 2.06-.94-2.06-.94L8.5 2.5l-.94 2.06-2.06.94zm10 10l.94 2.06.94-2.06 2.06-.94-2.06-.94-.94-2.06-.94 2.06-2.06.94z\"/><path d=\"M17.41 7.96l-1.37-1.37c-.4-.4-.92-.59-1.43-.59-.52 0-1.04.2-1.43.59L10.3 9.45l-7.72 7.72c-.78.78-.78 2.05 0 2.83L4 21.41c.39.39.9.59 1.41.59.51 0 1.02-.2 1.41-.59l7.78-7.78 2.81-2.81c.8-.78.8-2.07 0-2.86zM5.41 20L4 18.59l7.72-7.72 1.47 1.35L5.41 20z\"/>\n",
              "  </svg>\n",
              "      </button>\n",
              "      \n",
              "  <style>\n",
              "    .colab-df-container {\n",
              "      display:flex;\n",
              "      flex-wrap:wrap;\n",
              "      gap: 12px;\n",
              "    }\n",
              "\n",
              "    .colab-df-convert {\n",
              "      background-color: #E8F0FE;\n",
              "      border: none;\n",
              "      border-radius: 50%;\n",
              "      cursor: pointer;\n",
              "      display: none;\n",
              "      fill: #1967D2;\n",
              "      height: 32px;\n",
              "      padding: 0 0 0 0;\n",
              "      width: 32px;\n",
              "    }\n",
              "\n",
              "    .colab-df-convert:hover {\n",
              "      background-color: #E2EBFA;\n",
              "      box-shadow: 0px 1px 2px rgba(60, 64, 67, 0.3), 0px 1px 3px 1px rgba(60, 64, 67, 0.15);\n",
              "      fill: #174EA6;\n",
              "    }\n",
              "\n",
              "    [theme=dark] .colab-df-convert {\n",
              "      background-color: #3B4455;\n",
              "      fill: #D2E3FC;\n",
              "    }\n",
              "\n",
              "    [theme=dark] .colab-df-convert:hover {\n",
              "      background-color: #434B5C;\n",
              "      box-shadow: 0px 1px 3px 1px rgba(0, 0, 0, 0.15);\n",
              "      filter: drop-shadow(0px 1px 2px rgba(0, 0, 0, 0.3));\n",
              "      fill: #FFFFFF;\n",
              "    }\n",
              "  </style>\n",
              "\n",
              "      <script>\n",
              "        const buttonEl =\n",
              "          document.querySelector('#df-69f7f11a-12fb-41af-8a50-efaad3660533 button.colab-df-convert');\n",
              "        buttonEl.style.display =\n",
              "          google.colab.kernel.accessAllowed ? 'block' : 'none';\n",
              "\n",
              "        async function convertToInteractive(key) {\n",
              "          const element = document.querySelector('#df-69f7f11a-12fb-41af-8a50-efaad3660533');\n",
              "          const dataTable =\n",
              "            await google.colab.kernel.invokeFunction('convertToInteractive',\n",
              "                                                     [key], {});\n",
              "          if (!dataTable) return;\n",
              "\n",
              "          const docLinkHtml = 'Like what you see? Visit the ' +\n",
              "            '<a target=\"_blank\" href=https://colab.research.google.com/notebooks/data_table.ipynb>data table notebook</a>'\n",
              "            + ' to learn more about interactive tables.';\n",
              "          element.innerHTML = '';\n",
              "          dataTable['output_type'] = 'display_data';\n",
              "          await google.colab.output.renderOutput(dataTable, element);\n",
              "          const docLink = document.createElement('div');\n",
              "          docLink.innerHTML = docLinkHtml;\n",
              "          element.appendChild(docLink);\n",
              "        }\n",
              "      </script>\n",
              "    </div>\n",
              "  </div>\n",
              "  "
            ]
          },
          "metadata": {},
          "execution_count": 52
        }
      ],
      "source": [
        "highlights_df"
      ]
    },
    {
      "cell_type": "code",
      "execution_count": null,
      "metadata": {
        "id": "xL_MNKTY7WZz"
      },
      "outputs": [],
      "source": [
        "highlights_df['name']= highlights_df['name']"
      ]
    },
    {
      "cell_type": "code",
      "execution_count": null,
      "metadata": {
        "id": "EMpKkgD4IAtZ"
      },
      "outputs": [],
      "source": [
        "highlights_df['time']=highlights_df['name']/fps"
      ]
    },
    {
      "cell_type": "code",
      "execution_count": null,
      "metadata": {
        "id": "rVnhEbsBIKFJ"
      },
      "outputs": [],
      "source": [
        "highlights_df['time']= highlights_df['time'].astype(int)"
      ]
    },
    {
      "cell_type": "code",
      "execution_count": null,
      "metadata": {
        "colab": {
          "base_uri": "https://localhost:8080/",
          "height": 206
        },
        "id": "gl4StqnLsxyu",
        "outputId": "0110e090-6ec5-46aa-dad4-aaf15dc06e22"
      },
      "outputs": [
        {
          "output_type": "execute_result",
          "data": {
            "text/plain": [
              "      name  over_num  score  wicket  time\n",
              "77   14640       0.5      7       0   488\n",
              "102  16140       0.1      8       0   538\n",
              "129  17760       1.2     12       0   592\n",
              "172  20340       1.0     13       0   678\n",
              "183  21000       1.5     17       0   700"
            ],
            "text/html": [
              "\n",
              "  <div id=\"df-1429995d-dcf1-45e3-8e07-eb56e2d214ed\">\n",
              "    <div class=\"colab-df-container\">\n",
              "      <div>\n",
              "<style scoped>\n",
              "    .dataframe tbody tr th:only-of-type {\n",
              "        vertical-align: middle;\n",
              "    }\n",
              "\n",
              "    .dataframe tbody tr th {\n",
              "        vertical-align: top;\n",
              "    }\n",
              "\n",
              "    .dataframe thead th {\n",
              "        text-align: right;\n",
              "    }\n",
              "</style>\n",
              "<table border=\"1\" class=\"dataframe\">\n",
              "  <thead>\n",
              "    <tr style=\"text-align: right;\">\n",
              "      <th></th>\n",
              "      <th>name</th>\n",
              "      <th>over_num</th>\n",
              "      <th>score</th>\n",
              "      <th>wicket</th>\n",
              "      <th>time</th>\n",
              "    </tr>\n",
              "  </thead>\n",
              "  <tbody>\n",
              "    <tr>\n",
              "      <th>77</th>\n",
              "      <td>14640</td>\n",
              "      <td>0.5</td>\n",
              "      <td>7</td>\n",
              "      <td>0</td>\n",
              "      <td>488</td>\n",
              "    </tr>\n",
              "    <tr>\n",
              "      <th>102</th>\n",
              "      <td>16140</td>\n",
              "      <td>0.1</td>\n",
              "      <td>8</td>\n",
              "      <td>0</td>\n",
              "      <td>538</td>\n",
              "    </tr>\n",
              "    <tr>\n",
              "      <th>129</th>\n",
              "      <td>17760</td>\n",
              "      <td>1.2</td>\n",
              "      <td>12</td>\n",
              "      <td>0</td>\n",
              "      <td>592</td>\n",
              "    </tr>\n",
              "    <tr>\n",
              "      <th>172</th>\n",
              "      <td>20340</td>\n",
              "      <td>1.0</td>\n",
              "      <td>13</td>\n",
              "      <td>0</td>\n",
              "      <td>678</td>\n",
              "    </tr>\n",
              "    <tr>\n",
              "      <th>183</th>\n",
              "      <td>21000</td>\n",
              "      <td>1.5</td>\n",
              "      <td>17</td>\n",
              "      <td>0</td>\n",
              "      <td>700</td>\n",
              "    </tr>\n",
              "  </tbody>\n",
              "</table>\n",
              "</div>\n",
              "      <button class=\"colab-df-convert\" onclick=\"convertToInteractive('df-1429995d-dcf1-45e3-8e07-eb56e2d214ed')\"\n",
              "              title=\"Convert this dataframe to an interactive table.\"\n",
              "              style=\"display:none;\">\n",
              "        \n",
              "  <svg xmlns=\"http://www.w3.org/2000/svg\" height=\"24px\"viewBox=\"0 0 24 24\"\n",
              "       width=\"24px\">\n",
              "    <path d=\"M0 0h24v24H0V0z\" fill=\"none\"/>\n",
              "    <path d=\"M18.56 5.44l.94 2.06.94-2.06 2.06-.94-2.06-.94-.94-2.06-.94 2.06-2.06.94zm-11 1L8.5 8.5l.94-2.06 2.06-.94-2.06-.94L8.5 2.5l-.94 2.06-2.06.94zm10 10l.94 2.06.94-2.06 2.06-.94-2.06-.94-.94-2.06-.94 2.06-2.06.94z\"/><path d=\"M17.41 7.96l-1.37-1.37c-.4-.4-.92-.59-1.43-.59-.52 0-1.04.2-1.43.59L10.3 9.45l-7.72 7.72c-.78.78-.78 2.05 0 2.83L4 21.41c.39.39.9.59 1.41.59.51 0 1.02-.2 1.41-.59l7.78-7.78 2.81-2.81c.8-.78.8-2.07 0-2.86zM5.41 20L4 18.59l7.72-7.72 1.47 1.35L5.41 20z\"/>\n",
              "  </svg>\n",
              "      </button>\n",
              "      \n",
              "  <style>\n",
              "    .colab-df-container {\n",
              "      display:flex;\n",
              "      flex-wrap:wrap;\n",
              "      gap: 12px;\n",
              "    }\n",
              "\n",
              "    .colab-df-convert {\n",
              "      background-color: #E8F0FE;\n",
              "      border: none;\n",
              "      border-radius: 50%;\n",
              "      cursor: pointer;\n",
              "      display: none;\n",
              "      fill: #1967D2;\n",
              "      height: 32px;\n",
              "      padding: 0 0 0 0;\n",
              "      width: 32px;\n",
              "    }\n",
              "\n",
              "    .colab-df-convert:hover {\n",
              "      background-color: #E2EBFA;\n",
              "      box-shadow: 0px 1px 2px rgba(60, 64, 67, 0.3), 0px 1px 3px 1px rgba(60, 64, 67, 0.15);\n",
              "      fill: #174EA6;\n",
              "    }\n",
              "\n",
              "    [theme=dark] .colab-df-convert {\n",
              "      background-color: #3B4455;\n",
              "      fill: #D2E3FC;\n",
              "    }\n",
              "\n",
              "    [theme=dark] .colab-df-convert:hover {\n",
              "      background-color: #434B5C;\n",
              "      box-shadow: 0px 1px 3px 1px rgba(0, 0, 0, 0.15);\n",
              "      filter: drop-shadow(0px 1px 2px rgba(0, 0, 0, 0.3));\n",
              "      fill: #FFFFFF;\n",
              "    }\n",
              "  </style>\n",
              "\n",
              "      <script>\n",
              "        const buttonEl =\n",
              "          document.querySelector('#df-1429995d-dcf1-45e3-8e07-eb56e2d214ed button.colab-df-convert');\n",
              "        buttonEl.style.display =\n",
              "          google.colab.kernel.accessAllowed ? 'block' : 'none';\n",
              "\n",
              "        async function convertToInteractive(key) {\n",
              "          const element = document.querySelector('#df-1429995d-dcf1-45e3-8e07-eb56e2d214ed');\n",
              "          const dataTable =\n",
              "            await google.colab.kernel.invokeFunction('convertToInteractive',\n",
              "                                                     [key], {});\n",
              "          if (!dataTable) return;\n",
              "\n",
              "          const docLinkHtml = 'Like what you see? Visit the ' +\n",
              "            '<a target=\"_blank\" href=https://colab.research.google.com/notebooks/data_table.ipynb>data table notebook</a>'\n",
              "            + ' to learn more about interactive tables.';\n",
              "          element.innerHTML = '';\n",
              "          dataTable['output_type'] = 'display_data';\n",
              "          await google.colab.output.renderOutput(dataTable, element);\n",
              "          const docLink = document.createElement('div');\n",
              "          docLink.innerHTML = docLinkHtml;\n",
              "          element.appendChild(docLink);\n",
              "        }\n",
              "      </script>\n",
              "    </div>\n",
              "  </div>\n",
              "  "
            ]
          },
          "metadata": {},
          "execution_count": 56
        }
      ],
      "source": [
        "highlights_df"
      ]
    },
    {
      "cell_type": "code",
      "execution_count": null,
      "metadata": {
        "id": "o4VQQ-0m7Pjv"
      },
      "outputs": [],
      "source": [
        "time_list= highlights_df['time'].values"
      ]
    },
    {
      "cell_type": "code",
      "execution_count": null,
      "metadata": {
        "id": "gRZtywW994Qk"
      },
      "outputs": [],
      "source": [
        "!rmdir highlights\n",
        "!mkdir highlights"
      ]
    },
    {
      "cell_type": "code",
      "execution_count": null,
      "metadata": {
        "id": "8Q4krEJn9NYD"
      },
      "outputs": [],
      "source": [
        "%%time\n",
        "cnt=1\n",
        "for end in time_list:\n",
        "  start=end-10\n",
        "  name=str(cnt)+\".mp4\"\n",
        "  !ffmpeg -y -i $path -ss $start -t 10 $name\n",
        "  cnt=cnt+1"
      ]
    },
    {
      "cell_type": "code",
      "execution_count": null,
      "metadata": {
        "colab": {
          "base_uri": "https://localhost:8080/"
        },
        "id": "VC6lU6doGAtT",
        "outputId": "3769429e-1777-4d3e-a5ae-4aeae97f8a66"
      },
      "outputs": [
        {
          "output_type": "stream",
          "name": "stdout",
          "text": [
            "rm: cannot remove 'merge.txt': No such file or directory\n"
          ]
        }
      ],
      "source": [
        "!rm merge.txt\n",
        "!touch merge.txt"
      ]
    },
    {
      "cell_type": "code",
      "execution_count": null,
      "metadata": {
        "id": "mDzVfMB6HTc2"
      },
      "outputs": [],
      "source": [
        "for i in range(len(highlights_df)):\n",
        "  name='file'+' '+str(i+1)+\".mp4\"\n",
        "  !echo $name >> merge.txt"
      ]
    },
    {
      "cell_type": "code",
      "execution_count": null,
      "metadata": {
        "id": "ErmZOFaL97DE",
        "colab": {
          "base_uri": "https://localhost:8080/"
        },
        "outputId": "acb77809-23fa-4795-b188-350a90ad282c"
      },
      "outputs": [
        {
          "output_type": "stream",
          "name": "stdout",
          "text": [
            "ffmpeg version 4.2.7-0ubuntu0.1 Copyright (c) 2000-2022 the FFmpeg developers\n",
            "  built with gcc 9 (Ubuntu 9.4.0-1ubuntu1~20.04.1)\n",
            "  configuration: --prefix=/usr --extra-version=0ubuntu0.1 --toolchain=hardened --libdir=/usr/lib/x86_64-linux-gnu --incdir=/usr/include/x86_64-linux-gnu --arch=amd64 --enable-gpl --disable-stripping --enable-avresample --disable-filter=resample --enable-avisynth --enable-gnutls --enable-ladspa --enable-libaom --enable-libass --enable-libbluray --enable-libbs2b --enable-libcaca --enable-libcdio --enable-libcodec2 --enable-libflite --enable-libfontconfig --enable-libfreetype --enable-libfribidi --enable-libgme --enable-libgsm --enable-libjack --enable-libmp3lame --enable-libmysofa --enable-libopenjpeg --enable-libopenmpt --enable-libopus --enable-libpulse --enable-librsvg --enable-librubberband --enable-libshine --enable-libsnappy --enable-libsoxr --enable-libspeex --enable-libssh --enable-libtheora --enable-libtwolame --enable-libvidstab --enable-libvorbis --enable-libvpx --enable-libwavpack --enable-libwebp --enable-libx265 --enable-libxml2 --enable-libxvid --enable-libzmq --enable-libzvbi --enable-lv2 --enable-omx --enable-openal --enable-opencl --enable-opengl --enable-sdl2 --enable-libdc1394 --enable-libdrm --enable-libiec61883 --enable-nvenc --enable-chromaprint --enable-frei0r --enable-libx264 --enable-shared\n",
            "  libavutil      56. 31.100 / 56. 31.100\n",
            "  libavcodec     58. 54.100 / 58. 54.100\n",
            "  libavformat    58. 29.100 / 58. 29.100\n",
            "  libavdevice    58.  8.100 / 58.  8.100\n",
            "  libavfilter     7. 57.100 /  7. 57.100\n",
            "  libavresample   4.  0.  0 /  4.  0.  0\n",
            "  libswscale      5.  5.100 /  5.  5.100\n",
            "  libswresample   3.  5.100 /  3.  5.100\n",
            "  libpostproc    55.  5.100 / 55.  5.100\n",
            "\u001b[0;35m[mov,mp4,m4a,3gp,3g2,mj2 @ 0x556149b092c0] \u001b[0mAuto-inserting h264_mp4toannexb bitstream filter\n",
            "Input #0, concat, from 'merge.txt':\n",
            "  Duration: N/A, start: -0.023220, bitrate: 857 kb/s\n",
            "    Stream #0:0(und): Video: h264 (High) (avc1 / 0x31637661), yuv420p, 640x360 [SAR 1:1 DAR 16:9], 729 kb/s, 30 fps, 30 tbr, 15360 tbn, 60 tbc\n",
            "    Metadata:\n",
            "      handler_name    : ISO Media file produced by Google Inc. Created on: 05/03/2020.\n",
            "    Stream #0:1(eng): Audio: aac (LC) (mp4a / 0x6134706D), 44100 Hz, stereo, fltp, 128 kb/s\n",
            "    Metadata:\n",
            "      handler_name    : ISO Media file produced by Google Inc. Created on: 05/03/2020.\n",
            "Output #0, mp4, to 'highlights.mp4':\n",
            "  Metadata:\n",
            "    encoder         : Lavf58.29.100\n",
            "    Stream #0:0(und): Video: h264 (High) (avc1 / 0x31637661), yuv420p, 640x360 [SAR 1:1 DAR 16:9], q=2-31, 729 kb/s, 30 fps, 30 tbr, 15360 tbn, 15360 tbc\n",
            "    Metadata:\n",
            "      handler_name    : ISO Media file produced by Google Inc. Created on: 05/03/2020.\n",
            "    Stream #0:1(eng): Audio: aac (LC) (mp4a / 0x6134706D), 44100 Hz, stereo, fltp, 128 kb/s\n",
            "    Metadata:\n",
            "      handler_name    : ISO Media file produced by Google Inc. Created on: 05/03/2020.\n",
            "Stream mapping:\n",
            "  Stream #0:0 -> #0:0 (copy)\n",
            "  Stream #0:1 -> #0:1 (copy)\n",
            "Press [q] to stop, [?] for help\n",
            "\u001b[0;35m[mov,mp4,m4a,3gp,3g2,mj2 @ 0x556149b092c0] \u001b[0mAuto-inserting h264_mp4toannexb bitstream filter\n",
            "    Last message repeated 1 times\r    Last message repeated 2 times\r    Last message repeated 3 times\r    Last message repeated 3 times\n",
            "frame= 1500 fps=0.0 q=-1.0 Lsize=    5079kB time=00:00:50.10 bitrate= 830.4kbits/s speed= 763x    \n",
            "video:4239kB audio:786kB subtitle:0kB other streams:0kB global headers:0kB muxing overhead: 1.065899%\n"
          ]
        }
      ],
      "source": [
        "!ffmpeg -f concat -i merge.txt -c copy highlights.mp4"
      ]
    },
    {
      "cell_type": "code",
      "execution_count": null,
      "metadata": {
        "id": "PTSq4IexZ6O0",
        "colab": {
          "base_uri": "https://localhost:8080/",
          "height": 17
        },
        "outputId": "e6bc10da-de91-49f6-8979-86080962842c"
      },
      "outputs": [
        {
          "output_type": "display_data",
          "data": {
            "text/plain": [
              "<IPython.core.display.Javascript object>"
            ],
            "application/javascript": [
              "\n",
              "    async function download(id, filename, size) {\n",
              "      if (!google.colab.kernel.accessAllowed) {\n",
              "        return;\n",
              "      }\n",
              "      const div = document.createElement('div');\n",
              "      const label = document.createElement('label');\n",
              "      label.textContent = `Downloading \"${filename}\": `;\n",
              "      div.appendChild(label);\n",
              "      const progress = document.createElement('progress');\n",
              "      progress.max = size;\n",
              "      div.appendChild(progress);\n",
              "      document.body.appendChild(div);\n",
              "\n",
              "      const buffers = [];\n",
              "      let downloaded = 0;\n",
              "\n",
              "      const channel = await google.colab.kernel.comms.open(id);\n",
              "      // Send a message to notify the kernel that we're ready.\n",
              "      channel.send({})\n",
              "\n",
              "      for await (const message of channel.messages) {\n",
              "        // Send a message to notify the kernel that we're ready.\n",
              "        channel.send({})\n",
              "        if (message.buffers) {\n",
              "          for (const buffer of message.buffers) {\n",
              "            buffers.push(buffer);\n",
              "            downloaded += buffer.byteLength;\n",
              "            progress.value = downloaded;\n",
              "          }\n",
              "        }\n",
              "      }\n",
              "      const blob = new Blob(buffers, {type: 'application/binary'});\n",
              "      const a = document.createElement('a');\n",
              "      a.href = window.URL.createObjectURL(blob);\n",
              "      a.download = filename;\n",
              "      div.appendChild(a);\n",
              "      a.click();\n",
              "      div.remove();\n",
              "    }\n",
              "  "
            ]
          },
          "metadata": {}
        },
        {
          "output_type": "display_data",
          "data": {
            "text/plain": [
              "<IPython.core.display.Javascript object>"
            ],
            "application/javascript": [
              "download(\"download_02577ee5-291c-4a0f-a9d2-33469f66faa7\", \"highlights.mp4\", 5200646)"
            ]
          },
          "metadata": {}
        }
      ],
      "source": [
        "from google.colab import files\n",
        "files.download(\"highlights.mp4\")"
      ]
    },
    {
      "cell_type": "code",
      "execution_count": null,
      "metadata": {
        "id": "SsFXhCrdZ6RK"
      },
      "outputs": [],
      "source": []
    },
    {
      "cell_type": "code",
      "execution_count": null,
      "metadata": {
        "id": "FxYqCrkhZ6Tp"
      },
      "outputs": [],
      "source": []
    },
    {
      "cell_type": "code",
      "execution_count": null,
      "metadata": {
        "id": "XKQs1QnFs7Cj"
      },
      "outputs": [],
      "source": []
    },
    {
      "cell_type": "code",
      "execution_count": null,
      "metadata": {
        "id": "6a-AQUaJs7GW"
      },
      "outputs": [],
      "source": []
    },
    {
      "cell_type": "code",
      "execution_count": null,
      "metadata": {
        "id": "Mn_D8MzKs4Fh"
      },
      "outputs": [],
      "source": []
    }
  ],
  "metadata": {
    "colab": {
      "provenance": []
    },
    "gpuClass": "standard",
    "kernelspec": {
      "display_name": "Python 3",
      "name": "python3"
    }
  },
  "nbformat": 4,
  "nbformat_minor": 0
}