{
  "cells": [
    {
      "cell_type": "code",
      "execution_count": null,
      "metadata": {
        "colab": {
          "base_uri": "https://localhost:8080/"
        },
        "id": "1uSpiPOCKMUg",
        "outputId": "1417bf15-2b8b-47b9-80e4-4a7f6d19e613"
      },
      "outputs": [
        {
          "output_type": "stream",
          "name": "stdout",
          "text": [
            "Mounted at /content/drive\n"
          ]
        }
      ],
      "source": [
        "from google.colab import drive\n",
        "drive.mount('/content/drive')"
      ]
    },
    {
      "cell_type": "code",
      "execution_count": null,
      "metadata": {
        "id": "T9jyw0OD-p8e"
      },
      "outputs": [],
      "source": [
        "!pip install imageio==2.4.1"
      ]
    },
    {
      "cell_type": "code",
      "execution_count": null,
      "metadata": {
        "id": "aGvfwX6vxOW_"
      },
      "outputs": [],
      "source": [
        "#installing paddleocr\n",
        "!pip install \"paddleocr>=2.0.1\""
      ]
    },
    {
      "cell_type": "code",
      "execution_count": null,
      "metadata": {
        "id": "PMSNnL0drPC9"
      },
      "outputs": [],
      "source": [
        "!pip install paddlepaddle"
      ]
    },
    {
      "cell_type": "code",
      "execution_count": null,
      "metadata": {
        "id": "oaoMTizcxOaA"
      },
      "outputs": [],
      "source": [
        "from paddleocr import PaddleOCR,draw_ocr\n",
        "# Paddleocr supports Chinese, English, French, German, Korean and Japanese.\n",
        "# You can set the parameter `lang` as `ch`, `en`, `fr`, `german`, `korean`, `japan`\n",
        "# to switch the language model in order.\n",
        "ocr = PaddleOCR(use_angle_cls=True, lang='en') # need to run only once to download and load model into memory"
      ]
    },
    {
      "cell_type": "code",
      "execution_count": null,
      "metadata": {
        "id": "SnHHbfYXKdqo"
      },
      "outputs": [],
      "source": [
        "#path to video\n",
        "path='/content/drive/MyDrive/video.mp4'"
      ]
    },
    {
      "cell_type": "code",
      "execution_count": null,
      "metadata": {
        "id": "JCruh4QcUexK"
      },
      "outputs": [],
      "source": [
        "#mention the time interval to process\n",
        "import cv2\n",
        "cap = cv2.VideoCapture(path)\n",
        "fps = cap.get(cv2.CAP_PROP_FPS)\n",
        "start=int(60*3*fps)\n",
        "end  =int(start+60*25*fps)"
      ]
    },
    {
      "cell_type": "code",
      "execution_count": null,
      "metadata": {
        "id": "vcle0QvCU-MH"
      },
      "outputs": [],
      "source": [
        "start,end"
      ]
    },
    {
      "cell_type": "code",
      "execution_count": null,
      "metadata": {
        "id": "6JFxglq1MMGF"
      },
      "outputs": [],
      "source": [
        "!rm -rf frames/*\n",
        "!mkdir frames"
      ]
    },
    {
      "cell_type": "code",
      "source": [
        "ls\n"
      ],
      "metadata": {
        "id": "uVSc--Gh0NU0"
      },
      "execution_count": null,
      "outputs": []
    },
    {
      "cell_type": "code",
      "execution_count": null,
      "metadata": {
        "id": "KWj48xdnK-S8"
      },
      "outputs": [],
      "source": [
        "#reading video and saving frames to folder for every 2 sec\n",
        "import cv2\n",
        " \n",
        "# Check if camera opened successfully\n",
        "if (cap.isOpened()== False): \n",
        "  print(\"Error opening video stream or file\")\n",
        " \n",
        "cnt=1 \n",
        "\n",
        "# Read until video is completed\n",
        "while(cap.isOpened()):\n",
        "  # Capture frame-by-frame\n",
        "  ret, frame = cap.read()\n",
        "  if ret == True:\n",
        "\n",
        "    if cnt>=start and cnt<=end:\n",
        "\n",
        "      if cnt%60==0:\n",
        "\n",
        "        print(\"saved frame no. \"+str(cnt))\n",
        "\n",
        "        #Display the resulting frame\n",
        "        cv2.imwrite('frames/'+str(cnt)+\".png\",frame)\n",
        "  \n",
        "    # Press Q on keyboard to  exit\n",
        "    if cv2.waitKey(25) & 0xFF == ord('q'):\n",
        "      break\n",
        "\n",
        "    if cnt>end:\n",
        "      break\n",
        " \n",
        "  # Break the loop\n",
        "  else: \n",
        "    break\n",
        "  \n",
        "  cnt=cnt+1\n",
        "\n",
        "# When everything done, release the video capture object\n",
        "cap.release()\n",
        " \n",
        "# Closes all the frames\n",
        "cv2.destroyAllWindows()"
      ]
    },
    {
      "cell_type": "code",
      "execution_count": null,
      "metadata": {
        "id": "U97-wUm4MHrc"
      },
      "outputs": [],
      "source": [
        "import os,re\n",
        "names= os.listdir(\"frames\")\n",
        "names.sort(key=lambda f: int(re.sub('\\D', '', f)))"
      ]
    },
    {
      "cell_type": "code",
      "execution_count": null,
      "metadata": {
        "id": "kN21mqvj5PQA"
      },
      "outputs": [],
      "source": [
        "names[:5]"
      ]
    },
    {
      "cell_type": "code",
      "execution_count": null,
      "metadata": {
        "id": "H3VNlz_ExOc0"
      },
      "outputs": [],
      "source": [
        "import numpy as np\n",
        "from tqdm import tqdm\n",
        "name_list=[]\n",
        "text_list=[]\n",
        "conf_list=[]\n",
        "\n",
        "for i in tqdm(np.arange(0,len(names))):\n",
        "  img_path = 'frames/'+names[i]\n",
        "  result = ocr.ocr(img_path, cls=True)\n",
        "  \n",
        "  #print(result)\n",
        "  #print(\"---------\")\n",
        "\n",
        "  for idx in range(len(result)):\n",
        "    res = result[idx]\n",
        "    for line in res:\n",
        "      text,conf= line[1]\n",
        "      name_list.append(names[i][:-4])\n",
        "      text_list.append(text)\n",
        "      conf_list.append(conf)"
      ]
    },
    {
      "cell_type": "code",
      "execution_count": null,
      "metadata": {
        "id": "PvpLlyy3xOfc"
      },
      "outputs": [],
      "source": [
        "import pandas as pd\n",
        "df=pd.DataFrame({'name':name_list,\"text\":text_list,\"conf\":conf_list})"
      ]
    },
    {
      "cell_type": "code",
      "execution_count": null,
      "metadata": {
        "id": "Rxg_i5WQ5Fqh"
      },
      "outputs": [],
      "source": [
        "df.head()"
      ]
    },
    {
      "cell_type": "code",
      "execution_count": null,
      "metadata": {
        "id": "AE7BGwugxOkt"
      },
      "outputs": [],
      "source": [
        "text_df= df.groupby('name').apply(lambda x:\" \".join(x['text'])).reset_index()"
      ]
    },
    {
      "cell_type": "code",
      "execution_count": null,
      "metadata": {
        "id": "eqlbGLhhxOnd"
      },
      "outputs": [],
      "source": [
        "text_df['scorecard']=text_df[0].apply(lambda x:re.findall(r\"AUS \\d{1,3}/\\d{1,3}\",x))"
      ]
    },
    {
      "cell_type": "code",
      "execution_count": null,
      "metadata": {
        "id": "YX6sit7aajsI"
      },
      "outputs": [],
      "source": [
        "ball_df= text_df[text_df['scorecard'].apply(lambda x:True if len(x)>0 else False)]"
      ]
    },
    {
      "cell_type": "code",
      "execution_count": null,
      "metadata": {
        "id": "XNRjWB0PkiqI"
      },
      "outputs": [],
      "source": [
        "ball_df"
      ]
    },
    {
      "cell_type": "code",
      "execution_count": null,
      "metadata": {
        "id": "9H3t6XG9xI9L"
      },
      "outputs": [],
      "source": [
        "ball_df['score']=ball_df['scorecard'].apply(lambda x:re.findall(r\"\\d{1,3}/\\d{1,3}\",x[0])[0])"
      ]
    },
    {
      "cell_type": "code",
      "execution_count": null,
      "metadata": {
        "id": "uLzR8GLckxsf"
      },
      "outputs": [],
      "source": [
        "ball_df"
      ]
    },
    {
      "cell_type": "code",
      "execution_count": null,
      "metadata": {
        "id": "zDZAesgGc5wN"
      },
      "outputs": [],
      "source": [
        "ball_df['over']=ball_df[0].apply(lambda x:re.findall(r\"OVER\\s?[0-9\\.]+\",x))"
      ]
    },
    {
      "cell_type": "code",
      "execution_count": null,
      "metadata": {
        "id": "t6cBjCgylMQA"
      },
      "outputs": [],
      "source": [
        "ball_df= ball_df[ball_df['over'].apply(lambda x:True if len(x)!=0 else False)]"
      ]
    },
    {
      "cell_type": "code",
      "execution_count": null,
      "metadata": {
        "id": "T_ecfCMBl-iW"
      },
      "outputs": [],
      "source": [
        "ball_df['over_num']=ball_df['over'].apply(lambda x:x[0])"
      ]
    },
    {
      "cell_type": "code",
      "execution_count": null,
      "metadata": {
        "id": "HnqvZp_7ocVz"
      },
      "outputs": [],
      "source": [
        "ball_df['over_num']=ball_df['over_num'].apply(lambda x:re.findall(\"[0-9\\.]+\",x)[0])"
      ]
    },
    {
      "cell_type": "code",
      "execution_count": null,
      "metadata": {
        "id": "RLwEHbR3xI_h"
      },
      "outputs": [],
      "source": [
        "ball_df['name']=ball_df['name'].astype(int)"
      ]
    },
    {
      "cell_type": "code",
      "execution_count": null,
      "metadata": {
        "id": "keGNUk2WcdGw"
      },
      "outputs": [],
      "source": [
        "ball_df"
      ]
    },
    {
      "cell_type": "code",
      "execution_count": null,
      "metadata": {
        "id": "kB8pOOTypiG8"
      },
      "outputs": [],
      "source": [
        "ball_df= ball_df.sort_values(['name'])"
      ]
    },
    {
      "cell_type": "code",
      "execution_count": null,
      "metadata": {
        "id": "m6IG0QZ1prf1"
      },
      "outputs": [],
      "source": [
        "ball_df['wicket']=ball_df['score'].apply(lambda x:x.split(\"/\")[0])"
      ]
    },
    {
      "cell_type": "code",
      "execution_count": null,
      "metadata": {
        "id": "Z1zvKlTMqDw1"
      },
      "outputs": [],
      "source": [
        "ball_df['score1']=ball_df['score'].apply(lambda x:x.split(\"/\")[1])"
      ]
    },
    {
      "cell_type": "code",
      "execution_count": null,
      "metadata": {
        "id": "RbFi6EMfqLGj"
      },
      "outputs": [],
      "source": [
        "final_df = ball_df[['name','over_num','score1','wicket']]"
      ]
    },
    {
      "cell_type": "code",
      "execution_count": null,
      "metadata": {
        "id": "FtCRYxCrqlHn"
      },
      "outputs": [],
      "source": [
        "final_df[['name','score1','wicket']]=final_df[['name','score1','wicket']].astype(int)\n",
        "final_df['over_num']=final_df['over_num'].astype(float)\n"
      ]
    },
    {
      "cell_type": "code",
      "execution_count": null,
      "metadata": {
        "id": "NVYrbFihq4R3"
      },
      "outputs": [],
      "source": [
        "final_df= final_df.rename(columns={'score1':'score'})"
      ]
    },
    {
      "cell_type": "code",
      "execution_count": null,
      "metadata": {
        "id": "Gr7V7P8-Q6er"
      },
      "outputs": [],
      "source": [
        "#need to take the first instance in over_num\n",
        "temp=final_df[final_df['over_num']==0.5]\n",
        "temp"
      ]
    },
    {
      "cell_type": "code",
      "execution_count": null,
      "metadata": {
        "id": "YmIsLeMNWPyc"
      },
      "outputs": [],
      "source": [
        "indices= final_df.groupby('over_num').apply(lambda x:x['score'].idxmax()).reset_index()[0].values\n",
        "final_df= final_df.loc[indices]"
      ]
    },
    {
      "cell_type": "code",
      "execution_count": null,
      "metadata": {
        "id": "f1Tvb3jjqYNH"
      },
      "outputs": [],
      "source": [
        "final_df = final_df.sort_values(['over_num','score'])"
      ]
    },
    {
      "cell_type": "code",
      "execution_count": null,
      "metadata": {
        "id": "_R5Y6b_40ARr"
      },
      "outputs": [],
      "source": [
        "score= final_df['score'].values\n",
        "diff= score[1:]-score[:-1]\n",
        "indices= np.where(diff>=4)[0]"
      ]
    },
    {
      "cell_type": "code",
      "execution_count": null,
      "metadata": {
        "id": "m5-P90zB0cYD"
      },
      "outputs": [],
      "source": [
        "boundaries_df= final_df.iloc[indices+1]"
      ]
    },
    {
      "cell_type": "code",
      "execution_count": null,
      "metadata": {
        "id": "c4atFdtY0rZn"
      },
      "outputs": [],
      "source": [
        "wicket= final_df['wicket'].values\n",
        "diff= wicket[1:]-wicket[:-1]\n",
        "indices= np.where(diff==1)[0]"
      ]
    },
    {
      "cell_type": "code",
      "execution_count": null,
      "metadata": {
        "id": "Ou7LV1WV08Nd"
      },
      "outputs": [],
      "source": [
        "wickets_df= final_df.iloc[indices+1]"
      ]
    },
    {
      "cell_type": "code",
      "execution_count": null,
      "metadata": {
        "id": "2w0aoR0j1EUj"
      },
      "outputs": [],
      "source": [
        "highlights_df= pd.concat([boundaries_df,wickets_df])"
      ]
    },
    {
      "cell_type": "code",
      "execution_count": null,
      "metadata": {
        "id": "HzwqPhnK1Lw7"
      },
      "outputs": [],
      "source": [
        "highlights_df= highlights_df.sort_values(['name'])"
      ]
    },
    {
      "cell_type": "code",
      "execution_count": null,
      "metadata": {
        "id": "OJLBFhtnBXhi"
      },
      "outputs": [],
      "source": [
        "highlights_df"
      ]
    },
    {
      "cell_type": "code",
      "execution_count": null,
      "metadata": {
        "id": "xL_MNKTY7WZz"
      },
      "outputs": [],
      "source": [
        "highlights_df['name']= highlights_df['name']"
      ]
    },
    {
      "cell_type": "code",
      "execution_count": null,
      "metadata": {
        "id": "EMpKkgD4IAtZ"
      },
      "outputs": [],
      "source": [
        "highlights_df['time']=highlights_df['name']/fps"
      ]
    },
    {
      "cell_type": "code",
      "execution_count": null,
      "metadata": {
        "id": "rVnhEbsBIKFJ"
      },
      "outputs": [],
      "source": [
        "highlights_df['time']= highlights_df['time'].astype(int)"
      ]
    },
    {
      "cell_type": "code",
      "execution_count": null,
      "metadata": {
        "id": "gl4StqnLsxyu"
      },
      "outputs": [],
      "source": [
        "highlights_df"
      ]
    },
    {
      "cell_type": "code",
      "execution_count": null,
      "metadata": {
        "id": "o4VQQ-0m7Pjv"
      },
      "outputs": [],
      "source": [
        "time_list= highlights_df['time'].values"
      ]
    },
    {
      "cell_type": "code",
      "execution_count": null,
      "metadata": {
        "id": "gRZtywW994Qk"
      },
      "outputs": [],
      "source": [
        "!rmdir highlights\n",
        "!mkdir highlights"
      ]
    },
    {
      "cell_type": "code",
      "execution_count": null,
      "metadata": {
        "id": "8Q4krEJn9NYD"
      },
      "outputs": [],
      "source": [
        "%%time\n",
        "cnt=1\n",
        "for end in time_list:\n",
        "  start=end-10\n",
        "  name=str(cnt)+\".mp4\"\n",
        "  !ffmpeg -y -i $path -ss $start -t 10 $name\n",
        "  cnt=cnt+1"
      ]
    },
    {
      "cell_type": "code",
      "execution_count": null,
      "metadata": {
        "colab": {
          "base_uri": "https://localhost:8080/"
        },
        "id": "VC6lU6doGAtT",
        "outputId": "3769429e-1777-4d3e-a5ae-4aeae97f8a66"
      },
      "outputs": [
        {
          "output_type": "stream",
          "name": "stdout",
          "text": [
            "rm: cannot remove 'merge.txt': No such file or directory\n"
          ]
        }
      ],
      "source": [
        "!rm merge.txt\n",
        "!touch merge.txt"
      ]
    },
    {
      "cell_type": "code",
      "execution_count": null,
      "metadata": {
        "id": "mDzVfMB6HTc2"
      },
      "outputs": [],
      "source": [
        "for i in range(len(highlights_df)):\n",
        "  name='file'+' '+str(i+1)+\".mp4\"\n",
        "  !echo $name >> merge.txt"
      ]
    },
    {
      "cell_type": "code",
      "execution_count": null,
      "metadata": {
        "id": "ErmZOFaL97DE"
      },
      "outputs": [],
      "source": [
        "!ffmpeg -f concat -i merge.txt -c copy highlights.mp4"
      ]
    },
    {
      "cell_type": "code",
      "execution_count": null,
      "metadata": {
        "id": "PTSq4IexZ6O0",
        "colab": {
          "base_uri": "https://localhost:8080/",
          "height": 17
        },
        "outputId": "e6bc10da-de91-49f6-8979-86080962842c"
      },
      "outputs": [
        {
          "output_type": "display_data",
          "data": {
            "text/plain": [
              "<IPython.core.display.Javascript object>"
            ],
            "application/javascript": [
              "\n",
              "    async function download(id, filename, size) {\n",
              "      if (!google.colab.kernel.accessAllowed) {\n",
              "        return;\n",
              "      }\n",
              "      const div = document.createElement('div');\n",
              "      const label = document.createElement('label');\n",
              "      label.textContent = `Downloading \"${filename}\": `;\n",
              "      div.appendChild(label);\n",
              "      const progress = document.createElement('progress');\n",
              "      progress.max = size;\n",
              "      div.appendChild(progress);\n",
              "      document.body.appendChild(div);\n",
              "\n",
              "      const buffers = [];\n",
              "      let downloaded = 0;\n",
              "\n",
              "      const channel = await google.colab.kernel.comms.open(id);\n",
              "      // Send a message to notify the kernel that we're ready.\n",
              "      channel.send({})\n",
              "\n",
              "      for await (const message of channel.messages) {\n",
              "        // Send a message to notify the kernel that we're ready.\n",
              "        channel.send({})\n",
              "        if (message.buffers) {\n",
              "          for (const buffer of message.buffers) {\n",
              "            buffers.push(buffer);\n",
              "            downloaded += buffer.byteLength;\n",
              "            progress.value = downloaded;\n",
              "          }\n",
              "        }\n",
              "      }\n",
              "      const blob = new Blob(buffers, {type: 'application/binary'});\n",
              "      const a = document.createElement('a');\n",
              "      a.href = window.URL.createObjectURL(blob);\n",
              "      a.download = filename;\n",
              "      div.appendChild(a);\n",
              "      a.click();\n",
              "      div.remove();\n",
              "    }\n",
              "  "
            ]
          },
          "metadata": {}
        },
        {
          "output_type": "display_data",
          "data": {
            "text/plain": [
              "<IPython.core.display.Javascript object>"
            ],
            "application/javascript": [
              "download(\"download_02577ee5-291c-4a0f-a9d2-33469f66faa7\", \"highlights.mp4\", 5200646)"
            ]
          },
          "metadata": {}
        }
      ],
      "source": [
        "from google.colab import files\n",
        "files.download(\"highlights.mp4\")"
      ]
    },
    {
      "cell_type": "code",
      "execution_count": null,
      "metadata": {
        "id": "SsFXhCrdZ6RK"
      },
      "outputs": [],
      "source": []
    },
    {
      "cell_type": "code",
      "execution_count": null,
      "metadata": {
        "id": "FxYqCrkhZ6Tp"
      },
      "outputs": [],
      "source": []
    },
    {
      "cell_type": "code",
      "execution_count": null,
      "metadata": {
        "id": "XKQs1QnFs7Cj"
      },
      "outputs": [],
      "source": []
    },
    {
      "cell_type": "code",
      "execution_count": null,
      "metadata": {
        "id": "6a-AQUaJs7GW"
      },
      "outputs": [],
      "source": []
    },
    {
      "cell_type": "code",
      "execution_count": null,
      "metadata": {
        "id": "Mn_D8MzKs4Fh"
      },
      "outputs": [],
      "source": []
    }
  ],
  "metadata": {
    "colab": {
      "provenance": []
    },
    "gpuClass": "standard",
    "kernelspec": {
      "display_name": "Python 3",
      "name": "python3"
    }
  },
  "nbformat": 4,
  "nbformat_minor": 0
}